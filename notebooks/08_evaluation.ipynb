{
 "cells": [
  {
   "cell_type": "markdown",
   "metadata": {},
   "source": [
    "# Model evaluation  {#sec-evaluation}\n",
    "\n",
    "### Calibration using `Cropbox`: `calibrate()`\n",
    "Cropbox provides `calibrate()` function to estimate a set of parameter values best describing the dataset it's provided with. Internally, it relies on [BlackBoxOptim.jl](https://github.com/robertfeldt/BlackBoxOptim.jl) for global optimization methods. If you're interested in local optimization methods, refer to [Optim.jl](https://github.com/JuliaNLSolvers/Optim.jl) package for more information."
   ]
  },
  {
   "cell_type": "code",
   "execution_count": null,
   "metadata": {},
   "outputs": [],
   "source": [
    "using Cropbox"
   ]
  },
  {
   "cell_type": "markdown",
   "metadata": {},
   "source": [
    "::: {#tip-julia-docs .callout-tip}\n",
    "### `Julia` and `Cropbox` documentations and tutorials\n",
    "It takes time, practice, and frustration to become good at something and modeling is no exception. But there are pain relieavers; resources that can ease the pain to some extent. Listed below are some of the online resources I find useful for using `Julia` and `Cropbox`. In general, trying the examples provided with the documentation can be quite helpful even if they don't seem to make much sense at first.\n",
    "\n",
    "- `Julia` language documentation: <https://docs.julialang.org/en/v1/>\n",
    "- `Cropbox` documentation and tutorials: <https://cropbox.github.io/Cropbox.jl/stable/> (while this documentation is not as complete as we like it to be, it can save you time and trouble)\n",
    "- *Calculus with Julia* package: <https://jverzani.github.io/CalculusWithJuliaNotes.jl/> (great resources for doing math in Julia; *Precalculus Concepts* chapter is handy)\n",
    "- *DataFrames* package: <https://dataframes.juliadata.org/stable/> (useful package for data handling similar to `dplyr` in R)\n",
    "- Use `?` to see online doc in the notebook environment (e.g., `?plot`)"
   ]
  },
  {
   "cell_type": "code",
   "execution_count": null,
   "metadata": {},
   "outputs": [],
   "source": [
    "new_install = false\n",
    "#if running first time, change to 'true'\n",
    "if new_install\n",
    "    import Pkg\n",
    "    Pkg.add(\"CSV\")\n",
    "    Pkg.add(\"DataFrames\")\n",
    "    Pkg.add(\"DataFramesMeta\")\n",
    "    Pkg.add(\"StatsBase\")    \n",
    "    Pkg.add(\"Dates\")\n",
    "    Pkg.add(\"Cairo\")\n",
    "    Pkg.add(\"Fontconfig\")\n",
    "end"
   ]
  },
  {
   "cell_type": "markdown",
   "metadata": {},
   "source": [
    "If you get errors running the cell below, some or all of the packages may not have been installed. In that case, change `new_install` to be `true` and run the cell abov to add those packages to the current kernel running in this environment.  \n",
    ":::"
   ]
  },
  {
   "cell_type": "code",
   "execution_count": null,
   "metadata": {},
   "outputs": [],
   "source": [
    "using DataFrames\n",
    "using DataFramesMeta\n",
    "using StatsBase\n",
    "using CSV\n",
    "using Dates, Cairo, Fontconfig"
   ]
  },
  {
   "cell_type": "markdown",
   "metadata": {},
   "source": [
    ":::{#exm-DF-growth}\n",
    "### Douglas-fir height growth\n",
    "Let's revisit the Douglas-fir height data and estimate the parameter values (that is, calibrate or fit the model) for the exponential growth and logistic growth functions. In this exercise, we will assume that the trees began growing from 1980 as an even aged population. Here's what we will do with the Douglas-fir height example.\n",
    "\n",
    "1. Identify the parameters in the growth models: *1) linear, 2) exponential*, and *3) logistic*, and apply either the *differential equation* or *analytical solution* of a model.\n",
    "2. Calibrate the model using `calibrate()` function of `Cropbox` against the observed Douglas-fir height data from the previous labs and other information needed to calibrate the model.  \n",
    "3. Compare the parameter estimates with those we estimated by intuition, visual inspection of data, or picking two data points over an interval of time in the previous labs.\n",
    "4. Plot the observed and predicted values for both models. Interpret and discuss the results.\n",
    ":::\n",
    "\n",
    "- Linear growth\n",
    "$$\n",
    "\\begin{split}\n",
    "    &H = H_0 + a \\cdot t \n",
    "\\end{split}\n",
    "$$ {#eq-DF-linear}\n",
    "\n",
    "- Exponential growth\n",
    "$$\n",
    "\\begin{split}\n",
    "    &\\frac{dH}{dt} = rH \\\\\n",
    "    &H = H_0 \\cdot e^{rt}\n",
    "\\end{split}\n",
    "$$ {#eq-DF-exp}\n",
    "\n",
    "- Logistic growth\n",
    "$$\n",
    "\\begin{split}\n",
    "    &\\frac{dH}{dt} = rH\\left(1 - \\frac{H}{H_f} \\right) \\\\\n",
    "    &H = \\frac{H_f}{1 + (\\frac{H_f}{H_0}-1)~e^{-rt}}\n",
    "\\end{split}\n",
    "$$ {#eq-DF-logi}\n",
    "\n",
    "As we did in @sec-growth, we first set up the `Cropbox` systems of growth functions for Douglas-fir height growth, create proper configurations, and load the observation data as a dataframe to compare with the model predictions. \n",
    "\n",
    ":::{#nte-model-choice .callout-note}\n",
    "We will focus on the logistic growth model as a example for model calibration and evaluation and leave the exponential and logistic model as exercises for you to work on. However, outputs from the linear and exponential models will be used for comparison where useful. \n",
    ":::"
   ]
  },
  {
   "cell_type": "code",
   "execution_count": null,
   "metadata": {},
   "outputs": [],
   "source": [
    "#| echo: false\n",
    "#| output: false\n",
    "@system DF_lin(Controller) begin    \n",
    "    t(context.clock.time) ~ track(u\"yr\")\n",
    "    a:  absolute_growth_rate   ~ preserve(parameter, u\"m/yr\")\n",
    "    H0: initial_height         ~ preserve(parameter, u\"m\")\n",
    "    yr: year           => 1    ~ accumulate(u\"yr\", init = 1980u\"yr\")    \n",
    "#   H(a): height       => a    ~ accumulate(u\"m\", init = H0)\n",
    "    H(a): height               ~ accumulate(u\"m\", init = H0)\n",
    "end"
   ]
  },
  {
   "cell_type": "code",
   "execution_count": null,
   "metadata": {},
   "outputs": [],
   "source": [
    "#| echo: false\n",
    "#| output: false\n",
    "@system DF_exp(Controller) begin\n",
    "    t(context.clock.time) ~ track(u\"yr\")\n",
    "    H0: initial_height ~ preserve(parameter, u\"m\")\n",
    "    r: relative_growth_rate ~ preserve(parameter, u\"m/m/yr\")\n",
    "#    H(r, t, H0) => H0*exp(r*t) ~ track(u\"m\")\n",
    "    yr: year => 1 ~ accumulate(u\"yr\", init = 1980u\"yr\")\n",
    "    H(r,H) => r*H ~ accumulate(u\"m\", init = H0)\n",
    "end"
   ]
  },
  {
   "cell_type": "code",
   "execution_count": null,
   "metadata": {},
   "outputs": [],
   "source": [
    "@system DF_logi(Controller) begin\n",
    "    t(context.clock.time) ~ track(u\"yr\")\n",
    "    H0: initial_height ~ preserve(parameter, u\"m\")\n",
    "    Hf: potential_height ~ preserve(parameter, u\"m\")\n",
    "    r: relative_growth_rate ~ preserve(parameter, u\"m/m/yr\")\n",
    "    H(r, t, H0, Hf) => Hf/(1+(Hf/H0 - 1.0)*exp(-r*t)) ~ track(u\"m\")\n",
    "    yr: year => 1 ~ accumulate(u\"yr\", init = 1980u\"yr\")\n",
    "#    H(r,H,Hf) => r*H*(1-H/Hf) ~ accumulate(u\"m\", init = H0)\n",
    "end"
   ]
  },
  {
   "cell_type": "markdown",
   "metadata": {},
   "source": [
    "First, let's set the time step to be yearly. Since this will be common for all models we configure it first and embed it to other configurations."
   ]
  },
  {
   "cell_type": "code",
   "execution_count": null,
   "metadata": {},
   "outputs": [],
   "source": [
    "#c1 = @config(:Clock => :step => 1u\"yr\")\n",
    "c1 = @config(:Clock => (;step = 1u\"yr\",));"
   ]
  },
  {
   "cell_type": "markdown",
   "metadata": {},
   "source": [
    "Create a configuration for the linear model. Note we include `c1` to be merged with new configuration `c1a`.  "
   ]
  },
  {
   "cell_type": "code",
   "execution_count": null,
   "metadata": {},
   "outputs": [],
   "source": [
    "#| echo: false\n",
    "#| output: false\n",
    "c1a = @config(c1,\n",
    ":DF_lin => (;    \n",
    "    H0 = 1.42,\n",
    "    a = 0.25,\n",
    "    )\n",
    ");\n"
   ]
  },
  {
   "cell_type": "code",
   "execution_count": null,
   "metadata": {},
   "outputs": [],
   "source": [
    "#| echo: false\n",
    "#| output: false\n",
    "c1b = @config(c1,\n",
    ":DF_exp => (;    \n",
    "    H0 = 1.42,\n",
    "    r = 0.07,\n",
    "    )\n",
    ");\n"
   ]
  },
  {
   "cell_type": "code",
   "execution_count": null,
   "metadata": {},
   "outputs": [],
   "source": [
    "c1c = @config(c1,\n",
    ":DF_logi => (;\n",
    "    H0 = 1.42,\n",
    "    r = 0.07,        \n",
    "    Hf = 70.0,\n",
    "    )\n",
    ");\n"
   ]
  },
  {
   "cell_type": "code",
   "execution_count": null,
   "metadata": {},
   "outputs": [],
   "source": [
    "visualize([DF_lin, DF_exp, DF_logi], :yr, :H; configs = [c1a, c1b, c1c], stop = 30u\"yr\", kind = :line)"
   ]
  },
  {
   "cell_type": "code",
   "execution_count": null,
   "metadata": {},
   "outputs": [],
   "source": [
    "DF_obs = CSV.read(\"./data/PSME-height.csv\", DataFrame) |> unitfy;"
   ]
  },
  {
   "cell_type": "markdown",
   "metadata": {},
   "source": [
    "Let's check the data structure by looking at the first 3 rows of all variables (i.e., columns)\n"
   ]
  },
  {
   "cell_type": "code",
   "execution_count": null,
   "metadata": {},
   "outputs": [],
   "source": [
    "DF_obs[1:3, :]"
   ]
  },
  {
   "cell_type": "markdown",
   "metadata": {},
   "source": [
    "It looks like the Douglas-fir height data includes only two columns of data: `year` and `height`. We will add a third column for tree age because the growth models we defined are driven by `age` in years since 1983 as `time` variable, not the calendar years. We use `select` function from the `DataFrames` package. The same can also be achieved by adding a new column to the dataframe as a 2 dimensional array without using the function.\n"
   ]
  },
  {
   "cell_type": "code",
   "execution_count": null,
   "metadata": {},
   "outputs": [],
   "source": [
    "?select;"
   ]
  },
  {
   "cell_type": "code",
   "execution_count": null,
   "metadata": {},
   "outputs": [],
   "source": [
    "select!(DF_obs, :, :year => (x -> x .- 1980u\"yr\") => :age)\n",
    "# DF_obs[:, :age] .= DF_obs[:, :year] .- 1983u\"yr\"\n",
    "DF_obs"
   ]
  },
  {
   "cell_type": "markdown",
   "metadata": {},
   "source": [
    "We now **calibrate** the growth models with data using `calibrate()` function of `Cropbox`. We first need to identify parameters, determine which parameters to calibrate and what values should be used as their ranges. We will use same period of simulation (e.g., 30 yrs) as `stop` condition. \n",
    "\n",
    "`calibrate()` is in a form like `calibrate(<System>, <DataFrame>; index=<..>, target=<..>, parameters=<..>, metric=<..>, optim=(; <BlackBoxOptim options>..), <simulate() options>..`. It accepts arguments similar to `simulate()` for setting up simulations. Then it also requires a data frame for ground truth data and their column names for `index` and `target` variables. Oftentimes, it is in a time series like how our dataset is recorded for Douglas-fir height data we just created or corn harvest measurements we saw previously. `parameters` are in a format similar to Cropbox configuration object except that each variable has a tuple of values specifying lower and upper bounds of the parameter instead of an actual value.\n",
    "\n",
    "The default metric of cost (error) function used by calibration is [RMSE](https://doi.org/10.5194/gmd-15-5481-2022). More advanced options controlling BlackBoxOptim can be specified with optional `optim` including maximum steps of calibration which mainly determines how long calibration process can take."
   ]
  },
  {
   "cell_type": "code",
   "execution_count": null,
   "metadata": {},
   "outputs": [],
   "source": [
    "#| echo: false\n",
    "#| output: false\n",
    "fit_lin = calibrate(DF_lin, DF_obs;\n",
    "    config = c1a, # comment this line and see what happens\n",
    "    index = :age => :t,\n",
    "    target = :height => :H,\n",
    "    parameters = DF_lin => (;\n",
    "        a = (0, 1.0),\n",
    "        H0 = (1, 2),\n",
    "    ),\n",
    "    stop = 30u\"yr\",\n",
    " #   snap = 1u\"yr\",\n",
    "    metric = :rmse,\n",
    "    optim = (;\n",
    "        MaxSteps = 1000,\n",
    "        ),    \n",
    ");"
   ]
  },
  {
   "cell_type": "code",
   "execution_count": null,
   "metadata": {},
   "outputs": [],
   "source": [
    "#| echo: false\n",
    "#| output: false\n",
    "fit_exp = calibrate(DF_exp, DF_obs;\n",
    "    config = c1b, # comment this line and see what happens\n",
    "    index = :age => :t,\n",
    "    target = :height => :H,\n",
    "    parameters = DF_exp => (;\n",
    "        r = (0, 0.1),\n",
    "        H0 = (1, 2),\n",
    "    ),\n",
    "    stop = 30u\"yr\",\n",
    " #   snap = 1u\"yr\",\n",
    "    metric = :rmse,\n",
    "    optim = (;\n",
    "        MaxSteps = 1000,\n",
    "        ),    \n",
    ");"
   ]
  },
  {
   "cell_type": "code",
   "execution_count": null,
   "metadata": {},
   "outputs": [],
   "source": [
    "fit_logi = calibrate(DF_logi, DF_obs;\n",
    "    config = c1c, # comment this line and see what happens\n",
    "    index = :age => :t,\n",
    "    target = :height => :H,\n",
    "    parameters = DF_logi => (;\n",
    "        r = (0, 0.1),\n",
    "        H0 = (1, 2),\n",
    "     #   Hf = (60, 80),\n",
    "    ),\n",
    "    stop = 30u\"yr\",\n",
    " #   snap = 1u\"yr\",\n",
    "    metric = :rmse,\n",
    "    optim = (;\n",
    "        MaxSteps = 1000,\n",
    "        ),    \n",
    ");"
   ]
  },
  {
   "cell_type": "markdown",
   "metadata": {},
   "source": [
    ":::{#nte-calibration-qs .callout-note}\n",
    "### Questions to mull over\n",
    "\n",
    "1. Do you think it is reasonable for us to try to calibrate $H_f$ here?\n",
    "2. How do the parameter estimates compare with those we estimated by intuition, visual inspection of data, or picking two data points over an interval of time in the previous labs?\n",
    ":::"
   ]
  },
  {
   "cell_type": "code",
   "execution_count": null,
   "metadata": {},
   "outputs": [],
   "source": [
    "#| echo: false\n",
    "#| output: false\n",
    "p = visualize(DF_obs, :age, :height; xlim = (0, 30), xlab = \"Age\", ylab = \"Height\", title = \"Douglas-fir Height: Linear Model\")\n",
    "visualize!(p, DF_lin, :t, :H; config = (c1a, fit_lin), stop = 30u\"yr\", kind = :line)"
   ]
  },
  {
   "cell_type": "code",
   "execution_count": null,
   "metadata": {},
   "outputs": [],
   "source": [
    "#| echo: false\n",
    "#| output: false\n",
    "p = visualize(DF_obs, :age, :height; xlim = (0, 30), xlab = \"Age\", ylab = \"Height\", title = \"Douglas-fir Height: Exponential Model\")\n",
    "visualize!(p, DF_exp, :t, :H; config = (c1b, fit_exp), stop = 30u\"yr\", kind = :line)"
   ]
  },
  {
   "cell_type": "code",
   "execution_count": null,
   "metadata": {},
   "outputs": [],
   "source": [
    "#| echo: false\n",
    "#| output: false\n",
    "p = visualize(DF_obs, :age, :height; xlim = (0, 30), xlab = \"Age\", ylab = \"Height\", title = \"Douglas-fir Height: Logistic Model\")\n",
    "visualize!(p, DF_logi, :t, :H; config = (c1c, fit_logi), stop = 30u\"yr\", kind = :line)"
   ]
  },
  {
   "cell_type": "markdown",
   "metadata": {},
   "source": [
    ":::{#nte-inter-extra-polations .callout-note}\n",
    "#### Interpolation and extrapolation\n",
    "\n",
    "How do the calibrated models do for the growth period included in thd data for interpolation?"
   ]
  },
  {
   "cell_type": "code",
   "execution_count": null,
   "metadata": {},
   "outputs": [],
   "source": [
    "#| echo: false\n",
    "#| output: false\n",
    "p = visualize(DF_obs, :age, :height; xlim = (0, 30), xlab = \"Age\", ylab = \"Height\", title = \"Douglas-fir Height Models\")\n",
    "visualize!(p, [DF_lin, DF_exp, DF_logi], :t, :H; configs = [(c1a, fit_lin), (c1b, fit_exp), (c1c, fit_logi)], stop = 30u\"yr\", kind = :line)"
   ]
  },
  {
   "cell_type": "markdown",
   "metadata": {},
   "source": [
    "How about if we extraplote to one hundred years old trees?"
   ]
  },
  {
   "cell_type": "code",
   "execution_count": null,
   "metadata": {},
   "outputs": [],
   "source": [
    "#| echo: false\n",
    "#| output: false\n",
    "\n",
    "p = visualize(DF_obs, :age, :height; xlim = (0, 100), xlab = \"Age\", ylab = \"Height\", ylim = (0, 80), title = \"Douglas-fir Height Model Extrapolations\")\n",
    "visualize!(p, [DF_lin, DF_exp, DF_logi], :t, :H; configs = [(c1a, fit_lin), (c1b, fit_exp), (c1c, fit_logi)], stop = 100u\"yr\", kind = :line)"
   ]
  },
  {
   "cell_type": "markdown",
   "metadata": {},
   "source": [
    ":::\n",
    "\n",
    ":::{#tip-save-image .callout-tip}\n",
    "Plots we created can be saved as image files."
   ]
  },
  {
   "cell_type": "code",
   "execution_count": null,
   "metadata": {},
   "outputs": [],
   "source": [
    "using Cairo, Fontconfig\n",
    "#p[] |> Cropbox.Gadfly.PNG(\"DF-models.png\")"
   ]
  },
  {
   "cell_type": "markdown",
   "metadata": {},
   "source": [
    ":::\n",
    "\n",
    "![Growth models calibrated for the first 30 years of Douglas-fir height growth and extrapolated to 100 years growth](./figs/DF-models.png){#fig-DF-models}\n",
    "\n",
    "### Model evaluation metrics\n",
    "\n",
    "The fitness of model predictions can be evaluated by numerous metrics.\n",
    "Here we will review three commonly used model goodness of fit (GOF)\n",
    "metrics that are implemented in *Cropbox* as choices of model evaluation\n",
    "metrics.\n",
    "\n",
    "#### Root Mean Square Error (RMSE)\n",
    "\n",
    "Probably the most commonly used metric for model calibration and testing\n",
    "is the root mean square error (RMSE). This is the default objective\n",
    "function for the optimization method implemented in *Cropbox*. In most\n",
    "cases, the objective function searches for the minimum RMSE, in which\n",
    "case this function can be called the \\\"cost\\\" function.\n",
    "\n",
    "$$\n",
    "\\mathrm{RMSE} = \\sqrt{\\frac{\\sum_{i=1}^N (\\hat{y}_i - y_i)^2}{N}}\n",
    "$${#eq-rmse}\n",
    "\n",
    "Here $y_i$ and $\\hat{y}_i$ represent the $i$th observation and\n",
    "prediction, respectively, from a total record of $N$.\n",
    "\n",
    "#### Model Efficiency (EF or NSE)\n",
    "\n",
    "Another useful measure for model performance evaluation is the\n",
    "Nash--Sutcliffe model efficiency (EF; aka NSE) [@Nash1970].\n",
    "\n",
    "$$\n",
    "\\mathrm{EF} = 1 - \\frac{\\sum_i (\\hat{y}_i - y_i)^2}{\\sum_i (y_i - \\bar{y})^2}\n",
    "$${#eq-nse}\n",
    "\n",
    "$\\bar{y}$ is the mean of observations. $EF$ can range from $-\\infty$\n",
    "to 1. An $EF$ value of 1 indicates a perfect fit, a value 0 represents\n",
    "the model is about as good as the observed mean, and a negative $EF$\n",
    "signifies that the model performs worse than the mean of observations.\n",
    "The unbounded negative values of EF can be problematic for poorly\n",
    "performing models (e.g., models that are performing worse than the mean\n",
    "of observations).\n",
    "\n",
    "#### Willmott's refined index of agreement ($d_r$)\n",
    "\n",
    "Willmott's refined index of agreement $d_r$ (@eq-dr) can give more intepretable values with boundaries of -1.0 as the lower limit and 1.0 as the upper limit [@Willmott2012]. A perfect model would receive $d_r$ = 1.0. If $d_r$ = 0.5, the model predictions produce errors comparable to the observed deviations from the mean while $d_r$ = 0 means the model predictions produce twice the observed deviations from the mean.\n",
    "\n",
    "$$\n",
    "\\begin{aligned}\n",
    "a &= \\sum_i | \\hat{y}_i - y_i | \\nonumber \\\\\n",
    "b &= 2 \\sum_i | y_i - \\bar{y} | \\nonumber \\\\\n",
    "d_r &= \\begin{cases}\n",
    "  1 - \\frac{a}{b} & \\text{if } a \\leq b \\\\\n",
    "  \\frac{b}{a} - 1 & \\text{otherwise}\n",
    "  \\end{cases}\n",
    "\\end{aligned}\n",
    "$${#eq-dr}\n",
    "\n",
    "$y_i$ is an observed value for the variable of interest under a specific\n",
    "environmental condition ordered by $i$. $\\hat{y}_i$ is an estimation by\n",
    "the model for the same input condition as $y_i$. $\\bar{y}$ is the mean\n",
    "of observed values.\\\n",
    "\n",
    "\n",
    "### `evaluate()` and its metrics\n",
    "Cropbox provides `evaluate()` function, which is in a similart form to `calibrate()`, for calculating a measure of error between observation input and simulation output. We can specify an arbitrary metric function in `metric` option that accepts a list of estimated values (`E`) and corresponding observed values (`O`) and returns a meausre of error.\n",
    "\n",
    "\n",
    "#### Root Mean Square Error (RMSE)\n",
    "RMSE can be defined by a simple function like this."
   ]
  },
  {
   "cell_type": "code",
   "execution_count": null,
   "metadata": {},
   "outputs": [],
   "source": [
    "rmse(E, O) = √mean((E .- O).^2);"
   ]
  },
  {
   "cell_type": "markdown",
   "metadata": {},
   "source": [
    "Let's look at the goodness of fit of the linear model. A nice property of RMSE is that it inherits the original unit; m in this case. You might notice that the value of RMSE is the same as `fitness` output of the calibration. That is because we used `RMSE` as the objective function in the optimization process during calibration. See the calibration step above and compare.\n",
    "\n",
    "Then call the `evaluate()` method built in `Cropbox` using our `rmse()` function as metric to calculate RMSE for our model predictions.\n"
   ]
  },
  {
   "cell_type": "code",
   "execution_count": null,
   "metadata": {},
   "outputs": [],
   "source": [
    "evaluate(DF_lin, DF_obs;\n",
    "    config = (c1a, fit_lin),\n",
    "    index = :age => :t,\n",
    "    target = :height => :H,\n",
    "    stop = 30u\"yr\",\n",
    "    metric = rmse,\n",
    ")"
   ]
  },
  {
   "cell_type": "markdown",
   "metadata": {},
   "source": [
    "#### Model Efficiency (EF)\n",
    "Model efficiency (EF), or more specficially, Nash-Sutcliffe model efficiency coefficient (NSE) can be defined in a similar way."
   ]
  },
  {
   "cell_type": "code",
   "execution_count": null,
   "metadata": {},
   "outputs": [],
   "source": [
    "ef(E, O) = 1 - sum((E .- O).^2) / sum((O .- mean(O)).^2)"
   ]
  },
  {
   "cell_type": "code",
   "execution_count": null,
   "metadata": {},
   "outputs": [],
   "source": [
    "evaluate(DF_lin, DF_obs;\n",
    "    config = (c1a, fit_lin),\n",
    "    index = :age => :t,\n",
    "    target = :height => :H,\n",
    "    stop = 30u\"yr\",\n",
    "    metric = ef,\n",
    ");"
   ]
  },
  {
   "cell_type": "markdown",
   "metadata": {},
   "source": [
    "The maximum value of EF is 1 which indicates a perfect model. When EF is zero, the model has the same predictive power as mean of observations. A negative value of EF indicates the model is worse than the observation mean. `Cropbox` includes an implementation of RMSE and EF with pre-defined symbols (`:rmse` for RMSE and `:ef` for EF).\n",
    "\n",
    "In addition, `Cropbox` provides other commonly used metrics of model performance such as Willmott's revised index of agreement $d_r$ (`:dr`), mean absolute error (`:mae`), and nornalized RMSE (`:nrmse`).\n",
    "\n",
    ":::{#tip-eval .callout-tip}\n",
    "Experiment with changing the model (i.e., linear, expotential, logistic) and model evaluation metrics (e.g., `:rmse`, `:ef`, `:dr`, `:mae`)\n",
    "::: "
   ]
  },
  {
   "cell_type": "code",
   "execution_count": null,
   "metadata": {},
   "outputs": [],
   "source": [
    "evaluate(DF_lin, DF_obs;\n",
    "    config = (c1a, fit_lin),\n",
    "    index = :age => :t,\n",
    "    target = :height => :H,\n",
    "    stop = 30u\"yr\",\n",
    "    metric = :rmse,\n",
    ");"
   ]
  },
  {
   "cell_type": "markdown",
   "metadata": {},
   "source": [
    ":::{#nte-eval-unit .callout-note}\n",
    "Note that RMSE and MAE shares the same units (`m`) with the `target` variable.\n",
    ":::\n",
    "\n",
    ":::{#wrn-validation-data .callout-warning}\n",
    "Beware that what we just did above was not a proper **validation** of calibrated model since the dataset we used for calibration was used again for calculating a measure of error. In other words, we were just looking at the fitness of calibration itself. For validation, we need an **independent dataset** that was not used for calibration.\n",
    ":::\n",
    "\n",
    ":::{#exm-DF-height-evals}\n",
    "## Evaluating Douglas-fir height growth models\n",
    "\n",
    "In this example, we will evaluate the performance of three models for their ability to account for the variabilities in the Douglas-fir height data used for *calibration*. Let's use three goodness of fit (GOF) metrics to compare model fit for calibration. \n",
    "\n",
    "1. Evaluate RMSE, EF, and $d_r$ for the three models.\n",
    "2. Fill in the `gof` dataframe table below.\n",
    "3. Save the table as a `CSV` file.\n",
    ":::\n"
   ]
  },
  {
   "cell_type": "code",
   "execution_count": null,
   "metadata": {},
   "outputs": [],
   "source": [
    "DF_gof = DataFrame(:model => [\"linear\",\"exponential\",\"logistic\"], :RMSE => 0.0u\"m\" , :EF =>0.0, :d_r => 0.0) |> unitfy"
   ]
  },
  {
   "cell_type": "code",
   "execution_count": null,
   "metadata": {},
   "outputs": [],
   "source": [
    "DF_gof[1, :RMSE] = evaluate(DF_lin, DF_obs;\n",
    "    config = (c1a, fit_lin),\n",
    "    index = :age => :t,\n",
    "    target = :height => :H,\n",
    "    stop = 30u\"yr\",\n",
    "    metric = :rmse,\n",
    ")"
   ]
  },
  {
   "cell_type": "code",
   "execution_count": null,
   "metadata": {},
   "outputs": [],
   "source": [
    "DF_gof"
   ]
  },
  {
   "cell_type": "code",
   "execution_count": null,
   "metadata": {},
   "outputs": [],
   "source": [
    "#CSV.write(\"./DF_gof.csv\", DF_gof, overwrite=true)"
   ]
  },
  {
   "cell_type": "markdown",
   "metadata": {},
   "source": [
    "## Lab exercises\n",
    ":::{#exr-corn-biomass}\n",
    "### Corn biomass accumulation\n",
    "\n",
    "In this exercise, we will calibrate the logistic and Gompertz growth functions using experimental data from field corn research. We've seen the weather data from the corn experiment conducted in Beltsville, MD in 2002. Planting was done on May 15, 2002 with 8 $\\mathrm{plants/m^2}$ of planting density. Plants were well-fertilized and irrigated as needed.\n",
    "\n",
    "1. Calibrate the differential equations of the a) logistic and b) Gompertz growth functions against the corn total shoot biomass data collected over time. Think carefully about biological meanings of the parameters and what starting values you will use to calibrate them?\n",
    "2. Plot predicted vs observed values of the models and compare.\n",
    "3. Evaluate the performance of both models based on RMSE, EF, and $d_r$ as the goodness of fit metrics. Analyze and interpret the results. Discuss which model would be your choice of model for this purpose and why. \n",
    ":::\n",
    "\n",
    "### Data\n",
    "\n",
    "We can load CSV files into a table-like structure (`DataFrame`) using [CSV.jl](https://github.com/JuliaData/CSV.jl) package.\n",
    "\n",
    "Cropbox provides a convenient feature with `unitfy()` function that automatically handle units for each column. For example, if the column name was set to \"LA (cm^2)\" in the CSV file, it would be converted to a column named \"LA\" and its underlying type incorprating units of \"cm^2\".\n",
    "\n",
    "Note that we use piping operator (`|>`) to hand over the data frame returned by `CSV.read()` to `unitfy()` function. It's identical as if we called `unitfy(CSV.read(...))`.\n"
   ]
  },
  {
   "cell_type": "code",
   "execution_count": null,
   "metadata": {},
   "outputs": [],
   "source": [
    "corn_data = CSV.read(\"./data/corn_data.csv\", DataFrame) |> unitfy;"
   ]
  },
  {
   "cell_type": "markdown",
   "metadata": {},
   "source": [
    "There are many columns in the data frame as we can see with `names()` function.\n"
   ]
  },
  {
   "cell_type": "code",
   "execution_count": null,
   "metadata": {},
   "outputs": [],
   "source": [
    "names(corn_data);"
   ]
  },
  {
   "cell_type": "markdown",
   "metadata": {},
   "source": [
    "`DAS` means \"days after sowing\". We have dry weights (DW) in 'grams' for shoot (`shootDW`), stem (`StemDW`), leaf (`LfDW`), and ear (`EarDW`).\n"
   ]
  },
  {
   "cell_type": "code",
   "execution_count": null,
   "metadata": {},
   "outputs": [],
   "source": [
    "#Cropbox.plot(corn_data, :day, [:shootDW, :StemDW, :LfDW, :EarDW], kind=:scatter)"
   ]
  },
  {
   "cell_type": "markdown",
   "metadata": {},
   "source": [
    "Among them, we'll first use shoot dry weight (`shootDW`) that represents the above ground biomass (g) to calibrate the logistic growth model we discussed last week. Note that data have been collected weekly throughout the growing season to capture the entire growth phases.\n",
    "\n",
    "### Logistic function\n",
    "$$\n",
    "\\frac{dW}{dt} = rW \\cdot \\left(1-\\frac{W}{W_f} \\right) \\\\\n",
    "W = \\frac{W_f}{1 + (\\frac{W_f}{W_0} - 1) e^{-rt}}\n",
    "$$\n",
    "\n",
    "Here is the logistic growth model we're going to use for modeling biomass accumulation. It's basically the same as the system `Eq25` we used before.\n",
    "\n",
    "Note that there are two ways of using exponential function in Julia. The first one is to use `exp()` function and the other is to use constant variable `ℯ` representing Euler's number with power operator `^` . To get the Unicode symbol `ℯ`, type `\\euler` or first few letters like `\\eu` and press tab key. `exp(-r*t)` would be equivalent to `ℯ^(-r*t)`."
   ]
  },
  {
   "cell_type": "code",
   "execution_count": null,
   "metadata": {},
   "outputs": [],
   "source": [
    "#| output: false\n",
    "@system Logistic(Controller) begin\n",
    "    t(context.clock.time) ~ track(u\"d\")\n",
    "    \n",
    "    r:  relative_growth_rate    ~ preserve(parameter, u\"g/g/d\")\n",
    "    W0: initial_biomass         ~ preserve(parameter, u\"g\")\n",
    "    Wf: potential_final_biomass ~ preserve(parameter, u\"g\")\n",
    "\n",
    "    # W(r, W, Wf): biomass => begin\n",
    "    #     r * W * (Wf - W) / Wf\n",
    "    # end ~ accumulate(u\"g\", init=W0)\n",
    "\n",
    "    W(t, r, W0, Wf): biomass => begin\n",
    "        Wf / (1 + ((Wf / W0) - 1) * ℯ^(-r*t))\n",
    "    end ~ track(u\"g\")\n",
    "end"
   ]
  },
  {
   "cell_type": "markdown",
   "metadata": {},
   "source": [
    "#### Calibration\n",
    "In this case, we're calibrating three parameters, `r`, `W0`, and `Wf`, within a reasonable range of values. We use same period of simulation, 150 days, as `stop` condition. The deafult metric of cost (error) function used by calibration is [RMSE](https://en.wikipedia.org/wiki/Root-mean-square_deviation). More advanced options controlling BlackBoxOptim can be specified with optional `optim` including maximum steps of calibration which mainly determines how long calibration process can take.\n",
    "\n",
    "Configure `calibrate` method to run *daily* instead of the default *hourly* time steps. This can reduce time for calibration substantially unless data to calibrate with are provided in hourly intervals.\n"
   ]
  },
  {
   "cell_type": "code",
   "execution_count": null,
   "metadata": {},
   "outputs": [],
   "source": [
    "c = @config(\n",
    "    :Clock => :step => 1u\"d\",\n",
    "    );"
   ]
  },
  {
   "cell_type": "code",
   "execution_count": null,
   "metadata": {},
   "outputs": [],
   "source": [
    "#| output: false\n",
    "\n",
    "lc = calibrate(Logistic, corn_data;\n",
    "    config = c,\n",
    "    index = :DAS => :t,\n",
    "    target = :shootDW => :W,\n",
    "    parameters = Logistic => (;\n",
    "        r = (0, 1),\n",
    "        W0 = (0, 10),\n",
    "        Wf = (0, 500),\n",
    "    ),\n",
    "    stop = 150u\"d\",\n",
    "    metric = :rmse,\n",
    ");"
   ]
  },
  {
   "cell_type": "markdown",
   "metadata": {},
   "source": [
    "After calibration, we found a set of parameter estimates that can describe the observation reasonable well with fitness value of 30.79 which referrs to RMSE. In other words, our simulation with this particular set of parameters had an average error about 30 $\\mathrm{g}$ compared to the original dataset.\n",
    "\n",
    "The result of calibration is returned as a configuration object which can be directly plugged into `simluate()` or `visualize()`. Let's plot the result of simulation using the calibrated parameter set and compare it with the dataset used for calibration.\n",
    "\n",
    "Before we used two-line code for overlaying observed vs predicted figures. Here is an one-line code doing the same using `visualize(<DataFrame>, <System>, <x>, <y>; <simulate() options>.., <plot() options>..)`.\n"
   ]
  },
  {
   "cell_type": "code",
   "execution_count": null,
   "metadata": {},
   "outputs": [],
   "source": [
    "visualize(corn_data, Logistic, :DAS => :t, :shootDW => :W; config  = lc, stop = 150u\"d\", xlim = (0, 150));"
   ]
  },
  {
   "cell_type": "markdown",
   "metadata": {},
   "source": [
    "Another form of `visualize(<DataFrame>, <System>, <y>; index=<..>, <simulate() options>.., <plot() options>..)` provides an 1:1 plot with observation against model estimation.\n"
   ]
  },
  {
   "cell_type": "code",
   "execution_count": null,
   "metadata": {},
   "outputs": [],
   "source": [
    "#visualize(corn_data, Logistic, :shootDW => :W; index = :DAS => :t, config = lc, stop = 150u\"d\")"
   ]
  },
  {
   "cell_type": "markdown",
   "metadata": {},
   "source": [
    "### Gompertz function\n",
    "\n",
    "Do an evaluation of the Gompertz function and compare the model performance metrics with the logisctic function for describing the growth patteron in our corn biomass data.\n",
    "\n",
    "- Diffrential equation\n",
    "$$\n",
    "\\begin{align}\n",
    "    \\frac{dW}{dt} = rW \\\\\n",
    "    \\frac{dr}{dt} = -\\alpha r\n",
    "\\end{align}    \n",
    "$$\n",
    "\n",
    "- Analytical solution\n",
    "$$\n",
    "W = W_0 \\exp \\left[ \\frac{r_0}{\\alpha} (1 - e^{-\\alpha t}) \\right]\n",
    "$$\n"
   ]
  },
  {
   "cell_type": "code",
   "execution_count": null,
   "metadata": {},
   "outputs": [],
   "source": [
    "@system Gompertz(Controller) begin\n",
    "    t(context.clock.time) ~ track(u\"d\")\n",
    "\n",
    "    r0: intrinsic_growth_rate => 0.24 ~ preserve(parameter, u\"g/g/d\")\n",
    "    W0: initial_biomass       => 0.15 ~ preserve(parameter, u\"g\")\n",
    "    α:  decay_rate            => 0.03 ~ preserve(parameter, u\"d^-1\")\n",
    "    \n",
    "# differential equations\n",
    "    r(α, r): actual_growth_rate => -α*r ~ accumulate(init = r0, u\"g/g/d\")\n",
    "    W(r, W): biomass            => r*W  ~ accumulate(init = W0, u\"g\")\n",
    "    \n",
    "# analytical solution\n",
    "    # W(t, r0, W0, α): biomass => begin\n",
    "    #     W0 * exp(r0 / α * (1 - ℯ^(-α*t)))\n",
    "    # end ~ track(u\"g\")    \n",
    "end;"
   ]
  },
  {
   "cell_type": "code",
   "execution_count": null,
   "metadata": {},
   "outputs": [],
   "source": [
    "#| echo: false\n",
    "#| output: false\n",
    "gc = calibrate(Gompertz, corn_data;\n",
    "    config = c,\n",
    "    index = :DAS => :t,\n",
    "    target = :shootDW => :W,\n",
    "    parameters = Gompertz => (;\n",
    "        r0 = (0, 0.5),\n",
    "        W0 = (0, 1),\n",
    "        α = (0, 0.1),\n",
    "    ),\n",
    "    stop = 150u\"d\",\n",
    "    metric = :rmse,\n",
    ");"
   ]
  },
  {
   "cell_type": "code",
   "execution_count": null,
   "metadata": {},
   "outputs": [],
   "source": [
    "#| echo: false\n",
    "#| output: false\n",
    "visualize(corn_data, Gompertz, :DAS => :t, :shootDW => :W; config = (c, gc), stop = 150u\"d\", xlim = (0, 150));"
   ]
  },
  {
   "cell_type": "code",
   "execution_count": null,
   "metadata": {},
   "outputs": [],
   "source": [
    "#| echo: false\n",
    "#| output: false\n",
    "#visualize(corn_data, Gompertz, :shootDW => :W; index = :DAS => :t, config = (c, gc), stop = 150u\"d\")"
   ]
  },
  {
   "cell_type": "markdown",
   "metadata": {},
   "source": [
    "### Evaluation\n",
    "Evaluate the performance of both models based on RMSE, EF, and $d_r$ as the goodness of fit metrics. Analyze and interpret the results. Discuss which model would be your choice of model for this purpose and why. \n"
   ]
  },
  {
   "cell_type": "code",
   "execution_count": null,
   "metadata": {},
   "outputs": [],
   "source": [
    "corn_gof = DataFrame(:model => [\"Logistic\",\"Gompertz\",\"Chanter\"], :RMSE => 0.0u\"g\" , :EF =>0.0, :d_r => 0.0) |> unitfy;"
   ]
  },
  {
   "cell_type": "code",
   "execution_count": null,
   "metadata": {},
   "outputs": [],
   "source": [
    "corn_gof[1, :RMSE] = evaluate(Logistic, corn_data;\n",
    "    config = (c, lc),\n",
    "    index = :DAS => :t,\n",
    "    target = :shootDW => :W,\n",
    "    stop = 150u\"d\",\n",
    "    metric = :rmse,\n",
    ");"
   ]
  },
  {
   "cell_type": "code",
   "execution_count": null,
   "metadata": {},
   "outputs": [],
   "source": [
    "corn_gof;"
   ]
  },
  {
   "cell_type": "markdown",
   "metadata": {},
   "source": [
    "## Homework Problems\n",
    "\n",
    "### Calibrate and evaluate the Chanter function\n",
    "\n",
    "This is an extension of the lab exercise on corn biomass accumulation. Calibrate the differential equation or analytical solution of Chanter equation with total shoot biomass (`shootDW`) in the corn growth data. This equation inherits the parameters from the Logistic and Gompertz functions with similar meanings. \n",
    "\n",
    "- Differential equation\n",
    "$$\n",
    "\\begin{split}\n",
    "    \\frac{dW}{dt} &= rW \\left(1-\\frac{W}{B}\\right) e^{-D \\cdot t} \\\\\n",
    "                  &= rW \\left(\\frac{B-W}{B}\\right)\\left\\{1-\\frac{D}{r} \\ln\\left[\\left(\\frac{W}{B-W}\\right)\\left(\\frac{B-W_0}{W_0}\\right)\\right]\\right\\} \\\\\n",
    "\\end{split}\n",
    "$${#eq-chanter-diff}\n",
    "\n",
    "- Analytical solution\n",
    "\n",
    "$$\n",
    "\\begin{split}\n",
    "    W &= \\frac{W_0 B}{W_0 + (B-W_0)\\exp{\\left[-\\frac{r}{D}(1-e^{-D t})\\right]}}\n",
    "\\end{split}\n",
    "$${#eq-chanter-sln}\n",
    "\n",
    "1. Calibrate the Chanter model in derivative form (differential equation) OR in integrated form (analytical solution) with total shoot biomass data (`shootDM`). $r$ and $\\alpha$ are the same as in the Gompertz function. $B$ parameter here may be interpreted as potential biomass representing the genetic ceiling that can be reached when no loss in growth efficiency occurs (i.e., $\\alpha$ = 0). Provide the parameter estimates for best fit, and discuss their biological meanings. How many parameters did you end up calibrating and why?\n",
    "2. Plot the result with DAS (days after sowing) on the x-axis and shoot DW on the y-axis with observed as points and predicted as line. \n",
    "3. Plot the observed (x-axis) vs the predicted (y-axis) with a 1:1 line.\n",
    "4. Evaluate goodness of fit of this model, add as the third row in the table we worked on above, and compare with the logistic and Gompertz functions. Provide model evaluation stats (RMSE, MAE, EF, and Willmott's revised $d_r$) and discuss which of the three models you would consider the best model and select for for this case and why. \n",
    "\n",
    ":::{#tip-calibrate-all .callout-tip}\n",
    "#### Do we always need to calibrate all parameters simultaneously all together?\n",
    "\n",
    "Sometimes we may not need or wish to calibrate all parameters in a model at the same time. It may even be preferable to determine a parameter value based on the literature or prior knowledge instead of going through calibration process in some cases especially if those prior values are based on solid biological understandings and/or data are limited for reliable calibration. For example, it is relatively simple to determine the seed mass of corn before planting. Here, we will use seed mass ($W_0$) of 0.275g as an example. This value is based on our prior knowledge of the mass of a corn kernel.  This will help us reduce the number of prameters to calibrate. This might sacrifice the fitness (e.g., RMSE) a little but that's ok and we can determine how much fitness is lost, and whether it was worth it. There could be multiple ways to do this. Let's think about how we can achieve this in `Cropbox`.\n"
   ]
  },
  {
   "cell_type": "code",
   "execution_count": null,
   "metadata": {},
   "outputs": [],
   "source": [
    "# Here we will force W0 to be 0.275g based on our prior knoledget of the seed mass of corn kernels. \n",
    "# This will help us reduce the number of prameters to calibrate. This might sacrifice the fitness (e.g., rmse) but that's ok.\n",
    "# There could be multiple ways to do this. Here we will simply confine the range of W0 = (0.275, 0.275)\n",
    "\n",
    "lc = calibrate(Logistic, corn_data;\n",
    "    config = c,\n",
    "    index = :DAS => :t,\n",
    "    target = :shootDW => :W,\n",
    "    parameters = Logistic => (;\n",
    "        r = (0, 1),\n",
    "        W0 = (0.275, 0.275),\n",
    "        Wf = (0, 500),\n",
    "    ),\n",
    "    stop = 150u\"d\",\n",
    "    metric = :rmse,\n",
    ");"
   ]
  },
  {
   "cell_type": "code",
   "execution_count": null,
   "metadata": {},
   "outputs": [],
   "source": [
    "# # You can also achieve the same by setting W0 value in a configuration, and add to the calibration result.\n",
    "# lc = calibrate(Logistic, corn_data;\n",
    "\n",
    "# # set W0 value in a configuration and remove it from parameters to calibrate     \n",
    "#     config = (c, :Logistic => (; W0 = 0.275,)),\n",
    "\n",
    "#     index = :DAS => :t,\n",
    "#     target = :shootDW => :W,\n",
    "#     parameters = Logistic => (;\n",
    "#         r = (0, 1),\n",
    "# #        W0 = (0.0, 0.5),\n",
    "#         Wf = (0, 500),\n",
    "#     ),\n",
    "#     stop = 150u\"d\",\n",
    "#     metric = :rmse,\n",
    "# )"
   ]
  },
  {
   "cell_type": "markdown",
   "metadata": {},
   "source": [
    "Combine `lc` configuration which includes newly calibrated parameter estimates (i.e., $r$ and $W_f$), `c` configuration for running on daily timestep, and $W_0$ value into one configuration `lc1`. We do this because `calibrate()` function creates a new configuration that includes the estimates for only those parameters that were calibrated.\n"
   ]
  },
  {
   "cell_type": "code",
   "execution_count": null,
   "metadata": {},
   "outputs": [],
   "source": [
    "lc1 = @config (c, lc,\n",
    "    Logistic => (;\n",
    "        W0 = 0.275,\n",
    "    ),\n",
    ");"
   ]
  },
  {
   "cell_type": "code",
   "execution_count": null,
   "metadata": {},
   "outputs": [],
   "source": [
    "visualize(corn_data, Logistic, :DAS => :t, :shootDW => :W; config  = lc1, stop = 150u\"d\", xlim = (0, 150));"
   ]
  },
  {
   "cell_type": "markdown",
   "metadata": {},
   "source": [
    ":::"
   ]
  }
 ],
 "metadata": {
  "@webio": {
   "lastCommId": "e407774a-bec8-4ebf-9a04-23cd4041370c",
   "lastKernelId": "942dc831-cfa0-42f8-aeba-34bab70788a0"
  },
  "kernelspec": {
   "display_name": "Julia 1.11.6",
   "language": "julia",
   "name": "julia-1.11"
  },
  "language_info": {
   "file_extension": ".jl",
   "mimetype": "application/julia",
   "name": "julia",
   "version": "1.11.6"
  }
 },
 "nbformat": 4,
 "nbformat_minor": 4
}

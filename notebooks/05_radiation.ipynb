{
  "cells": [
    {
      "cell_type": "raw",
      "metadata": {},
      "source": [
        "---\n",
        "format: ipynb\n",
        "engine: julia\n",
        "---"
      ]
    },
    {
      "cell_type": "markdown",
      "metadata": {},
      "source": [
        "# Solar radiation {#sec-radiation}\n",
        "## Objectives {.unnumbered}\n",
        "\n",
        "-   Understand the relationship between climate factors and plants\n",
        "-   Understand the basics of solar radiation\n",
        "-   Evaluate critically the concept of radiation use efficiency\n",
        "\n",
        "## Readings {.unnumbered}\n",
        "\n",
        "-   (recommended) Goudriaan J, Van Laar HH (1994) Climatic factors. In 'Modelling Potential Crop Growth Processes: Textbook with Exercises.' (Eds J Goudriaan and HH Van Laar) pp. 29-49. (Springer Netherlands: Dordrecht) (https://doi.org/10.1007/978-94-011-0750-1_3)\n",
        "-   (recommended) Kim S-H, Hsiao J, Kinmonth-Schultz H (2019) Advances and improvements in modeling plant processes. In 'Advances in Crop Modelling for a Sustainable Agriculture.' Ed. K Boote) pp. 3-43. (Burleigh-Dodds: Cambridge, UK) (https://doi.org/10.19103/AS.2019.0061.01)\n",
        "-   Loomis RS, Amthor JS (1999) Yield potential, plant assimilatory capacity, and metabolic efficiencies. Crop Science 39(6), 1584-1596 (https://doi.org/10.2135/cropsci1999.3961584x)\n",
        "\n",
        "## Questions {.unnumbered}\n",
        "\n",
        "1.  What is the atmospheric transmissivity, why is it important for modeling plant productivity, and how can it be estimated using measured solar radiation?\n",
        "2.  What is radiation use efficiency (RUE), what are the key assumptions of the RUE approach, and how realistic are they?\n",
        "\n",
        "## Intorduction\n",
        "\n",
        "The atmospheric and soil conditions dictate plant growth and health. A reasonable whole-plant model should be able to mimic how plants respond and interact with the environment. In this and following two topics, we will review some of the fundamentals of biometeorology (or agrometeorology) relevant for modeling plant growth and development. \n",
        "\n",
        "Let's first clarify the use of key terms, concepts, and definitions. We would feed `weather` data to run a plant growth model. Weather data can come in many different forms and intervals. Most crop models, for example, run on a daily time-step and would require weather data organize in daily values (e.g., mean, max, and min temperatures). Other models including those models based on organ-level processes (e.g., leaf photosynthesis) run on houly or shorter intervals. The hourly models are useful to study and represent the dynamic response patterns over a diurnal course that will be missed in models with daily or longer time steps. For trees that live centuries, however, a longer interval such as monthly time-step may be more appropriate unless investigating dynamc physiological responses happening at a much smaller and finer scale in space and time is of the main interest.\n",
        "\n",
        "While weather represents the short-term changes in the atmospheric environment, `climate` refers to long-term measures of the atemospheric events that are often expressed in 30 year averages known as `climate normals`. Agricultural researchers often use crop simulation models to study the impacts of climate change on crop yield and plant productivity in the future. To use a crop simulation model to predict crop productivity in the future, one would first need to obtain the projected future climate data from climate models in coarser time and spatial scales, then process the data through statisal or dynamic downscaling and interpolation in both time (e.g., from monthly to daily and hourly) and space to run plant models at the desired scale.\n",
        "\n",
        "\n",
        "## Radiation Basics\n",
        "\n",
        "### Solar Radiation\n",
        "\n",
        "Solar radiation reaching the top of the atmosphere on earth is quite stable and can be represented by the solar constant ($S_0$ = 1367 $\\mathrm{W/m^{2}}$). Because light travels and behaves as both particles and waves, radiatve energy ($e$ in Joule (J)) transfered by the packets of photons depend on their wavelength according to:\n",
        "\n",
        "-   light energy and wavelength\n",
        "\n",
        "$$\n",
        "e = \\frac{hc}{\\lambda}\n",
        "$$ {#eq-light-energy}\n",
        "\n",
        "where $h$ is Planck's constant (6.63 x $10^{-34} \\mathrm{Js}$), $c$ is the speed of light (3.0 x $10^{8}$ m/s in vacuum), and the $\\lambda$ is the wavelength of the photon. The amount of photons falling onto unit surface area is expressed as photon flux density in moles of photons per unit area over a time interval (i.e., $\\mathrm{\\mu mol}\\ \\mathrm{m^{-2}}\\ \\mathrm{s^{-1}}$). This allows us to convert moles of photons to radiative energy (J) and vice versa for different wavelengths (i.e., colors) of light coming from different sources (e.g., natural sunlight, LED, High Pressure Sodium and other artificial lightings). See Chapters 10 and 11 of [Campbell and Norman (1998)](https://doi.org/10.1007/978-1-4612-1626-1) for more information.\n",
        "\n",
        "### PAR, PFD, and DLI\n",
        "\n",
        "Most solar radiation is short-wave radiation (280 to 4000 nm) with about 45% of energy coming as **photosynthetically active radiation (PAR; 300-700 nm)** and approx. 50% in near infrared (NIR; 700-2500 nm). Solar radiation is usually measured by silicon-cell pyranometers that sense a portion of the solar spectrum (e.g., 300 - 1100 nm; \\~80% of total) but calibrated to approximate the total solar radiation. PAR is expressed in energy unit as $\\mathrm{W/m^2}$ where $\\mathrm{W = J/s}$. The light energy is transfered by packets of photons with respect to their wavelength as shown above. The amount of photons coming specifically in PAR waveband is termed **photosynthetic photon flux density (PPFD or PFD)**. Conversion between PAR ($\\mathrm{W/m^2}$) and PFD ($\\mathrm{\\mu mol}\\ \\mathrm{m^{-2}}\\ \\mathrm{s^{-1}}$) is possible and the conversion factor varies with the spectrum of light source. For PAR from natural sun light, the median wavelength is 550 nm and the conversion between PAR and PFD is approximated to be **0.218 J/μmol or 4.6 μmol/J** as we saw in Ex 1.\n",
        "\n",
        "A useful metric in horticulture is **Daily light integral (DLI)**. DLI represents the amount of photons in PAR per day per unit area ($\\mathrm{mol\\ m^{-2}\\ d^{-1}}$). In other words, DLI is a sum of PFD ($\\mathrm{μmol\\ m^{-2}\\ s^{-1}}$) integrated over a day.\n",
        "\n",
        "\n",
        "::: {#exr-photon-energy}\n",
        "### Energy of photons\n",
        "Calculate the energy (J) transfered by 1) a single green photon traveling in the wavelength of 550 nm and 2) a packet of $\\mathrm{\\mu mol}$ of the green photons.\n",
        ":::"
      ]
    },
    {
      "cell_type": "code",
      "metadata": {},
      "source": [
        "using Unitful"
      ],
      "execution_count": null,
      "outputs": []
    },
    {
      "cell_type": "markdown",
      "metadata": {},
      "source": [
        "Using `Unitful` package, we can simply indicate the unit for each quantity and the package will take care of the most unit conversion and simplifcations for us. We use a pipe operator `|>` to force a conversion to the unit we want. We are creating a `let` block here which should end with `end`. In `Julia`, a `let` block contains the scope of variables and operations within."
      ]
    },
    {
      "cell_type": "code",
      "metadata": {},
      "source": [
        "const Avogadro = 6.022140857e23\n",
        "let\n",
        "    h = 6.63e-34u\"J*s\"; c = 3.0e8u\"m/s\"; λ = 550u\"nm\"\n",
        "    e = h*c/λ  |> u\"J\"\n",
        "    e_mol = e*Avogadro |> u\"MJ\"\n",
        "    println(\"energy/photon is \", e)\n",
        "    println(\"energy/mole of photons is \", e_mol)\n",
        "end   "
      ],
      "execution_count": null,
      "outputs": []
    },
    {
      "cell_type": "markdown",
      "metadata": {},
      "source": [
        "#### Weather data\n",
        "\n",
        "Most weather stations monitor weather conditions in sub-hourly intervals (e.g., 15 minutes) and can provide data in different time steps (e.g., hourly, daily, monthly). Many crop models run on daily time steps. Here, we will take a look at daily weather data of a corn field collected between May 15 and September 30, 2002 from the South Farm of USDA-ARS Beltsville Agricultural Reesarch Center (BARC). It includes year, day of year (jday), daily *mean* solar radiation (rad; $\\mathrm{W/m^2}$), daily average (Tavg), maximum (Tmax), and minimum (Tmin) temperatures (°C), rainfall (mm), and calendar date.\n",
        "\n",
        "::: {#nte-trust-notebook .callout-note}\n",
        "## Trust Notebook\n",
        "If using JupyterLab and plots/tables are not rendered correctly, make sure your notebook is `trusted` by running `Trust Notebook` operation found in `View` menu then `Activate Command Palette`. You can easily find this menu by typing in \"trust\" in the search box there.\n",
        ":::"
      ]
    },
    {
      "cell_type": "code",
      "metadata": {},
      "source": [
        "using Cropbox, Plots"
      ],
      "execution_count": null,
      "outputs": []
    },
    {
      "cell_type": "code",
      "metadata": {},
      "source": [
        "using CSV, DataFrames # CSV package helps with reading and writing CSV (comma separated value) and other plain text files\n",
        "df1 = CSV.read(\"./data/MD_Beltsville_2002-daily.csv\", DataFrame) |> unitfy\n",
        "unitfy(df1);"
      ],
      "execution_count": null,
      "outputs": []
    },
    {
      "cell_type": "markdown",
      "metadata": {},
      "source": [
        "Let's try plotting temperature variables over time here."
      ]
    },
    {
      "cell_type": "code",
      "metadata": {},
      "source": [
        "?plot;"
      ],
      "execution_count": null,
      "outputs": []
    },
    {
      "cell_type": "markdown",
      "metadata": {},
      "source": [
        "Check how to use `plot` function. Remove `;` to see the output. `?` in front invokes in-notebook help. By default, we are using `plot` function built in `Cropbox` package. There are other ploting packages in Julia using the same name `plot` function such `Plots` or `Gadfly`. To eliminate ambiguity we can specicy the package by `Cropbox.plot`, `Plots.plot` or `Gadfly.plot`."
      ]
    },
    {
      "cell_type": "code",
      "metadata": {},
      "source": [
        "Plots.plot(df1.date, [df1.Tmax df1.Tmin df1.Tavg]; \n",
        "    labels = [\"Tmax\" \"Tmin\" \"Tavg\"], \n",
        "    xlabel = \"Date\", ylabel = \"Temperature\", \n",
        "    title = \"Daily Temperature in Beltsville, MD in 2002\", \n",
        "    legend = :topright, kind = :line)"
      ],
      "execution_count": null,
      "outputs": []
    },
    {
      "cell_type": "markdown",
      "metadata": {},
      "source": [
        "::: {#exr-plot-radiation}\n",
        "### Plot radiation variables\n",
        "\n",
        "Applying the radiation basics we just disussed, let's do the following using the daily weather data from Beltsville, MD. 1. Plot daily mean solar radiation (`rad`; $\\mathrm{W/m^2}$) over the entire period. 2. Convert daily mean solar radiation (`rad`) into daily total solar radiation (`rad_tot`) in $\\mathrm{MJ\\ m^{-2}\\ d^{-1}}$ and plot `rad_tot`. 3. Convert total daily solar radiation ($\\mathrm{MJ\\ m^{-2}\\ d^{-1}}$) into daily light integral (DLI) in $\\mathrm{mol\\ m^{-2}\\ d^{-1}}$, add `DLI` a new column, and plot it.\n",
        ":::"
      ]
    },
    {
      "cell_type": "code",
      "metadata": {},
      "source": [
        "Cropbox.plot(df1, :date, :rad; kind = :line);"
      ],
      "execution_count": null,
      "outputs": []
    },
    {
      "cell_type": "code",
      "metadata": {},
      "source": [
        "# Unit conversion from daily mean readiation to daily total radiation in MJ m^-2 d^-1. \n",
        "# Unitful takes care of this conversion.  \n",
        "df1.rad_tot = df1.rad .|> u\"MJ/m^2/d^1\";\n",
        "Cropbox.plot(df1, :date, :rad_tot; kind = :line);"
      ],
      "execution_count": null,
      "outputs": []
    },
    {
      "cell_type": "code",
      "metadata": {},
      "source": [
        "# Convert daily total solar radiation to DLI. Here we need to inclde spectrum specific information for the conversion.\n",
        "# We assume 45% of radiation is PAR and PAR to PFD conversion factor is 4.6 umol/J.\n",
        "df1.DLI = df1.rad_tot * 0.45*4.6u\"μmol/J\" .|> u\"mol/m^2/d\";"
      ],
      "execution_count": null,
      "outputs": []
    },
    {
      "cell_type": "code",
      "metadata": {},
      "source": [
        "# Plot DLI over time\n",
        "Plots.plot(df1.date, df1.DLI; xlabel = \"Date\", ylabel = \"DLI\", \n",
        "    title = \"Daily Light Integral in Beltsville, MD in 2002\", \n",
        "    legend = false, kind = :line)"
      ],
      "execution_count": null,
      "outputs": []
    },
    {
      "cell_type": "markdown",
      "metadata": {},
      "source": [
        "### Solar geometry\n",
        "\n",
        "Here comes the sun. The radiation from the sun represented by the solar constant ($S_c$ = 1367 $\\mathrm{W/m^2}$) is fairly constant except with the cyclic variations due to sunspot activities but the actual solar radiation incident on the earth's surface ($S$) varies with time and location and the variations are predictable. The incident solar radiation varies diurnally and seasonally because of earth's orbital eccentricity and rotation, by locations with respect to latitude and longitude, and also due to the atmospheric transmissivity ($\\tau$) which depends on cloudiness. The cyclic variabilities associated with the solar geometry can be approximated by a set of equations as summarized below ([Goudriaan and van Laar, 1994; Chapter 3](https://doi.org/10.1007/978-94-011-0750-1_3)):\n",
        "\n",
        "![Geometric features for determining sun's position over the course of day and season. (Image sources: [Kalogirou (2022)](https://doi.org/10.1016/B978-0-12-819727-1.00001-7) and [Karafil et al. (2015)](https://doi.org/10.1109/ELECO.2015.7394517))](./figs/solar_geometry.png){#fig-solargeo} \n",
        "\n",
        "#### Relevant equations\n",
        "\n",
        "Shown below are relevant equations for approximatiing sun's position at a given time and location adopted from Chapter 4 of Goudriaan and van Laar (1994).There are other formulations for this purpose with varying precisions (e.g., Chapter 11 of Campbell and Norman, 1998) but we use this set of formula for its brevity. Many plant and crop models often include a weather/climate module that implements the solar geometry and other algorithms handling weather variables. For example, see the [leaf gas exchange model](https://github.com/cropbox/LeafGasExchange.jl/blob/main/src/sun.jl) developed using `Cropbox`.\n",
        "\n",
        "-   Incident solar radiation ($S$; $\\mathrm{W/m^2}$) \n",
        "$$\n",
        "\\begin{align}\n",
        "    S_0 &= S_c \\cdot [1.0 + 0.033 \\cos{(2\\pi (t_d -10.0)/365)]} \\cdot \\sin{\\beta} \\\\\n",
        "    S &= S_0  \\cdot \\tau\n",
        "\\end{align}\n",
        "$${#eq-s}\n",
        "\n",
        "-   Solar elevation ($\\sin{\\beta}$) and related geometry: \n",
        "$$ \n",
        "\\begin{align}\n",
        "    \\sin{\\beta} &= a + b \\cdot \\cos{2\\pi(t_h - 12)/24)} \\\\\n",
        "    a &= \\sin\\lambda \\sin\\delta ;  \n",
        "    b = \\cos\\lambda \\cos\\delta \\\\\n",
        "    \\sin\\delta &= - \\sin{(\\pi \\cdot 23.45/180)} \\cos{(2\\pi(t_d+10.0)/365)} \\\\\n",
        "    \\cos\\delta &= \\sqrt{1.0-{\\sin\\delta}^2} \\\\\n",
        "    \\int \\sin\\beta \\,dt &= a \\cdot d + (\\frac{24b}{\\pi}) \\cos{\\left[\\left(\\frac{d}{12} - 1.0\\right) \\cdot \\frac{\\pi}{2}\\right]}\n",
        "\\end{align}\n",
        "$${#eq-sinbeta}\n",
        "\n",
        "-   Day length ($d$): $$ d = 12.0 \\cdot \\left[ 1.0 + \\frac{2.0}{\\pi} \\arcsin{\\frac{a}{b}}\\right] $${#eq-daylength}\n",
        "-   Solar declination ($\\delta$): $$ \\sin{\\delta} = - \\sin{(\\pi \\cdot 23.45/180)} \\cos{(2\\pi(t_d+10.0)/365)} $${#eq-declination}\n",
        "-   Solar azimuth ($\\alpha$): $$\n",
        "     \\alpha = \\pm \\arccos{\\left(\\frac{\\sin{\\beta} \\sin{\\lambda} - \\sin{\\delta}}{\\cos\\beta \\cos\\delta}\\right)}$${#eq-azimuth}\n",
        "\n",
        "\n",
        "Where $\\beta$ is sun's height or solar elevation, $\\delta$ is sun's declination with respect to the equator plane, $\\lambda$ is the latitude of location in degrees, $t_d$ is day of year, and $t_h$ is solar time in hours. $a$ represents the seasonal shift of sun's position with respect to the equator and $b$ relates to the seasonal changes in solar height\n",
        "\n",
        ":::{#exr-radiation-seattle}\n",
        "### Solar radiation in Seattle now\n",
        "Let's do some calculations to find out how much light we are getting these days in Seattle. \n",
        ":::\n",
        "\n",
        "1. Calculate the daylength, sunrise, and sunset in Seattle, WA today and compare your estimated sunrise and sunset times with a weather app of your choice.\n",
        "2. What time is it now?\n",
        "3. What is the incident solar radiation outside the atmosphere ($S_0$) coming toward Seattle right now? \n",
        "4. Assuming a clear day with $\\tau$ of 0.7, what is the solar radiation incident on the ground right now? \n",
        "5. What is the current solar radiation at the CUH according to AgWeatherNet (<https://weather.wsu.edu/>)? \n",
        "6. What is the actual atmospheric transmissivity right now? Looking outside the window, does this value seem reasonable?\n"
      ]
    },
    {
      "cell_type": "code",
      "metadata": {},
      "source": [
        "using Dates, Printf\n",
        "# hour(now(localzone())) #This might give an incorrect result based on how the JupyterHub server time is set up.\n",
        "# localzone() # check the local time zone of the computer you are using\n",
        "hour(now(tz\"America/Los_Angeles\"));"
      ],
      "execution_count": null,
      "outputs": []
    },
    {
      "cell_type": "code",
      "metadata": {},
      "source": [
        "#| output: false\n",
        "# solution\n",
        "let\n",
        "    Sc = 1367u\"W/m^2\"\n",
        "    λ = deg2rad(47.608)\n",
        "    t_d = dayofyear(today())\n",
        "    t_h = hour(now(tz\"America/Los_Angeles\"))\n",
        "    τ = 0.7\n",
        "    sinδ = -sin(π*23.45/180)*cos(2π*(t_d + 10.0)/365.0)\n",
        "    cosδ = √(1.0-sinδ^2)\n",
        "    a = sin(λ)*sinδ; b = cosδ*cos(λ)\n",
        "    sinβ = a + b*cos(2π*(t_h - 12.0)/24)\n",
        "    d = 12.0*(1.0+2.0/π*asin(a/b))\n",
        "    sunrise = 12.0 - d/2\n",
        "    sunset = sunrise + d\n",
        "    S0 = Sc*sinβ*(1.0 + 0.033*cos(2π*(t_d-10.0)/365)) # solar radiation at the top of atmosphere\n",
        "    S = S0*τ\n",
        "    S_obs = 370u\"W/m^2\"\n",
        "    τ = S_obs/S0\n",
        "\n",
        "    println( \"=======================================\")\n",
        "    println( \" Solar Radiation in Seattle Now \")\n",
        "    println( \"=======================================\")\n",
        "    @printf(\"1. Today's daylength is: %.2f hrs, sunrise was %.2f, and sunset would be %.2f.\\n\", d, sunrise, sunset)\n",
        "    println(\"2. Now is \", Dates.format(now(tz\"America/Los_Angeles\"), \"yyyy-mm-dd HH:MM\"))\n",
        "    @printf(\"3. The current estimated solar radiation at the top of the atmosphere is %.2f.\\n\" , S0)\n",
        "    @printf(\"4. If the atmospheric transmissivity was 0.7, the solar radiation at the ground level would be %.2f.\\n\", S)\n",
        "    @printf(\"5. Current solar radiation reading of the AgWeatherNet weather station at CUH is %.2f.\\n\", S_obs)\n",
        "    println(\"6. Actual atmospheric transmissivity based on the measurement is: \", τ, \".\")\n",
        "end;"
      ],
      "execution_count": null,
      "outputs": []
    },
    {
      "cell_type": "markdown",
      "metadata": {},
      "source": [
        "## Radiation Use Efficiency (RUE)\n",
        "\n",
        "As people say, plants eat light to grow although I think it is more correct to say that plants eat $\\mathrm{CO_2}$ with their countless mouths (stomata). Anyways, the concept of radiation use efficiency proposed by [Monteith (1977)](https://doi.org/10.1098/rstb.1977.0140) is useful in this regard. It is  simple and elegant but empirical. Based on the thermodynamic efficiency of a crop canopy to convert the light energy ($\\mathrm{MJ \\cdot m^{-2}}$ in short-wave solar radiation) into the chemical energy to produce carbohydrates forming crop biomass ($\\mathrm{g m^{-2}}$ in dry matter), it has been proposed that RUE remains conserved for different crops and environmental conditions. Later works provided theoretical underpinnings of this approach Loomis [(1999)](https://doi.org/10.2135/cropsci1999.3961584x). The RUE approach can be summarized as:\n",
        "\n",
        "-  RUE for plant growth \n",
        "$$\n",
        "\\Delta W = [\\epsilon\\cdot I_0\\cdot f_{\\mathrm{solar}}]\\Delta t\n",
        "$${#eq-RUE}\n",
        "\n",
        "Where $W$ is biomass accumulated per unit area ($\\mathrm{g m^{-2}}$), $I_0$ represents the irradiance in short-wave solar radiation (PAR and NIR wavebands) and is usually available from weather station data in ($\\mathrm{W m^{-2}}$ or in $\\mathrm{MJ m^{-2} d^{-1}}$). $\\epsilon$ is a crop specific coefficient for its radiation use efficiency (RUE) ($\\mathrm{g \\cdot MJ^{-1}}$), $f_{\\mathrm{solar}}$ is the fraction of the solar radiation intercepted by the canopy. $\\Delta t$ is the time step, usually in $\\mathrm{d^{-1}}$. $f_{\\mathrm{solar}}$ can be approximated by:\n",
        "\n",
        "-  Fraction of solar radiation intercepted by crop \\begin{equation}\n",
        "$$\n",
        "f_{\\mathrm{solar}} = 1 - e^{-kL}\n",
        "$${#eq-fsolar}\n",
        "\n",
        "Where $k$ is extinction coefficient that describes the rate of light attenuation inside a canopy and $L$ is the leaf area index of the canopy. Typical values for the RUE coefficient ($\\epsilon$) are 1.5 and 2.3 $\\mathrm{g \\cdot MJ^{-1}}$ for C3 and C4 crops, respectively [(Loomis, 1999)](https://doi.org/10.2135/cropsci1999.3961584x). A typical value for $k$ may range between 0.5 and 0.8 with.\n",
        "\n",
        "-   RUE for total biomass accumulation \n",
        "$$\n",
        "W = \\sum_{}^{d_{hv}}[\\epsilon\\cdot I_0\\cdot f_{\\mathrm{solar}}]\n",
        "$${#eq-RUE-sum}\n",
        "\n",
        "This equation sums the daily plant growth to give the final biomass at harvest as the growing season ends and represents the net total biomass accumulated over the entire growing season. $d_{hv}$ represents growing season length represented by the days from planting to harvest. For other ecosystems (e.g., forest, desert), this quantity will be equivalent to the net primary productivity (NPP) for a given year. In both cases, the leaf area index (LAI) needs to be known as a parameter or an input variable, which is often estimated using remote sensing data. Once final biomass accumulated over the season is known, the harvested crop yield ($Y_h$) can be obtained if harvest index ($h$) of the crop is known. The $h$ for a highly domesticated and bred grain crop (e.g., corn, rice, wheat) may be up to 50% or greater.\n",
        "\n",
        "$$\n",
        "    Y_h = W\\cdot h\n",
        "$${#eq-RUE-yield}\n",
        "\n",
        "While the RUE approach for modeling crop or ecosystem productivity is elegantly simple and effective, it is largely empirical and the assumed linear relationship between the radiation intercepted by the canopy and biomass production may not be conserved in all environments and plant conditions.\n",
        "\n",
        "::: {#exr-corn-rue}\n",
        "### A simple radiation use efficiency model for corn biomass and yield \n",
        "\n",
        "As discussed, the radiation (or light) use efficiency (RUE or LUE) is a simple but useful concept in plant growth modeling that many crop models are based on. In a study by ([Sinclair and Horie T, 1989](https://doi.org/10.2135/cropsci1989.0011183X002900010023x)), the RUE value has been esimated to be 1.7 g of biomass/MJ of solar radiation for C4 maize crop, while for rice, a C3 crop, the estimate was 1.4 g/MJ. First, some simplifying **assumptions** that are likely unrealistic but necessary: 1) **the leaf area index (LAI)** of the canopy stayed at **3.0** throughout the season, 2) the canopy light **extinction coeffcient (**$\\textbf{k}$) was **0.6**, and 3) **daily short-wave solar radiation (**$I_0$) was constant at **25** $\\mathrm{MJ~d^{-1}}$ for the entire corn growing season of **100 days** in **Ames, Iowa**. With this information, answer the following questions.\n",
        ":::\n",
        "\n",
        "1.  Estimate the cumulative biomass per unit area ($\\mathrm{g\\ m^{-2}}$) of this maize cultivar at harvest assuming that LAI = 3.0 and k = 0.6 for the canopy throughout the grwoing season.\n",
        "2.  Planting density was 8 plants per $\\mathrm{m^{2}}$. What is the final biomass per plant?\n",
        "3.  What would be the grain yield (t/ha) of this corn crop if the harvest index is 50%?\n",
        "4.  Do these estimates look reasonable to you? What are the pros and cons of this modeling approach?\n",
        "5.  What is the weakest aspect or most problematic of this particular modeling exercise in your opinion? What can be done to overcome that?"
      ]
    },
    {
      "cell_type": "code",
      "metadata": {},
      "source": [
        "#| output: false\n",
        "# part 1 \n",
        "    ϵ = 1.7u\"g/MJ\"\n",
        "    L = 3.0\n",
        "    I0= 20u\"MJ/m^2/d\"\n",
        "    k = 0.6\n",
        "    d_final = 100u\"d\"\n",
        "    f_s = 1 - exp(-k*L)\n",
        "    PD = 8u\"1/m^2\"\n",
        "    biomass_m2= ϵ*f_s*I0*d_final\n",
        "# part 2\n",
        "    plant_biomass = biomass_m2/PD\n",
        "    a = (biomass_m2, plant_biomass)\n",
        "\n",
        "println(\"1) Cumulative biomass/m^2 is \", a[1], \" and 2) this translates to biomass/plant of \", a[2]) "
      ],
      "execution_count": null,
      "outputs": []
    },
    {
      "cell_type": "code",
      "metadata": {},
      "source": [
        "# Line below registers a new unit for corn yield as bushels/acre. \n",
        "# This unit is commonly used for yield reporting in the US. \n",
        "# For corn, one bushel is defined as 56 pounds (lbs). A bushel of wheat is 60 lbs, and for rice it is 45 lbs which also changes with milling.\n",
        "module MyUnits; using Unitful; @unit cbu \"cbu\" cornBushel 56u\"lb\" false; end\n",
        "Unitful.register(MyUnits);"
      ],
      "execution_count": null,
      "outputs": []
    },
    {
      "cell_type": "code",
      "metadata": {},
      "source": [
        "#| output: false\n",
        "# part 3\n",
        "HI = 0.5 # harvest index. the proportion of harvestable portion (kernels) per total biomass of a whole-plant\n",
        "t_ha = HI*biomass_m2 |> u\"Mg/ha\"\n",
        "bu_acre = t_ha |> u\"cbu/ac\"\n",
        "yield = (ton_ha = t_ha, bushel_acre = bu_acre) \n",
        "\n",
        "println(\"3a) grain yield in metric unit is: \", yield[1],  \n",
        "        \"\\n\", \"3b) this translates to bushels/acre as: \", yield[2]) "
      ],
      "execution_count": null,
      "outputs": []
    },
    {
      "cell_type": "markdown",
      "metadata": {},
      "source": [
        "## Homework Problems {#sec-homework-radiation}\n",
        "\n",
        "Let's compare our estimates with recent corn yield from counties in Iowa (<https://www.nass.usda.gov/Statistics_by_State/Iowa/Publications/County_Estimates/2024/IA-CtyEst-Corn-02-24.pdf>) and answer the following questions.\n",
        "\n",
        "- What do you think? Do these estimates look reasonable to you? Did the model do a decent job of estimating potential yield? \n",
        "- What were the state variables and parameters in this model? \n",
        "- What were the assumptions of this model? Are these assumptions we made resonable? \n",
        "- What is the weakest aspect or most problematic of this particular modeling exercise in your opinion?\n",
        "- How can we improve this model to overcome the shortcomings?\n",
        "\n",
        "For reference, table shown below illustrates the mean daily radiation for each moth over two decades in Ames, Iowa ([Hodges, 1984](https://scholarworks.uni.edu/cgi/viewcontent.cgi?article=1123&context=pias)).\n",
        "\n",
        "![Iowa solar radiation data](./figs/iowa-solrad.png){#fig-iowa-solar}"
      ]
    }
  ],
  "metadata": {
    "kernelspec": {
      "name": "julia-1.11",
      "language": "julia",
      "display_name": "Julia 1.11.6",
      "path": "/Users/soohkim/Library/Jupyter/kernels/julia-1.11"
    }
  },
  "nbformat": 4,
  "nbformat_minor": 4
}
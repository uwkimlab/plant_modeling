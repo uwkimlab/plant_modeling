{
  "cells": [
    {
      "cell_type": "raw",
      "metadata": {},
      "source": [
        "---\n",
        "format: ipynb\n",
        "engine: julia\n",
        "---"
      ]
    },
    {
      "cell_type": "markdown",
      "metadata": {},
      "source": [
        "# Population dynamics {#sec-popdyn}\n",
        "\n",
        "## Objectives {.unnumbered}\n",
        "\n",
        "The objective of this unit is to learn about 1) modeling growth of populations of plants and animals, and 3) modeling population dynamics\n",
        "of species interactions through competition and predator-prey relations.\n",
        "In the lab, you will 1) simulate and visualize population dynamics of interacting species and 2) apply the models for evaluating the model behavior and testing hypotheses.\n",
        "\n",
        "## Readings {.unnumbered}\n",
        "\n",
        "-   (recommended) @Essington2021-Ch2 [Chapter 2: Introduction to population models](https://doi.org/10.1093/oso/9780192843470.003.0002)\n",
        "-   (recommended) @Edelstein2005 [Chapter 6: Applications of continuous models to population dynamics](https://doi.org/10.1137/1.9780898719147) (Sections 6.1 and 6.2 are most relevant). The entire book is available online.\n",
        "-   (recommended) @Essington2021-Ch4 [Chapter 4: Competition and predation models](https://doi.org/10.1093/oso/9780192843470.003.0004).\n",
        "\n",
        "## Questions {.unnumbered}\n",
        "\n",
        "1.  Explain potential reasons for the cyclic behavior (i.e., oscillation) of hare and lynx populations @fig-hare-lynx-graph, and describe how these mechanisms can be related or translated into the parameters in the Lotka-Volterra equations. In addition to oscillations, what other outcomes of the predator-prey dynamics do you think can be possible?\n",
        "\n",
        "## Population growth\n",
        "\n",
        "The growth functions (e.g., exponential and logistic equation) we\n",
        "discussed in @sec-growth for a single plant growth can be also useful for\n",
        "describing the growth of plant or animal populations. A population of\n",
        "animals or plants without the limitation of space or resources grows independent of the population density (i.e., the Malthus model):\n",
        "\n",
        "$$\n",
        "\\frac{dN}{dt} = (b - d)N = rN\n",
        "$${#eq-pop-exp}\n",
        "\n",
        "where $N$ is the number of individuals in a population, and $b$ is the\n",
        "per capita birth rate, $d$ is the death rate, and $r$ is the per capita\n",
        "growth rate (relative growth rate). In most cases, animal or plant\n",
        "populations are limited by their density due to *intraspecific\n",
        "competition* for resources (e.g., space, food, nutrients) available in\n",
        "the system. Thus, the population growth with density dependence often\n",
        "follows the logistic growth pattern as shown below.\n",
        "\n",
        "$$\n",
        "\\frac{dN}{dt} = rN(1-\\frac{N}{K}) = rN(\\frac{K-N}{K}) = rN - \\frac{r}{K}N^2\n",
        "$${#eq-pop-logi}\n",
        "  \n",
        "\n",
        "$K$ is the carrying capacity of the system for the population. A general\n",
        "polynomial form of this equation with a negative second order term can\n",
        "be used to obtain the *Allee effects* to represent a population that has\n",
        "the maximum intrinsic growth rate at intermediate density\n",
        "[@Edelstein2005].\n",
        "\n",
        "## Predator-prey dynamics\n",
        "\n",
        "Similar to the competition model, Lotka and Volterra also developed a\n",
        "model that describe predator-predy dynamics\n",
        "[@Edelstein2005; @Essington2021-Ch4]. A classic example of predator-prey\n",
        "relationship in population biology is the dynamics of Canadian lynx and\n",
        "Snowshoe hare populations in the Mackenzie River district of the\n",
        "North-West Canada collected by the Hudson Bay Company over almost a\n",
        "century (Fig [\\[fig:hare-lynx\\]](#fig:hare-lynx){reference-type=\"ref\"\n",
        "reference=\"fig:hare-lynx\"}).\n",
        "\n",
        "::: {#fig-hare-lynx-dyn layout-ncol=1}\n",
        "![Lynx chasing hare](./figs/hare-lynx.jpg){#fig-hare-lynx}\n",
        "\n",
        "![Population cycles.[Source](http://www2.nau.edu/lrm22/lessons/predator_prey/predator_prey.html)](./figs/hare_lynx_graph.png){#fig-hare-lynx-cycles}\n",
        "\n",
        "Canadian lynx and snowshoe hare population dynamics showing a 10 year cycle.\n",
        ":::\n",
        "\n",
        "This cyclic behavior of population dynamics has spawned many models and\n",
        "experiments to explain the phenomenon [@Krebs2001]. Among the most\n",
        "widely used approach is the Lotka-Volterra equation to model this\n",
        "predator-prey dynamics from the top-down point of view. Other similar\n",
        "examples include host-parasitoid interactions in insects (e.g., Azuki\n",
        "been weevil and a wasp) [@Krebs1994].\n",
        "\n",
        "### Density-independent Lotka-Volterra model\n",
        "\n",
        "Here we will examine the Lotka-Volterra predator-prey system of\n",
        "differential equations. We have two state variables which change\n",
        "simultaneously and are dependent on each other. In this example the\n",
        "variables $N$ and $P$ are the population sizes of the prey and predator,\n",
        "respectively.\n",
        "\n",
        "$$\n",
        "\\begin{split}\n",
        "    &\\frac{dN}{dt} = rN-aNP \\\\\n",
        "    &\\frac{dP}{dt} = caNP-mP\n",
        "\\end{split}\n",
        "$${#eq-LV-predat}\n",
        "\n",
        "Where $N$ is the prey population, $r$ is the per capita growth rate of\n",
        "prey population, $a$ is the attack rate or predation rate, $P$ is\n",
        "predator population, $c$ is conversion efficiency of an eaten prey into\n",
        "new predator (i.e., predator's reproduction efficiency per prey\n",
        "consumed), $m$ is for the death rate or mortality rate of predator\n",
        "population.\n",
        "\n",
        "::: {#exr-LV-predat}\n",
        "### Density independent Lotka-Volterra model\n",
        "Create a system to implement the *density-independent* Lotka-Volterra model @eq-LV-predat using *Cropbox*. Using your guesstimates, find the set of parameter values and initial conditions by eyes that mimic the population dynamics shown in @fig-hare-lynx-dyn. Repeat this process until you are satisfied with the result. What are their values? Do you think those values are reasonable and realistic ecologically?\n",
        ":::\n",
        "\n",
        "::: {#tbl-LV-parms}\n",
        "| Symbol | Value | Units | Description |\n",
        "| - | - | - | :------- |\n",
        "| $t$ | - | $\\mathrm{yr}$ | Time unit used in the model |\n",
        "| $N$ | - | - | Prey population as number of individuals (state variable) |\n",
        "| $P$ | - | - | Predator population as number of individuals (state variable) |\n",
        "| $r$ | - | $\\mathrm{yr^{-1}}$ | Per capita growth rate of prey population |\n",
        "| $a$ | - | $\\mathrm{yr^{-1}}$ | Attack rate or predation rate |\n",
        "| $c$ | - | - | Conversion efficiency of an eaten prey into new predator; predator's reproduction efficiency per prey consumed |\n",
        "| $m$ | - | $\\mathrm{yr^{-1}}$ | Mortality rate of predator population |\n",
        "\n",
        "Model variables, parameters, and their unit.\n",
        ":::\n",
        "\n",
        "Model specification of `Lotka-Volterra` resembles what we did with @exr-corn-logistic for logistic growth model in a derivative form."
      ]
    },
    {
      "cell_type": "code",
      "metadata": {},
      "source": [
        "using Cropbox, DataFrames"
      ],
      "execution_count": null,
      "outputs": []
    },
    {
      "cell_type": "code",
      "metadata": {},
      "source": [
        "@system LV_predation(Controller) begin\n",
        "    t(context.clock.time) ~ track(u\"yr\")\n",
        "    \n",
        "    N(N, P, r, a): prey_population => r*N - a*N*P ~ accumulate(init=N0)\n",
        "    P(N, P, c, a, m): predator_population => c*a*N*P - m*P ~ accumulate(init=P0)\n",
        "    \n",
        "    N0: prey_initial_population ~ preserve(parameter)\n",
        "    P0: predator_initial_population ~ preserve(parameter)\n",
        "    \n",
        "    r: prey_growth_rate ~ preserve(u\"yr^-1\", parameter)\n",
        "    a: predation_rate ~ preserve(u\"yr^-1\", parameter)\n",
        "    c: predator_reproduction_rate ~ preserve(parameter)\n",
        "    m: predator_mortality_rate ~ preserve(u\"yr^-1\", parameter)\n",
        "end"
      ],
      "execution_count": null,
      "outputs": []
    },
    {
      "cell_type": "markdown",
      "metadata": {},
      "source": [
        "We can take a look at the dependency between variables declared in the system by calling `Cropbox.dependency(<System>)`."
      ]
    },
    {
      "cell_type": "code",
      "metadata": {},
      "source": [
        "Cropbox.dependency(LV_predation)"
      ],
      "execution_count": null,
      "outputs": []
    },
    {
      "cell_type": "markdown",
      "metadata": {},
      "source": [
        "Similarly, a hierarchy between mix-in systems can be drawn by `Cropbox.hierarchy(<System>)`. Solid line indicates *has* relationship meaning the target system contains an instance of source system. Dashed line indicates *is* relationship meaning the target system is composed of source system as a mix-in."
      ]
    },
    {
      "cell_type": "code",
      "metadata": {},
      "source": [
        "Cropbox.hierarchy(LV_predation)"
      ],
      "execution_count": null,
      "outputs": []
    },
    {
      "cell_type": "markdown",
      "metadata": {},
      "source": [
        "Here, we make a configuration for setting parameters for `LV_predation` system we've just made above. We'll use a daily time step."
      ]
    },
    {
      "cell_type": "code",
      "metadata": {},
      "source": [
        "cLV_p = @config (\n",
        "    :Clock => (;\n",
        "        step = 1u\"d\",\n",
        "    ),\n",
        "    :LV_predation => (;\n",
        "        r = 0.6,\n",
        "        a = 0.02,\n",
        "        c = 0.5,\n",
        "        m = 0.5,\n",
        "        N0 = 20,\n",
        "        P0 = 30,\n",
        "    ),\n",
        ");"
      ],
      "execution_count": null,
      "outputs": []
    },
    {
      "cell_type": "markdown",
      "metadata": {},
      "source": [
        "Let's make a simulation plot and see how it compares to the original dataset. Note we use a variant `visualize(<System>, <x>, [<y>..]; ..)` with multiple target variables mapped to multiple series of lines."
      ]
    },
    {
      "cell_type": "code",
      "metadata": {},
      "source": [
        "#| output: false\n",
        "visualize(LV_predation, :t, [:N, :P]; config=cLV_p, stop=100u\"yr\", kind=:line)"
      ],
      "execution_count": null,
      "outputs": []
    },
    {
      "cell_type": "markdown",
      "metadata": {},
      "source": [
        "Repeat this process until you are satisfied with the result. What are their values? Do you think those values are ecologically realistic?\n",
        "\n",
        "\n",
        "### Density-dependent Lotka-Volterra model\n",
        "\n",
        "We saw from Eqn @eq-pop-logi that the growth of an animal (or plant)\n",
        "population would slow down as the population size reaches the carrying\n",
        "capacity of the system in the absence of predation. Incorporating this\n",
        "relationship into the Lotka-Volterra equation allows for looking into\n",
        "the dynamics of predator-prey interactions with density dependence on\n",
        "prey population. The carrying capacity ($K$) in this case can represent\n",
        "the space or food resources for preys that can relate to vegetation\n",
        "properties. Doing this expands the interactions to three trophic levels.\n",
        "Adding the density dependence to the prey population dynamics, we get\n",
        "\n",
        "$$\n",
        "\\begin{split}\n",
        "    &\\frac{dN}{dt} = rN-\\frac{r}{K}N^2-aNP \\\\\n",
        "    &\\frac{dP}{dt} = caNP-mP\n",
        "\\end{split}\n",
        "$${#eq-ddLV}\n",
        "\n",
        "\n",
        "All parameters should be positive. More detailed mathematical analysis\n",
        "about the behavior of these equations with respect to initial condition\n",
        "and parameter values can be found in @Edelstein2005 and @Essington2021-Ch4.\n",
        "\n",
        "::: {#exr-ddLV}\n",
        "### Density dependent Lotka-Volterra model\n",
        "Repeat the previous exercise for the *density-dependent* Lotka-Volterra model @eq-ddLV. Does this model do a better job mimicking the observations than the density-independent model? Why do you think that's the case? Which model do you prefer to use and why?\n",
        ":::\n",
        "\n",
        "::: {#tbl-ddLV-parms}\n",
        "| Symbol | Value | Units | Description |\n",
        "| - | - | - | :------- |\n",
        "| $t$ | - | $\\mathrm{yr}$ | Time unit used in the model |\n",
        "| $N$ | - | - | Prey population as number of individuals (state variable) |\n",
        "| $P$ | - | - | Predator population as number of individuals (state variable) |\n",
        "| $r$ | - | $\\mathrm{yr^{-1}}$ | Per capita growth rate of prey population |\n",
        "| $a$ | - | $\\mathrm{yr^{-1}}$ | Attack rate or predation rate |\n",
        "| $c$ | - | - | Conversion efficiency of an eaten prey into new predator; predator's reproduction efficiency per prey consumed) |\n",
        "| $m$ | - | $\\mathrm{yr^{-1}}$ | Mortality rate of predator population |\n",
        "| $K$ | - | - | Carrying capacity of the system for prey population |\n",
        "\n",
        "Density-dependent Lotka-Volterra model variables and parameters\n",
        ":::\n",
        "\n",
        "We can make a density-dependent version of the model `ddLV_predation` by reusing `LV_predation` as a mix-in. Note that base model `LV_predation` is indicated in the first line of arguments list of `@system` declaration, meaning declarations of variables for `LV_predation` are imported and available for `ddLV_predation`. That's why we only need to provide a change or difference in terms of variable declaration in the new model, leading to a much compact specification. Here declaration of prey population `N` is overwritten by a new statement with an additionally introduced parameter `K` for carrying capacity."
      ]
    },
    {
      "cell_type": "code",
      "metadata": {},
      "source": [
        "@system ddLV_predation(LV_predation, Controller) begin\n",
        "    N(N, P, K, r, a): prey_population => begin\n",
        "        r*N - r/K*N^2 - a*N*P\n",
        "    end ~ accumulate(init=N0)\n",
        "    \n",
        "    K: carrying_capacity ~ preserve(parameter)\n",
        "end"
      ],
      "execution_count": null,
      "outputs": []
    },
    {
      "cell_type": "code",
      "metadata": {
        "scrolled": true,
        "tags": []
      },
      "source": [
        "Cropbox.dependency(ddLV_predation)"
      ],
      "execution_count": null,
      "outputs": []
    },
    {
      "cell_type": "markdown",
      "metadata": {},
      "source": [
        "A hierarchy graph shows how `ddLV_predation` is based on `LV_predation` as a mix-in."
      ]
    },
    {
      "cell_type": "code",
      "metadata": {
        "tags": []
      },
      "source": [
        "Cropbox.hierarchy(ddLV_predation)"
      ],
      "execution_count": null,
      "outputs": []
    },
    {
      "cell_type": "markdown",
      "metadata": {},
      "source": [
        "Similarly to how a new system can be derived from existing ones, a new configuration can be also built by a collection of existing configruations in the form of `(A, B, C...)` where a new configuration is based on the existing configuration A, overlaid by B, then overlaid by C, and so on.\n",
        "\n",
        "Here we make a new configuration `lvddc` for `LotkaVolterraDD` based on `lvc` for `LotkaVolterra` with an additional parameter for carrying capacity `K`."
      ]
    },
    {
      "cell_type": "code",
      "metadata": {},
      "source": [
        "cddLV_p = @config (cLV_p,\n",
        "    :ddLV_predation => (;\n",
        "        K = 100,\n",
        "    ),\n",
        ");"
      ],
      "execution_count": null,
      "outputs": []
    },
    {
      "cell_type": "markdown",
      "metadata": {},
      "source": [
        "Let's run the simulation for `LotkaVolterraDD` and a new configuration `lvddc`."
      ]
    },
    {
      "cell_type": "code",
      "metadata": {},
      "source": [
        "visualize(ddLV_predation, :t, [:N, :P]; config=cddLV_p, stop=100u\"yr\", kind=:line);"
      ],
      "execution_count": null,
      "outputs": []
    },
    {
      "cell_type": "markdown",
      "metadata": {},
      "source": [
        "Does thismodel do a better job mimicking the observations than the density-independent model? Why do you think that’s the case? Which model do you prefer to use and why?\n",
        "\n",
        "## Competition\n",
        "\n",
        "Now imagine that there are populations of two species co-inhabiting an\n",
        "area with needs for similar resources in competition. These species\n",
        "could be crops and weeds competing for light, soil nutrients, water, and\n",
        "space or animals with similar niche and growth habits. We can apply the\n",
        "same model of density dependent population growth @eq-pop-logi for each species with parameter values potentially differing between species.\n",
        "\n",
        "One critical consideration to add to in this context is that the rate of\n",
        "population growth and fitness in one species ($N_1$) is influenced by\n",
        "the other species ($N_2$) in ways to limit each other's ability to reach\n",
        "its carrying capacity in the absence of competition ($K_1$ or $K_2$).\n",
        "The influence or effect of $N_2$ on $N_1$ is represented by $\\alpha$,\n",
        "and vice versa by $\\beta$. This model of interspecific competition is\n",
        "known as the Lotka and Volterra model for competition @eq-LV-compet and has been widely used in population\n",
        "ecology [@Edelstein2005; @Essington2021-Ch4]. The name of the model\n",
        "coined from the fact that Lotka and Volterra came up with this model for\n",
        "competition and published almost simultaneously. This model can be\n",
        "characterized as *phenomenological model* because it describes a\n",
        "system's behavior (or phenomenon) in a way that is reasonable and\n",
        "consistent with theory but is not founded on the mechanisms of\n",
        "underlying processes or derived from the theory. These models may be\n",
        "viewed as 'semi-empirical' models that are somewhere between empirical\n",
        "and mechanistic explanatory models. The L-V type competition models, as\n",
        "phenomenological models, have been criticized for their lack of\n",
        "mechanistic basis and led to development of process-based models that\n",
        "incorporate the resource capture mechanisms at the individual level\n",
        "($i-1$) [@MacArthur1970; @Tilman1987; @Chesson2018].\n",
        "\n",
        "$$\n",
        "\\begin{split}    \n",
        "    &\\frac{dN_1}{dt} = r_1N_1(1-\\frac{N_1+\\alpha N_2}{K_1}) = r_1 N_1(\\frac{K_1-N_1-\\alpha N_2}{K_1})\\\\\n",
        "    &\\frac{dN_2}{dt} = r_2N_2(1-\\frac{N_2+\\beta N_1}{K_2}) = r_2 N_2(\\frac{K_2-N_2-\\beta N_1}{K_2})\n",
        "\\end{split}\n",
        "$$ {#eq-LV-compet}\n",
        "\n",
        "Nevertheless, the L-V model of two species competition\n",
        "case provides useful insights for studying equilibrium states in ecology\n",
        "as well as mathematical and graphical techniques to explore their\n",
        "population dynamics. For more information about equilibrium states and\n",
        "graphical approach using isocline analysis, see\n",
        "[@Edelstein2005; @Essington2021-Ch4]. Isocline analyses can provide\n",
        "useful insights for understanding the behavior of population dynamics\n",
        "models.\n",
        "\n",
        "::: {#exr-LV-compet}\n",
        "### Lotka-Volterra competition model\n",
        "Create a system to implement the Lotka-Volterra\n",
        "competition model @eq-LV-compet using *Cropbox*. Using the parameter and\n",
        "initial values of your choice, simulate the population dynamics of two\n",
        "annual plant species (e.g., crop and weed) competing for spaces, light,\n",
        "water, and nutrients. Study the system behavior by experimenting with\n",
        "initial conditions and parameter values. Do you think the model\n",
        "demonstrate reasonable predictions that are consistent with your\n",
        "understanding of interspecific competition between two plant species?\n",
        ":::"
      ]
    },
    {
      "cell_type": "code",
      "metadata": {},
      "source": [
        "@system LV_competition(Controller) begin\n",
        "    t(context.clock.time) ~ track(u\"d\")\n",
        "    N1(r1, α, N1, N2, K1): sp1_population => r1*N1*(K1-N1-α*N2)/K1 ~ accumulate(init = N1_0)\n",
        "    N2(r2, β, N2, N1, K2): sp2_population => r2*N2*(K2-N2-β*N1)/K2 ~ accumulate(init = N2_0)\n",
        "    \n",
        "    N1_0: initial_sp1_population => 100 ~ preserve(parameter)\n",
        "    N2_0: initial_sp2_population => 20 ~ preserve(parameter)\n",
        "    \n",
        "    r1: RGR_sp1 => 0.15 ~ preserve(u\"d^-1\",parameter)\n",
        "    r2: RGR_sp2 => 0.2 ~ preserve(u\"d^-1\",parameter)\n",
        "    α: effect_of_sp2_on_sp1 => 0.5 ~preserve(parameter)\n",
        "    β: effect_of_sp1_on_sp2 => 0.2 ~preserve(parameter)\n",
        "    K1: carrying_capacity_sp1 => 200 ~ preserve(parameter)\n",
        "    K2: carrying_capacity_sp2 => 200 ~ preserve(parameter)\n",
        "end"
      ],
      "execution_count": null,
      "outputs": []
    },
    {
      "cell_type": "code",
      "metadata": {},
      "source": [
        "Cropbox.dependency(LV_competition)"
      ],
      "execution_count": null,
      "outputs": []
    },
    {
      "cell_type": "markdown",
      "metadata": {},
      "source": [
        "Here, we make a configuration for setting parameters for `LV_competition` system we've just made above. We'll use a daily time step."
      ]
    },
    {
      "cell_type": "code",
      "metadata": {
        "tags": []
      },
      "source": [
        "## Stable equillibrium\n",
        "cLV_c1 = @config (\n",
        "    :Clock => (;\n",
        "        step = 1u\"d\",\n",
        "    ),\n",
        "    :LV_competition => (;\n",
        "        r1 = 0.15, r2 = 0.2,\n",
        "        α = 0.5, β = 0.2,\n",
        "        K1 = 200, K2 = 200,\n",
        "        N1_0 = 100, N2_0 = 20,\n",
        "    ),\n",
        ");"
      ],
      "execution_count": null,
      "outputs": []
    },
    {
      "cell_type": "code",
      "metadata": {
        "tags": []
      },
      "source": [
        "visualize(LV_competition, :t, [:N1, :N2]; config=cLV_c1, stop=200u\"d\", kind=:line);"
      ],
      "execution_count": null,
      "outputs": []
    },
    {
      "cell_type": "code",
      "metadata": {
        "tags": []
      },
      "source": [
        "## Population 1 wins and population 2 dies out\n",
        "## Unstable equillibrium is the point at which two populations cross\n",
        "cLV_c2 = @config (\n",
        "    :Clock => (;\n",
        "        step = 1u\"d\",\n",
        "    ),\n",
        "    :LV_competition => (;\n",
        "        r1 = 0.1, r2 = 0.2,\n",
        "        α = 1.1, β = 1.2,\n",
        "        K1 = 100, K2 = 100,\n",
        "        N1_0 = 40, N2_0 = 50,\n",
        "    ),\n",
        ")\n",
        "visualize(LV_competition, :t, [:N1, :N2]; config=cLV_c2, stop=300u\"d\", kind=:line);"
      ],
      "execution_count": null,
      "outputs": []
    },
    {
      "cell_type": "markdown",
      "metadata": {},
      "source": [
        "### Equilibria and isocline analysis\n",
        "\n",
        "In popuplation models the concept of equilibrium is important. There may be stable and unstable equilibria for two species in competition to coexisit. For two populations, the isocline ananlysis can provide useful insights to understand the conditions that can lead to stable and unstable equilibria. See Essington (2021) Chapter 4 and Edelstein-Keshet (2005) Chapter 6 for more information. The figure below is borrowed from [Chapter 4 of Essington (2021)](https://doi.org/10.1093/oso/9780192843470.003.0004). It illustrates the X isocline (black line) signifying the population size that X population would move toward (horizontal arrows to grow or shrink) in relation to the size of Y population. The Y isocline (gray line) is for Y population to move toward in vertical direction. Multiple equilibria are identified in these figures: stable (filled circles) and unstable (open circles).\n",
        "\n",
        "::: {#fig-isoclines layout-ncol=2}\n",
        "\n",
        "![Stable coexistence](./figs/Essington-2021-Ch4-stable-isoclines.png){#fig-isocline-stable}\n",
        "\n",
        "![Unstable coexistence](./figs/Essington-2021-Ch4-unstable-isoclines.png){#fig-isocline-unstable}\n",
        "\n",
        "Isocline analysis of Lotka-Volterra competition model with differing parameterizations. Circles denote stable and unstable equillibria.\n",
        ":::\n",
        "\n",
        "### Models of plant competition\n",
        "\n",
        "The Lotka-Volterra population models are commonly used in studies of\n",
        "animal populations where counting individuals (or of their observations)\n",
        "in a population is the widespread method. However, this method of\n",
        "counting individuals is not very practical or appealing for studying\n",
        "plant populations. Instead, it makes more sense to estimate the biomass\n",
        "of plant populations than to count the number of individuals in crop\n",
        "field, grassland, or forests [@Crawley1990] while similar principles of\n",
        "population dynamics in animal systems can be applied. Because plants are\n",
        "sedentary, competition for light, water, and nutrients is implicated in\n",
        "their population dynamics, and this competition has been described by\n",
        "the -3/2 power rule, also known as the self-thinning rule (Ch 16 of\n",
        "[@Krebs1994; @Westoby1984; @Reynolds_Ford2005]). The self-thinning rule\n",
        "postulates that the relationship between plant biomass and plant density\n",
        "is represented by a theoretical line with a slope of -3/2 as a result of\n",
        "mortality, or self-thinning, from competition within the population of\n",
        "an even-aged trees [@Krebs1994; @Yoda1963; @Westoby1984].\n",
        "$$\n",
        "ln(\\bar m) = -\\frac{3}{2}ln(N) + K\n",
        "$${#eq-yoda-rule} \n",
        "\n",
        "Where $\\bar m$ represents plant\n",
        "biomass (g/plant), $N$ is plant density (plants per sqsuare meter), and\n",
        "$K$ is a parameter representing potential plant size at the intercept.\n",
        "The self-thinning rule highlights trade-offs between individual growth\n",
        "and population density [@Krebs1994]. However, many exceptions to this\n",
        "empirical relationship have been reported and models reflecting\n",
        "mechanistic understanding of self-thinning in plant competition ecology\n",
        "have been called for [See @Reynolds_Ford2005].\n",
        "\n",
        "::: {#fig-self-thining}\n",
        "<figure id=\"fig:self-thinning\">\n",
        "<p><span><img src=\"./figs/Self-thinning-Jack-1996.png\" style=\"width:70.0%\"\n",
        "alt=\"image\" /></span></p>\n",
        "<p>.</p>\n",
        "</figure>\n",
        "Schematic representation of the self-thinning rule and its concepts , Source:@Powell2000, @Jack1996\n",
        ":::\n",
        "\n",
        "In plant ecology, the Lotka-Volterra type competition models are deemed\n",
        "not very useful for describing competition among plants. Nonetheless, it\n",
        "has provided critical foundation for more mechanistic approaches that\n",
        "are applicable for modeling competition in plant communities\n",
        "[@MacArthur1970; @Tilman1987; @Chesson2018]. See [@Chesson2018] for\n",
        "recent advances in modeling plant competition based on modern\n",
        "coexistence theory.\n",
        "\n",
        "## Homework Problems {#sec-popdyn-hw}\n",
        "\n",
        "Please submit your response to all problems in a single Jupyter Notebook\n",
        "(.ipynb file) via Canvas in a week.\n",
        "\n",
        "In this problem, you will use the *density dependent*\n",
        "Lotka-Volterra predator-prey model @eq-ddLV to find the parameter combinations and initial conditions of state variables that satisfy the following\n",
        "scenarios of lynx-hare population dynamics for 100 years. Note that there could be multiple solutions.\n",
        "\n",
        "You need to show one set of parameter values and initial conditions that\n",
        "works for each case but do make sure to **provide plots showing both\n",
        "population changes, provide your own discussion and interpretation based\n",
        "on biological meaning of the parameter values and their ecological\n",
        "contexts**. See [@Edelstein2005] and [@Essington2021-Ch4] for\n",
        "theoretical background, analytical solutions, and relevant graphics.\n",
        "\n",
        "1.  Prey dies out *slowly*, then predator dies out.\n",
        "2.  Predator dies out and prey does not.\n",
        "3.  Both predator and prey populations oscillate during the period.\n",
        "4.  Both predator and prey populations stabilize over time to reach an\n",
        "    equilibrium.\n",
        "\n",
        "\n",
        "## Extras\n",
        ":::{#tip-hw-4 .callout-tip}\n",
        "### Homework Hints\n",
        "You can use the configuration we used for `ddLV-predation` model exercises. Try making a different set of parameters for simulating a desired behavior. You may find analytical approaches to solve these problems from the recommended readings. Note that the figures rendered below are just examples. You don't have to replicate them."
      ]
    },
    {
      "cell_type": "code",
      "metadata": {},
      "source": [
        "@config(cddLV_p);"
      ],
      "execution_count": null,
      "outputs": []
    },
    {
      "cell_type": "markdown",
      "metadata": {},
      "source": [
        "1. Prey dies out slowly, then predator dies out.\n",
        "![](./figs/HW23a.png)\n",
        "\n",
        "```julia\n",
        "HW1 = visualize(ddLV_predation, :t, [:N, :P]; config=(cddLV_p,\n",
        "    :ddLV_predation => (;\n",
        "            r = #= .. =#,\n",
        "            a = #= .. =#,\n",
        "            c = #= .. =#,\n",
        "            m = #= .. =#,\n",
        "            K = #= .. =#,\n",
        "            N0 = #= .. =#,\n",
        "            P0 = #= .. =#,\n",
        "    ),\n",
        "), stop=100u\"yr\", snap=100u\"d\",kind=:line)\n",
        "```\n",
        "\n",
        "2. Predator dies out and prey does not.\n",
        "![](./figs/HW23b.png)\n",
        "```julia\n",
        "HW2 = visualize(ddLV_predation, :t, [:N, :P]; config=(cddLV_p,\n",
        "    :ddLV_predation => (;\n",
        "            r = #= .. =#,\n",
        "            a = #= .. =#,\n",
        "            c = #= .. =#,\n",
        "            m = #= .. =#,\n",
        "            K = #= .. =#,\n",
        "            N0 = #= .. =#,\n",
        "            P0 = #= .. =#,\n",
        "    ),\n",
        "), stop=100u\"yr\", snap=100u\"d\", kind=:line)\n",
        "```\n",
        "\n",
        "3. Both predator and prey populations oscillate for the entire period.\n",
        "![](./figs/HW23c.png)\n",
        "```julia\n",
        "HW3 = visualize(ddLV_predation, :t, [:N, :P]; config=(cddLV_p,\n",
        "    :ddLV_predation => (;\n",
        "            r = #= .. =#,\n",
        "            a = #= .. =#,\n",
        "            c = #= .. =#,\n",
        "            m = #= .. =#,\n",
        "            K = #= .. =#,\n",
        "            N0 = #= .. =#,\n",
        "            P0 = #= .. =#,\n",
        "    ),\n",
        "), stop=100u\"yr\", snap=100u\"d\", kind=:line)\n",
        "```\n",
        "\n",
        "4. Both predator and prey populations stabilize over time to reach an equilibrium.\n",
        "![](./figs/HW23d.png)\n",
        "```julia\n",
        "HW4 = visualize(ddLV_predation, :t, [:N, :P]; config=(cddLV_p,\n",
        "    :ddLV_predation => (;\n",
        "            r = #= .. =#,\n",
        "            a = #= .. =#,\n",
        "            c = #= .. =#,\n",
        "            m = #= .. =#,\n",
        "            K = #= .. =#,\n",
        "            N0 = #= .. =#,\n",
        "            P0 = #= .. =#,\n",
        "    ),\n",
        "), stop=100u\"yr\", snap=100u\"d\", kind=:line)\n",
        "```\n",
        ":::\n",
        "\n",
        "\n",
        "::: {#tip-cropbox-1 .callout-tip}\n",
        "### Cropbox Internals\n",
        "\n",
        "Let's make an instance of `LotkaVolterraDD` system with configuration `lvddc`."
      ]
    },
    {
      "cell_type": "code",
      "metadata": {},
      "source": [
        "s = instance(ddLV_predation; config=cddLV_p)"
      ],
      "execution_count": null,
      "outputs": []
    },
    {
      "cell_type": "markdown",
      "metadata": {},
      "source": [
        "#### Alias\n",
        "\n",
        "We have two state variables `N` and `P` as kind of `accumulate`. Rate calculation for each variable looks almost same as mathematical equation. Note that `N` and `P` are short abbreviations for much longer names `prey_population` and `predator_population`. By giving a descriptive long alias to the variable while referring it with a short name, we can keep our model specification concise yet expressive enough."
      ]
    },
    {
      "cell_type": "code",
      "metadata": {},
      "source": [
        "s.N"
      ],
      "execution_count": null,
      "outputs": []
    },
    {
      "cell_type": "code",
      "metadata": {},
      "source": [
        "s.prey_population"
      ],
      "execution_count": null,
      "outputs": []
    },
    {
      "cell_type": "markdown",
      "metadata": {},
      "source": [
        "#### State vs. Value\n",
        "\n",
        "`s.prey_population` and `s.N` above point out to an instance of the exactly same state variable."
      ]
    },
    {
      "cell_type": "code",
      "metadata": {},
      "source": [
        "s.prey_population === s.N"
      ],
      "execution_count": null,
      "outputs": []
    },
    {
      "cell_type": "markdown",
      "metadata": {},
      "source": [
        "Note that what they return is not an actual value stored in the state variable, but the data structure (of type `State`) itself. We can get the type of variable with `typeof()` function provided by Julia."
      ]
    },
    {
      "cell_type": "code",
      "metadata": {},
      "source": [
        "typeof(s.N)"
      ],
      "execution_count": null,
      "outputs": []
    },
    {
      "cell_type": "markdown",
      "metadata": {},
      "source": [
        "To get an actual value stored in the state variable, we can use `Cropbox.value()` function."
      ]
    },
    {
      "cell_type": "code",
      "metadata": {},
      "source": [
        "value(s.N)"
      ],
      "execution_count": null,
      "outputs": []
    },
    {
      "cell_type": "markdown",
      "metadata": {},
      "source": [
        "Alternatively, we can also use postfix adjoint operator `'` or dereference operator `[]` which is specifically defined as a shortcut to `Cropbox.value()` in the case of `State` type."
      ]
    },
    {
      "cell_type": "code",
      "metadata": {},
      "source": [
        "s.N'"
      ],
      "execution_count": null,
      "outputs": []
    },
    {
      "cell_type": "code",
      "metadata": {},
      "source": [
        "typeof(s.N')"
      ],
      "execution_count": null,
      "outputs": []
    },
    {
      "cell_type": "code",
      "metadata": {},
      "source": [
        "s.N[]"
      ],
      "execution_count": null,
      "outputs": []
    },
    {
      "cell_type": "code",
      "metadata": {},
      "source": [
        "typeof(s.N[])"
      ],
      "execution_count": null,
      "outputs": []
    },
    {
      "cell_type": "markdown",
      "metadata": {},
      "source": [
        "#### Units\n",
        "\n",
        "Note that we defined units for rate parameters `a`, `b`, and `c`. `u\"..\"` is a string format used by [Unitful.jl](https://github.com/PainterQubits/Unitful.jl) package which provides unit conversion functionality for our framework."
      ]
    },
    {
      "cell_type": "code",
      "metadata": {
        "scrolled": true
      },
      "source": [
        "u\"yr^-1\""
      ],
      "execution_count": null,
      "outputs": []
    },
    {
      "cell_type": "markdown",
      "metadata": {},
      "source": [
        "`u\"yr^-1\"` tag in our model specification is actually a shorthand notation for `unit=u\"yr^-1\"`. For example, `a ~ preserve(u\"m\")` expands to `a ~ preserve(unit=u\"m\")`.\n",
        "\n",
        "By default, time variables used by Cropbox framework are defined in an hourly unit (`u\"hr\"`).\n",
        "For simulation, you can still choose whichever time step you'd like to use by changing `step` parameter of `Clock` in `Context`.\n",
        "\n",
        "You should be cautious when using some larger time units like month and year. `1 yr` is defined to be `365.25 d` following the [convention](https://github.com/PainterQubits/Unitful.jl/pull/288) used in Astronomy. There is no unit for month due to ambiguity.\n",
        "\n",
        "We can check the unit of state variable or its value with `Cropbox.unittype()`."
      ]
    },
    {
      "cell_type": "code",
      "metadata": {
        "scrolled": true
      },
      "source": [
        "s.a"
      ],
      "execution_count": null,
      "outputs": []
    },
    {
      "cell_type": "code",
      "metadata": {
        "scrolled": true
      },
      "source": [
        "Cropbox.unittype(s.a)"
      ],
      "execution_count": null,
      "outputs": []
    },
    {
      "cell_type": "code",
      "metadata": {},
      "source": [
        "Cropbox.unittype(s.a')"
      ],
      "execution_count": null,
      "outputs": []
    },
    {
      "cell_type": "markdown",
      "metadata": {},
      "source": [
        "#### Parameter\n",
        "\n",
        "We can look up a list of default parameters declared for a given system by calling `parameters()`."
      ]
    },
    {
      "cell_type": "code",
      "metadata": {},
      "source": [
        "parameters(ddLV_predation)"
      ],
      "execution_count": null,
      "outputs": []
    },
    {
      "cell_type": "markdown",
      "metadata": {},
      "source": [
        "Since `ddLV_predation` had no default parameter values declared in the model itself, let's instead take a look at `LV_competition` system."
      ]
    },
    {
      "cell_type": "code",
      "metadata": {},
      "source": [
        "parameters(LV_competition)"
      ],
      "execution_count": null,
      "outputs": []
    },
    {
      "cell_type": "markdown",
      "metadata": {},
      "source": [
        "If you prefer long descriptive names, set `alias=true`."
      ]
    },
    {
      "cell_type": "code",
      "metadata": {},
      "source": [
        "parameters(LV_competition, alias=true)"
      ],
      "execution_count": null,
      "outputs": []
    },
    {
      "cell_type": "markdown",
      "metadata": {},
      "source": [
        "It also accepts `recursive` to look up other systems referred in the target system. For example, every system has `Context` which contains `Clock` and all of their parameters can be retrieved as below."
      ]
    },
    {
      "cell_type": "code",
      "metadata": {},
      "source": [
        "parameters(LV_competition, recursive=true)"
      ],
      "execution_count": null,
      "outputs": []
    },
    {
      "cell_type": "markdown",
      "metadata": {},
      "source": [
        ":::\n"
      ]
    }
  ],
  "metadata": {
    "kernelspec": {
      "name": "julia-1.11",
      "language": "julia",
      "display_name": "Julia 1.11.6",
      "path": "/Users/soohkim/Library/Jupyter/kernels/julia-1.11"
    }
  },
  "nbformat": 4,
  "nbformat_minor": 4
}
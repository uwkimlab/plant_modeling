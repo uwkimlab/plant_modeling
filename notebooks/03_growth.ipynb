{
  "cells": [
    {
      "cell_type": "markdown",
      "metadata": {},
      "source": [
        "# Growth functions {#sec-growth}\n",
        "\n",
        "## Overview {#sec-growth-obj .unnumbered}\n",
        "\n",
        "We review various growth functions and their applications for modeling plant growth.\n",
        "\n",
        "By the end of this chapter, you will be able to 1) formulate dynamic plant growth models, 2) implement various growth models into computer models in Julia using *Cropbox*, 3) visualize model outcomes, and 4) evaluate model behavior.\n",
        "\n",
        "## Readings {.unnumbered}\n",
        "\n",
        "- (**required**) @Thornley2000 Chapter 3: Plant growth functions\n",
        "- (recommended) @Yin2003: A flexible sigmoid function of determinate growth\n",
        "- (recommended) @Paine2012: A comparative overview of plant growth analysis\n",
        "\n",
        "## Questions {.unnumbered}\n",
        "\n",
        "1.  The relative growth rate (RGR) in the form of @eq-exp-DE and @eq-semilog-exp shown below is often used in plant growth analysis. What are the pros and cons of using this approach for analyzing plant growth over time? @Paine2012 delves further into this issue as it relates to ecological research.\n",
        "\n",
        "2.  How many parameters are there in the logistic equation @eq-logistic shown below? What are the biological meaning of each parameter when used for modeling single-plant growth and what determines their values? What will be their units?\n",
        "\n",
        "\n",
        "## Simple growth models\n",
        "\n",
        "A plant grows as it accumulates biomass ($W$) over time driven primarily by photosynthesis. This process can be expressed generically as\n",
        "$W=f(t)$. Many different growth functions are available to describe the\n",
        "growth patterns of plants, animals, and other organisms as an individual\n",
        "or in populations. While widely used and considered useful, most of\n",
        "these growth functions are empirical models unless they are founded in\n",
        "underlying mechanisms and sub-processes (e.g., cell, tissue, or organ\n",
        "growth). [@Thornley2000] proposes two criteria for a growth function to\n",
        "be used in plant and crop modeling: 1) it should be derived from a\n",
        "differential equation for $dW/dt$, and 2) the parameters should be\n",
        "biologically meaningful.\n",
        "\n",
        "### Exponential growth\n",
        "\n",
        "The most basic form is the simple exponential growth model which has\n",
        "been widely used in plant physiology and ecology for classical plant\n",
        "growth analysis [@Hunt2002; @Paine2012]:\n",
        "\n",
        "$$ \n",
        "\\frac{dW}{dt} = rW\n",
        "$$ {#eq-exp-DE}\n",
        "\n",
        "where $r$ is the relative (or specific) growth rate (RGR) that\n",
        "represents the proportion of new growth over existing biomass ($W$) as\n",
        "dry mass (gram). Rearranging and integrating Eqn\n",
        "@eq-exp-DE gives @eq-exp-growth:\n",
        "\n",
        "$$\n",
        "\\begin{gathered}\n",
        "    \\int_{W_0}^{W}{\\frac{1}{W}}\\cdot dW = \\int_{0}^{t}{r}\\cdot  dt \\Rightarrow \\ln{W} - \\ln{W_0} = \\ln{\\frac{W}{W_0}} = r\\cdot t \\nonumber \\\\\n",
        "    \\therefore  W = W_0 \\cdot e^{rt}\n",
        "\\end{gathered}\n",
        "$$ {#eq-exp-growth}\n",
        "\n",
        "$W_0$ represents the initial biomass (e.g., seed weight). $W$ is the\n",
        "biomass at time $t$. In the classical growth analysis the RGR ($r$) is\n",
        "estimated by the linear slope of the semi-logarithmic relationship based\n",
        "on biomass measurements made at two different time points (e.g., initial\n",
        "and final biomass) shown in\n",
        "@eq-semilog-exp.\n",
        "\n",
        "$$\n",
        "\\begin{split}\n",
        "    &\\ln{W_2} = \\ln{W_1} + r\\Delta t \\\\\n",
        "    &\\therefore r = \\frac{\\ln{W_2}-\\ln{W_1}}{t_2-t_1}\n",
        "\\end{split}\n",
        "$$ {#eq-semilog-exp}\n",
        "\n",
        "While useful in practice, the assumption that a plant or its population\n",
        "will grow exponentially throughout their growing period is problematic.\n",
        "An exponential growth is only true during early stage, and is often\n",
        "followed by a linear then a saturation phase to cease the growth. This\n",
        "sigmoidal growth pattern is more realistic and physiologically sound.\n",
        "\n",
        "In @sec-intro, we've estimated the absolute growth rate (AGR; $\\mathrm{m \\cdot yr^{-1}}$) of Douglas-fir saplings grown in Marin County, CA in the first few decades of their life based on a figure from @Porzig2014. \n",
        "\n",
        "::: {#tbl-DF-height}\n",
        "| Year | Height (m)\n",
        "| :- | :- |\n",
        "| 1985 | 1.68 |\n",
        "| 1995 | 2.56 |\n",
        "| 2005 | 6.99 |\n",
        "\n",
        "  : Douglas-Fir height growth over two decades in Marin County, CA. Data\n",
        "  from [@Porzig2014]\n",
        ":::\n",
        "\n",
        "::: {#exr-DF-exp}\n",
        "### Douglas-fir exponental growth phase\n",
        "\n",
        "In the previous chapter, we've estimated the absolute growth rate (AGR; m ^−1^) of Douglas-Fir saplings grown in Marin County, CA in the\n",
        "first few decades of their life based on a figure from [@Porzig2014](@exr-DF-early-growth).\n",
        "\n",
        "@tbl-DF-height provides mean tree heights over\n",
        "20 year period with 10 year intervals. Calculate the relative growth\n",
        "rate (RGR; $r$) for each 10 year period (i.e., 1985 - 1995 and 1995 -\n",
        "2005) and over the entire 20 year period (1985 - 2005), and compare\n",
        "their values. These trees are in relatively early stage of their growth.\n",
        "Do you think the exponential growth model does a good job of describing\n",
        "their growth pattern? How do RGRs from this problem compare with the AGR\n",
        "from @exr-DF-early-growth in @sec-intro? What are their units?\n",
        ":::\n",
        "\n",
        ":::{#nte-symbol-H .callout-note appearance=\"simple\"}\n",
        "For Douglas-fir height growth example, we use symbol $H$ to represent *height* instead of $W$ which is commonly used to represent *biomass*.\n",
        ":::\n",
        "Exact age of the trees when the measurements were made was unknown. But the mean initial height ($H_0$) of the trees was 1.42m in 1983 when the first measurements were made. We will create a function called `r` to calculate RGR using the semi-log function for Douglas-fir height data. Note that we are ignoring units here but an important feature of `Cropbox` is the accounting of all units used in the model. We will revisit this later.\n",
        "\n",
        "::: {#lst-DF-RGR}"
      ]
    },
    {
      "cell_type": "code",
      "execution_count": null,
      "metadata": {},
      "outputs": [],
      "source": [
        "#| output: false\n",
        "r(t1, t2; H1, H2) = (log(H2)-log(H1))/(t2-t1)"
      ]
    },
    {
      "cell_type": "code",
      "execution_count": null,
      "metadata": {},
      "outputs": [],
      "source": [
        "#| output: false\n",
        "r(1985,2005; H1 = 1.68, H2 = 6.99)"
      ]
    },
    {
      "cell_type": "code",
      "execution_count": null,
      "metadata": {},
      "outputs": [],
      "source": [
        "using Cropbox, CSV, DataFrames"
      ]
    },
    {
      "cell_type": "code",
      "execution_count": null,
      "metadata": {},
      "outputs": [],
      "source": [
        "#| output: false\n",
        "@system DF_exp(Controller) begin\n",
        "    H0      => 1.42  ~ preserve\n",
        "    r       => 0.071  ~ preserve(parameter)\n",
        "    H(r,H)  => r*H   ~ accumulate(init = H0)\n",
        "    yr      => 1     ~ accumulate(init = 1983)\n",
        "end"
      ]
    },
    {
      "cell_type": "code",
      "execution_count": null,
      "metadata": {},
      "outputs": [],
      "source": [
        "#| output: false\n",
        "visualize(DF_exp, :yr, :H; stop = 27, kind = :line)"
      ]
    },
    {
      "cell_type": "code",
      "execution_count": null,
      "metadata": {},
      "outputs": [],
      "source": [
        "#| output: false\n",
        "DF_obs = CSV.read(\"./data/PSME-height.csv\", DataFrame) |> unitfy; \n",
        "# keeping the correct unit is a key in Cropbox. We will talk more about this."
      ]
    },
    {
      "cell_type": "code",
      "execution_count": null,
      "metadata": {},
      "outputs": [],
      "source": [
        "#| output: false\n",
        "p = visualize(DF_obs, :year, :height; )\n",
        "visualize!(p, DF_exp, :yr, :H; stop=27, kind = :line)"
      ]
    },
    {
      "cell_type": "markdown",
      "metadata": {},
      "source": [
        "Douglas-fir early height growth\n",
        ":::\n",
        "\n",
        "Here we've overlaid the digitized data with our model. How did did the model do? How does it compare with the linear model we worked in the previous chapter? Which model would you choose to use and why?\n",
        "\n",
        "### Logistic growth\n",
        "\n",
        "One of the most widely used growth models is the logistsic function for its intuitive parameters that are relatable to biological traits and ecological concepts. For example, if we assume that a plant grows through cell division and expansion at a rate proportional to the existing cells and their biomass with little to no physical or physiological limitations, the early growth rate is likely to resemble that of the exponential growth growth. However, as the plant grows bigger and taller the growth rate will slow down. This may be because the plant is approaching its ceiling for height and biomass that's controlled by genetic, physiological, or physcal limits (e.g., potential biomass, $W_f$; maximal height, $H_f$). The logistic function provides a useful mathematical formula to describe this growth pattern. The plant height growth may be written as\n",
        "\n",
        "\n",
        "$$\n",
        "\\frac{dH}{dt} = rW(1-\\frac{W}{W_f}) = rW(\\frac{W_f-W}{W_f})\n",
        "$$ {#eq-logi-DE}\n",
        "\n",
        "$r$ here represents the relative growth rate, as in @eq-exp-DE, but it is strictly applicable to the exponential phase only that is not realized in any other growth phase. Biomass is represented by $W$, final (or potential) biomass by $W_f$, and initial biomass by $W_0$. If the final (or potential) biomass ($W_f$) is known, the rate of growth would slow down as the biomass ($W$) approaches $W_f$.\n",
        "\n",
        "@eq-logi-DE can be integrated to give:\n",
        "\n",
        "$$\n",
        "\\begin{split}\n",
        "    W &= \\frac{W_0 W_f}{W_0 + (W_f-W_0)~e^{-rt}} = \\frac{W_f}{1 + (\\frac{W_f}{W_0}-1)~e^{-rt}}\n",
        "\\end{split}\n",
        "$$ {#eq-logistic}\n",
        "\n",
        "\n",
        "There are a few variants of the integral form of the logistic equation.\n",
        "Two of them are shown in\n",
        "@eq-logistic. The logistic function is more likely\n",
        "to represent how a plant grows and reaches its final size than the\n",
        "exponential function, and works particularly well for many annual\n",
        "plants.\n",
        "\n",
        "![Douglas-fir height (a) and height growth rate (b) over 200 years.\n",
        "Source: [@Bond2007]](./figs/Bond-2007-fig1-DF_height.png){#fig-Bond-DF-growth\n",
        "width=\"60%\"}\n",
        "\n",
        "::: {#exr-DF-logistic}\n",
        "@Bond2007 illustrated that a Douglas-Fir tree can\n",
        "grow up to 70m in height when mature (@fig-Bond-DF-growth) but their final height will depend on the site quality. With this information, let's do the following:\n",
        "\n",
        "$$\n",
        "\\frac{dH}{dt} = rH(1-\\frac{H}{H_f}) = rH(\\frac{H_f-H}{H_f})\n",
        "$${#eq-logi-DE-H}\n",
        "\n",
        "Where $H$ represents tree height, $H_f$ is final (or potential) height, and $H_0$ is initial height.\n",
        "\n",
        "1.  Create a `Cropbox` system that simulates Douglas-Fir tree growth at a high quality site over 200 years using the logistic differential equation (@eq-logi-DE-H)\n",
        "\n",
        "2.  Recreate Figure 2.1a for high quality site\n",
        "\n",
        "3.  Recreate Figure 2.1b for high quality site\n",
        "\n",
        "4.  Compare your results with the original figures and discuss. How would you grade this model's performance to describe Douglas-fir growth and why?\n",
        ":::\n",
        "\n",
        ":::{#lst-df-logistic}"
      ]
    },
    {
      "cell_type": "code",
      "execution_count": null,
      "metadata": {},
      "outputs": [],
      "source": [
        "#| output: false\n",
        "@system DF_logi(Controller) begin\n",
        "    H0         => 1.42               ~ preserve\n",
        "    r          => 0.07               ~ preserve(parameter)\n",
        "    Hf         => 70.0               ~ preserve(parameter)\n",
        "    H(r,H,Hf)  => r*H*(1.0 - H/Hf)   ~ accumulate(init = H0)\n",
        "    yr         => 1                  ~ accumulate(init = 1983)\n",
        "    dH(r,H,Hf) => r*H*(1.0 - H/Hf)   ~ capture \n",
        "    # This \"state verb\" or command captures the changes occuring at each time step\n",
        "end"
      ]
    },
    {
      "cell_type": "code",
      "execution_count": null,
      "metadata": {},
      "outputs": [],
      "source": [
        "#| output: false\n",
        "p = visualize([DF_logi], :time, :H; stop=200, kind = :line)"
      ]
    },
    {
      "cell_type": "code",
      "execution_count": null,
      "metadata": {},
      "outputs": [],
      "source": [
        "#| output: false\n",
        "p = visualize([DF_logi], :H, :dH; stop=200, kind = :line)"
      ]
    },
    {
      "cell_type": "markdown",
      "metadata": {},
      "source": [
        "Doulas-fir logistic height growth\n",
        ":::\n",
        "\n",
        "### Gompertz function\n",
        "\n",
        "The growth of a plant will slow down if its efficiency of synthesising new tissue declines (or inefficiency increases) even if the resources are non-limiting. For example, a very tall tree may slow down its height growth because of the physical constraints (i.e. reduced transport efficiency) it is facing in getting the resources (e.g., water) to where they are needed - the meristems, even if it is physiologically young and active and the resources like water and nitrogen are abundant in the soil. This transport inefficiency increases over time as the tree gets taller. As a result of this constraint, the growth efficiency (RGR) declines correspondingly over time. This case can be expressed as:\n",
        "\n",
        "$$\n",
        "\\begin{split}\n",
        "    &\\frac{dW}{dt} = rW \\\\\n",
        "    &\\frac{dr}{dt} = -{\\alpha}r\n",
        "\\end{split}\n",
        "$${#eq-gompertz-de}\n",
        "\n",
        "where $W$ represents biomass, $r$ is the relative growth rate or\n",
        "specific growth rate, and $\\alpha$ is the decay rate of growth\n",
        "efficiency over time. This set of differential equations can be\n",
        "integrated into what is known as the Gompertz equation. The Gompertz\n",
        "growth model is a popular choice for modeling tumor growth in oncology\n",
        "by assuming that the growth rate declines as the cell mass multiplies\n",
        "[@MathBiol].\n",
        "\n",
        "$$\n",
        "W=W_0\\exp{\\left[\\frac{r_0}{\\alpha}(1-e^{-\\alpha{t}})\\right]}\n",
        "$${#eq-gompertz}\n",
        "\n",
        "The flexibility of the Gompertz function is remarkable [@Thornley2007]\n",
        "because the final output can vary depending on how the growth conditions\n",
        "influence $r$ and $\\alpha$ in the differential form of the equation.\n",
        "However, a problem is that the growth rate begins to decline immediately\n",
        "at $t$ = 0 while in most organisms the onset of this decline or ageing\n",
        "may be delayed until later in the life stages. The flexible open form of\n",
        "the equation @eq-gompertz-de could allow for remedying this situation.\n",
        "\n",
        "::: {#exr-Gompertz}\n",
        "### The Gompertz model\n",
        "Using `Cropbox` framework, create systems that implement 1) differential and 2) integral forms of the Gompertz function. \n",
        "\n",
        "1. Simulate both forms of the model for 300 days using daily steps starting with the parameter values provided in @tbl-logi-parms. Adjust parameters as needed to approximat the model behavior to mimic the logistic growth. Plot and compare their results. \n",
        "\n",
        "2. Run the differential form of the models to run on daily time step, every 12 hours, every hour, and every minute, compare the results, and discuss why there are differences.\n",
        ":::\n",
        "\n",
        "## Parameters and variables\n",
        "\n",
        "Now let's think about the parameters and variables of the logistic growth model (@eq-logistic). What is the state variable? How many parameters are there? Do the parameters have biological meaning? Are they measurable, observable, or at least imaginable? $W$ is the plant biomass (dry mass in gram) whose state changes over time as plant grows. Thus, it is a *state variable* of this model. $W_0$ is the initial biomass that can be determined by measuring seed mass (g). It has clear meaning and unit, and can be assumed to remain the same for a species or cultivar; it is a *parameter* in this model system. How about $r$ defined previously as 'relative growth rate'? It is likely to remain unchanged for the same plant or genotype (e.g., clone, cultivar, species) can be characterized by its genetics. It will be influenced by its environment but if we assume a constant environment, then it is a unique value for the plant that doesn't change over time. So, it's another *parameter* here. How can we determine the value of $r$? This is where calibration or model fitting comes in to play a role. Note that the actual rate of growth as *rate* represented by $dW/dt$ is not identical to $r$ because it slows down over time as the plant reaches its final size or biomass ($W_f$). The final biomass $W_f$ is an interesting *parameter* that may or may not be easily determined. If it is used to represent the potential biomass of a plant that can be reached only in an optimal growth condition with unlimited resources, then it should signify the genetic ceiling of the plant. How do we measure that in practice or can we ever? In practice, we can determine the values of these parameters ($W_0, r, W_f$) through *model calibration* process using some sort of optimization techniques especially if we have sufficient observational data over a wide range of plants' growth stages. Therefore, it is often useful to have observations spread over time than having more observations concentrated only on few time points. For example, if you have limited time and resources to make only 100 observations, then having 5 reps over 20 time points will work better for calibrating (i.e., fitting) the model to estimate parameter values than having 20 reps over 5 times or 50 reps over only 2 times. This is even more true if a model is complex with many parameters to fit. Whether or not the observations we have best represent the true meaning of the model parameters is something to think about. See@Paine2012 for further discussion.\n",
        "\n",
        "See @tbl-logi-parms for summary of model parameters mentioned in this discussion. For additional features and analysis of this equation and other growth functions, see Ch 3 of @Thornley2000. The Gompertz, Chanter, and Richards equations are other growth functions depicting the sigmoidal growth patterns with biologically meaningful parameters, representing different assumptions and constraints of growth. See Ch 3 of @Thornley2000 for details. Another interesting growth function is one derived from the beta distribution model @Yin2003.\n",
        "\n",
        "\n",
        "::: {#tbl-logi-parms}\n",
        "| Symbol | Value | Units | Description |\n",
        "| :- | :- | :- | :- |\n",
        "| $t$ | - | $\\mathrm{d}$ | Time unit used in the model |\n",
        "| $r$ | 0.05 | $\\mathrm{g}$ $\\mathrm{g^{-1}}$ $\\mathrm{d^{-1}}$ | Relative (or specific or intrinsic) growth rate |\n",
        "| $W_0$ | 0.25 | $\\mathrm{g}$ | Seed mass or initial biomass |\n",
        "| $W_f$ | 300 | $\\mathrm{g}$ | Potential final mass of a plant |\n",
        "| $W$ | - | $\\mathrm{g}$ | Whole-plant biomass as dry matter (state variable) |\n",
        "\n",
        "Logistic model variables and parameters for an annual crop biomass accumulation\n",
        ":::\n",
        "\n",
        "::: {#exr-corn-logistic}\n",
        "### Logistic growth of an annual crop\n",
        "\n",
        "Implement the logistic growth function in to two different systems using *Cropbox* to describe the growth of a productive annual crop such as corn or sorghum: 1) logistic differential equation @eq-logi-DE and 2) analytical solution @eq-logistic. Applying the parameter and initial values in @tbl-logi-parms, simulate both forms of the logistic model for 300 days on *daily time step*. Plot to overlay the two forms of the model in one figure and compare the results. Before running simulations, predict if you expect the results from both models to be identical, and discuss why or why not. Did your simulations support your predictions? Why or why not? Test the behavior of the model with respect to its parameter values.\n",
        ":::\n",
        "\n",
        "Here is the model specification of @eq-logi-DE implemented on Cropbox framework for @exr-corn-logistic. See how variables and parameters are declared each line with state verbs (`track`, `preserve`, `accumulate`) and tags (*i.e.* `parameter`, `init`, `u\"..\"`).\n",
        "\n",
        "- Time variable `t` is set to `track` internal time variable (`context.clock.tick`) in the unit of `d` (day) which is a conversion from default `hr` (hour).\n",
        "- Parameters `r`, `W0`, `Wf` are set to `preserve` their initial values which are declared in the body. They are tagged `parameter` indicating their values may be replaced by configuration when running simulations.\n",
        "- As the state variable `W` is defined as a form of derivative ($\\frac{dW}{dt}$), we want to integrate its value over time. As Cropbox is essentially a discrete-time modeling framework, what we do here is `accumulate` (summing up) instead of integration over continous time."
      ]
    },
    {
      "cell_type": "code",
      "execution_count": null,
      "metadata": {},
      "outputs": [],
      "source": [
        "#| output: false\n",
        "@system crop_diff(Controller) begin\n",
        "    t(context.clock.tick) ~ track(u\"d\")\n",
        "    \n",
        "    r: relative_growth_rate => 0.05 ~ preserve(u\"g/g/d\", parameter)\n",
        "    W0: initial_biomass => 0.25 ~ preserve(u\"g\", parameter)\n",
        "    Wf: potential_final_biomass => 300 ~ preserve(u\"g\", parameter)\n",
        "    \n",
        "    W(r, W, Wf): biomass => begin\n",
        "        r * W * (Wf - W) / Wf\n",
        "    end ~ accumulate(u\"g\", init=W0)\n",
        "end"
      ]
    },
    {
      "cell_type": "markdown",
      "metadata": {},
      "source": [
        "`simulate(<System>; ..)` function make an instance of the model system and run simulation until `stop` condition is met. Here we use `300u\"d\"` as a stop condition which indicates the simulation should run for 300 days. The output of `simulate()` is a table-like DataFrame with columns from variables specified in the model."
      ]
    },
    {
      "cell_type": "code",
      "execution_count": null,
      "metadata": {},
      "outputs": [],
      "source": [
        "#| output: false\n",
        "r1 = simulate(crop_diff; stop=300u\"d\")"
      ]
    },
    {
      "cell_type": "markdown",
      "metadata": {},
      "source": [
        "We can draw a graph with `plot(<DataFrame>, <x>, <y>; ..)` function with the DataFrame output. By default, `kind` option is set to `:scatter` which could be inefficient to plot too many data points, so we instead decided to use `:line` to draw a line plot."
      ]
    },
    {
      "cell_type": "code",
      "execution_count": null,
      "metadata": {},
      "outputs": [],
      "source": [
        "#| output: false\n",
        "plot(r1, :t, :W; kind=:line)"
      ]
    },
    {
      "cell_type": "markdown",
      "metadata": {},
      "source": [
        "::: {#tip-clock .callout-tip}\n",
        "### **Cropbox**: `Clock` and `config`\n",
        "\n",
        "Note that models in `Cropbox` have a default clock set in hourly time step (`context.clock.step`). We may change the time step by providing a user configuration. Configuration is in a two-level mapping like `<System> => <Variable> => <Value>`. Cropbox supports many different ways of constructing construction and one simple way is to use a pair of pair."
      ]
    },
    {
      "cell_type": "code",
      "execution_count": null,
      "metadata": {},
      "outputs": [],
      "source": [
        "#| output: false\n",
        "c = :Clock => :step => 1u\"d\""
      ]
    },
    {
      "cell_type": "markdown",
      "metadata": {},
      "source": [
        "Here we make a configuration `c` for system `Clock` and want to have its variable `step` to be `1u\"d\"` (1 day). We can take a look at how this pair of pair structure transformed into an actual instance of configuration by calling `configure()` or `@config`.\n"
      ]
    },
    {
      "cell_type": "code",
      "execution_count": null,
      "metadata": {},
      "outputs": [],
      "source": [
        "#| output: false\n",
        "@config(c)"
      ]
    },
    {
      "cell_type": "markdown",
      "metadata": {},
      "source": [
        "Now we re-run the simulation with the custom configuration `c` for daily time step."
      ]
    },
    {
      "cell_type": "code",
      "execution_count": null,
      "metadata": {},
      "outputs": [],
      "source": [
        "#| output: false\n",
        "r1 = simulate(crop_diff; config=c, stop=300u\"d\")"
      ]
    },
    {
      "cell_type": "code",
      "execution_count": null,
      "metadata": {},
      "outputs": [],
      "source": [
        "#| output: false\n",
        "plot(r1, :t, :W; kind=:line)"
      ]
    },
    {
      "cell_type": "markdown",
      "metadata": {},
      "source": [
        ":::\n",
        "\n",
        "Specification of the system for analytical solution (@eq-logistic) looks very similar to the differential form (@eq-logi-DE) except the state variable `W` is already in the form of integral, not a derivative. Thus, what we need to do is just to make sure re-calculate `W` to `track` its value every time step instead of accumulation / integration."
      ]
    },
    {
      "cell_type": "code",
      "execution_count": null,
      "metadata": {},
      "outputs": [],
      "source": [
        "#| output: false\n",
        "@system crop_sln(Controller) begin\n",
        "    t(context.clock.tick) ~ track(u\"d\")\n",
        "    \n",
        "    r: relative_growth_rate => 0.05  ~ preserve(u\"g/g/d\", parameter)\n",
        "    W0: initial_biomass => 0.25 ~ preserve(u\"g\", parameter)\n",
        "    Wf: potential_final_biomass => 300 ~ preserve(u\"g\", parameter)\n",
        "    \n",
        "    W(r, W0, Wf, t): biomass => begin\n",
        "        Wf / (1 + (Wf/W0 - 1)* exp(-r*t))\n",
        "    end ~ track(u\"g\")\n",
        "end"
      ]
    },
    {
      "cell_type": "code",
      "execution_count": null,
      "metadata": {},
      "outputs": [],
      "source": [
        "#| output: false\n",
        "r2 = simulate(crop_sln; config=c, stop = 300u\"d\")"
      ]
    },
    {
      "cell_type": "code",
      "execution_count": null,
      "metadata": {},
      "outputs": [],
      "source": [
        "#| output: false\n",
        "plot(r2, :t, :W; kind=:line)"
      ]
    },
    {
      "cell_type": "markdown",
      "metadata": {},
      "source": [
        ":::{#tip-overlay .callout-tip}\n",
        "### Cropbox: Plot overlay\n",
        "\n",
        "We can overlay multiple plots with consecutive calls of `plot!(<Plot>, ...)` with a Plot object returned by previous `plot()` or `plot!()` function."
      ]
    },
    {
      "cell_type": "code",
      "execution_count": null,
      "metadata": {},
      "outputs": [],
      "source": [
        "#| output: false\n",
        "p = plot(r1, :t, :W; kind=:line, name=\"Differential Equation\")\n",
        "plot!(p, r2, :t, :W; kind=:line, name=\"Analytica Solution\")"
      ]
    },
    {
      "cell_type": "markdown",
      "metadata": {},
      "source": [
        "Cropbox also provides some high-level plotting functions to make a plot without manually running simulations first. One form of `visualize()` function supports `visualize([<System>..], <x>, <y>; <simulate() options>.., <plot() options..>)` to make an overlay plot in one line.\n"
      ]
    },
    {
      "cell_type": "code",
      "execution_count": null,
      "metadata": {},
      "outputs": [],
      "source": [
        "#| output: false\n",
        "visualize([crop_diff, crop_sln], :t, :W; config=c, stop=300u\"d\", kind=:line)"
      ]
    },
    {
      "cell_type": "markdown",
      "metadata": {},
      "source": [
        "You may notice a small difference between two implementations of logistic growth models. Answer the question above and discuss with others.\n",
        ":::\n",
        "\n",
        "## Homework Problems {#sec-growth-hw}\n",
        "Submit your response to all problems in a single Jupyter Notebook\n",
        "(.ipynb file) via Canvas in a week.\n",
        "\n",
        "Based on Ch 3 of @Thornley2000, **1)** create a system\n",
        "using *Cropbox* for each of the following growth models (i.e, Monomolecular, Gompertz, and Chanter functions) in the form of **1a)** differential equation and **1b)** analytical solutionusing the crop biomass growth example(@exr-corn-logistic). Run simulations on  *daily time step*, **2)** plot both differential form and analytical solution of each model in one figure by overlaying two lines as done in the lab exercises, **3)** examine the model behavior with different input conditions and parameter values and\n",
        "**4)** describe any notable observations, and interpret discuss the\n",
        "results.\n",
        "\n",
        "1.  Monomolecular equation\n",
        "2.  Gompertz equation\n",
        "3.  Chanter equation"
      ]
    }
  ],
  "metadata": {
    "kernelspec": {
      "display_name": "Julia 1.11.6",
      "language": "julia",
      "name": "julia-1.11",
      "path": "/Users/soohkim/Library/Jupyter/kernels/julia-1.11"
    }
  },
  "nbformat": 4,
  "nbformat_minor": 4
}

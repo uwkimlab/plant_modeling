{
 "cells": [
  {
   "cell_type": "code",
   "execution_count": null,
   "metadata": {},
   "outputs": [],
   "source": [
    "#| output: false\n",
    "using Cropbox, Printf, Unitful"
   ]
  },
  {
   "cell_type": "code",
   "execution_count": null,
   "metadata": {},
   "outputs": [],
   "source": [
    "@system VaporPressure begin\n",
    "    # Campbell and Norman (1998), p 41 Saturation vapor pressure in kPa\n",
    "    a => 0.611 ~ preserve(u\"kPa\", parameter)\n",
    "    b => 17.502 ~ preserve(parameter)\n",
    "    c => 240.97 ~ preserve(parameter) # °C\n",
    "\n",
    "    es(a, b, c; T(u\"°C\")): saturation => (t = Cropbox.deunitfy(T); a*exp((b*t)/(c+t))) ~ call(u\"kPa\")\n",
    "    ea(es; T(u\"°C\"), RH(u\"percent\")): ambient => es(T) * RH ~ call(u\"kPa\")\n",
    "    D(es; T(u\"°C\"), RH(u\"percent\")): deficit => es(T) * (1 - RH) ~ call(u\"kPa\")\n",
    "    RH(es; T(u\"°C\"), VPD(u\"kPa\")): relative_humidity => 1 - VPD / es(T) ~ call(u\"NoUnits\")\n",
    "\n",
    "    # slope of the sat vapor pressure curve: first order derivative of Es with respect to T\n",
    "    Δ(es, b, c; T(u\"°C\")): saturation_slope_delta => (e = es(T); t = Cropbox.deunitfy(T); e*(b*c)/(c+t)^2 / u\"K\") ~ call(u\"kPa/K\")\n",
    "    s(Δ; T(u\"°C\"), P(u\"kPa\")): saturation_slope => Δ(T) / P ~ call(u\"K^-1\")\n",
    "end\n",
    "\n",
    "@system Weather begin\n",
    "    vp(context): vapor_pressure ~ ::VaporPressure\n",
    "\n",
    "    PFD:           photon_flux_density      => 1500 ~ preserve(parameter, u\"μmol/m^2/s\")\n",
    "    CO2:           carbon_dioxide           => 420  ~ preserve(parameter, u\"μmol/mol\")\n",
    "    RH:            relative_humidity        => 60   ~ preserve(parameter, u\"percent\")\n",
    "    T_air:         air_temperature          => 25   ~ preserve(parameter, u\"°C\")\n",
    "    Tk_air(T_air): absolute_air_temperature         ~ track(u\"K\")\n",
    "    wind:          wind_speed               => 2.0  ~ preserve(parameter, u\"m/s\")\n",
    "    P_air:         air_pressure             => 101.3 ~ preserve(parameter, u\"kPa\")\n",
    "\n",
    "    e_sat(T_air, vp.es):    saturation_vapor_pressure             => es(T_air)       ~ track(u\"kPa\")\n",
    "    e_air(T_air, RH,  ea = vp.ea):    ambient_vapor_pressure                => ea(T_air, RH)   ~ track(u\"kPa\")\n",
    "    VPD(T_air, RH, D=vp.D):      vapor_pressure_deficit                => D(T_air, RH)    ~ track(u\"kPa\")\n",
    "    VPD_Δ(T_air, Δ=vp.Δ):        vapor_pressure_saturation_slope_delta => Δ(T_air)        ~ track(u\"kPa/K\")\n",
    "    VPD_s(T_air, P_air, s=vp.s): vapor_pressure_saturation_slope       => s(T_air, P_air) ~ track(u\"K^-1\")\n",
    "end\n",
    "\n",
    "@system Environment(Weather, Controller) "
   ]
  },
  {
   "cell_type": "markdown",
   "metadata": {},
   "source": [
    "Check the default parameter values at the standard conditions of the systems: `Weather` and `Environment`"
   ]
  },
  {
   "cell_type": "code",
   "execution_count": null,
   "metadata": {},
   "outputs": [],
   "source": [
    "parameters(Weather);"
   ]
  },
  {
   "cell_type": "markdown",
   "metadata": {},
   "source": [
    "We set up variable ranges and groups for simulating environmental conditions."
   ]
  },
  {
   "cell_type": "code",
   "execution_count": null,
   "metadata": {},
   "outputs": [],
   "source": [
    "co2_xstep = :Weather => :CO2   => 10:10:1500;\n",
    "pfd_xstep = :Weather => :PFD   => 0:20:2000;\n",
    "ta_xstep  = :Weather => :T_air => 0:1:50;\n",
    "rh_xstep  = :Weather => :RH    => 0:1:100;\n",
    "\n",
    "co2_group = :Weather => :CO2   => [1000, 400, 250];\n",
    "pfd_group = :Weather => :PFD   => 1800:-400:600;\n",
    "ta_group  = :Weather => :T_air => 40:-5:10;\n",
    "rh_group  = :Weather => :RH    => 80:-30:20;"
   ]
  },
  {
   "cell_type": "markdown",
   "metadata": {},
   "source": [
    "Plot and examine the temperature responses of saturation vapor pressure ($e_s$), ambient vapor pressure ($e_a$), and *VPD* at different *RH* conditions."
   ]
  },
  {
   "cell_type": "code",
   "execution_count": null,
   "metadata": {},
   "outputs": [],
   "source": [
    "visualize(Environment, :T_air, [:e_sat, :e_air]; xstep = ta_xstep, ylim = (0, 12), kind = :line)"
   ]
  },
  {
   "cell_type": "markdown",
   "metadata": {},
   "source": [
    "Generate VPD response over time at different relative humidity using `rh_group`."
   ]
  },
  {
   "cell_type": "code",
   "execution_count": null,
   "metadata": {},
   "outputs": [],
   "source": [
    "visualize(Environment, :T_air, :VPD; xstep = ta_xstep, group = rh_group, ylim = (0, 12), kind = :line)"
   ]
  },
  {
   "cell_type": "markdown",
   "metadata": {},
   "source": [
    ":::\n",
    "\n",
    "::: {#tip-cropbox-call .callout-tip}\n",
    "#### `call`, `solve`, and `bisect` variables in `Cropbox`\n",
    "\n",
    "Here we are introduced some new method variables in `Cropbox`.\n",
    "\n",
    "#### Call {.unnumbered}\n",
    "\n",
    "`call` makes a *callable* variable which works like a function. Variables declared in the argument list before `;` are mapped to the existing variables available in the system. Variables declared in the argument list after `;` need to be supplied explicitly each time the `call` variable (i.e., function) is called outside the system definition.\n",
    "\n",
    "In the example below, `f` is a `call` variable that is dependent on `a` in the system and callable with `x` outside the system. This is somewhat similar to using *keyword* argument after `;` to change a parameter of the system by assigning a value to a keyword. Look at how it can called in the declaration of variable `f2` inside the system as well as outside the system definition."
   ]
  },
  {
   "cell_type": "code",
   "execution_count": null,
   "metadata": {},
   "outputs": [],
   "source": [
    "@system SCall(Controller) begin\n",
    "    a       => 1 ~ preserve\n",
    "    f(a; x) => a + x ~ call\n",
    "    f2(f)   => f(2) ~ track\n",
    "end\n",
    "simulate(SCall)\n",
    "s = instance(SCall)\n",
    "s.f(2)\n",
    "@look s.f(3; a = 5);"
   ]
  },
  {
   "cell_type": "markdown",
   "metadata": {},
   "source": [
    "#### Solve {.unnumbered}\n",
    "\n",
    "As we discussed in @sec-photosynthesis for solving a quadratic equation, `solve` derives a symbolic solution of polynomial equation via [SymPy.jl](https://github.com/JuliaPy/SymPy.jl). The equation is solved for the name of variable itself. For example, the variable `x` below is resolved as -1 as $x = -1$ for the equation $x^2 + 2x + 1 = (x + 1)^2$. Trying solving a cubic equation as well."
   ]
  },
  {
   "cell_type": "code",
   "execution_count": null,
   "metadata": {},
   "outputs": [],
   "source": [
    "@system SSolve(Controller) begin\n",
    "    a => 1 ~ preserve\n",
    "    b => 2 ~ preserve\n",
    "    c => 1 ~ preserve\n",
    "    x(a, b, c) => a*x^2 + b*x + c ~ solve\n",
    "end\n",
    "simulate(SSolve);"
   ]
  },
  {
   "cell_type": "markdown",
   "metadata": {},
   "source": [
    "#### Bisect {.unnumbered}\n",
    "\n",
    "`bisect` also derives a solution of equations. While `solve` can find an analytical solution only when the equation is solvable via symbolic algebra, `bisect` relies on numerical optimizations which are more generally applicable to more types of equations. The downside is that it is much slower and can still fail especially when the given boundary of solution is not correct. The boundary of solution should be given by `lower` and `upper` tags."
   ]
  },
  {
   "cell_type": "code",
   "execution_count": null,
   "metadata": {},
   "outputs": [],
   "source": [
    "@system SBisect(Controller) begin\n",
    "    x(x) => x - 1 ~ bisect(lower = 0, upper = 2)\n",
    "end\n",
    "simulate(SBisect);"
   ]
  },
  {
   "cell_type": "code",
   "execution_count": null,
   "metadata": {},
   "outputs": [],
   "source": [
    "#| output: false\n",
    "using Unitful\n",
    "    # parameters\n",
    "    λ = 2.454u\"MJ/kg\"\n",
    "    c_p = 1.013u\"kJ/kg/K\"\n",
    "    ρ_a = 1.204u\"kg/m^3\"\n",
    "    s = 0.145u\"kPa/K\"\n",
    "    γ = 66.1u\"Pa/K\"\n",
    "    #Rn = 400u\"W/m^2\" # (R_n - G)\n",
    "    Rn = 10u\"MJ/m^2/d\"\n",
    "    G = 0u\"MJ/m^2/d\"   # Soil heat flux\n",
    "    D = 1.0u\"kPa\"\n",
    "    R = 8.314u\"J/mol/K\"\n",
    "    T_air = 20.0u\"°C\" |> u\"K\"\n",
    "    P = 101.3u\"kPa\"\n",
    "    H2O_m = 18.01528u\"g/mol\"\n",
    "\n",
    "# Function to calculate ET using Penman-Monteith equation\n",
    "function penmon_ET(g_H, g_L)\n",
    "    # Canopy conductance for water vapor, g_v, is calculated as the parallel combination of g_L and g_H\n",
    "    # It is easier to calculate the resistances first and then convert to conductance\n",
    "    # r_v = ((r_L) + (r_H))\n",
    "    g_W = (g_L^-1 + g_H^-1)^-1\n",
    "    # Penman-Monteith equation\n",
    "    ET = (s * (Rn - G) + ρ_a * c_p * g_H * D) / (λ * (s + γ * (g_H / g_W))) |> u\"g/m^2/s\"\n",
    "    g_Wm = g_W*P/(R*T_air)\n",
    "    ET_m = ET/H2O_m |> u\"mmol/m^2/s\"\n",
    "    ET_daily = ET * (60*60*24)u\"s/d\" |> u\"kg/m^2/d\"\n",
    "    return ET, g_Wm, ET_daily\n",
    "end\n",
    "# Scenario a: Forest\n",
    "g_H_forest = 0.2u\"m/s\"\n",
    "g_L_forest = 0.03u\"m/s\"\n",
    "ET_forest, gv_forest, ET_forest_daily = penmon_ET(g_H_forest, g_L_forest)\n",
    "println(\"ET for Forest: \", ET_forest)\n",
    "println(\"g_W for Forest: \", gv_forest |> u\"mol/m^2/s\")\n",
    "println(\"ET_daily for Forest: \", ET_forest_daily)\n",
    "println()\n",
    "\n",
    "# Scenario b: Grassland\n",
    "g_H_grassland = 0.01u\"m/s\"\n",
    "g_L_grassland = 0.03u\"m/s\"\n",
    "ET_grassland, gv_grassland, ET_grassland_daily = penmon_ET(g_H_grassland, g_L_grassland)\n",
    "println(\"ET for Grassland: \", ET_grassland)\n",
    "println(\"g_W for Grassland: \", gv_grassland |> u\"mol/m^2/s\")\n",
    "println(\"ET_daily for Grassland: \", ET_grassland_daily)\n",
    "println()\n",
    "\n",
    "# Scenario c: When surface is wet, canopy conductance approaches infinity and g_v ≈ g_H\n",
    "g_L_forest = (Inf)*u\"m/s\"\n",
    "ET_forest_wet, gv_forest_wet = penmon_ET(g_H_forest, g_L_forest)\n",
    "println(\"ET for Wet Forest: \", ET_forest_wet)\n",
    "println(\"g_W for Wet Forest: \", gv_forest_wet |> u\"mol/m^2/s\")\n",
    "println()\n",
    "\n",
    "# Scenario d: Wet surface for Grassland (g_v approaches infinity)\n",
    "g_L_grassland = (Inf)*u\"m/s\"\n",
    "ET_grassland_wet, gv_grassland_wet = penmon_ET(g_H_grassland, g_L_grassland)\n",
    "println(\"ET for Wet Grassland: \", ET_grassland_wet)\n",
    "println(\"g_W for Wet Grassland: \", gv_grassland_wet |> u\"mol/m^2/s\")\n",
    "println()"
   ]
  },
  {
   "cell_type": "code",
   "execution_count": null,
   "metadata": {},
   "outputs": [],
   "source": [
    "\"\"\"\n",
    "Calculate daily evapotranspiration from a plant canopy using the Penman-Monteith equation\n",
    "\n",
    "Returns:\n",
    "- NamedTuple containing ET results\n",
    "\"\"\"\n",
    "function calculate_canopy_evapotranspiration(;\n",
    "    canopy_length = 1.0,         # meters\n",
    "    air_temp = 25.0,               # °C\n",
    "    relative_humidity = 60.0,      # percent\n",
    "    wind_speed = 2.0,              # m/s\n",
    "    solar_radiation = 20.0,        # MJ/m²/d\n",
    "    atmospheric_pressure = 101.3,  # kPa\n",
    "    canopy_conductance = 600.0,    # mmol/m²/s (stomatal conductance)\n",
    "    canopy_height = 2.0            # meters\n",
    ")\n",
    "    \n",
    "    # Canopy surface area (m²)\n",
    "    surface_area = canopy_length^2\n",
    "    \n",
    "    # Psychrometric constant (kPa/K)\n",
    "    γ = 0.665 * atmospheric_pressure\n",
    "    \n",
    "    # Saturation vapor pressure (kPa) - Tetens equation\n",
    "    e_sat = 0.6108 * exp(17.27 * air_temp / (air_temp + 237.3))\n",
    "    \n",
    "    # Actual vapor pressure (kPa)\n",
    "    RH_fraction = relative_humidity / 100\n",
    "    e_actual = RH_fraction * e_sat\n",
    "    \n",
    "    # Vapor pressure deficit (kPa)\n",
    "    vpd = e_sat - e_actual\n",
    "    \n",
    "    # Slope of saturation vapor pressure curve (kPa/K)\n",
    "    Δ = 4098 * e_sat / (air_temp + 237.3)^2\n",
    "    s = Δ / atmospheric_pressure  # saturation slope (K^-1)\n",
    "    \n",
    "    # Net radiation (MJ/m²/d) - for vegetation, assume 80% of incoming radiation\n",
    "    R_n = 0.8 * solar_radiation\n",
    "    \n",
    "    # Aerodynamic conductance calculations (Campbell & Norman, 1998)\n",
    "    # ga = 1/ra = (k²*u) / [ln((z-d)/z0) * ln((z-d)/z0h)]\n",
    "    d = 0.67 * canopy_height  # zero plane displacement\n",
    "    z0 = 0.1 * canopy_height  # roughness length for momentum\n",
    "    z0h = 0.1 * z0            # roughness length for heat\n",
    "    z = canopy_height + 1.0                   # measurement height (m)\n",
    "    k = 0.41                  # von Karman constant\n",
    "    \n",
    "    if wind_speed > 0\n",
    "        ga = (k^2 * wind_speed) / (log((z - d) / z0) * log((z - d) / z0h))\n",
    "    else\n",
    "        ga = air_temp / 208  # default value for calm conditions\n",
    "    end\n",
    "    \n",
    "    # Convert conductance to resistance\n",
    "    ra = 1 / ga  # aerodynamic resistance (s/m)\n",
    "    \n",
    "    # Convert canopy conductance from mmol/m²/s to m/s (Jones, 2013)\n",
    "    # Conversion: gs(m/s) = gs(mmol/m²/s) * R * T / P * 1e-3\n",
    "    R_gas = 8.314  # J/mol/K (universal gas constant)\n",
    "    T_kelvin = air_temp + 273.15  # temperature in K\n",
    "    P_pascal = atmospheric_pressure * 1000  # pressure in Pa\n",
    "    \n",
    "    # Convert from mmol/m²/s to mol/m²/s, then to m/s\n",
    "    canopy_conductance_ms = canopy_conductance * 1e-3 * R_gas * T_kelvin / P_pascal\n",
    "    rc = 1 / canopy_conductance_ms  # canopy resistance (s/m)\n",
    "    \n",
    "    # Latent heat of vaporization (MJ/kg)\n",
    "    λ = 2.45\n",
    "    \n",
    "    # Air density (kg/m³) - approximation at standard conditions\n",
    "    ρ = 1.225 * (293 / (air_temp + 273.15)) * (atmospheric_pressure / 101.3)\n",
    "    \n",
    "    # Specific heat of air (MJ/kg/K)\n",
    "    cp = 0.001013\n",
    "    \n",
    "    # Penman-Monteith equation components\n",
    "    # Radiation term\n",
    "    ET_rad = s / (s + γ * (1 + rc / ra)) * (R_n / λ) * 86400  # Convert s to day\n",
    "    # Aerodynamic term\n",
    "    ET_aero = (γ / (s + γ * (1 + rc / ra))) * (ρ * cp * vpd / ra) / λ * 86400  # Convert s to day\n",
    "    \n",
    "    # Total evapotranspiration (mm/day)\n",
    "    ET_daily = (ET_rad + ET_aero) \n",
    "    \n",
    "    # Total water loss from canopy (liters/day)\n",
    "    water_loss_volume = (ET_daily / 1000) * surface_area * 1000  # L/d\n",
    "    \n",
    "    return (\n",
    "        evapotranspiration_mm = ET_daily,\n",
    "        surface_area = surface_area,\n",
    "        water_loss_volume = water_loss_volume,\n",
    "        radiation_component = ET_rad,\n",
    "        aerodynamic_component = ET_aero,\n",
    "        vapor_pressure_deficit = vpd,\n",
    "        aerodynamic_conductance = ga,\n",
    "        canopy_conductance_mmol = canopy_conductance,\n",
    "        canopy_conductance_ms = canopy_conductance_ms,\n",
    "        aerodynamic_resistance = ra,\n",
    "        canopy_resistance = rc,\n",
    "    )\n",
    "end"
   ]
  },
  {
   "cell_type": "code",
   "execution_count": null,
   "metadata": {},
   "outputs": [],
   "source": [
    "using Printf\n",
    "# Example calculation for canopy\n",
    "println(\"\\n=== Plant Canopy Evapotranspiration Calculator ===\")\n",
    "\n",
    "canopy_result = calculate_canopy_evapotranspiration()\n",
    "\n",
    "@printf \"Surface area: %.2f m²\\n\" canopy_result.surface_area\n",
    "@printf \"Daily evapotranspiration: %.2f mm/d\\n\" canopy_result.evapotranspiration_mm\n",
    "@printf \"Daily water loss: %.2f L/d\\n\" canopy_result.water_loss_volume\n",
    "@printf \"Radiation component: %.4f mm/d\\n\" canopy_result.radiation_component\n",
    "@printf \"Aerodynamic component: %.4f mm/d\\n\" canopy_result.aerodynamic_component\n",
    "@printf \"Vapor pressure deficit: %.4f kPa\\n\" canopy_result.vapor_pressure_deficit\n",
    "@printf \"Aerodynamic conductance: %.4f m/s\\n\" canopy_result.aerodynamic_conductance\n",
    "@printf \"Canopy conductance: %.1f mmol/m²/s\\n\" canopy_result.canopy_conductance_mmol\n",
    "@printf \"Canopy conductance: %.4f m/s\\n\" canopy_result.canopy_conductance_ms\n",
    "@printf \"Aerodynamic resistance: %.1f s/m\\n\" canopy_result.aerodynamic_resistance\n",
    "@printf \"Canopy resistance: %.1f s/m\\n\" canopy_result.canopy_resistance"
   ]
  }
 ],
 "metadata": {
  "kernelspec": {
   "display_name": "Julia 1.11.6",
   "language": "julia",
   "name": "julia-1.11"
  },
  "language_info": {
   "file_extension": ".jl",
   "mimetype": "application/julia",
   "name": "julia",
   "version": "1.11.6"
  }
 },
 "nbformat": 4,
 "nbformat_minor": 4
}

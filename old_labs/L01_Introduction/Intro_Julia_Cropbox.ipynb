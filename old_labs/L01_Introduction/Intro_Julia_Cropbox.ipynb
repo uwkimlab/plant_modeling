{
 "cells": [
  {
   "cell_type": "markdown",
   "metadata": {},
   "source": [
    "# Lab 01: JupyterLab, Julia, Cropbox, and a Very Simple Growth Modeling"
   ]
  },
  {
   "cell_type": "markdown",
   "metadata": {
    "tags": []
   },
   "source": [
    "This is a jupyter notebook. We will use many of thse notebooks (with .ipynb extension) for this class and you will soon get used to it. The text that you are reading now is in a `markdown` cell. Other cell types are `code` and `raw`. You will find out the differences between them.\n",
    "\n",
    "This notebook provides a brief introduction to *Jupyter, Julia*, and *Cropbox*. We will then use these tools to get a quick taste of plant growth modeling. "
   ]
  },
  {
   "cell_type": "markdown",
   "metadata": {
    "tags": []
   },
   "source": [
    "## 1. The Jupyter Project and JupyterLab"
   ]
  },
  {
   "cell_type": "markdown",
   "metadata": {},
   "source": [
    "You might have used or heard of `Jupyter` before. If so, that's great. If not, that's okay because we will use it a lot throughout this course. At the end of the quarter, you will be a proficient user of Jupyter. So what is `Jupyter` anyway? `Jupyter` stands for *Julia, Python,* and *R* (__*JuPyteR*__) as the initial three languages that it was meant to serve originally. You can learn more about [*Project Jupyter*](https://jupyter.org/). This document you are reading is a Jupyter notebook that supports executable code, narrative notes as markdown text, figures, and mathematical formula. A nice thing about *Jupyter notebook* is that it allows you to weave together code, narrative text, visualization interactively. If you are interested in learning more about how useful Jupyter can be for research, learning, and teaching, see [Jupyter4edu](https://jupyter4edu.github.io/jupyter-edu-book/)."
   ]
  },
  {
   "cell_type": "markdown",
   "metadata": {
    "tags": []
   },
   "source": [
    "<img src=\"./Jupyter_screen.png\">\n",
    "Figure. A screenshot of a version of this Jupyter Notebook document.  "
   ]
  },
  {
   "cell_type": "markdown",
   "metadata": {
    "tags": []
   },
   "source": [
    "### JupyterLab\n",
    "JupyterLab is a handy IDE (Integrated Development Environment) for coding many languages including **Python, R** and **Julia**. It is the next generation of Jupyter Notebook that was and still is likely the most popular IDE for data science. Another example of a popular IDE is [VSCode](https://code.visualstudio.com). Here we will briefly overview the basic functionalities of JuputerLab to the extent that you can use it effectively for  this class and beyond. A feature that makes JupyterLab particularly useful is that you can do coding in notebooks using any web browsers as JupyterLab is a server-client application. We have set up a UW JupyterHub server for our class to run JupyterLab client on your computer via the internet so that you don't have to go through the process of installing server components needed to run it on your local server. However, it is also possible to run JupyterLab without an internet server. For example, installing server and language components individually on your computer and running a Docker container that has all the component preinstialled are alternatives to run it without needing to use the internet.  Interesting note is that Jupyter stands for *Julia, Python,* and *R* (__*JuPyteR*__) as the initial languages that it was meant to support originally though Jupyter can support more than these three languages. There are a few key components of JupyterLab to know about. \n",
    "\n",
    "* _Kernel_: Kernel is a program or the language interpreter/compiler that runs the user's code. Jupyter comes with Python as default kernel but additional kernels can be added for other programming lanaguges. For our class, Julia is the primary language kernel.  \n",
    "* _Notebook Interface_: A notebook is made of a cell sequence that may contain code, markdown text, visualizations like plots, images, and formulas. A notebook can be further extended into a _data dashboard_ that may also include tools to configure the notebook workflow, debugging, exporting and more. JupyterLab interface includes three main components.\n",
    "    - _<u>Work area</u>_: The main panels with tabs in the center is where you do most of your coding and other work. Note that you can place more than one tab side by side in the main work area. We will use this format in the class as needed to navigate through lab notebooks and lecture notes. \n",
    "        - Let's try it. Open '01-introduction.pdf' file and drag it to the right side of your screen.\n",
    "    - _<u>Menu bar</u>_: Familiarize yourself with the menu bar components, what they do, and where to look to accomplish certain tasks. Here are a few tips that we will use frequently in this class\n",
    "        - _File_: Do things related to managing files and folders. Note that with JupterHub enveriont that we use for the class, your files are saved in the class server not in your local machine. If you want to save your files in your local machine, you need to downlaod them individually using `Download` menu. Downloading your own files is important because the server will shutdown shortly after the quarter is over.\n",
    "        - _View_: One of the useful features in this menu is the `Activate Command Palette` option. For security reasons, JupterLab will not render certain graphics when a notebook is loaded for the first time but it can be helpful to see how the plots and other graphics look like as an output of code cells. You can turn on this feature by turning on `Trust Notebook` option. Just start typing `trust` in the search bar and the menu will show up to the top of the list.\n",
    "        - _Run_: Run the current cell, selected cells, or all cells. To run the current cell you can also use a short-cut (`Shift + Return`)\n",
    "        - _Kernel_: Interrupt, restart, and change kernel. You can do some of these actions with menu buttons on each panel.\n",
    "        - _Settings_: By default, JupyterLab will autosave your notebooks. If you do not want this behavior (I usually don't want this) then unselect that option here. \n",
    "    - _<u>Left sidebar</u>_: Collasible menu items for file browser, kernel manager, git connector, table of contents, and extension manager\n",
    "    - _<u>Right sidebar</u>_: Additional menu items for property inspector and debugger\n",
    "\n"
   ]
  },
  {
   "cell_type": "markdown",
   "metadata": {},
   "source": [
    "### Some useful tips for using JupyterLab for the class ###\n",
    "- By default, the notebooks are set to be autosaved. If you don't want this behavior, go to `settings` and uncheck `Autosave Documents`\n",
    "- By default, plots will not display when you open a notebook without rerunning the code. To show previusly run code and plots, go to `View` -> `Activate Command Palette` and type or select `Trust Notebook`. You can use a shorcut for this by pressing `Command`+`Shift`+`C` (in macOS) and start typing `trust`.\n",
    "- If your code hangs, you can stop the process by pressing the square button in the menu bar. If that doesn't help, you can shutdown and restart the `kernel`.\n",
    "- You may switch the kernel to `Python 3` if you like and are familiar with that language in this environment. But note that it won't be able to run any Julia code. You cannot use multiple kernels in one notebook in general."
   ]
  },
  {
   "cell_type": "markdown",
   "metadata": {},
   "source": [
    "## 2. Julia"
   ]
  },
  {
   "cell_type": "markdown",
   "metadata": {},
   "source": [
    "[Julia](https://julialang.org) is a relatively new programming language designed for scientific computing in mind. It is a dynamic programming language aspired to be as convenient as `Python` and `R`, but also provides high performance and extensibility as `C/C++` and `Fortran`. Check the [chart here](https://www.tiobe.com/tiobe-index/) to see where Julia stands as a programming language among other languages today; its position has been rising fast. \n",
    "\n",
    "In this lab, we will cover only the very basics of Julia langauge to get us started for using `Cropbox`: a modeling framework written in Julia. Students in this class can benefit from learning more about Julia language from free external sources. Here are two free tutorials available from [Julia Academy](https://juliaacademy.com/):\n",
    "\n",
    "- [Julia Programming for Nervous Beginners](https://juliaacademy.com/p/julia-programming-for-nervous-beginners): If you have little to no programming background, taking this free onlne course is highly recommended. It introduces you to computer programming through Julia. It's designed as a 4-week long course but you may comfortably complete the course in one or two weeks.\n",
    "- [Introduction to Julia (for programmers)](https://juliaacademy.com/p/intro-to-julia): If you are an experienced programmer in other langauges (e.g., Python, R, Java) but new to Julia, this could be a useful course to start learning Julia. \n"
   ]
  },
  {
   "cell_type": "markdown",
   "metadata": {},
   "source": [
    "### Expression"
   ]
  },
  {
   "cell_type": "markdown",
   "metadata": {},
   "source": [
    "Let's assume that a variable `a` is defined to have a value `1`. We then simply type the follwoing. In `Jupyter` you need to run this cell for the kernel to interpret it. Click the run button above or simply type `Shift-Enter/Return` :"
   ]
  },
  {
   "cell_type": "code",
   "execution_count": 1,
   "metadata": {
    "tags": []
   },
   "outputs": [
    {
     "data": {
      "text/plain": [
       "1"
      ]
     },
     "execution_count": 1,
     "metadata": {},
     "output_type": "execute_result"
    }
   ],
   "source": [
    "a = 1"
   ]
  },
  {
   "cell_type": "markdown",
   "metadata": {},
   "source": [
    "Now the vairiabl `a` is defined and has a value of 1. And you can use it as such. Here is a simple expression working with the variable `a`."
   ]
  },
  {
   "cell_type": "code",
   "execution_count": 2,
   "metadata": {
    "tags": []
   },
   "outputs": [
    {
     "data": {
      "text/plain": [
       "2"
      ]
     },
     "execution_count": 2,
     "metadata": {},
     "output_type": "execute_result"
    }
   ],
   "source": [
    "a + 1"
   ]
  },
  {
   "cell_type": "markdown",
   "metadata": {},
   "source": [
    "### Function"
   ]
  },
  {
   "cell_type": "markdown",
   "metadata": {},
   "source": [
    "Now you can do a little more with the variable. We will put that into a function to do something for us. Function can be defined by `function` block in `Julia`."
   ]
  },
  {
   "cell_type": "code",
   "execution_count": 3,
   "metadata": {
    "tags": []
   },
   "outputs": [
    {
     "data": {
      "text/plain": [
       "f (generic function with 1 method)"
      ]
     },
     "execution_count": 3,
     "metadata": {},
     "output_type": "execute_result"
    }
   ],
   "source": [
    "function f(x)\n",
    "    return 2*x\n",
    "end"
   ]
  },
  {
   "cell_type": "markdown",
   "metadata": {},
   "source": [
    "Alternatively, a simple syntax can be also used."
   ]
  },
  {
   "cell_type": "code",
   "execution_count": 4,
   "metadata": {
    "tags": []
   },
   "outputs": [
    {
     "data": {
      "text/plain": [
       "f (generic function with 1 method)"
      ]
     },
     "execution_count": 4,
     "metadata": {},
     "output_type": "execute_result"
    }
   ],
   "source": [
    "f(x) = 2x"
   ]
  },
  {
   "cell_type": "markdown",
   "metadata": {},
   "source": [
    "Here we call function `f(x)` with a single argument `2` mapped to `x` and store it as variable `b`. We then run the function to take both `a` and `b`. What will the output be? What does `;` do in the next cell? It simply seprates the statements in this case, and will turn off the ouptut of the statement before it. It's generally used to separate things in Julia."
   ]
  },
  {
   "cell_type": "code",
   "execution_count": 5,
   "metadata": {
    "tags": []
   },
   "outputs": [
    {
     "data": {
      "text/plain": [
       "10"
      ]
     },
     "execution_count": 5,
     "metadata": {},
     "output_type": "execute_result"
    }
   ],
   "source": [
    "b = f(2); f(a + b)"
   ]
  },
  {
   "cell_type": "markdown",
   "metadata": {},
   "source": [
    "There are two types of function arguments: `positional` and `keyword`. Arguments are input variables that you give function to run. You will note that the positional arugments and keyword arguments are sperated by a `;` here."
   ]
  },
  {
   "cell_type": "code",
   "execution_count": 6,
   "metadata": {
    "tags": []
   },
   "outputs": [
    {
     "data": {
      "text/plain": [
       "g (generic function with 1 method)"
      ]
     },
     "execution_count": 6,
     "metadata": {},
     "output_type": "execute_result"
    }
   ],
   "source": [
    "g(x, y; a, b) = (x + 2y) * (3a + 4b)"
   ]
  },
  {
   "cell_type": "markdown",
   "metadata": {},
   "source": [
    "Here, function `g()` has positional arguments `x`, `y` and keyword arguments `a` and `b`. Values of positional arguments are mapped by their positions whereas mapping of keyword arguments are determined by the name of keywords in front of the value."
   ]
  },
  {
   "cell_type": "code",
   "execution_count": 7,
   "metadata": {},
   "outputs": [
    {
     "data": {
      "text/plain": [
       "125"
      ]
     },
     "execution_count": 7,
     "metadata": {},
     "output_type": "execute_result"
    }
   ],
   "source": [
    "g(1, 2; a = 3, b = 4)"
   ]
  },
  {
   "cell_type": "markdown",
   "metadata": {},
   "source": [
    "Keyword arguments are placed after `;` and the order of between keyword arguments are not important."
   ]
  },
  {
   "cell_type": "code",
   "execution_count": 8,
   "metadata": {},
   "outputs": [
    {
     "data": {
      "text/plain": [
       "125"
      ]
     },
     "execution_count": 8,
     "metadata": {},
     "output_type": "execute_result"
    }
   ],
   "source": [
    "g(1, 2; b = 4, a = 3)"
   ]
  },
  {
   "cell_type": "markdown",
   "metadata": {},
   "source": [
    "In some cases, `,` can be used instead of `;`, but it'd be recommended to keep using `;` for clarity."
   ]
  },
  {
   "cell_type": "code",
   "execution_count": 9,
   "metadata": {},
   "outputs": [
    {
     "data": {
      "text/plain": [
       "125"
      ]
     },
     "execution_count": 9,
     "metadata": {},
     "output_type": "execute_result"
    }
   ],
   "source": [
    "g(1, 2, a = 3, b = 4)"
   ]
  },
  {
   "cell_type": "markdown",
   "metadata": {},
   "source": [
    "For example, automatic binding of existing variables as keyword arguments is only allowed when `;` is used."
   ]
  },
  {
   "cell_type": "code",
   "execution_count": 10,
   "metadata": {},
   "outputs": [
    {
     "data": {
      "text/plain": [
       "125"
      ]
     },
     "execution_count": 10,
     "metadata": {},
     "output_type": "execute_result"
    }
   ],
   "source": [
    "a = 3\n",
    "b = 4\n",
    "g(1, 2; a, b)"
   ]
  },
  {
   "cell_type": "markdown",
   "metadata": {},
   "source": [
    "### Data Types"
   ]
  },
  {
   "cell_type": "markdown",
   "metadata": {},
   "source": [
    "Julia supports many built-in types which are going to be building blocks for our own data structure."
   ]
  },
  {
   "cell_type": "markdown",
   "metadata": {},
   "source": [
    "#### Integers"
   ]
  },
  {
   "cell_type": "markdown",
   "metadata": {},
   "source": [
    "`Int` is an alias for the default type of signed integer depending on the system (*i.e.* `Int64` for 64-bit). This means it is a positive or negative integer type that is stored in a memory block of 64 bit. Each bit is 1 or 0 so it can represent a value of size up to $2^{63} - 1$ with a maximum value of 9,223,372,036,854,775,807."
   ]
  },
  {
   "cell_type": "code",
   "execution_count": 11,
   "metadata": {
    "tags": []
   },
   "outputs": [
    {
     "data": {
      "text/plain": [
       "Int64"
      ]
     },
     "execution_count": 11,
     "metadata": {},
     "output_type": "execute_result"
    }
   ],
   "source": [
    "Int"
   ]
  },
  {
   "cell_type": "code",
   "execution_count": 12,
   "metadata": {
    "tags": []
   },
   "outputs": [
    {
     "data": {
      "text/plain": [
       "1"
      ]
     },
     "execution_count": 12,
     "metadata": {},
     "output_type": "execute_result"
    }
   ],
   "source": [
    "vi = 1"
   ]
  },
  {
   "cell_type": "code",
   "execution_count": 13,
   "metadata": {
    "tags": []
   },
   "outputs": [
    {
     "data": {
      "text/plain": [
       "Int64"
      ]
     },
     "execution_count": 13,
     "metadata": {},
     "output_type": "execute_result"
    }
   ],
   "source": [
    "typeof(vi)"
   ]
  },
  {
   "cell_type": "markdown",
   "metadata": {},
   "source": [
    "#### Floating-point Numbers"
   ]
  },
  {
   "cell_type": "markdown",
   "metadata": {},
   "source": [
    "On 64-bit systems, `Float64` is the default type for floating numbers. Note that there is no alias `Float`."
   ]
  },
  {
   "cell_type": "code",
   "execution_count": 14,
   "metadata": {
    "tags": []
   },
   "outputs": [
    {
     "data": {
      "text/plain": [
       "1.0"
      ]
     },
     "execution_count": 14,
     "metadata": {},
     "output_type": "execute_result"
    }
   ],
   "source": [
    "vf = 1.0"
   ]
  },
  {
   "cell_type": "code",
   "execution_count": 15,
   "metadata": {
    "tags": []
   },
   "outputs": [
    {
     "data": {
      "text/plain": [
       "Float64"
      ]
     },
     "execution_count": 15,
     "metadata": {},
     "output_type": "execute_result"
    }
   ],
   "source": [
    "typeof(vf)"
   ]
  },
  {
   "cell_type": "markdown",
   "metadata": {},
   "source": [
    "#### String"
   ]
  },
  {
   "cell_type": "markdown",
   "metadata": {},
   "source": [
    "String is a colletion of multiple characters. Use double quotes (`\"\"`) to construct a string."
   ]
  },
  {
   "cell_type": "code",
   "execution_count": 16,
   "metadata": {
    "tags": []
   },
   "outputs": [
    {
     "data": {
      "text/plain": [
       "\"abc\""
      ]
     },
     "execution_count": 16,
     "metadata": {},
     "output_type": "execute_result"
    }
   ],
   "source": [
    "vs = \"abc\""
   ]
  },
  {
   "cell_type": "code",
   "execution_count": 17,
   "metadata": {
    "tags": []
   },
   "outputs": [
    {
     "data": {
      "text/plain": [
       "String"
      ]
     },
     "execution_count": 17,
     "metadata": {},
     "output_type": "execute_result"
    }
   ],
   "source": [
    "typeof(vs)"
   ]
  },
  {
   "cell_type": "markdown",
   "metadata": {},
   "source": [
    "#### Symbol"
   ]
  },
  {
   "cell_type": "markdown",
   "metadata": {},
   "source": [
    "Symbol is often called an interned string. It can contain multiple characters like `string`, but only one copy of the string is stored internally. This is more efficienct computationally but functionally similar to regular `string`. `Symbols` will be particularly useful to indicate some pre-defined names such as names of variables. We'll see some examples in the tutorial later."
   ]
  },
  {
   "cell_type": "code",
   "execution_count": 18,
   "metadata": {
    "tags": []
   },
   "outputs": [
    {
     "data": {
      "text/plain": [
       ":abc"
      ]
     },
     "execution_count": 18,
     "metadata": {},
     "output_type": "execute_result"
    }
   ],
   "source": [
    "vk = :abc"
   ]
  },
  {
   "cell_type": "code",
   "execution_count": 19,
   "metadata": {
    "tags": []
   },
   "outputs": [
    {
     "data": {
      "text/plain": [
       "Symbol"
      ]
     },
     "execution_count": 19,
     "metadata": {},
     "output_type": "execute_result"
    }
   ],
   "source": [
    "typeof(vk)"
   ]
  },
  {
   "cell_type": "markdown",
   "metadata": {},
   "source": [
    "#### Tuple"
   ]
  },
  {
   "cell_type": "markdown",
   "metadata": {},
   "source": [
    "Tuple is a collection of arbitrary number of elements with any types. Note that positional arguments of functions are internally based on tuples."
   ]
  },
  {
   "cell_type": "code",
   "execution_count": 20,
   "metadata": {
    "tags": []
   },
   "outputs": [
    {
     "data": {
      "text/plain": [
       "(1, 2)"
      ]
     },
     "execution_count": 20,
     "metadata": {},
     "output_type": "execute_result"
    }
   ],
   "source": [
    "vt = (1, 2)"
   ]
  },
  {
   "cell_type": "code",
   "execution_count": 21,
   "metadata": {
    "tags": []
   },
   "outputs": [
    {
     "data": {
      "text/plain": [
       "Tuple{Int64, Int64}"
      ]
     },
     "execution_count": 21,
     "metadata": {},
     "output_type": "execute_result"
    }
   ],
   "source": [
    "typeof(vt)"
   ]
  },
  {
   "cell_type": "markdown",
   "metadata": {},
   "source": [
    "#### Named Tuple"
   ]
  },
  {
   "cell_type": "markdown",
   "metadata": {},
   "source": [
    "Named tuples are like tuples, but their components have associated names. Keyword arguments of functions are based on named tuples."
   ]
  },
  {
   "cell_type": "code",
   "execution_count": 22,
   "metadata": {
    "tags": []
   },
   "outputs": [
    {
     "data": {
      "text/plain": [
       "(a = 1, b = 2)"
      ]
     },
     "execution_count": 22,
     "metadata": {},
     "output_type": "execute_result"
    }
   ],
   "source": [
    "vn = (a = 1, b = 2)"
   ]
  },
  {
   "cell_type": "code",
   "execution_count": 23,
   "metadata": {
    "tags": []
   },
   "outputs": [
    {
     "data": {
      "text/plain": [
       "@NamedTuple{a::Int64, b::Int64}"
      ]
     },
     "execution_count": 23,
     "metadata": {},
     "output_type": "execute_result"
    }
   ],
   "source": [
    "typeof(vn)"
   ]
  },
  {
   "cell_type": "markdown",
   "metadata": {},
   "source": [
    "#### Composite Type"
   ]
  },
  {
   "cell_type": "markdown",
   "metadata": {},
   "source": [
    "Composite type, often called struct or object in other languages, is a collection of multiple fields."
   ]
  },
  {
   "cell_type": "code",
   "execution_count": 24,
   "metadata": {
    "tags": []
   },
   "outputs": [],
   "source": [
    "struct MyType\n",
    "    a\n",
    "    b\n",
    "end"
   ]
  },
  {
   "cell_type": "markdown",
   "metadata": {},
   "source": [
    "By default, a composite type can be constructed by calling the type name as a function with field values as arguments."
   ]
  },
  {
   "cell_type": "code",
   "execution_count": 25,
   "metadata": {
    "tags": []
   },
   "outputs": [
    {
     "data": {
      "text/plain": [
       "MyType(1, 2)"
      ]
     },
     "execution_count": 25,
     "metadata": {},
     "output_type": "execute_result"
    }
   ],
   "source": [
    "m = MyType(1, 2)"
   ]
  },
  {
   "cell_type": "markdown",
   "metadata": {},
   "source": [
    "Individual fields can be accessed by using a property accessor (`.`)."
   ]
  },
  {
   "cell_type": "code",
   "execution_count": 26,
   "metadata": {
    "tags": []
   },
   "outputs": [
    {
     "data": {
      "text/plain": [
       "1"
      ]
     },
     "execution_count": 26,
     "metadata": {},
     "output_type": "execute_result"
    }
   ],
   "source": [
    "m.a"
   ]
  },
  {
   "cell_type": "code",
   "execution_count": 27,
   "metadata": {
    "tags": []
   },
   "outputs": [
    {
     "data": {
      "text/plain": [
       "2"
      ]
     },
     "execution_count": 27,
     "metadata": {},
     "output_type": "execute_result"
    }
   ],
   "source": [
    "m.b"
   ]
  },
  {
   "cell_type": "markdown",
   "metadata": {},
   "source": [
    "### Data Structures"
   ]
  },
  {
   "cell_type": "markdown",
   "metadata": {},
   "source": [
    "There are many useful data structures provided by standard Julia library which are used extensively in Cropbox modeling framework."
   ]
  },
  {
   "cell_type": "markdown",
   "metadata": {},
   "source": [
    "#### Pair"
   ]
  },
  {
   "cell_type": "markdown",
   "metadata": {},
   "source": [
    "`Pair` is a collection of two elements, key and value, stored in a composite type. A nice syntax using `=>` is often used for constructing a pair object."
   ]
  },
  {
   "cell_type": "code",
   "execution_count": 28,
   "metadata": {
    "tags": []
   },
   "outputs": [
    {
     "data": {
      "text/plain": [
       ":a => 1"
      ]
     },
     "execution_count": 28,
     "metadata": {},
     "output_type": "execute_result"
    }
   ],
   "source": [
    "vp = :a => 1"
   ]
  },
  {
   "cell_type": "code",
   "execution_count": 29,
   "metadata": {
    "tags": []
   },
   "outputs": [
    {
     "data": {
      "text/plain": [
       ":a => 1"
      ]
     },
     "execution_count": 29,
     "metadata": {},
     "output_type": "execute_result"
    }
   ],
   "source": [
    "Pair(:a, 1)"
   ]
  },
  {
   "cell_type": "code",
   "execution_count": 30,
   "metadata": {
    "tags": []
   },
   "outputs": [
    {
     "data": {
      "text/plain": [
       "Pair{Symbol, Int64}"
      ]
     },
     "execution_count": 30,
     "metadata": {},
     "output_type": "execute_result"
    }
   ],
   "source": [
    "typeof(vp)"
   ]
  },
  {
   "cell_type": "markdown",
   "metadata": {},
   "source": [
    "#### Vector"
   ]
  },
  {
   "cell_type": "markdown",
   "metadata": {},
   "source": [
    "`Vector` is 1-dimensional `Array` which is a collection of multiple elements with the same type. A nice syntax using brackets (`[..]`) is often used for constructing a vector object."
   ]
  },
  {
   "cell_type": "code",
   "execution_count": 31,
   "metadata": {
    "tags": []
   },
   "outputs": [
    {
     "data": {
      "text/plain": [
       "3-element Vector{Int64}:\n",
       " 1\n",
       " 2\n",
       " 3"
      ]
     },
     "execution_count": 31,
     "metadata": {},
     "output_type": "execute_result"
    }
   ],
   "source": [
    "vv = [1, 2, 3]"
   ]
  },
  {
   "cell_type": "code",
   "execution_count": 32,
   "metadata": {
    "tags": []
   },
   "outputs": [
    {
     "data": {
      "text/plain": [
       "Vector{Int64}\u001b[90m (alias for \u001b[39m\u001b[90mArray{Int64, 1}\u001b[39m\u001b[90m)\u001b[39m"
      ]
     },
     "execution_count": 32,
     "metadata": {},
     "output_type": "execute_result"
    }
   ],
   "source": [
    "typeof(vv)"
   ]
  },
  {
   "cell_type": "markdown",
   "metadata": {},
   "source": [
    "The type of vector elements may be explicitly given."
   ]
  },
  {
   "cell_type": "code",
   "execution_count": 33,
   "metadata": {
    "tags": []
   },
   "outputs": [
    {
     "data": {
      "text/plain": [
       "3-element Vector{Float64}:\n",
       " 1.0\n",
       " 2.0\n",
       " 3.0"
      ]
     },
     "execution_count": 33,
     "metadata": {},
     "output_type": "execute_result"
    }
   ],
   "source": [
    "vvf = Float64[1, 2, 3]"
   ]
  },
  {
   "cell_type": "code",
   "execution_count": 34,
   "metadata": {
    "jupyter": {
     "source_hidden": true
    },
    "tags": []
   },
   "outputs": [
    {
     "data": {
      "text/plain": [
       "Vector{Float64}\u001b[90m (alias for \u001b[39m\u001b[90mArray{Float64, 1}\u001b[39m\u001b[90m)\u001b[39m"
      ]
     },
     "execution_count": 34,
     "metadata": {},
     "output_type": "execute_result"
    }
   ],
   "source": [
    "typeof(vvf)"
   ]
  },
  {
   "cell_type": "markdown",
   "metadata": {
    "tags": []
   },
   "source": [
    "### Macros"
   ]
  },
  {
   "cell_type": "markdown",
   "metadata": {},
   "source": [
    "Macros are functions generating code. For example, `@show` macro returns an expression to print out the content of variable."
   ]
  },
  {
   "cell_type": "code",
   "execution_count": 37,
   "metadata": {
    "tags": []
   },
   "outputs": [
    {
     "name": "stdout",
     "output_type": "stream",
     "text": [
      "a = 3\n"
     ]
    },
    {
     "data": {
      "text/plain": [
       "3"
      ]
     },
     "execution_count": 37,
     "metadata": {},
     "output_type": "execute_result"
    }
   ],
   "source": [
    "@show a"
   ]
  },
  {
   "cell_type": "markdown",
   "metadata": {},
   "source": [
    "We can take a look at the expression generated by this macro."
   ]
  },
  {
   "cell_type": "code",
   "execution_count": 38,
   "metadata": {
    "tags": []
   },
   "outputs": [
    {
     "data": {
      "text/plain": [
       "quote\n",
       "    Base.println(\"a = \", Base.repr(begin\n",
       "                \u001b[90m#= show.jl:1181 =#\u001b[39m\n",
       "                local var\"#31#value\" = a\n",
       "            end))\n",
       "    var\"#31#value\"\n",
       "end"
      ]
     },
     "execution_count": 38,
     "metadata": {},
     "output_type": "execute_result"
    }
   ],
   "source": [
    "@macroexpand @show a"
   ]
  },
  {
   "cell_type": "markdown",
   "metadata": {},
   "source": [
    "What `@show a` generates in this case is basically close to the code below."
   ]
  },
  {
   "cell_type": "code",
   "execution_count": 39,
   "metadata": {
    "tags": []
   },
   "outputs": [
    {
     "name": "stdout",
     "output_type": "stream",
     "text": [
      "a = 3\n"
     ]
    },
    {
     "data": {
      "text/plain": [
       "3"
      ]
     },
     "execution_count": 39,
     "metadata": {},
     "output_type": "execute_result"
    }
   ],
   "source": [
    "println(\"a = \", repr(a))\n",
    "a"
   ]
  },
  {
   "cell_type": "markdown",
   "metadata": {},
   "source": [
    "Such an ability to generate code on the fly is what drives our modeling framework which we'll use throughout this course."
   ]
  },
  {
   "cell_type": "markdown",
   "metadata": {
    "tags": []
   },
   "source": [
    "### Running terminal commands in Julia"
   ]
  },
  {
   "cell_type": "markdown",
   "metadata": {},
   "source": [
    "Sometimes you may want to run terminal command in Jupyter environment. With `Julia` kernal, you can use `;` in front of the command you wish to run. Some useful unix commends are `pwd` to check *present working directory*, `ls` to list current directory, and `cd` to change directory. "
   ]
  },
  {
   "cell_type": "code",
   "execution_count": 35,
   "metadata": {
    "tags": []
   },
   "outputs": [
    {
     "name": "stdout",
     "output_type": "stream",
     "text": [
      "/home/jovyan/Teaching/SEFS508/2023/Module01-Intro\n"
     ]
    }
   ],
   "source": [
    ";pwd"
   ]
  },
  {
   "cell_type": "markdown",
   "metadata": {},
   "source": [
    "Note you can achieve the same output using the built in functions in Julia. But not all commands are available as built-in functions of Julia (e.g., ls)."
   ]
  },
  {
   "cell_type": "code",
   "execution_count": 36,
   "metadata": {
    "tags": []
   },
   "outputs": [
    {
     "data": {
      "text/plain": [
       "\"/home/jovyan/Teaching/SEFS508/2023/Module01-Intro\""
      ]
     },
     "execution_count": 36,
     "metadata": {},
     "output_type": "execute_result"
    }
   ],
   "source": [
    "pwd()"
   ]
  },
  {
   "cell_type": "markdown",
   "metadata": {},
   "source": [
    "## 3. Cropbox"
   ]
  },
  {
   "cell_type": "markdown",
   "metadata": {},
   "source": [
    "[Cropbox](https://github.com/tomyun/Cropbox.jl) is a modeling framework we're building in our research group to support development of crop models."
   ]
  },
  {
   "cell_type": "markdown",
   "metadata": {},
   "source": [
    "### Model Specification"
   ]
  },
  {
   "cell_type": "markdown",
   "metadata": {},
   "source": [
    "We now start using Cropbox framework to make a very simple exponential growth model adapted from an example introduced in the manual of [Fortran Simulation Translator](https://library.wur.nl/WebQuery/wurpubs/302463) which used to be an underlying framework for many early plant and crop growth models."
   ]
  },
  {
   "cell_type": "code",
   "execution_count": 40,
   "metadata": {
    "tags": []
   },
   "outputs": [
    {
     "data": {
      "application/vnd.webio.node+json": {
       "children": [],
       "instanceArgs": {
        "namespace": "html",
        "tag": "div"
       },
       "nodeType": "DOM",
       "props": {},
       "type": "node"
      },
      "text/html": [
       "<div style=\"padding: 1em; background-color: #f8d6da; border: 1px solid #f5c6cb; font-weight: bold;\">\n",
       "<p>The WebIO Jupyter extension was not detected. See the\n",
       "<a href=\"https://juliagizmos.github.io/WebIO.jl/latest/providers/ijulia/\" target=\"_blank\">\n",
       "    WebIO Jupyter integration documentation\n",
       "</a>\n",
       "for more information.\n",
       "</div>\n"
      ],
      "text/plain": [
       "WebIO._IJuliaInit()"
      ]
     },
     "metadata": {
      "@webio": {
       "kernelId": "78d705bf-3236-48c1-a9fc-9f2c88fc0218"
      }
     },
     "output_type": "display_data"
    }
   ],
   "source": [
    "using Cropbox"
   ]
  },
  {
   "cell_type": "markdown",
   "metadata": {},
   "source": [
    "Here is an equation of the exponential growth model.\n",
    "\n",
    "$$\\frac{\\Delta x}{\\Delta t} = ax$$"
   ]
  },
  {
   "cell_type": "markdown",
   "metadata": {},
   "source": [
    " This mathematical expression basically states that variable `x` changes over time at the rate of `a` relative to the existing value of `x`. If `a` is 0.1 then `x` grows 10% over the time interval of *$\\Delta t$*. We now represent this model in a **system** named `S` which contains the state variable `x` and other supporting variables. We give the initial value of $x$ as 1."
   ]
  },
  {
   "cell_type": "code",
   "execution_count": 41,
   "metadata": {
    "scrolled": true,
    "tags": []
   },
   "outputs": [
    {
     "data": {
      "text/plain": [
       "S"
      ]
     },
     "execution_count": 41,
     "metadata": {},
     "output_type": "execute_result"
    }
   ],
   "source": [
    "@system S(Controller) begin\n",
    "    i       => 1   ~ preserve\n",
    "    a       => 0.1 ~ preserve(parameter)\n",
    "    r(a, x) => a*x ~ track\n",
    "    x(r)           ~ accumulate(init = i)\n",
    "end"
   ]
  },
  {
   "cell_type": "markdown",
   "metadata": {},
   "source": [
    "Here we declared four variables.\n",
    "- `i`: variable containing initial value of `x` which never changes (*preserved*)\n",
    "- `a`: variable containing constant **parameter** of exponential growth\n",
    "- `r`: rate variable which needs to be calculated or *tracked* every time step. This is the rate change of `x` over time.\n",
    "- `x`: state variable which *accumulates* by rate `r` over time with initial value `i`"
   ]
  },
  {
   "cell_type": "markdown",
   "metadata": {},
   "source": [
    "In `Cropbox`, we can visualize dependency graph between variables defined in our system `S` by using some internal functions provided by the framework."
   ]
  },
  {
   "cell_type": "code",
   "execution_count": 42,
   "metadata": {
    "tags": []
   },
   "outputs": [
    {
     "data": {
      "image/svg+xml": [
       "<?xml version=\"1.0\" encoding=\"UTF-8\" standalone=\"no\"?>\n",
       "<!DOCTYPE svg PUBLIC \"-//W3C//DTD SVG 1.1//EN\"\n",
       " \"http://www.w3.org/Graphics/SVG/1.1/DTD/svg11.dtd\">\n",
       "<!-- Generated by graphviz version 2.50.0 (20211204.2007)\n",
       " -->\n",
       "<!-- Pages: 1 -->\n",
       "<svg width=\"497pt\" height=\"190pt\"\n",
       " viewBox=\"0.00 0.00 496.88 190.00\" xmlns=\"http://www.w3.org/2000/svg\" xmlns:xlink=\"http://www.w3.org/1999/xlink\">\n",
       "<g id=\"graph0\" class=\"graph\" transform=\"scale(1 1) rotate(0) translate(4 186)\">\n",
       "<polygon fill=\"white\" stroke=\"transparent\" points=\"-4,4 -4,-186 492.88,-186 492.88,4 -4,4\"/>\n",
       "<!-- 1 -->\n",
       "<g id=\"node1\" class=\"node\">\n",
       "<title>1</title>\n",
       "<text text-anchor=\"middle\" x=\"179\" y=\"-144.8\" font-family=\"Courier,monospace\" font-size=\"9.00\">∘context</text>\n",
       "</g>\n",
       "<!-- 2 -->\n",
       "<g id=\"node2\" class=\"node\">\n",
       "<title>2</title>\n",
       "<text text-anchor=\"middle\" x=\"179\" y=\"-116.8\" font-family=\"Courier,monospace\" font-size=\"9.00\">context</text>\n",
       "</g>\n",
       "<!-- 1&#45;&gt;2 -->\n",
       "<g id=\"edge1\" class=\"edge\">\n",
       "<title>1&#45;&gt;2</title>\n",
       "<path fill=\"none\" stroke=\"black\" stroke-width=\"0.2\" d=\"M179,-139.97C179,-136.53 179,-132.16 179,-128.39\"/>\n",
       "<polygon fill=\"black\" stroke=\"black\" stroke-width=\"0.2\" points=\"179.7,-128.36 179,-126.36 178.3,-128.36 179.7,-128.36\"/>\n",
       "</g>\n",
       "<!-- 3 -->\n",
       "<g id=\"node3\" class=\"node\">\n",
       "<title>3</title>\n",
       "<text text-anchor=\"middle\" x=\"179\" y=\"-4.8\" font-family=\"Courier,monospace\" font-size=\"9.00\">⋆context</text>\n",
       "</g>\n",
       "<!-- 2&#45;&gt;3 -->\n",
       "<g id=\"edge2\" class=\"edge\">\n",
       "<title>2&#45;&gt;3</title>\n",
       "<path fill=\"none\" stroke=\"black\" stroke-width=\"0.2\" d=\"M179,-111.77C179,-93.09 179,-37.53 179,-16.34\"/>\n",
       "<polygon fill=\"black\" stroke=\"black\" stroke-width=\"0.2\" points=\"179.7,-16.16 179,-14.16 178.3,-16.16 179.7,-16.16\"/>\n",
       "</g>\n",
       "<!-- 8 -->\n",
       "<g id=\"node8\" class=\"node\">\n",
       "<title>8</title>\n",
       "<text text-anchor=\"middle\" x=\"357\" y=\"-88.8\" font-family=\"Courier,monospace\" font-size=\"9.00\">x</text>\n",
       "</g>\n",
       "<!-- 2&#45;&gt;8 -->\n",
       "<g id=\"edge3\" class=\"edge\">\n",
       "<title>2&#45;&gt;8</title>\n",
       "<path fill=\"none\" stroke=\"black\" stroke-width=\"0.2\" d=\"M199.77,-114.97C239.39,-109.18 324.11,-96.8 349.6,-93.08\"/>\n",
       "<polygon fill=\"black\" stroke=\"black\" stroke-width=\"0.2\" points=\"350,-93.73 351.87,-92.75 349.79,-92.35 350,-93.73\"/>\n",
       "</g>\n",
       "<!-- 9 -->\n",
       "<g id=\"node9\" class=\"node\">\n",
       "<title>9</title>\n",
       "<text text-anchor=\"middle\" x=\"357\" y=\"-32.8\" font-family=\"Courier,monospace\" font-size=\"9.00\">⋆x</text>\n",
       "</g>\n",
       "<!-- 2&#45;&gt;9 -->\n",
       "<g id=\"edge4\" class=\"edge\">\n",
       "<title>2&#45;&gt;9</title>\n",
       "<path fill=\"none\" stroke=\"black\" stroke-width=\"0.2\" d=\"M192.09,-111.97C226.27,-96.22 317.65,-54.13 347.45,-40.4\"/>\n",
       "<polygon fill=\"black\" stroke=\"black\" stroke-width=\"0.2\" points=\"347.97,-40.93 349.49,-39.46 347.38,-39.66 347.97,-40.93\"/>\n",
       "</g>\n",
       "<!-- 4 -->\n",
       "<g id=\"node4\" class=\"node\">\n",
       "<title>4</title>\n",
       "<text text-anchor=\"middle\" x=\"179\" y=\"-172.8\" font-family=\"Courier,monospace\" font-size=\"9.00\">config</text>\n",
       "</g>\n",
       "<!-- 4&#45;&gt;1 -->\n",
       "<g id=\"edge5\" class=\"edge\">\n",
       "<title>4&#45;&gt;1</title>\n",
       "<path fill=\"none\" stroke=\"black\" stroke-width=\"0.2\" d=\"M179,-167.97C179,-164.53 179,-160.16 179,-156.39\"/>\n",
       "<polygon fill=\"black\" stroke=\"black\" stroke-width=\"0.2\" points=\"179.7,-156.36 179,-154.36 178.3,-156.36 179.7,-156.36\"/>\n",
       "</g>\n",
       "<!-- 4&#45;&gt;3 -->\n",
       "<g id=\"edge6\" class=\"edge\">\n",
       "<title>4&#45;&gt;3</title>\n",
       "<path fill=\"none\" stroke=\"black\" stroke-width=\"0.2\" d=\"M160.85,-172.42C115.34,-167.96 0,-153.35 0,-120 0,-120 0,-120 0,-62 0,-30.38 103.65,-15.62 153.2,-10.36\"/>\n",
       "<polygon fill=\"black\" stroke=\"black\" stroke-width=\"0.2\" points=\"153.31,-11.05 155.23,-10.15 153.17,-9.66 153.31,-11.05\"/>\n",
       "</g>\n",
       "<!-- 6 -->\n",
       "<g id=\"node6\" class=\"node\">\n",
       "<title>6</title>\n",
       "<text text-anchor=\"middle\" x=\"430\" y=\"-88.8\" font-family=\"Courier,monospace\" font-size=\"9.00\">a</text>\n",
       "</g>\n",
       "<!-- 4&#45;&gt;6 -->\n",
       "<g id=\"edge7\" class=\"edge\">\n",
       "<title>4&#45;&gt;6</title>\n",
       "<path fill=\"none\" stroke=\"black\" stroke-width=\"0.2\" d=\"M197.05,-168.1C247.55,-151.61 388.76,-105.47 422.63,-94.41\"/>\n",
       "<polygon fill=\"black\" stroke=\"black\" stroke-width=\"0.2\" points=\"423.2,-94.96 424.88,-93.67 422.76,-93.63 423.2,-94.96\"/>\n",
       "</g>\n",
       "<!-- 5 -->\n",
       "<g id=\"node5\" class=\"node\">\n",
       "<title>5</title>\n",
       "<text text-anchor=\"middle\" x=\"477\" y=\"-116.8\" font-family=\"Courier,monospace\" font-size=\"9.00\">i</text>\n",
       "</g>\n",
       "<!-- 5&#45;&gt;8 -->\n",
       "<g id=\"edge8\" class=\"edge\">\n",
       "<title>5&#45;&gt;8</title>\n",
       "<path fill=\"none\" stroke=\"black\" stroke-width=\"0.2\" d=\"M471.84,-116.88C452.72,-112.74 385.84,-98.25 363.98,-93.51\"/>\n",
       "<polygon fill=\"black\" stroke=\"black\" stroke-width=\"0.2\" points=\"364.11,-92.82 362,-93.08 363.81,-94.19 364.11,-92.82\"/>\n",
       "</g>\n",
       "<!-- 5&#45;&gt;9 -->\n",
       "<g id=\"edge9\" class=\"edge\">\n",
       "<title>5&#45;&gt;9</title>\n",
       "<path fill=\"none\" stroke=\"black\" stroke-width=\"0.2\" d=\"M476.07,-111.78C473.85,-99.17 467,-70.56 449,-56 424.58,-36.24 384.97,-34.88 366.75,-35.43\"/>\n",
       "<polygon fill=\"black\" stroke=\"black\" stroke-width=\"0.2\" points=\"366.61,-34.73 364.63,-35.5 366.66,-36.13 366.61,-34.73\"/>\n",
       "</g>\n",
       "<!-- 7 -->\n",
       "<g id=\"node7\" class=\"node\">\n",
       "<title>7</title>\n",
       "<text text-anchor=\"middle\" x=\"435\" y=\"-60.8\" font-family=\"Courier,monospace\" font-size=\"9.00\">r</text>\n",
       "</g>\n",
       "<!-- 6&#45;&gt;7 -->\n",
       "<g id=\"edge10\" class=\"edge\">\n",
       "<title>6&#45;&gt;7</title>\n",
       "<path fill=\"none\" stroke=\"black\" stroke-width=\"0.2\" d=\"M431.16,-83.97C431.82,-80.53 432.66,-76.16 433.39,-72.39\"/>\n",
       "<polygon fill=\"black\" stroke=\"black\" stroke-width=\"0.2\" points=\"434.09,-72.46 433.78,-70.36 432.71,-72.19 434.09,-72.46\"/>\n",
       "</g>\n",
       "<!-- 7&#45;&gt;9 -->\n",
       "<g id=\"edge11\" class=\"edge\">\n",
       "<title>7&#45;&gt;9</title>\n",
       "<path fill=\"none\" stroke=\"black\" stroke-width=\"0.2\" d=\"M429.88,-60.29C417.12,-56.04 383.68,-44.89 366.91,-39.3\"/>\n",
       "<polygon fill=\"black\" stroke=\"black\" stroke-width=\"0.2\" points=\"367.06,-38.62 364.94,-38.65 366.62,-39.94 367.06,-38.62\"/>\n",
       "</g>\n",
       "<!-- 8&#45;&gt;3 -->\n",
       "<g id=\"edge12\" class=\"edge\">\n",
       "<title>8&#45;&gt;3</title>\n",
       "<path fill=\"none\" stroke=\"black\" stroke-width=\"0.2\" d=\"M351.86,-87.63C328.56,-76.9 232.24,-32.53 194.38,-15.09\"/>\n",
       "<polygon fill=\"black\" stroke=\"black\" stroke-width=\"0.2\" points=\"194.3,-14.28 192.19,-14.08 193.71,-15.55 194.3,-14.28\"/>\n",
       "</g>\n",
       "<!-- 8&#45;&gt;7 -->\n",
       "<g id=\"edge13\" class=\"edge\">\n",
       "<title>8&#45;&gt;7</title>\n",
       "<path fill=\"none\" stroke=\"black\" stroke-width=\"0.2\" d=\"M362.12,-88.29C375.56,-83.81 411.89,-71.7 427.6,-66.47\"/>\n",
       "<polygon fill=\"black\" stroke=\"black\" stroke-width=\"0.2\" points=\"428.09,-67.04 429.76,-65.75 427.64,-65.71 428.09,-67.04\"/>\n",
       "</g>\n",
       "<!-- 8&#45;&gt;9 -->\n",
       "<g id=\"edge14\" class=\"edge\">\n",
       "<title>8&#45;&gt;9</title>\n",
       "<path fill=\"none\" stroke=\"black\" stroke-width=\"0.2\" d=\"M357,-83.81C357,-74.04 357,-55.06 357,-44.18\"/>\n",
       "<polygon fill=\"black\" stroke=\"black\" stroke-width=\"0.2\" points=\"357.7,-44.12 357,-42.12 356.3,-44.12 357.7,-44.12\"/>\n",
       "</g>\n",
       "<!-- 9&#45;&gt;3 -->\n",
       "<g id=\"edge15\" class=\"edge\">\n",
       "<title>9&#45;&gt;3</title>\n",
       "<path fill=\"none\" stroke=\"black\" stroke-width=\"0.2\" d=\"M349.35,-32.88C324.69,-29.28 246.47,-17.86 205.15,-11.82\"/>\n",
       "<polygon fill=\"black\" stroke=\"black\" stroke-width=\"0.2\" points=\"204.81,-11.06 202.73,-11.47 204.61,-12.45 204.81,-11.06\"/>\n",
       "</g>\n",
       "</g>\n",
       "</svg>\n"
      ],
      "text/plain": [
       "\u001b[90m[\u001b[39m\u001b[94mi\u001b[39m\u001b[90m → \u001b[39m\u001b[94mconfig\u001b[39m\u001b[90m → \u001b[39m\u001b[94ma\u001b[39m\u001b[90m → \u001b[39m\u001b[94m∘context\u001b[39m\u001b[90m → \u001b[39m\u001b[94mcontext\u001b[39m\u001b[90m → \u001b[39m\u001b[94mx\u001b[39m\u001b[90m → \u001b[39m\u001b[94mr\u001b[39m\u001b[90m → \u001b[39m\u001b[94m⋆x\u001b[39m\u001b[90m → \u001b[39m\u001b[94m⋆context\u001b[39m\u001b[90m]\u001b[39m"
      ]
     },
     "execution_count": 42,
     "metadata": {},
     "output_type": "execute_result"
    }
   ],
   "source": [
    "Cropbox.dependency(S)"
   ]
  },
  {
   "cell_type": "markdown",
   "metadata": {},
   "source": [
    "For example, it's clear to see `r` depends on two variables `x` and `a`. There are some auxiliary nodes (prefixed with $\\circ$/$\\star$) and implicit variables (*i.e.* `config`, `context`) not declared in our model specification and we will discuss them later."
   ]
  },
  {
   "cell_type": "markdown",
   "metadata": {},
   "source": [
    "### Model Simulation"
   ]
  },
  {
   "cell_type": "markdown",
   "metadata": {},
   "source": [
    "Once we have our model repressented in a system `S`, we can run the model for simulation. While you can directly instantiate your model by calling `instance(S)`, here we  will use a helper function `simulate()` for simplicity. It will internally instantiate the model, update it for a given number of iterations and return the result packed in a `DataFrame`. By default, columns will include `tick` variable from internal `Clock` and all state variables defined in the target system."
   ]
  },
  {
   "cell_type": "code",
   "execution_count": 43,
   "metadata": {
    "tags": []
   },
   "outputs": [
    {
     "data": {
      "text/html": [
       "<div><div style = \"float: left;\"><span>11×5 DataFrame</span></div><div style = \"clear: both;\"></div></div><div class = \"data-frame\" style = \"overflow-x: scroll;\"><table class = \"data-frame\" style = \"margin-bottom: 6px;\"><thead><tr class = \"header\"><th class = \"rowNumber\" style = \"font-weight: bold; text-align: right;\">Row</th><th style = \"text-align: left;\">time</th><th style = \"text-align: left;\">i</th><th style = \"text-align: left;\">a</th><th style = \"text-align: left;\">r</th><th style = \"text-align: left;\">x</th></tr><tr class = \"subheader headerLastRow\"><th class = \"rowNumber\" style = \"font-weight: bold; text-align: right;\"></th><th title = \"Unitful.Quantity{Float64, 𝐓, Unitful.FreeUnits{(hr,), 𝐓, nothing}}\" style = \"text-align: left;\">Quantity…</th><th title = \"Float64\" style = \"text-align: left;\">Float64</th><th title = \"Float64\" style = \"text-align: left;\">Float64</th><th title = \"Float64\" style = \"text-align: left;\">Float64</th><th title = \"Float64\" style = \"text-align: left;\">Float64</th></tr></thead><tbody><tr><td class = \"rowNumber\" style = \"font-weight: bold; text-align: right;\">1</td><td style = \"text-align: right;\">0.0 hr</td><td style = \"text-align: right;\">1.0</td><td style = \"text-align: right;\">0.1</td><td style = \"text-align: right;\">0.1</td><td style = \"text-align: right;\">1.0</td></tr><tr><td class = \"rowNumber\" style = \"font-weight: bold; text-align: right;\">2</td><td style = \"text-align: right;\">1.0 hr</td><td style = \"text-align: right;\">1.0</td><td style = \"text-align: right;\">0.1</td><td style = \"text-align: right;\">0.11</td><td style = \"text-align: right;\">1.1</td></tr><tr><td class = \"rowNumber\" style = \"font-weight: bold; text-align: right;\">3</td><td style = \"text-align: right;\">2.0 hr</td><td style = \"text-align: right;\">1.0</td><td style = \"text-align: right;\">0.1</td><td style = \"text-align: right;\">0.121</td><td style = \"text-align: right;\">1.21</td></tr><tr><td class = \"rowNumber\" style = \"font-weight: bold; text-align: right;\">4</td><td style = \"text-align: right;\">3.0 hr</td><td style = \"text-align: right;\">1.0</td><td style = \"text-align: right;\">0.1</td><td style = \"text-align: right;\">0.1331</td><td style = \"text-align: right;\">1.331</td></tr><tr><td class = \"rowNumber\" style = \"font-weight: bold; text-align: right;\">5</td><td style = \"text-align: right;\">4.0 hr</td><td style = \"text-align: right;\">1.0</td><td style = \"text-align: right;\">0.1</td><td style = \"text-align: right;\">0.14641</td><td style = \"text-align: right;\">1.4641</td></tr><tr><td class = \"rowNumber\" style = \"font-weight: bold; text-align: right;\">6</td><td style = \"text-align: right;\">5.0 hr</td><td style = \"text-align: right;\">1.0</td><td style = \"text-align: right;\">0.1</td><td style = \"text-align: right;\">0.161051</td><td style = \"text-align: right;\">1.61051</td></tr><tr><td class = \"rowNumber\" style = \"font-weight: bold; text-align: right;\">7</td><td style = \"text-align: right;\">6.0 hr</td><td style = \"text-align: right;\">1.0</td><td style = \"text-align: right;\">0.1</td><td style = \"text-align: right;\">0.177156</td><td style = \"text-align: right;\">1.77156</td></tr><tr><td class = \"rowNumber\" style = \"font-weight: bold; text-align: right;\">8</td><td style = \"text-align: right;\">7.0 hr</td><td style = \"text-align: right;\">1.0</td><td style = \"text-align: right;\">0.1</td><td style = \"text-align: right;\">0.194872</td><td style = \"text-align: right;\">1.94872</td></tr><tr><td class = \"rowNumber\" style = \"font-weight: bold; text-align: right;\">9</td><td style = \"text-align: right;\">8.0 hr</td><td style = \"text-align: right;\">1.0</td><td style = \"text-align: right;\">0.1</td><td style = \"text-align: right;\">0.214359</td><td style = \"text-align: right;\">2.14359</td></tr><tr><td class = \"rowNumber\" style = \"font-weight: bold; text-align: right;\">10</td><td style = \"text-align: right;\">9.0 hr</td><td style = \"text-align: right;\">1.0</td><td style = \"text-align: right;\">0.1</td><td style = \"text-align: right;\">0.235795</td><td style = \"text-align: right;\">2.35795</td></tr><tr><td class = \"rowNumber\" style = \"font-weight: bold; text-align: right;\">11</td><td style = \"text-align: right;\">10.0 hr</td><td style = \"text-align: right;\">1.0</td><td style = \"text-align: right;\">0.1</td><td style = \"text-align: right;\">0.259374</td><td style = \"text-align: right;\">2.59374</td></tr></tbody></table></div>"
      ],
      "text/latex": [
       "\\begin{tabular}{r|ccccc}\n",
       "\t& time & i & a & r & x\\\\\n",
       "\t\\hline\n",
       "\t& Quantity… & Float64 & Float64 & Float64 & Float64\\\\\n",
       "\t\\hline\n",
       "\t1 & 0.0 hr & 1.0 & 0.1 & 0.1 & 1.0 \\\\\n",
       "\t2 & 1.0 hr & 1.0 & 0.1 & 0.11 & 1.1 \\\\\n",
       "\t3 & 2.0 hr & 1.0 & 0.1 & 0.121 & 1.21 \\\\\n",
       "\t4 & 3.0 hr & 1.0 & 0.1 & 0.1331 & 1.331 \\\\\n",
       "\t5 & 4.0 hr & 1.0 & 0.1 & 0.14641 & 1.4641 \\\\\n",
       "\t6 & 5.0 hr & 1.0 & 0.1 & 0.161051 & 1.61051 \\\\\n",
       "\t7 & 6.0 hr & 1.0 & 0.1 & 0.177156 & 1.77156 \\\\\n",
       "\t8 & 7.0 hr & 1.0 & 0.1 & 0.194872 & 1.94872 \\\\\n",
       "\t9 & 8.0 hr & 1.0 & 0.1 & 0.214359 & 2.14359 \\\\\n",
       "\t10 & 9.0 hr & 1.0 & 0.1 & 0.235795 & 2.35795 \\\\\n",
       "\t11 & 10.0 hr & 1.0 & 0.1 & 0.259374 & 2.59374 \\\\\n",
       "\\end{tabular}\n"
      ],
      "text/plain": [
       "\u001b[1m11×5 DataFrame\u001b[0m\n",
       "\u001b[1m Row \u001b[0m│\u001b[1m time      \u001b[0m\u001b[1m i       \u001b[0m\u001b[1m a       \u001b[0m\u001b[1m r        \u001b[0m\u001b[1m x       \u001b[0m\n",
       "     │\u001b[90m Quantity… \u001b[0m\u001b[90m Float64 \u001b[0m\u001b[90m Float64 \u001b[0m\u001b[90m Float64  \u001b[0m\u001b[90m Float64 \u001b[0m\n",
       "─────┼────────────────────────────────────────────────\n",
       "   1 │    0.0 hr      1.0      0.1  0.1       1.0\n",
       "   2 │    1.0 hr      1.0      0.1  0.11      1.1\n",
       "   3 │    2.0 hr      1.0      0.1  0.121     1.21\n",
       "   4 │    3.0 hr      1.0      0.1  0.1331    1.331\n",
       "   5 │    4.0 hr      1.0      0.1  0.14641   1.4641\n",
       "   6 │    5.0 hr      1.0      0.1  0.161051  1.61051\n",
       "   7 │    6.0 hr      1.0      0.1  0.177156  1.77156\n",
       "   8 │    7.0 hr      1.0      0.1  0.194872  1.94872\n",
       "   9 │    8.0 hr      1.0      0.1  0.214359  2.14359\n",
       "  10 │    9.0 hr      1.0      0.1  0.235795  2.35795\n",
       "  11 │   10.0 hr      1.0      0.1  0.259374  2.59374"
      ]
     },
     "execution_count": 43,
     "metadata": {},
     "output_type": "execute_result"
    }
   ],
   "source": [
    "r = simulate(S; stop = 10)"
   ]
  },
  {
   "cell_type": "markdown",
   "metadata": {},
   "source": [
    "Note that `tick` is in hourly units (`hr`) by default."
   ]
  },
  {
   "cell_type": "markdown",
   "metadata": {},
   "source": [
    "#### Plotting"
   ]
  },
  {
   "cell_type": "markdown",
   "metadata": {},
   "source": [
    "As the result is backed by [DataFrames.jl](https://github.com/JuliaData/DataFrames.jl), we can easily hand it off to other Julia packages for further analysis. Cropbox framework also provides a handy `visualize()` function for simple visualization."
   ]
  },
  {
   "cell_type": "code",
   "execution_count": 44,
   "metadata": {
    "tags": []
   },
   "outputs": [
    {
     "data": {
      "image/svg+xml": [
       "<?xml version=\"1.0\" encoding=\"UTF-8\"?>\n",
       "<svg xmlns=\"http://www.w3.org/2000/svg\"\n",
       "     xmlns:xlink=\"http://www.w3.org/1999/xlink\"\n",
       "     xmlns:gadfly=\"http://www.gadflyjl.org/ns\"\n",
       "     version=\"1.2\"\n",
       "     width=\"141.42mm\" height=\"100mm\" viewBox=\"0 0 141.42 100\"\n",
       "     stroke=\"none\"\n",
       "     fill=\"#000000\"\n",
       "     stroke-width=\"0.3\"\n",
       "     font-size=\"3.88\"\n",
       ">\n",
       "<defs>\n",
       "  <marker id=\"arrow\" markerWidth=\"15\" markerHeight=\"7\" refX=\"5\" refY=\"3.5\" orient=\"auto\" markerUnits=\"strokeWidth\">\n",
       "    <path d=\"M0,0 L15,3.5 L0,7 z\" stroke=\"context-stroke\" fill=\"context-stroke\"/>\n",
       "  </marker>\n",
       "</defs>\n",
       "<g stroke=\"#000000\" stroke-opacity=\"0.000\" fill=\"#FFFFFF\" id=\"img-ca59c9db-1\">\n",
       "  <g transform=\"translate(70.71,50)\">\n",
       "    <path d=\"M-70.71,-50 L70.71,-50 70.71,50 -70.71,50  z\" class=\"primitive\"/>\n",
       "  </g>\n",
       "</g>\n",
       "<g class=\"plotroot xscalable yscalable\" id=\"img-ca59c9db-2\">\n",
       "  <g font-size=\"3.53\" font-family=\"'PT Sans','Helvetica Neue','Helvetica',sans-serif\" fill=\"#564A55\" stroke=\"#000000\" stroke-opacity=\"0.000\" id=\"img-ca59c9db-3\">\n",
       "    <g transform=\"translate(70.68,93.72)\">\n",
       "      <g class=\"primitive\">\n",
       "        <text text-anchor=\"middle\" dy=\"0.6em\">time (hr)</text>\n",
       "      </g>\n",
       "    </g>\n",
       "  </g>\n",
       "  <g class=\"guide xlabels\" font-size=\"2.82\" font-family=\"'PT Sans Caption','Helvetica Neue','Helvetica',sans-serif\" fill=\"#6C606B\" id=\"img-ca59c9db-4\">\n",
       "    <g transform=\"translate(13.02,87.04)\">\n",
       "      <g class=\"primitive\">\n",
       "        <text text-anchor=\"middle\" dy=\"0.6em\">0</text>\n",
       "      </g>\n",
       "    </g>\n",
       "    <g transform=\"translate(70.68,87.04)\">\n",
       "      <g class=\"primitive\">\n",
       "        <text text-anchor=\"middle\" dy=\"0.6em\">5</text>\n",
       "      </g>\n",
       "    </g>\n",
       "    <g transform=\"translate(128.34,87.04)\">\n",
       "      <g class=\"primitive\">\n",
       "        <text text-anchor=\"middle\" dy=\"0.6em\">10</text>\n",
       "      </g>\n",
       "    </g>\n",
       "  </g>\n",
       "  <g class=\"guide colorkey\" id=\"img-ca59c9db-5\">\n",
       "    <g fill=\"#4C404B\" font-size=\"2.82\" font-family=\"'PT Sans','Helvetica Neue','Helvetica',sans-serif\" id=\"img-ca59c9db-6\">\n",
       "      <g transform=\"translate(134.97,47.75)\" id=\"img-ca59c9db-7\">\n",
       "        <g class=\"primitive\">\n",
       "          <text dy=\"0.35em\">x</text>\n",
       "        </g>\n",
       "      </g>\n",
       "    </g>\n",
       "    <g stroke-width=\"0.3\" id=\"img-ca59c9db-8\">\n",
       "      <g stroke=\"#FFFFFF\" stroke-opacity=\"0.000\" fill-opacity=\"1\" fill=\"#00BFFF\" id=\"img-ca59c9db-9\">\n",
       "        <g transform=\"translate(132.15,47.75)\" id=\"img-ca59c9db-10\">\n",
       "          <circle cx=\"0\" cy=\"0\" r=\"0.7\" class=\"primitive\"/>\n",
       "        </g>\n",
       "      </g>\n",
       "    </g>\n",
       "    <g fill=\"#362A35\" font-size=\"3.18\" font-family=\"'PT Sans','Helvetica Neue','Helvetica',sans-serif\" stroke=\"#000000\" stroke-opacity=\"0.000\" id=\"img-ca59c9db-11\">\n",
       "      <g transform=\"translate(131.34,44.44)\" id=\"img-ca59c9db-12\">\n",
       "        <g class=\"primitive\">\n",
       "          <text dy=\"-0em\"></text>\n",
       "        </g>\n",
       "      </g>\n",
       "    </g>\n",
       "  </g>\n",
       "  <g clip-path=\"url(#img-ca59c9db-13)\">\n",
       "    <g id=\"img-ca59c9db-14\">\n",
       "      <g pointer-events=\"visible\" stroke-width=\"0.3\" fill=\"#000000\" fill-opacity=\"0.000\" stroke=\"#000000\" stroke-opacity=\"0.000\" class=\"guide background\" id=\"img-ca59c9db-15\">\n",
       "        <g transform=\"translate(70.68,45.52)\" id=\"img-ca59c9db-16\">\n",
       "          <path d=\"M-59.66,-40.52 L59.66,-40.52 59.66,40.52 -59.66,40.52  z\" class=\"primitive\"/>\n",
       "        </g>\n",
       "      </g>\n",
       "      <g class=\"guide ygridlines xfixed\" stroke-dasharray=\"0.5,0.5\" stroke-width=\"0.2\" stroke=\"#D0D0E0\" id=\"img-ca59c9db-17\">\n",
       "        <g transform=\"translate(70.68,84.04)\" id=\"img-ca59c9db-18\">\n",
       "          <path fill=\"none\" d=\"M-59.66,0 L59.66,0 \" class=\"primitive\"/>\n",
       "        </g>\n",
       "        <g transform=\"translate(70.68,64.78)\" id=\"img-ca59c9db-19\">\n",
       "          <path fill=\"none\" d=\"M-59.66,0 L59.66,0 \" class=\"primitive\"/>\n",
       "        </g>\n",
       "        <g transform=\"translate(70.68,45.52)\" id=\"img-ca59c9db-20\">\n",
       "          <path fill=\"none\" d=\"M-59.66,0 L59.66,0 \" class=\"primitive\"/>\n",
       "        </g>\n",
       "        <g transform=\"translate(70.68,26.26)\" id=\"img-ca59c9db-21\">\n",
       "          <path fill=\"none\" d=\"M-59.66,0 L59.66,0 \" class=\"primitive\"/>\n",
       "        </g>\n",
       "        <g transform=\"translate(70.68,7)\" id=\"img-ca59c9db-22\">\n",
       "          <path fill=\"none\" d=\"M-59.66,0 L59.66,0 \" class=\"primitive\"/>\n",
       "        </g>\n",
       "      </g>\n",
       "      <g class=\"guide xgridlines yfixed\" stroke-dasharray=\"0.5,0.5\" stroke-width=\"0.2\" stroke=\"#D0D0E0\" id=\"img-ca59c9db-23\">\n",
       "        <g transform=\"translate(13.02,45.52)\" id=\"img-ca59c9db-24\">\n",
       "          <path fill=\"none\" d=\"M0,-40.52 L0,40.52 \" class=\"primitive\"/>\n",
       "        </g>\n",
       "        <g transform=\"translate(70.68,45.52)\" id=\"img-ca59c9db-25\">\n",
       "          <path fill=\"none\" d=\"M0,-40.52 L0,40.52 \" class=\"primitive\"/>\n",
       "        </g>\n",
       "        <g transform=\"translate(128.34,45.52)\" id=\"img-ca59c9db-26\">\n",
       "          <path fill=\"none\" d=\"M0,-40.52 L0,40.52 \" class=\"primitive\"/>\n",
       "        </g>\n",
       "      </g>\n",
       "      <g class=\"plotpanel\" id=\"img-ca59c9db-27\">\n",
       "        <metadata>\n",
       "          <boundingbox value=\"11.019999999999996mm 5.0mm 119.32135623730952mm 81.04333333333335mm\"/>\n",
       "          <unitbox value=\"-0.17342841475818052 3.0519188335568725 10.346856829516362 -2.1038376671137455\"/>\n",
       "        </metadata>\n",
       "        <g stroke-width=\"0.3\" fill=\"#000000\" fill-opacity=\"0.000\" class=\"geometry\" id=\"img-ca59c9db-28\">\n",
       "          <g class=\"color_LCHab{Float32}(70.0f0,60.0f0,240.0f0)\" stroke-dasharray=\"none\" stroke-opacity=\"1\" stroke=\"#00BFFF\" id=\"img-ca59c9db-29\">\n",
       "            <g transform=\"translate(70.68,57.67)\" id=\"img-ca59c9db-30\">\n",
       "              <path fill=\"none\" d=\"M-57.66,26.37 L-46.13,22.52 -34.6,18.28 -23.06,13.62 -11.53,8.5 -0,2.86 11.53,-3.35 23.06,-10.17 34.6,-17.68 46.13,-25.94 57.66,-35.02 \" class=\"primitive\"/>\n",
       "            </g>\n",
       "          </g>\n",
       "        </g>\n",
       "      </g>\n",
       "    </g>\n",
       "  </g>\n",
       "  <g class=\"guide ylabels\" font-size=\"2.82\" font-family=\"'PT Sans Caption','Helvetica Neue','Helvetica',sans-serif\" fill=\"#6C606B\" id=\"img-ca59c9db-31\">\n",
       "    <g transform=\"translate(10.02,84.04)\" id=\"img-ca59c9db-32\">\n",
       "      <g class=\"primitive\">\n",
       "        <text text-anchor=\"end\" dy=\"0.35em\">1.0</text>\n",
       "      </g>\n",
       "    </g>\n",
       "    <g transform=\"translate(10.02,64.78)\" id=\"img-ca59c9db-33\">\n",
       "      <g class=\"primitive\">\n",
       "        <text text-anchor=\"end\" dy=\"0.35em\">1.5</text>\n",
       "      </g>\n",
       "    </g>\n",
       "    <g transform=\"translate(10.02,45.52)\" id=\"img-ca59c9db-34\">\n",
       "      <g class=\"primitive\">\n",
       "        <text text-anchor=\"end\" dy=\"0.35em\">2.0</text>\n",
       "      </g>\n",
       "    </g>\n",
       "    <g transform=\"translate(10.02,26.26)\" id=\"img-ca59c9db-35\">\n",
       "      <g class=\"primitive\">\n",
       "        <text text-anchor=\"end\" dy=\"0.35em\">2.5</text>\n",
       "      </g>\n",
       "    </g>\n",
       "    <g transform=\"translate(10.02,7)\" id=\"img-ca59c9db-36\">\n",
       "      <g class=\"primitive\">\n",
       "        <text text-anchor=\"end\" dy=\"0.35em\">3.0</text>\n",
       "      </g>\n",
       "    </g>\n",
       "  </g>\n",
       "</g>\n",
       "<defs>\n",
       "  <clipPath id=\"img-ca59c9db-13\">\n",
       "    <path d=\"M11.02,5 L130.34,5 130.34,86.04 11.02,86.04 \" />\n",
       "  </clipPath>\n",
       "</defs>\n",
       "</svg>\n"
      ],
      "text/html": [
       "<?xml version=\"1.0\" encoding=\"UTF-8\"?>\n",
       "<svg xmlns=\"http://www.w3.org/2000/svg\"\n",
       "     xmlns:xlink=\"http://www.w3.org/1999/xlink\"\n",
       "     xmlns:gadfly=\"http://www.gadflyjl.org/ns\"\n",
       "     version=\"1.2\"\n",
       "     width=\"141.42mm\" height=\"100mm\" viewBox=\"0 0 141.42 100\"\n",
       "     stroke=\"none\"\n",
       "     fill=\"#000000\"\n",
       "     stroke-width=\"0.3\"\n",
       "     font-size=\"3.88\"\n",
       ">\n",
       "<defs>\n",
       "  <marker id=\"arrow\" markerWidth=\"15\" markerHeight=\"7\" refX=\"5\" refY=\"3.5\" orient=\"auto\" markerUnits=\"strokeWidth\">\n",
       "    <path d=\"M0,0 L15,3.5 L0,7 z\" stroke=\"context-stroke\" fill=\"context-stroke\"/>\n",
       "  </marker>\n",
       "</defs>\n",
       "<g stroke=\"#000000\" stroke-opacity=\"0.000\" fill=\"#FFFFFF\" id=\"img-47f0d411-1\">\n",
       "  <g transform=\"translate(70.71,50)\">\n",
       "    <path d=\"M-70.71,-50 L70.71,-50 70.71,50 -70.71,50  z\" class=\"primitive\"/>\n",
       "  </g>\n",
       "</g>\n",
       "<g class=\"plotroot xscalable yscalable\" id=\"img-47f0d411-2\">\n",
       "  <g font-size=\"3.53\" font-family=\"'PT Sans','Helvetica Neue','Helvetica',sans-serif\" fill=\"#564A55\" stroke=\"#000000\" stroke-opacity=\"0.000\" id=\"img-47f0d411-3\">\n",
       "    <g transform=\"translate(70.68,93.72)\">\n",
       "      <g class=\"primitive\">\n",
       "        <text text-anchor=\"middle\" dy=\"0.6em\">time (hr)</text>\n",
       "      </g>\n",
       "    </g>\n",
       "  </g>\n",
       "  <g class=\"guide xlabels\" font-size=\"2.82\" font-family=\"'PT Sans Caption','Helvetica Neue','Helvetica',sans-serif\" fill=\"#6C606B\" id=\"img-47f0d411-4\">\n",
       "    <g transform=\"translate(13.02,87.04)\">\n",
       "      <g class=\"primitive\">\n",
       "        <text text-anchor=\"middle\" dy=\"0.6em\">0</text>\n",
       "      </g>\n",
       "    </g>\n",
       "    <g transform=\"translate(70.68,87.04)\">\n",
       "      <g class=\"primitive\">\n",
       "        <text text-anchor=\"middle\" dy=\"0.6em\">5</text>\n",
       "      </g>\n",
       "    </g>\n",
       "    <g transform=\"translate(128.34,87.04)\">\n",
       "      <g class=\"primitive\">\n",
       "        <text text-anchor=\"middle\" dy=\"0.6em\">10</text>\n",
       "      </g>\n",
       "    </g>\n",
       "  </g>\n",
       "  <g class=\"guide colorkey\" id=\"img-47f0d411-5\">\n",
       "    <g fill=\"#4C404B\" font-size=\"2.82\" font-family=\"'PT Sans','Helvetica Neue','Helvetica',sans-serif\" id=\"img-47f0d411-6\">\n",
       "      <g transform=\"translate(134.97,47.75)\" id=\"img-47f0d411-7\">\n",
       "        <g class=\"primitive\">\n",
       "          <text dy=\"0.35em\">x</text>\n",
       "        </g>\n",
       "      </g>\n",
       "    </g>\n",
       "    <g stroke-width=\"0.3\" id=\"img-47f0d411-8\">\n",
       "      <g stroke=\"#FFFFFF\" stroke-opacity=\"0.000\" fill-opacity=\"1\" fill=\"#00BFFF\" id=\"img-47f0d411-9\">\n",
       "        <g transform=\"translate(132.15,47.75)\" id=\"img-47f0d411-10\">\n",
       "          <circle cx=\"0\" cy=\"0\" r=\"0.7\" class=\"primitive\"/>\n",
       "        </g>\n",
       "      </g>\n",
       "    </g>\n",
       "    <g fill=\"#362A35\" font-size=\"3.18\" font-family=\"'PT Sans','Helvetica Neue','Helvetica',sans-serif\" stroke=\"#000000\" stroke-opacity=\"0.000\" id=\"img-47f0d411-11\">\n",
       "      <g transform=\"translate(131.34,44.44)\" id=\"img-47f0d411-12\">\n",
       "        <g class=\"primitive\">\n",
       "          <text dy=\"-0em\"></text>\n",
       "        </g>\n",
       "      </g>\n",
       "    </g>\n",
       "  </g>\n",
       "  <g clip-path=\"url(#img-47f0d411-13)\">\n",
       "    <g id=\"img-47f0d411-14\">\n",
       "      <g pointer-events=\"visible\" stroke-width=\"0.3\" fill=\"#000000\" fill-opacity=\"0.000\" stroke=\"#000000\" stroke-opacity=\"0.000\" class=\"guide background\" id=\"img-47f0d411-15\">\n",
       "        <g transform=\"translate(70.68,45.52)\" id=\"img-47f0d411-16\">\n",
       "          <path d=\"M-59.66,-40.52 L59.66,-40.52 59.66,40.52 -59.66,40.52  z\" class=\"primitive\"/>\n",
       "        </g>\n",
       "      </g>\n",
       "      <g class=\"guide ygridlines xfixed\" stroke-dasharray=\"0.5,0.5\" stroke-width=\"0.2\" stroke=\"#D0D0E0\" id=\"img-47f0d411-17\">\n",
       "        <g transform=\"translate(70.68,84.04)\" id=\"img-47f0d411-18\">\n",
       "          <path fill=\"none\" d=\"M-59.66,0 L59.66,0 \" class=\"primitive\"/>\n",
       "        </g>\n",
       "        <g transform=\"translate(70.68,64.78)\" id=\"img-47f0d411-19\">\n",
       "          <path fill=\"none\" d=\"M-59.66,0 L59.66,0 \" class=\"primitive\"/>\n",
       "        </g>\n",
       "        <g transform=\"translate(70.68,45.52)\" id=\"img-47f0d411-20\">\n",
       "          <path fill=\"none\" d=\"M-59.66,0 L59.66,0 \" class=\"primitive\"/>\n",
       "        </g>\n",
       "        <g transform=\"translate(70.68,26.26)\" id=\"img-47f0d411-21\">\n",
       "          <path fill=\"none\" d=\"M-59.66,0 L59.66,0 \" class=\"primitive\"/>\n",
       "        </g>\n",
       "        <g transform=\"translate(70.68,7)\" id=\"img-47f0d411-22\">\n",
       "          <path fill=\"none\" d=\"M-59.66,0 L59.66,0 \" class=\"primitive\"/>\n",
       "        </g>\n",
       "      </g>\n",
       "      <g class=\"guide xgridlines yfixed\" stroke-dasharray=\"0.5,0.5\" stroke-width=\"0.2\" stroke=\"#D0D0E0\" id=\"img-47f0d411-23\">\n",
       "        <g transform=\"translate(13.02,45.52)\" id=\"img-47f0d411-24\">\n",
       "          <path fill=\"none\" d=\"M0,-40.52 L0,40.52 \" class=\"primitive\"/>\n",
       "        </g>\n",
       "        <g transform=\"translate(70.68,45.52)\" id=\"img-47f0d411-25\">\n",
       "          <path fill=\"none\" d=\"M0,-40.52 L0,40.52 \" class=\"primitive\"/>\n",
       "        </g>\n",
       "        <g transform=\"translate(128.34,45.52)\" id=\"img-47f0d411-26\">\n",
       "          <path fill=\"none\" d=\"M0,-40.52 L0,40.52 \" class=\"primitive\"/>\n",
       "        </g>\n",
       "      </g>\n",
       "      <g class=\"plotpanel\" id=\"img-47f0d411-27\">\n",
       "        <metadata>\n",
       "          <boundingbox value=\"11.019999999999996mm 5.0mm 119.32135623730952mm 81.04333333333335mm\"/>\n",
       "          <unitbox value=\"-0.17342841475818052 3.0519188335568725 10.346856829516362 -2.1038376671137455\"/>\n",
       "        </metadata>\n",
       "        <g stroke-width=\"0.3\" fill=\"#000000\" fill-opacity=\"0.000\" class=\"geometry\" id=\"img-47f0d411-28\">\n",
       "          <g class=\"color_LCHab{Float32}(70.0f0,60.0f0,240.0f0)\" stroke-dasharray=\"none\" stroke-opacity=\"1\" stroke=\"#00BFFF\" id=\"img-47f0d411-29\">\n",
       "            <g transform=\"translate(70.68,57.67)\" id=\"img-47f0d411-30\">\n",
       "              <path fill=\"none\" d=\"M-57.66,26.37 L-46.13,22.52 -34.6,18.28 -23.06,13.62 -11.53,8.5 -0,2.86 11.53,-3.35 23.06,-10.17 34.6,-17.68 46.13,-25.94 57.66,-35.02 \" class=\"primitive\"/>\n",
       "            </g>\n",
       "          </g>\n",
       "        </g>\n",
       "      </g>\n",
       "    </g>\n",
       "  </g>\n",
       "  <g class=\"guide ylabels\" font-size=\"2.82\" font-family=\"'PT Sans Caption','Helvetica Neue','Helvetica',sans-serif\" fill=\"#6C606B\" id=\"img-47f0d411-31\">\n",
       "    <g transform=\"translate(10.02,84.04)\" id=\"img-47f0d411-32\">\n",
       "      <g class=\"primitive\">\n",
       "        <text text-anchor=\"end\" dy=\"0.35em\">1.0</text>\n",
       "      </g>\n",
       "    </g>\n",
       "    <g transform=\"translate(10.02,64.78)\" id=\"img-47f0d411-33\">\n",
       "      <g class=\"primitive\">\n",
       "        <text text-anchor=\"end\" dy=\"0.35em\">1.5</text>\n",
       "      </g>\n",
       "    </g>\n",
       "    <g transform=\"translate(10.02,45.52)\" id=\"img-47f0d411-34\">\n",
       "      <g class=\"primitive\">\n",
       "        <text text-anchor=\"end\" dy=\"0.35em\">2.0</text>\n",
       "      </g>\n",
       "    </g>\n",
       "    <g transform=\"translate(10.02,26.26)\" id=\"img-47f0d411-35\">\n",
       "      <g class=\"primitive\">\n",
       "        <text text-anchor=\"end\" dy=\"0.35em\">2.5</text>\n",
       "      </g>\n",
       "    </g>\n",
       "    <g transform=\"translate(10.02,7)\" id=\"img-47f0d411-36\">\n",
       "      <g class=\"primitive\">\n",
       "        <text text-anchor=\"end\" dy=\"0.35em\">3.0</text>\n",
       "      </g>\n",
       "    </g>\n",
       "  </g>\n",
       "</g>\n",
       "<defs>\n",
       "  <clipPath id=\"img-47f0d411-13\">\n",
       "    <path d=\"M11.02,5 L130.34,5 130.34,86.04 11.02,86.04 \" />\n",
       "  </clipPath>\n",
       "</defs>\n",
       "</svg>\n"
      ],
      "text/plain": [
       "\"<Cropbox.Plot{Gadfly.Plot}>\""
      ]
     },
     "execution_count": 44,
     "metadata": {},
     "output_type": "execute_result"
    }
   ],
   "source": [
    "visualize(r, :time, :x; kind = :line)"
   ]
  },
  {
   "cell_type": "markdown",
   "metadata": {},
   "source": [
    "#### Configuration"
   ]
  },
  {
   "cell_type": "markdown",
   "metadata": {},
   "source": [
    "Note that the rate of growth `a` is a *parameter* in our model. A value of `0.1` was paired with variable `a` previously. In modeling, we often need to change the value of a parameter for different systems or species. We can change its value before running the model by assigning a different value. Let's try smaller value of 0.05 instead of default 0.1. We will name this new parameter configuration `c` which will pair the system `S` with `a` variable with a value of 0.05."
   ]
  },
  {
   "cell_type": "code",
   "execution_count": 45,
   "metadata": {
    "tags": []
   },
   "outputs": [
    {
     "data": {
      "text/plain": [
       "S => (:a => 0.05)"
      ]
     },
     "execution_count": 45,
     "metadata": {},
     "output_type": "execute_result"
    }
   ],
   "source": [
    "c = S => :a => 0.05"
   ]
  },
  {
   "cell_type": "code",
   "execution_count": 46,
   "metadata": {
    "tags": []
   },
   "outputs": [
    {
     "data": {
      "text/html": [
       "<p style=\"font-family: monospace\">Config for 1 system:</p>\n",
       "<table style=\"font-family: monospace\">\n",
       "<tr style=\"background-color: transparent\">\n",
       "<td colspan=\"3\" style=\"text-align: left; padding: 2px; padding-left: 20px; color: rebeccapurple\">S</th>\n",
       "</tr>\n",
       "<tr style=\"background-color: transparent\"><td style=\"text-align: left; padding: 2px; padding-left: 40px; color: royalblue\">a</td><td style=\"text-align: center; padding: 2px 10px 2px 10px; color: gray\">=</td><td style=\"text-align: left; padding: 2px;\">0.05</td></tr>\n",
       "</table>\n"
      ],
      "text/plain": [
       "Config for 1 system:\n",
       "  \u001b[95mS\u001b[39m\n",
       "    \u001b[94ma\u001b[39m\u001b[90m = \u001b[39m0.05"
      ]
     },
     "execution_count": 46,
     "metadata": {},
     "output_type": "execute_result"
    }
   ],
   "source": [
    "@config(c)"
   ]
  },
  {
   "cell_type": "markdown",
   "metadata": {},
   "source": [
    "The initial values of variables (mostly `preserve` kind in practice) tagged as `parameter` can be set in a dictionary-like structure supplied to `simulate()` or `instance()` by keyword argument named `config`."
   ]
  },
  {
   "cell_type": "code",
   "execution_count": 47,
   "metadata": {
    "tags": []
   },
   "outputs": [],
   "source": [
    "r2 = simulate(S, config = c, stop = 10);"
   ]
  },
  {
   "cell_type": "code",
   "execution_count": 48,
   "metadata": {
    "tags": []
   },
   "outputs": [
    {
     "data": {
      "image/svg+xml": [
       "<?xml version=\"1.0\" encoding=\"UTF-8\"?>\n",
       "<svg xmlns=\"http://www.w3.org/2000/svg\"\n",
       "     xmlns:xlink=\"http://www.w3.org/1999/xlink\"\n",
       "     xmlns:gadfly=\"http://www.gadflyjl.org/ns\"\n",
       "     version=\"1.2\"\n",
       "     width=\"141.42mm\" height=\"100mm\" viewBox=\"0 0 141.42 100\"\n",
       "     stroke=\"none\"\n",
       "     fill=\"#000000\"\n",
       "     stroke-width=\"0.3\"\n",
       "     font-size=\"3.88\"\n",
       ">\n",
       "<defs>\n",
       "  <marker id=\"arrow\" markerWidth=\"15\" markerHeight=\"7\" refX=\"5\" refY=\"3.5\" orient=\"auto\" markerUnits=\"strokeWidth\">\n",
       "    <path d=\"M0,0 L15,3.5 L0,7 z\" stroke=\"context-stroke\" fill=\"context-stroke\"/>\n",
       "  </marker>\n",
       "</defs>\n",
       "<g stroke=\"#000000\" stroke-opacity=\"0.000\" fill=\"#FFFFFF\" id=\"img-5221a874-1\">\n",
       "  <g transform=\"translate(70.71,50)\">\n",
       "    <path d=\"M-70.71,-50 L70.71,-50 70.71,50 -70.71,50  z\" class=\"primitive\"/>\n",
       "  </g>\n",
       "</g>\n",
       "<g class=\"plotroot xscalable yscalable\" id=\"img-5221a874-2\">\n",
       "  <g font-size=\"3.53\" font-family=\"'PT Sans','Helvetica Neue','Helvetica',sans-serif\" fill=\"#564A55\" stroke=\"#000000\" stroke-opacity=\"0.000\" id=\"img-5221a874-3\">\n",
       "    <g transform=\"translate(70.68,93.72)\">\n",
       "      <g class=\"primitive\">\n",
       "        <text text-anchor=\"middle\" dy=\"0.6em\">time (hr)</text>\n",
       "      </g>\n",
       "    </g>\n",
       "  </g>\n",
       "  <g class=\"guide xlabels\" font-size=\"2.82\" font-family=\"'PT Sans Caption','Helvetica Neue','Helvetica',sans-serif\" fill=\"#6C606B\" id=\"img-5221a874-4\">\n",
       "    <g transform=\"translate(13.02,87.04)\">\n",
       "      <g class=\"primitive\">\n",
       "        <text text-anchor=\"middle\" dy=\"0.6em\">0</text>\n",
       "      </g>\n",
       "    </g>\n",
       "    <g transform=\"translate(70.68,87.04)\">\n",
       "      <g class=\"primitive\">\n",
       "        <text text-anchor=\"middle\" dy=\"0.6em\">5</text>\n",
       "      </g>\n",
       "    </g>\n",
       "    <g transform=\"translate(128.34,87.04)\">\n",
       "      <g class=\"primitive\">\n",
       "        <text text-anchor=\"middle\" dy=\"0.6em\">10</text>\n",
       "      </g>\n",
       "    </g>\n",
       "  </g>\n",
       "  <g class=\"guide colorkey\" id=\"img-5221a874-5\">\n",
       "    <g fill=\"#4C404B\" font-size=\"2.82\" font-family=\"'PT Sans','Helvetica Neue','Helvetica',sans-serif\" id=\"img-5221a874-6\">\n",
       "      <g transform=\"translate(134.97,47.75)\" id=\"img-5221a874-7\">\n",
       "        <g class=\"primitive\">\n",
       "          <text dy=\"0.35em\">x</text>\n",
       "        </g>\n",
       "      </g>\n",
       "    </g>\n",
       "    <g stroke-width=\"0.3\" id=\"img-5221a874-8\">\n",
       "      <g stroke=\"#FFFFFF\" stroke-opacity=\"0.000\" fill-opacity=\"1\" fill=\"#00BFFF\" id=\"img-5221a874-9\">\n",
       "        <g transform=\"translate(132.15,47.75)\" id=\"img-5221a874-10\">\n",
       "          <circle cx=\"0\" cy=\"0\" r=\"0.7\" class=\"primitive\"/>\n",
       "        </g>\n",
       "      </g>\n",
       "    </g>\n",
       "    <g fill=\"#362A35\" font-size=\"3.18\" font-family=\"'PT Sans','Helvetica Neue','Helvetica',sans-serif\" stroke=\"#000000\" stroke-opacity=\"0.000\" id=\"img-5221a874-11\">\n",
       "      <g transform=\"translate(131.34,44.44)\" id=\"img-5221a874-12\">\n",
       "        <g class=\"primitive\">\n",
       "          <text dy=\"-0em\"></text>\n",
       "        </g>\n",
       "      </g>\n",
       "    </g>\n",
       "  </g>\n",
       "  <g clip-path=\"url(#img-5221a874-13)\">\n",
       "    <g id=\"img-5221a874-14\">\n",
       "      <g pointer-events=\"visible\" stroke-width=\"0.3\" fill=\"#000000\" fill-opacity=\"0.000\" stroke=\"#000000\" stroke-opacity=\"0.000\" class=\"guide background\" id=\"img-5221a874-15\">\n",
       "        <g transform=\"translate(70.68,45.52)\" id=\"img-5221a874-16\">\n",
       "          <path d=\"M-59.66,-40.52 L59.66,-40.52 59.66,40.52 -59.66,40.52  z\" class=\"primitive\"/>\n",
       "        </g>\n",
       "      </g>\n",
       "      <g class=\"guide ygridlines xfixed\" stroke-dasharray=\"0.5,0.5\" stroke-width=\"0.2\" stroke=\"#D0D0E0\" id=\"img-5221a874-17\">\n",
       "        <g transform=\"translate(70.68,84.04)\" id=\"img-5221a874-18\">\n",
       "          <path fill=\"none\" d=\"M-59.66,0 L59.66,0 \" class=\"primitive\"/>\n",
       "        </g>\n",
       "        <g transform=\"translate(70.68,45.52)\" id=\"img-5221a874-19\">\n",
       "          <path fill=\"none\" d=\"M-59.66,0 L59.66,0 \" class=\"primitive\"/>\n",
       "        </g>\n",
       "        <g transform=\"translate(70.68,7)\" id=\"img-5221a874-20\">\n",
       "          <path fill=\"none\" d=\"M-59.66,0 L59.66,0 \" class=\"primitive\"/>\n",
       "        </g>\n",
       "      </g>\n",
       "      <g class=\"guide xgridlines yfixed\" stroke-dasharray=\"0.5,0.5\" stroke-width=\"0.2\" stroke=\"#D0D0E0\" id=\"img-5221a874-21\">\n",
       "        <g transform=\"translate(13.02,45.52)\" id=\"img-5221a874-22\">\n",
       "          <path fill=\"none\" d=\"M0,-40.52 L0,40.52 \" class=\"primitive\"/>\n",
       "        </g>\n",
       "        <g transform=\"translate(70.68,45.52)\" id=\"img-5221a874-23\">\n",
       "          <path fill=\"none\" d=\"M0,-40.52 L0,40.52 \" class=\"primitive\"/>\n",
       "        </g>\n",
       "        <g transform=\"translate(128.34,45.52)\" id=\"img-5221a874-24\">\n",
       "          <path fill=\"none\" d=\"M0,-40.52 L0,40.52 \" class=\"primitive\"/>\n",
       "        </g>\n",
       "      </g>\n",
       "      <g class=\"plotpanel\" id=\"img-5221a874-25\">\n",
       "        <metadata>\n",
       "          <boundingbox value=\"11.019999999999996mm 5.0mm 119.32135623730952mm 81.04333333333334mm\"/>\n",
       "          <unitbox value=\"-0.17342841475818052 2.0259594167784365 10.346856829516362 -1.0519188335568728\"/>\n",
       "        </metadata>\n",
       "        <g stroke-width=\"0.3\" fill=\"#000000\" fill-opacity=\"0.000\" class=\"geometry\" id=\"img-5221a874-26\">\n",
       "          <g class=\"color_LCHab{Float32}(70.0f0,60.0f0,240.0f0)\" stroke-dasharray=\"none\" stroke-opacity=\"1\" stroke=\"#00BFFF\" id=\"img-5221a874-27\">\n",
       "            <g transform=\"translate(70.68,61.58)\" id=\"img-5221a874-28\">\n",
       "              <path fill=\"none\" d=\"M-57.66,22.46 L-46.13,18.61 -34.6,14.56 -23.06,10.32 -11.53,5.86 -0,1.17 11.53,-3.74 23.06,-8.9 34.6,-14.32 46.13,-20.02 57.66,-25.99 \" class=\"primitive\"/>\n",
       "            </g>\n",
       "          </g>\n",
       "        </g>\n",
       "      </g>\n",
       "    </g>\n",
       "  </g>\n",
       "  <g class=\"guide ylabels\" font-size=\"2.82\" font-family=\"'PT Sans Caption','Helvetica Neue','Helvetica',sans-serif\" fill=\"#6C606B\" id=\"img-5221a874-29\">\n",
       "    <g transform=\"translate(10.02,84.04)\" id=\"img-5221a874-30\">\n",
       "      <g class=\"primitive\">\n",
       "        <text text-anchor=\"end\" dy=\"0.35em\">1.0</text>\n",
       "      </g>\n",
       "    </g>\n",
       "    <g transform=\"translate(10.02,45.52)\" id=\"img-5221a874-31\">\n",
       "      <g class=\"primitive\">\n",
       "        <text text-anchor=\"end\" dy=\"0.35em\">1.5</text>\n",
       "      </g>\n",
       "    </g>\n",
       "    <g transform=\"translate(10.02,7)\" id=\"img-5221a874-32\">\n",
       "      <g class=\"primitive\">\n",
       "        <text text-anchor=\"end\" dy=\"0.35em\">2.0</text>\n",
       "      </g>\n",
       "    </g>\n",
       "  </g>\n",
       "</g>\n",
       "<defs>\n",
       "  <clipPath id=\"img-5221a874-13\">\n",
       "    <path d=\"M11.02,5 L130.34,5 130.34,86.04 11.02,86.04 \" />\n",
       "  </clipPath>\n",
       "</defs>\n",
       "</svg>\n"
      ],
      "text/html": [
       "<?xml version=\"1.0\" encoding=\"UTF-8\"?>\n",
       "<svg xmlns=\"http://www.w3.org/2000/svg\"\n",
       "     xmlns:xlink=\"http://www.w3.org/1999/xlink\"\n",
       "     xmlns:gadfly=\"http://www.gadflyjl.org/ns\"\n",
       "     version=\"1.2\"\n",
       "     width=\"141.42mm\" height=\"100mm\" viewBox=\"0 0 141.42 100\"\n",
       "     stroke=\"none\"\n",
       "     fill=\"#000000\"\n",
       "     stroke-width=\"0.3\"\n",
       "     font-size=\"3.88\"\n",
       ">\n",
       "<defs>\n",
       "  <marker id=\"arrow\" markerWidth=\"15\" markerHeight=\"7\" refX=\"5\" refY=\"3.5\" orient=\"auto\" markerUnits=\"strokeWidth\">\n",
       "    <path d=\"M0,0 L15,3.5 L0,7 z\" stroke=\"context-stroke\" fill=\"context-stroke\"/>\n",
       "  </marker>\n",
       "</defs>\n",
       "<g stroke=\"#000000\" stroke-opacity=\"0.000\" fill=\"#FFFFFF\" id=\"img-781f6caf-1\">\n",
       "  <g transform=\"translate(70.71,50)\">\n",
       "    <path d=\"M-70.71,-50 L70.71,-50 70.71,50 -70.71,50  z\" class=\"primitive\"/>\n",
       "  </g>\n",
       "</g>\n",
       "<g class=\"plotroot xscalable yscalable\" id=\"img-781f6caf-2\">\n",
       "  <g font-size=\"3.53\" font-family=\"'PT Sans','Helvetica Neue','Helvetica',sans-serif\" fill=\"#564A55\" stroke=\"#000000\" stroke-opacity=\"0.000\" id=\"img-781f6caf-3\">\n",
       "    <g transform=\"translate(70.68,93.72)\">\n",
       "      <g class=\"primitive\">\n",
       "        <text text-anchor=\"middle\" dy=\"0.6em\">time (hr)</text>\n",
       "      </g>\n",
       "    </g>\n",
       "  </g>\n",
       "  <g class=\"guide xlabels\" font-size=\"2.82\" font-family=\"'PT Sans Caption','Helvetica Neue','Helvetica',sans-serif\" fill=\"#6C606B\" id=\"img-781f6caf-4\">\n",
       "    <g transform=\"translate(13.02,87.04)\">\n",
       "      <g class=\"primitive\">\n",
       "        <text text-anchor=\"middle\" dy=\"0.6em\">0</text>\n",
       "      </g>\n",
       "    </g>\n",
       "    <g transform=\"translate(70.68,87.04)\">\n",
       "      <g class=\"primitive\">\n",
       "        <text text-anchor=\"middle\" dy=\"0.6em\">5</text>\n",
       "      </g>\n",
       "    </g>\n",
       "    <g transform=\"translate(128.34,87.04)\">\n",
       "      <g class=\"primitive\">\n",
       "        <text text-anchor=\"middle\" dy=\"0.6em\">10</text>\n",
       "      </g>\n",
       "    </g>\n",
       "  </g>\n",
       "  <g class=\"guide colorkey\" id=\"img-781f6caf-5\">\n",
       "    <g fill=\"#4C404B\" font-size=\"2.82\" font-family=\"'PT Sans','Helvetica Neue','Helvetica',sans-serif\" id=\"img-781f6caf-6\">\n",
       "      <g transform=\"translate(134.97,47.75)\" id=\"img-781f6caf-7\">\n",
       "        <g class=\"primitive\">\n",
       "          <text dy=\"0.35em\">x</text>\n",
       "        </g>\n",
       "      </g>\n",
       "    </g>\n",
       "    <g stroke-width=\"0.3\" id=\"img-781f6caf-8\">\n",
       "      <g stroke=\"#FFFFFF\" stroke-opacity=\"0.000\" fill-opacity=\"1\" fill=\"#00BFFF\" id=\"img-781f6caf-9\">\n",
       "        <g transform=\"translate(132.15,47.75)\" id=\"img-781f6caf-10\">\n",
       "          <circle cx=\"0\" cy=\"0\" r=\"0.7\" class=\"primitive\"/>\n",
       "        </g>\n",
       "      </g>\n",
       "    </g>\n",
       "    <g fill=\"#362A35\" font-size=\"3.18\" font-family=\"'PT Sans','Helvetica Neue','Helvetica',sans-serif\" stroke=\"#000000\" stroke-opacity=\"0.000\" id=\"img-781f6caf-11\">\n",
       "      <g transform=\"translate(131.34,44.44)\" id=\"img-781f6caf-12\">\n",
       "        <g class=\"primitive\">\n",
       "          <text dy=\"-0em\"></text>\n",
       "        </g>\n",
       "      </g>\n",
       "    </g>\n",
       "  </g>\n",
       "  <g clip-path=\"url(#img-781f6caf-13)\">\n",
       "    <g id=\"img-781f6caf-14\">\n",
       "      <g pointer-events=\"visible\" stroke-width=\"0.3\" fill=\"#000000\" fill-opacity=\"0.000\" stroke=\"#000000\" stroke-opacity=\"0.000\" class=\"guide background\" id=\"img-781f6caf-15\">\n",
       "        <g transform=\"translate(70.68,45.52)\" id=\"img-781f6caf-16\">\n",
       "          <path d=\"M-59.66,-40.52 L59.66,-40.52 59.66,40.52 -59.66,40.52  z\" class=\"primitive\"/>\n",
       "        </g>\n",
       "      </g>\n",
       "      <g class=\"guide ygridlines xfixed\" stroke-dasharray=\"0.5,0.5\" stroke-width=\"0.2\" stroke=\"#D0D0E0\" id=\"img-781f6caf-17\">\n",
       "        <g transform=\"translate(70.68,84.04)\" id=\"img-781f6caf-18\">\n",
       "          <path fill=\"none\" d=\"M-59.66,0 L59.66,0 \" class=\"primitive\"/>\n",
       "        </g>\n",
       "        <g transform=\"translate(70.68,45.52)\" id=\"img-781f6caf-19\">\n",
       "          <path fill=\"none\" d=\"M-59.66,0 L59.66,0 \" class=\"primitive\"/>\n",
       "        </g>\n",
       "        <g transform=\"translate(70.68,7)\" id=\"img-781f6caf-20\">\n",
       "          <path fill=\"none\" d=\"M-59.66,0 L59.66,0 \" class=\"primitive\"/>\n",
       "        </g>\n",
       "      </g>\n",
       "      <g class=\"guide xgridlines yfixed\" stroke-dasharray=\"0.5,0.5\" stroke-width=\"0.2\" stroke=\"#D0D0E0\" id=\"img-781f6caf-21\">\n",
       "        <g transform=\"translate(13.02,45.52)\" id=\"img-781f6caf-22\">\n",
       "          <path fill=\"none\" d=\"M0,-40.52 L0,40.52 \" class=\"primitive\"/>\n",
       "        </g>\n",
       "        <g transform=\"translate(70.68,45.52)\" id=\"img-781f6caf-23\">\n",
       "          <path fill=\"none\" d=\"M0,-40.52 L0,40.52 \" class=\"primitive\"/>\n",
       "        </g>\n",
       "        <g transform=\"translate(128.34,45.52)\" id=\"img-781f6caf-24\">\n",
       "          <path fill=\"none\" d=\"M0,-40.52 L0,40.52 \" class=\"primitive\"/>\n",
       "        </g>\n",
       "      </g>\n",
       "      <g class=\"plotpanel\" id=\"img-781f6caf-25\">\n",
       "        <metadata>\n",
       "          <boundingbox value=\"11.019999999999996mm 5.0mm 119.32135623730952mm 81.04333333333334mm\"/>\n",
       "          <unitbox value=\"-0.17342841475818052 2.0259594167784365 10.346856829516362 -1.0519188335568728\"/>\n",
       "        </metadata>\n",
       "        <g stroke-width=\"0.3\" fill=\"#000000\" fill-opacity=\"0.000\" class=\"geometry\" id=\"img-781f6caf-26\">\n",
       "          <g class=\"color_LCHab{Float32}(70.0f0,60.0f0,240.0f0)\" stroke-dasharray=\"none\" stroke-opacity=\"1\" stroke=\"#00BFFF\" id=\"img-781f6caf-27\">\n",
       "            <g transform=\"translate(70.68,61.58)\" id=\"img-781f6caf-28\">\n",
       "              <path fill=\"none\" d=\"M-57.66,22.46 L-46.13,18.61 -34.6,14.56 -23.06,10.32 -11.53,5.86 -0,1.17 11.53,-3.74 23.06,-8.9 34.6,-14.32 46.13,-20.02 57.66,-25.99 \" class=\"primitive\"/>\n",
       "            </g>\n",
       "          </g>\n",
       "        </g>\n",
       "      </g>\n",
       "    </g>\n",
       "  </g>\n",
       "  <g class=\"guide ylabels\" font-size=\"2.82\" font-family=\"'PT Sans Caption','Helvetica Neue','Helvetica',sans-serif\" fill=\"#6C606B\" id=\"img-781f6caf-29\">\n",
       "    <g transform=\"translate(10.02,84.04)\" id=\"img-781f6caf-30\">\n",
       "      <g class=\"primitive\">\n",
       "        <text text-anchor=\"end\" dy=\"0.35em\">1.0</text>\n",
       "      </g>\n",
       "    </g>\n",
       "    <g transform=\"translate(10.02,45.52)\" id=\"img-781f6caf-31\">\n",
       "      <g class=\"primitive\">\n",
       "        <text text-anchor=\"end\" dy=\"0.35em\">1.5</text>\n",
       "      </g>\n",
       "    </g>\n",
       "    <g transform=\"translate(10.02,7)\" id=\"img-781f6caf-32\">\n",
       "      <g class=\"primitive\">\n",
       "        <text text-anchor=\"end\" dy=\"0.35em\">2.0</text>\n",
       "      </g>\n",
       "    </g>\n",
       "  </g>\n",
       "</g>\n",
       "<defs>\n",
       "  <clipPath id=\"img-781f6caf-13\">\n",
       "    <path d=\"M11.02,5 L130.34,5 130.34,86.04 11.02,86.04 \" />\n",
       "  </clipPath>\n",
       "</defs>\n",
       "</svg>\n"
      ],
      "text/plain": [
       "\"<Cropbox.Plot{Gadfly.Plot}>\""
      ]
     },
     "execution_count": 48,
     "metadata": {},
     "output_type": "execute_result"
    }
   ],
   "source": [
    "visualize(r2, :time, :x; kind = :line)"
   ]
  },
  {
   "cell_type": "markdown",
   "metadata": {},
   "source": [
    "Now we can confirm that the exponential growth became much slower than the previous simulation by using a smaller rate parameter."
   ]
  },
  {
   "cell_type": "markdown",
   "metadata": {
    "tags": []
   },
   "source": [
    "### Model Internals"
   ]
  },
  {
   "cell_type": "markdown",
   "metadata": {},
   "source": [
    "When we specify our model with `@system` macro, Cropbox automatically generates some code behind the scene for handling model setup and update. With our exponential growth model, it would mean we get `struct` named `S` and `update!(::S, ..)` for example. We can take a look at the actual code generatd during this process by using [`@macroexpand`](https://docs.julialang.org/en/v1/base/base/#Base.macroexpand)."
   ]
  },
  {
   "cell_type": "code",
   "execution_count": 67,
   "metadata": {
    "tags": []
   },
   "outputs": [],
   "source": [
    "@macroexpand @system S(Controller) begin\n",
    "    i => 1         ~ preserve\n",
    "    a => 0.1       ~ preserve(parameter)\n",
    "    r(a, x) => a*x ~ track\n",
    "    x(r)           ~ accumulate(init = i)\n",
    "end;"
   ]
  },
  {
   "cell_type": "markdown",
   "metadata": {},
   "source": [
    "#### **Syntax**"
   ]
  },
  {
   "cell_type": "markdown",
   "metadata": {},
   "source": [
    "`@system` macro accepts lines of variable declaration specified by its own syntax. They are loosely based on Julia syntax sharing common expressions and operators, but have distinct semantics explained as below. In other words, they form a domain-specific language (DSL) specifically designed for our crop modeling framework."
   ]
  },
  {
   "cell_type": "markdown",
   "metadata": {},
   "source": [
    "`name[(args..; kwargs..)][: alias] [=> body] ~ [state][::type][(tags..)]`\n",
    "\n",
    "- `name`: variable name (usually short abbreviation)\n",
    "- `args`: automatically bound depending variables\n",
    "- `kwargs`: custom bound depending variables (only for *call* now)\n",
    "- `alias`: alternative name (long description)\n",
    "- `body`: code snippet (state/type specific, `begin .. end` block for multiple lines)\n",
    "- `state`: verb indicating kind of state (empty if not `State`-based)\n",
    "- `type`: internal type (*i.e.* `Float64` by default for most `State` variable)\n",
    "- `tags`: variable specific options (*i.e.* unit, min/max, etc.)"
   ]
  },
  {
   "cell_type": "markdown",
   "metadata": {},
   "source": [
    "Here is a hypothetical model specification showing various uses of syntax elements."
   ]
  },
  {
   "cell_type": "code",
   "execution_count": 50,
   "metadata": {},
   "outputs": [
    {
     "data": {
      "text/plain": [
       "MySystem"
      ]
     },
     "execution_count": 50,
     "metadata": {},
     "output_type": "execute_result"
    }
   ],
   "source": [
    "@system MySystem begin\n",
    "    a: my_precious_param => 1 ~ preserve::Int(parameter)\n",
    "    b(a) => begin\n",
    "        2a\n",
    "    end ~ track\n",
    "    c                     ~ ::String(override)\n",
    "    f(b; x, y) => b*(x+y) ~ call\n",
    "    g(f)       => f(1, 2) ~ track\n",
    "end"
   ]
  },
  {
   "cell_type": "markdown",
   "metadata": {},
   "source": [
    "By the way, although looking verbose and suspicious, `MySystem` is still on a valid specification and you can visualizae its dependency graph of state variables without any problem."
   ]
  },
  {
   "cell_type": "code",
   "execution_count": 51,
   "metadata": {},
   "outputs": [
    {
     "data": {
      "image/svg+xml": [
       "<?xml version=\"1.0\" encoding=\"UTF-8\" standalone=\"no\"?>\n",
       "<!DOCTYPE svg PUBLIC \"-//W3C//DTD SVG 1.1//EN\"\n",
       " \"http://www.w3.org/Graphics/SVG/1.1/DTD/svg11.dtd\">\n",
       "<!-- Generated by graphviz version 2.50.0 (20211204.2007)\n",
       " -->\n",
       "<!-- Pages: 1 -->\n",
       "<svg width=\"318pt\" height=\"162pt\"\n",
       " viewBox=\"0.00 0.00 318.23 162.00\" xmlns=\"http://www.w3.org/2000/svg\" xmlns:xlink=\"http://www.w3.org/1999/xlink\">\n",
       "<g id=\"graph0\" class=\"graph\" transform=\"scale(1 1) rotate(0) translate(4 158)\">\n",
       "<polygon fill=\"white\" stroke=\"transparent\" points=\"-4,4 -4,-158 314.23,-158 314.23,4 -4,4\"/>\n",
       "<!-- 1 -->\n",
       "<g id=\"node1\" class=\"node\">\n",
       "<title>1</title>\n",
       "<text text-anchor=\"middle\" x=\"91.04\" y=\"-144.8\" font-family=\"Courier,monospace\" font-size=\"9.00\">context</text>\n",
       "</g>\n",
       "<!-- 2 -->\n",
       "<g id=\"node2\" class=\"node\">\n",
       "<title>2</title>\n",
       "<text text-anchor=\"middle\" x=\"91.04\" y=\"-116.8\" font-family=\"Courier,monospace\" font-size=\"9.00\">config</text>\n",
       "</g>\n",
       "<!-- 1&#45;&gt;2 -->\n",
       "<g id=\"edge1\" class=\"edge\">\n",
       "<title>1&#45;&gt;2</title>\n",
       "<path fill=\"none\" stroke=\"black\" stroke-width=\"0.2\" d=\"M91.04,-139.97C91.04,-136.53 91.04,-132.16 91.04,-128.39\"/>\n",
       "<polygon fill=\"black\" stroke=\"black\" stroke-width=\"0.2\" points=\"91.74,-128.36 91.04,-126.36 90.34,-128.36 91.74,-128.36\"/>\n",
       "</g>\n",
       "<!-- 3 -->\n",
       "<g id=\"node3\" class=\"node\">\n",
       "<title>3</title>\n",
       "<text text-anchor=\"middle\" x=\"91.04\" y=\"-88.8\" font-family=\"Courier,monospace\" font-size=\"9.00\">a</text>\n",
       "</g>\n",
       "<!-- 2&#45;&gt;3 -->\n",
       "<g id=\"edge2\" class=\"edge\">\n",
       "<title>2&#45;&gt;3</title>\n",
       "<path fill=\"none\" stroke=\"black\" stroke-width=\"0.2\" d=\"M91.04,-111.97C91.04,-108.53 91.04,-104.16 91.04,-100.39\"/>\n",
       "<polygon fill=\"black\" stroke=\"black\" stroke-width=\"0.2\" points=\"91.74,-100.36 91.04,-98.36 90.34,-100.36 91.74,-100.36\"/>\n",
       "</g>\n",
       "<!-- 4 -->\n",
       "<g id=\"node4\" class=\"node\">\n",
       "<title>4</title>\n",
       "<text text-anchor=\"middle\" x=\"91.04\" y=\"-60.8\" font-family=\"Courier,monospace\" font-size=\"9.00\">b</text>\n",
       "</g>\n",
       "<!-- 3&#45;&gt;4 -->\n",
       "<g id=\"edge3\" class=\"edge\">\n",
       "<title>3&#45;&gt;4</title>\n",
       "<path fill=\"none\" stroke=\"black\" stroke-width=\"0.2\" d=\"M91.04,-83.97C91.04,-80.53 91.04,-76.16 91.04,-72.39\"/>\n",
       "<polygon fill=\"black\" stroke=\"black\" stroke-width=\"0.2\" points=\"91.74,-72.36 91.04,-70.36 90.34,-72.36 91.74,-72.36\"/>\n",
       "</g>\n",
       "<!-- 6 -->\n",
       "<g id=\"node6\" class=\"node\">\n",
       "<title>6</title>\n",
       "<text text-anchor=\"middle\" x=\"91.04\" y=\"-32.8\" font-family=\"Courier,monospace\" font-size=\"9.00\">f</text>\n",
       "</g>\n",
       "<!-- 4&#45;&gt;6 -->\n",
       "<g id=\"edge4\" class=\"edge\">\n",
       "<title>4&#45;&gt;6</title>\n",
       "<path fill=\"none\" stroke=\"black\" stroke-width=\"0.2\" d=\"M91.04,-55.97C91.04,-52.53 91.04,-48.16 91.04,-44.39\"/>\n",
       "<polygon fill=\"black\" stroke=\"black\" stroke-width=\"0.2\" points=\"91.74,-44.36 91.04,-42.36 90.34,-44.36 91.74,-44.36\"/>\n",
       "</g>\n",
       "<!-- 5 -->\n",
       "<g id=\"node5\" class=\"node\">\n",
       "<title>5</title>\n",
       "<text text-anchor=\"middle\" x=\"288.04\" y=\"-144.8\" font-family=\"Courier,monospace\" font-size=\"9.00\">c</text>\n",
       "</g>\n",
       "<!-- 7 -->\n",
       "<g id=\"node7\" class=\"node\">\n",
       "<title>7</title>\n",
       "<text text-anchor=\"middle\" x=\"91.04\" y=\"-4.8\" font-family=\"Courier,monospace\" font-size=\"9.00\">g</text>\n",
       "</g>\n",
       "<!-- 6&#45;&gt;7 -->\n",
       "<g id=\"edge5\" class=\"edge\">\n",
       "<title>6&#45;&gt;7</title>\n",
       "<path fill=\"none\" stroke=\"black\" stroke-width=\"0.2\" d=\"M91.04,-27.97C91.04,-24.53 91.04,-20.16 91.04,-16.39\"/>\n",
       "<polygon fill=\"black\" stroke=\"black\" stroke-width=\"0.2\" points=\"91.74,-16.36 91.04,-14.36 90.34,-16.36 91.74,-16.36\"/>\n",
       "</g>\n",
       "</g>\n",
       "</svg>\n"
      ],
      "text/plain": [
       "\u001b[90m[\u001b[39m\u001b[94mc\u001b[39m\u001b[90m → \u001b[39m\u001b[94mcontext\u001b[39m\u001b[90m → \u001b[39m\u001b[94mconfig\u001b[39m\u001b[90m → \u001b[39m\u001b[94ma\u001b[39m\u001b[90m → \u001b[39m\u001b[94mb\u001b[39m\u001b[90m → \u001b[39m\u001b[94mf\u001b[39m\u001b[90m → \u001b[39m\u001b[94mg\u001b[39m\u001b[90m]\u001b[39m"
      ]
     },
     "execution_count": 51,
     "metadata": {},
     "output_type": "execute_result"
    }
   ],
   "source": [
    "Cropbox.dependency(MySystem)"
   ]
  },
  {
   "cell_type": "markdown",
   "metadata": {},
   "source": [
    "#### State"
   ]
  },
  {
   "cell_type": "markdown",
   "metadata": {},
   "source": [
    "There are a number of built-in `State` verbs that can be used in model specification.\n",
    "\n",
    "- `hold`: marks a placeholder for variable shared between mixins.\n",
    "- `wrap`: passes a state variable to other fucnction as is with no unwrapping its value.\n",
    "- `advance`: manages a time-keeping variable; `time` and `tick` from `Clock`.\n",
    "- `preserve`: keeps initially assigned value with no further updates; constants, parameters.\n",
    "- `tabulate`: makes a two dimensional table with named keys; *i.e.* partitioning table.\n",
    "- `interpolate`: makes a curve function interpolated with discrete values; *i.e.* soil characteristic curve.\n",
    "- `track`: evaluates variable expression as is for each update.\n",
    "- `remember`: keeps tracking variable until a certain condition is met; essentially `track` turning into `preserve`.\n",
    "- `provide`: manages a table of time-series in DataFrame.\n",
    "- `drive`: fetches the current value from a time-series; maybe supplied by `provide`.\n",
    "- `call`: defines a partial function bound with some variables.\n",
    "- `integrate`: calculates integral using Gaussian method; not for time domain.\n",
    "- `accumulate`: emulates integration of rate variable over time; essentially Euler method.\n",
    "- `capture`: calculates difference between integration for each time step.\n",
    "- `flag`: sets a boolean flag; essentially `track::Bool`.\n",
    "- `produce`: attaches a new instance of system dynamically constructed; *i.e.* root structure growth.\n",
    "- `bisect`: solves nonlinear equation using bisection method; *i.e.* gas-exchange model coupling.\n",
    "- `solve`: solves polynomial equation symbolically; *i.e.* quadratic equations in photosynthesis model."
   ]
  },
  {
   "cell_type": "markdown",
   "metadata": {},
   "source": [
    "Internally, each kind directly maps to a Julia `struct` with its name capitalized. For example, `track` kind maps to `Track` struct."
   ]
  },
  {
   "cell_type": "markdown",
   "metadata": {},
   "source": [
    "#### System"
   ]
  },
  {
   "cell_type": "markdown",
   "metadata": {},
   "source": [
    "`System` is a container that contains a number of *variables*. Once defined, its structure gets fixed that no additional variables can get added or removed, but the state of variables can be still updated throughout time steps."
   ]
  },
  {
   "cell_type": "markdown",
   "metadata": {},
   "source": [
    "`System` may include other `System` as its component. In such case, kind of `state` would be empty and type of included `System` should be defined in the variable declaration. Indeed, every `System` by default includes a `System` called `Context` referred by `context` variable. We can visualize hierarchy of systems using `Cropbox.hierarchy()`."
   ]
  },
  {
   "cell_type": "markdown",
   "metadata": {},
   "source": [
    "For example, we can visually confirm that `MySystem` *has* a `Context` which *has* a `Clock`."
   ]
  },
  {
   "cell_type": "code",
   "execution_count": 52,
   "metadata": {},
   "outputs": [
    {
     "data": {
      "image/svg+xml": [
       "<?xml version=\"1.0\" encoding=\"UTF-8\" standalone=\"no\"?>\n",
       "<!DOCTYPE svg PUBLIC \"-//W3C//DTD SVG 1.1//EN\"\n",
       " \"http://www.w3.org/Graphics/SVG/1.1/DTD/svg11.dtd\">\n",
       "<!-- Generated by graphviz version 2.50.0 (20211204.2007)\n",
       " -->\n",
       "<!-- Pages: 1 -->\n",
       "<svg width=\"148pt\" height=\"78pt\"\n",
       " viewBox=\"0.00 0.00 148.00 78.00\" xmlns=\"http://www.w3.org/2000/svg\" xmlns:xlink=\"http://www.w3.org/1999/xlink\">\n",
       "<g id=\"graph0\" class=\"graph\" transform=\"scale(1 1) rotate(0) translate(4 74)\">\n",
       "<polygon fill=\"white\" stroke=\"transparent\" points=\"-4,4 -4,-74 144,-74 144,4 -4,4\"/>\n",
       "<!-- 1 -->\n",
       "<g id=\"node1\" class=\"node\">\n",
       "<title>1</title>\n",
       "<text text-anchor=\"middle\" x=\"70\" y=\"-4.8\" font-family=\"Courier,monospace\" font-size=\"9.00\">MySystem</text>\n",
       "</g>\n",
       "<!-- 2 -->\n",
       "<g id=\"node2\" class=\"node\">\n",
       "<title>2</title>\n",
       "<text text-anchor=\"middle\" x=\"70\" y=\"-32.8\" font-family=\"Courier,monospace\" font-size=\"9.00\">Context</text>\n",
       "</g>\n",
       "<!-- 2&#45;&gt;1 -->\n",
       "<g id=\"edge1\" class=\"edge\">\n",
       "<title>2&#45;&gt;1</title>\n",
       "<path fill=\"none\" stroke=\"black\" stroke-width=\"0.2\" d=\"M70,-27.97C70,-24.53 70,-20.16 70,-16.39\"/>\n",
       "<polygon fill=\"black\" stroke=\"black\" stroke-width=\"0.2\" points=\"70.7,-16.36 70,-14.36 69.3,-16.36 70.7,-16.36\"/>\n",
       "</g>\n",
       "<!-- 3 -->\n",
       "<g id=\"node3\" class=\"node\">\n",
       "<title>3</title>\n",
       "<text text-anchor=\"middle\" x=\"70\" y=\"-60.8\" font-family=\"Courier,monospace\" font-size=\"9.00\">Clock</text>\n",
       "</g>\n",
       "<!-- 3&#45;&gt;2 -->\n",
       "<g id=\"edge2\" class=\"edge\">\n",
       "<title>3&#45;&gt;2</title>\n",
       "<path fill=\"none\" stroke=\"black\" stroke-width=\"0.2\" d=\"M70,-55.97C70,-52.53 70,-48.16 70,-44.39\"/>\n",
       "<polygon fill=\"black\" stroke=\"black\" stroke-width=\"0.2\" points=\"70.7,-44.36 70,-42.36 69.3,-44.36 70.7,-44.36\"/>\n",
       "</g>\n",
       "</g>\n",
       "</svg>\n"
      ],
      "text/plain": [
       "\u001b[90m{\u001b[39m\u001b[95mMySystem\u001b[39m\u001b[90m, \u001b[39m\u001b[95mContext\u001b[39m\u001b[90m, \u001b[39m\u001b[95mClock\u001b[39m\u001b[90m}\u001b[39m"
      ]
     },
     "execution_count": 52,
     "metadata": {},
     "output_type": "execute_result"
    }
   ],
   "source": [
    "Cropbox.hierarchy(MySystem)"
   ]
  },
  {
   "cell_type": "markdown",
   "metadata": {},
   "source": [
    "In order to get a model that can be run, we need to make an instance of `System`. It can be done by calling `instance()` function on the type of `System`."
   ]
  },
  {
   "cell_type": "code",
   "execution_count": 53,
   "metadata": {},
   "outputs": [
    {
     "data": {
      "text/html": [
       "<table style=\"font-family: monospace\">\n",
       "<tr style=\"background-color: transparent\">\n",
       "<td colspan=\"4\" style=\"text-align: left; padding: 2px; padding-left: 0px; color: rebeccapurple\">S</th>\n",
       "</tr>\n",
       "<tr style=\"background-color: transparent\"><td style=\"text-align: left; padding: 2px; padding-left: 20px; color: royalblue\">context</td><td style=\"text-align: left; padding: 2px 0px 2px 0px; color: gray\"></td><td style=\"text-align: center; padding: 2px 10px 2px 10px; color: gray\">=</td><td style=\"text-align: left; padding: 2px;\">&lt;Context&gt;</td></tr>\n",
       "<tr style=\"background-color: transparent\"><td style=\"text-align: left; padding: 2px; padding-left: 20px; color: royalblue\">config</td><td style=\"text-align: left; padding: 2px 0px 2px 0px; color: gray\"></td><td style=\"text-align: center; padding: 2px 10px 2px 10px; color: gray\">=</td><td style=\"text-align: left; padding: 2px;\">&lt;Config&gt;</td></tr>\n",
       "<tr style=\"background-color: transparent\"><td style=\"text-align: left; padding: 2px; padding-left: 20px; color: royalblue\">i</td><td style=\"text-align: left; padding: 2px 0px 2px 0px; color: gray\"></td><td style=\"text-align: center; padding: 2px 10px 2px 10px; color: gray\">=</td><td style=\"text-align: left; padding: 2px;\">1.0</td></tr>\n",
       "<tr style=\"background-color: transparent\"><td style=\"text-align: left; padding: 2px; padding-left: 20px; color: royalblue\">a</td><td style=\"text-align: left; padding: 2px 0px 2px 0px; color: gray\"></td><td style=\"text-align: center; padding: 2px 10px 2px 10px; color: gray\">=</td><td style=\"text-align: left; padding: 2px;\">0.1</td></tr>\n",
       "<tr style=\"background-color: transparent\"><td style=\"text-align: left; padding: 2px; padding-left: 20px; color: royalblue\">r</td><td style=\"text-align: left; padding: 2px 0px 2px 0px; color: gray\"></td><td style=\"text-align: center; padding: 2px 10px 2px 10px; color: gray\">=</td><td style=\"text-align: left; padding: 2px;\">0.1</td></tr>\n",
       "<tr style=\"background-color: transparent\"><td style=\"text-align: left; padding: 2px; padding-left: 20px; color: royalblue\">x</td><td style=\"text-align: left; padding: 2px 0px 2px 0px; color: gray\"></td><td style=\"text-align: center; padding: 2px 10px 2px 10px; color: gray\">=</td><td style=\"text-align: left; padding: 2px;\">1.0</td></tr>\n",
       "</table>"
      ],
      "text/plain": [
       "\u001b[95mS\u001b[39m\n",
       "  \u001b[94mcontext\u001b[39m\u001b[90m = \u001b[39m<Context>\n",
       "  \u001b[94mconfig\u001b[39m\u001b[90m = \u001b[39m<Config>\n",
       "  \u001b[94mi\u001b[39m\u001b[90m = \u001b[39m1.0\n",
       "  \u001b[94ma\u001b[39m\u001b[90m = \u001b[39m0.1\n",
       "  \u001b[94mr\u001b[39m\u001b[90m = \u001b[39m0.1\n",
       "  \u001b[94mx\u001b[39m\u001b[90m = \u001b[39m1.0"
      ]
     },
     "execution_count": 53,
     "metadata": {},
     "output_type": "execute_result"
    }
   ],
   "source": [
    "s = instance(S)"
   ]
  },
  {
   "cell_type": "markdown",
   "metadata": {},
   "source": [
    "Here, we just made an instance of `S` which is referred by a variable name `s`."
   ]
  },
  {
   "cell_type": "markdown",
   "metadata": {},
   "source": [
    "#### Simulation"
   ]
  },
  {
   "cell_type": "markdown",
   "metadata": {},
   "source": [
    "Now we can call `simulate!()` to update its internal states for one time step."
   ]
  },
  {
   "cell_type": "code",
   "execution_count": 54,
   "metadata": {},
   "outputs": [
    {
     "data": {
      "text/html": [
       "<div><div style = \"float: left;\"><span>1×5 DataFrame</span></div><div style = \"clear: both;\"></div></div><div class = \"data-frame\" style = \"overflow-x: scroll;\"><table class = \"data-frame\" style = \"margin-bottom: 6px;\"><thead><tr class = \"header\"><th class = \"rowNumber\" style = \"font-weight: bold; text-align: right;\">Row</th><th style = \"text-align: left;\">time</th><th style = \"text-align: left;\">i</th><th style = \"text-align: left;\">a</th><th style = \"text-align: left;\">r</th><th style = \"text-align: left;\">x</th></tr><tr class = \"subheader headerLastRow\"><th class = \"rowNumber\" style = \"font-weight: bold; text-align: right;\"></th><th title = \"Unitful.Quantity{Float64, 𝐓, Unitful.FreeUnits{(hr,), 𝐓, nothing}}\" style = \"text-align: left;\">Quantity…</th><th title = \"Float64\" style = \"text-align: left;\">Float64</th><th title = \"Float64\" style = \"text-align: left;\">Float64</th><th title = \"Float64\" style = \"text-align: left;\">Float64</th><th title = \"Float64\" style = \"text-align: left;\">Float64</th></tr></thead><tbody><tr><td class = \"rowNumber\" style = \"font-weight: bold; text-align: right;\">1</td><td style = \"text-align: right;\">0.0 hr</td><td style = \"text-align: right;\">1.0</td><td style = \"text-align: right;\">0.1</td><td style = \"text-align: right;\">0.1</td><td style = \"text-align: right;\">1.0</td></tr></tbody></table></div>"
      ],
      "text/latex": [
       "\\begin{tabular}{r|ccccc}\n",
       "\t& time & i & a & r & x\\\\\n",
       "\t\\hline\n",
       "\t& Quantity… & Float64 & Float64 & Float64 & Float64\\\\\n",
       "\t\\hline\n",
       "\t1 & 0.0 hr & 1.0 & 0.1 & 0.1 & 1.0 \\\\\n",
       "\\end{tabular}\n"
      ],
      "text/plain": [
       "\u001b[1m1×5 DataFrame\u001b[0m\n",
       "\u001b[1m Row \u001b[0m│\u001b[1m time      \u001b[0m\u001b[1m i       \u001b[0m\u001b[1m a       \u001b[0m\u001b[1m r       \u001b[0m\u001b[1m x       \u001b[0m\n",
       "     │\u001b[90m Quantity… \u001b[0m\u001b[90m Float64 \u001b[0m\u001b[90m Float64 \u001b[0m\u001b[90m Float64 \u001b[0m\u001b[90m Float64 \u001b[0m\n",
       "─────┼───────────────────────────────────────────────\n",
       "   1 │    0.0 hr      1.0      0.1      0.1      1.0"
      ]
     },
     "execution_count": 54,
     "metadata": {},
     "output_type": "execute_result"
    }
   ],
   "source": [
    "simulate!(s)"
   ]
  },
  {
   "cell_type": "markdown",
   "metadata": {},
   "source": [
    "If you want to run for more than one time step, the number of iterations can be specfied."
   ]
  },
  {
   "cell_type": "code",
   "execution_count": 55,
   "metadata": {},
   "outputs": [
    {
     "data": {
      "text/html": [
       "<div><div style = \"float: left;\"><span>3×5 DataFrame</span></div><div style = \"clear: both;\"></div></div><div class = \"data-frame\" style = \"overflow-x: scroll;\"><table class = \"data-frame\" style = \"margin-bottom: 6px;\"><thead><tr class = \"header\"><th class = \"rowNumber\" style = \"font-weight: bold; text-align: right;\">Row</th><th style = \"text-align: left;\">time</th><th style = \"text-align: left;\">i</th><th style = \"text-align: left;\">a</th><th style = \"text-align: left;\">r</th><th style = \"text-align: left;\">x</th></tr><tr class = \"subheader headerLastRow\"><th class = \"rowNumber\" style = \"font-weight: bold; text-align: right;\"></th><th title = \"Unitful.Quantity{Float64, 𝐓, Unitful.FreeUnits{(hr,), 𝐓, nothing}}\" style = \"text-align: left;\">Quantity…</th><th title = \"Float64\" style = \"text-align: left;\">Float64</th><th title = \"Float64\" style = \"text-align: left;\">Float64</th><th title = \"Float64\" style = \"text-align: left;\">Float64</th><th title = \"Float64\" style = \"text-align: left;\">Float64</th></tr></thead><tbody><tr><td class = \"rowNumber\" style = \"font-weight: bold; text-align: right;\">1</td><td style = \"text-align: right;\">0.0 hr</td><td style = \"text-align: right;\">1.0</td><td style = \"text-align: right;\">0.1</td><td style = \"text-align: right;\">0.1</td><td style = \"text-align: right;\">1.0</td></tr><tr><td class = \"rowNumber\" style = \"font-weight: bold; text-align: right;\">2</td><td style = \"text-align: right;\">1.0 hr</td><td style = \"text-align: right;\">1.0</td><td style = \"text-align: right;\">0.1</td><td style = \"text-align: right;\">0.11</td><td style = \"text-align: right;\">1.1</td></tr><tr><td class = \"rowNumber\" style = \"font-weight: bold; text-align: right;\">3</td><td style = \"text-align: right;\">2.0 hr</td><td style = \"text-align: right;\">1.0</td><td style = \"text-align: right;\">0.1</td><td style = \"text-align: right;\">0.121</td><td style = \"text-align: right;\">1.21</td></tr></tbody></table></div>"
      ],
      "text/latex": [
       "\\begin{tabular}{r|ccccc}\n",
       "\t& time & i & a & r & x\\\\\n",
       "\t\\hline\n",
       "\t& Quantity… & Float64 & Float64 & Float64 & Float64\\\\\n",
       "\t\\hline\n",
       "\t1 & 0.0 hr & 1.0 & 0.1 & 0.1 & 1.0 \\\\\n",
       "\t2 & 1.0 hr & 1.0 & 0.1 & 0.11 & 1.1 \\\\\n",
       "\t3 & 2.0 hr & 1.0 & 0.1 & 0.121 & 1.21 \\\\\n",
       "\\end{tabular}\n"
      ],
      "text/plain": [
       "\u001b[1m3×5 DataFrame\u001b[0m\n",
       "\u001b[1m Row \u001b[0m│\u001b[1m time      \u001b[0m\u001b[1m i       \u001b[0m\u001b[1m a       \u001b[0m\u001b[1m r       \u001b[0m\u001b[1m x       \u001b[0m\n",
       "     │\u001b[90m Quantity… \u001b[0m\u001b[90m Float64 \u001b[0m\u001b[90m Float64 \u001b[0m\u001b[90m Float64 \u001b[0m\u001b[90m Float64 \u001b[0m\n",
       "─────┼───────────────────────────────────────────────\n",
       "   1 │    0.0 hr      1.0      0.1    0.1       1.0\n",
       "   2 │    1.0 hr      1.0      0.1    0.11      1.1\n",
       "   3 │    2.0 hr      1.0      0.1    0.121     1.21"
      ]
     },
     "execution_count": 55,
     "metadata": {},
     "output_type": "execute_result"
    }
   ],
   "source": [
    "simulate!(s; stop = 2)"
   ]
  },
  {
   "cell_type": "markdown",
   "metadata": {},
   "source": [
    "Instead of calling `simulate!()` after `instance()`, `simulate()` can do both at the same time. Note that `simulate()` works with the type of `System` whereas `simulate!()` works with an instance of such `System`. Note that Julia follows a convention that function ending with `!` can change or mutate any arguments supplied to the function."
   ]
  },
  {
   "cell_type": "code",
   "execution_count": 56,
   "metadata": {},
   "outputs": [
    {
     "data": {
      "text/html": [
       "<div><div style = \"float: left;\"><span>4×5 DataFrame</span></div><div style = \"clear: both;\"></div></div><div class = \"data-frame\" style = \"overflow-x: scroll;\"><table class = \"data-frame\" style = \"margin-bottom: 6px;\"><thead><tr class = \"header\"><th class = \"rowNumber\" style = \"font-weight: bold; text-align: right;\">Row</th><th style = \"text-align: left;\">time</th><th style = \"text-align: left;\">i</th><th style = \"text-align: left;\">a</th><th style = \"text-align: left;\">r</th><th style = \"text-align: left;\">x</th></tr><tr class = \"subheader headerLastRow\"><th class = \"rowNumber\" style = \"font-weight: bold; text-align: right;\"></th><th title = \"Unitful.Quantity{Float64, 𝐓, Unitful.FreeUnits{(hr,), 𝐓, nothing}}\" style = \"text-align: left;\">Quantity…</th><th title = \"Float64\" style = \"text-align: left;\">Float64</th><th title = \"Float64\" style = \"text-align: left;\">Float64</th><th title = \"Float64\" style = \"text-align: left;\">Float64</th><th title = \"Float64\" style = \"text-align: left;\">Float64</th></tr></thead><tbody><tr><td class = \"rowNumber\" style = \"font-weight: bold; text-align: right;\">1</td><td style = \"text-align: right;\">0.0 hr</td><td style = \"text-align: right;\">1.0</td><td style = \"text-align: right;\">0.1</td><td style = \"text-align: right;\">0.1</td><td style = \"text-align: right;\">1.0</td></tr><tr><td class = \"rowNumber\" style = \"font-weight: bold; text-align: right;\">2</td><td style = \"text-align: right;\">1.0 hr</td><td style = \"text-align: right;\">1.0</td><td style = \"text-align: right;\">0.1</td><td style = \"text-align: right;\">0.11</td><td style = \"text-align: right;\">1.1</td></tr><tr><td class = \"rowNumber\" style = \"font-weight: bold; text-align: right;\">3</td><td style = \"text-align: right;\">2.0 hr</td><td style = \"text-align: right;\">1.0</td><td style = \"text-align: right;\">0.1</td><td style = \"text-align: right;\">0.121</td><td style = \"text-align: right;\">1.21</td></tr><tr><td class = \"rowNumber\" style = \"font-weight: bold; text-align: right;\">4</td><td style = \"text-align: right;\">3.0 hr</td><td style = \"text-align: right;\">1.0</td><td style = \"text-align: right;\">0.1</td><td style = \"text-align: right;\">0.1331</td><td style = \"text-align: right;\">1.331</td></tr></tbody></table></div>"
      ],
      "text/latex": [
       "\\begin{tabular}{r|ccccc}\n",
       "\t& time & i & a & r & x\\\\\n",
       "\t\\hline\n",
       "\t& Quantity… & Float64 & Float64 & Float64 & Float64\\\\\n",
       "\t\\hline\n",
       "\t1 & 0.0 hr & 1.0 & 0.1 & 0.1 & 1.0 \\\\\n",
       "\t2 & 1.0 hr & 1.0 & 0.1 & 0.11 & 1.1 \\\\\n",
       "\t3 & 2.0 hr & 1.0 & 0.1 & 0.121 & 1.21 \\\\\n",
       "\t4 & 3.0 hr & 1.0 & 0.1 & 0.1331 & 1.331 \\\\\n",
       "\\end{tabular}\n"
      ],
      "text/plain": [
       "\u001b[1m4×5 DataFrame\u001b[0m\n",
       "\u001b[1m Row \u001b[0m│\u001b[1m time      \u001b[0m\u001b[1m i       \u001b[0m\u001b[1m a       \u001b[0m\u001b[1m r       \u001b[0m\u001b[1m x       \u001b[0m\n",
       "     │\u001b[90m Quantity… \u001b[0m\u001b[90m Float64 \u001b[0m\u001b[90m Float64 \u001b[0m\u001b[90m Float64 \u001b[0m\u001b[90m Float64 \u001b[0m\n",
       "─────┼───────────────────────────────────────────────\n",
       "   1 │    0.0 hr      1.0      0.1   0.1       1.0\n",
       "   2 │    1.0 hr      1.0      0.1   0.11      1.1\n",
       "   3 │    2.0 hr      1.0      0.1   0.121     1.21\n",
       "   4 │    3.0 hr      1.0      0.1   0.1331    1.331"
      ]
     },
     "execution_count": 56,
     "metadata": {},
     "output_type": "execute_result"
    }
   ],
   "source": [
    "simulate(S; stop = 3)"
   ]
  },
  {
   "cell_type": "markdown",
   "metadata": {},
   "source": [
    "#### Inspection"
   ]
  },
  {
   "cell_type": "markdown",
   "metadata": {},
   "source": [
    "Cropbox provides `look()` function (and equivalent `@look` macro) which is a handy tool for inspecting internal states of `System` and/or instance of the system. Cropbox also provide `dive()` function for interactive navigating in and out of the variables, but it only works in terminal REPL environment, not in Jupyter Notebook [yet](https://github.com/JuliaLang/IJulia.jl/issues/801)."
   ]
  },
  {
   "cell_type": "code",
   "execution_count": 57,
   "metadata": {},
   "outputs": [
    {
     "name": "stdout",
     "output_type": "stream",
     "text": [
      "\u001b[90m[doc]\u001b[39m\n",
      "\n",
      "\u001b[90m[system]\u001b[39m\n",
      "\u001b[95mS\u001b[39m\n",
      "  \u001b[94mcontext\u001b[39m\u001b[90m = \u001b[39m<Context>\n",
      "  \u001b[94mconfig\u001b[39m\u001b[90m = \u001b[39m<Config>\n",
      "  \u001b[94mi\u001b[39m\u001b[90m = \u001b[39m1.0\n",
      "  \u001b[94ma\u001b[39m\u001b[90m = \u001b[39m0.1\n",
      "  \u001b[94mr\u001b[39m\u001b[90m = \u001b[39m0.121\n",
      "  \u001b[94mx\u001b[39m\u001b[90m = \u001b[39m1.21"
     ]
    }
   ],
   "source": [
    "look(s)"
   ]
  },
  {
   "cell_type": "code",
   "execution_count": 58,
   "metadata": {},
   "outputs": [
    {
     "name": "stdout",
     "output_type": "stream",
     "text": [
      "\u001b[90m[doc]\u001b[39m\n",
      "\n",
      "\u001b[90m[code]\u001b[39m\n",
      "\u001b[22;23;24m  \u001b[22;23;24ma\u001b[22;23;24m \u001b[38;2;102;102;102;1;23;24m=>\u001b[39;22m\u001b[22;23;24m \u001b[38;2;59;151;46;22;23;24m0.1\u001b[39m\u001b[22;23;24m \u001b[38;2;102;102;102;1;23;24m~\u001b[39;22m\u001b[22;23;24m \u001b[38;2;66;102;213;22;23;24mpreserve\u001b[39m\u001b[22;23;24m(\u001b[22;23;24mparameter\u001b[22;23;24m)\n",
      "\n",
      "\u001b[90m[value]\u001b[39m\n",
      "0.1"
     ]
    }
   ],
   "source": [
    "@look s.a"
   ]
  },
  {
   "cell_type": "markdown",
   "metadata": {},
   "source": [
    "#### Controller"
   ]
  },
  {
   "cell_type": "markdown",
   "metadata": {},
   "source": [
    "At this point, you may want to run this model as we did before with `simulate()`, but it would turn out our `MySystem` can't be run as a standalone model. Due to technical reasons for performance, any `System` that wants to be a direct target of instantiation needs to to include `Controller` mixin in its specification. Remember we had `@system S(Controller) ..`, not just `@system S ..` in our first example."
   ]
  },
  {
   "cell_type": "markdown",
   "metadata": {},
   "source": [
    "#### Mixin"
   ]
  },
  {
   "cell_type": "markdown",
   "metadata": {},
   "source": [
    "[Mixin](https://en.wikipedia.org/wiki/Mixin) is a piece of `System` specification that can be included in the specification of larger `System`. Each mixin implements an own set of variables and some of them may be linked with variables from other `System` when a new `System` is formed. Mixins are declared by giving a list of them enclosed within parentheses after the name of `System` in the specification."
   ]
  },
  {
   "cell_type": "markdown",
   "metadata": {},
   "source": [
    "Here is an example of mixin where `S3` is composed by including `S1` and `S2` as mixins."
   ]
  },
  {
   "cell_type": "code",
   "execution_count": 59,
   "metadata": {},
   "outputs": [
    {
     "data": {
      "text/plain": [
       "S1"
      ]
     },
     "execution_count": 59,
     "metadata": {},
     "output_type": "execute_result"
    }
   ],
   "source": [
    "@system S1 begin\n",
    "    a    => 1  ~ preserve\n",
    "    b(a) => 2a ~ track\n",
    "end"
   ]
  },
  {
   "cell_type": "code",
   "execution_count": 60,
   "metadata": {},
   "outputs": [
    {
     "data": {
      "text/plain": [
       "S2"
      ]
     },
     "execution_count": 60,
     "metadata": {},
     "output_type": "execute_result"
    }
   ],
   "source": [
    "@system S2 begin\n",
    "    a       => 2   ~ preserve\n",
    "    b(a, c) => a*c ~ track\n",
    "    c       => 1   ~ preserve\n",
    "end"
   ]
  },
  {
   "cell_type": "code",
   "execution_count": 61,
   "metadata": {},
   "outputs": [
    {
     "data": {
      "text/plain": [
       "S3"
      ]
     },
     "execution_count": 61,
     "metadata": {},
     "output_type": "execute_result"
    }
   ],
   "source": [
    "@system S3(S1, S2) begin\n",
    "    d(a) => 3a ~ preserve\n",
    "end"
   ]
  },
  {
   "cell_type": "markdown",
   "metadata": {},
   "source": [
    "We can take a look at the actual specification of `S3` after mixins were included by calling `Cropbox.source()`."
   ]
  },
  {
   "cell_type": "code",
   "execution_count": 62,
   "metadata": {},
   "outputs": [
    {
     "data": {
      "text/plain": [
       "quote\n",
       "    \u001b[90m#= In[61]:2 =#\u001b[39m\n",
       "    d(a) => 3a ~ preserve\n",
       "end"
      ]
     },
     "execution_count": 62,
     "metadata": {},
     "output_type": "execute_result"
    }
   ],
   "source": [
    "Cropbox.source(S3)"
   ]
  },
  {
   "cell_type": "markdown",
   "metadata": {},
   "source": [
    "Note that `a` from `S1` with default value of 1 was overridden by `S2` where default value was 2. The same went for variable `b`. In other words, order of mixins are important."
   ]
  },
  {
   "cell_type": "markdown",
   "metadata": {},
   "source": [
    "It may help understanding mixins by visualizaing their structure."
   ]
  },
  {
   "cell_type": "code",
   "execution_count": 63,
   "metadata": {},
   "outputs": [
    {
     "data": {
      "image/svg+xml": [
       "<?xml version=\"1.0\" encoding=\"UTF-8\" standalone=\"no\"?>\n",
       "<!DOCTYPE svg PUBLIC \"-//W3C//DTD SVG 1.1//EN\"\n",
       " \"http://www.w3.org/Graphics/SVG/1.1/DTD/svg11.dtd\">\n",
       "<!-- Generated by graphviz version 2.50.0 (20211204.2007)\n",
       " -->\n",
       "<!-- Pages: 1 -->\n",
       "<svg width=\"93pt\" height=\"50pt\"\n",
       " viewBox=\"0.00 0.00 92.61 50.00\" xmlns=\"http://www.w3.org/2000/svg\" xmlns:xlink=\"http://www.w3.org/1999/xlink\">\n",
       "<g id=\"graph0\" class=\"graph\" transform=\"scale(1 1) rotate(0) translate(4 46)\">\n",
       "<polygon fill=\"white\" stroke=\"transparent\" points=\"-4,4 -4,-46 88.61,-46 88.61,4 -4,4\"/>\n",
       "<!-- 1 -->\n",
       "<g id=\"node1\" class=\"node\">\n",
       "<title>1</title>\n",
       "<text text-anchor=\"middle\" x=\"25.39\" y=\"-32.8\" font-family=\"Courier,monospace\" font-size=\"9.00\">context</text>\n",
       "</g>\n",
       "<!-- 2 -->\n",
       "<g id=\"node2\" class=\"node\">\n",
       "<title>2</title>\n",
       "<text text-anchor=\"middle\" x=\"25.39\" y=\"-4.8\" font-family=\"Courier,monospace\" font-size=\"9.00\">config</text>\n",
       "</g>\n",
       "<!-- 1&#45;&gt;2 -->\n",
       "<g id=\"edge1\" class=\"edge\">\n",
       "<title>1&#45;&gt;2</title>\n",
       "<path fill=\"none\" stroke=\"black\" stroke-width=\"0.2\" d=\"M25.39,-27.97C25.39,-24.53 25.39,-20.16 25.39,-16.39\"/>\n",
       "<polygon fill=\"black\" stroke=\"black\" stroke-width=\"0.2\" points=\"26.09,-16.36 25.39,-14.36 24.69,-16.36 26.09,-16.36\"/>\n",
       "</g>\n",
       "<!-- 3 -->\n",
       "<g id=\"node3\" class=\"node\">\n",
       "<title>3</title>\n",
       "<text text-anchor=\"middle\" x=\"78.39\" y=\"-32.8\" font-family=\"Courier,monospace\" font-size=\"9.00\">a</text>\n",
       "</g>\n",
       "<!-- 4 -->\n",
       "<g id=\"node4\" class=\"node\">\n",
       "<title>4</title>\n",
       "<text text-anchor=\"middle\" x=\"78.39\" y=\"-4.8\" font-family=\"Courier,monospace\" font-size=\"9.00\">b</text>\n",
       "</g>\n",
       "<!-- 3&#45;&gt;4 -->\n",
       "<g id=\"edge2\" class=\"edge\">\n",
       "<title>3&#45;&gt;4</title>\n",
       "<path fill=\"none\" stroke=\"black\" stroke-width=\"0.2\" d=\"M78.39,-27.97C78.39,-24.53 78.39,-20.16 78.39,-16.39\"/>\n",
       "<polygon fill=\"black\" stroke=\"black\" stroke-width=\"0.2\" points=\"79.09,-16.36 78.39,-14.36 77.69,-16.36 79.09,-16.36\"/>\n",
       "</g>\n",
       "</g>\n",
       "</svg>\n"
      ],
      "text/plain": [
       "\u001b[90m[\u001b[39m\u001b[94ma\u001b[39m\u001b[90m → \u001b[39m\u001b[94mb\u001b[39m\u001b[90m → \u001b[39m\u001b[94mcontext\u001b[39m\u001b[90m → \u001b[39m\u001b[94mconfig\u001b[39m\u001b[90m]\u001b[39m"
      ]
     },
     "execution_count": 63,
     "metadata": {},
     "output_type": "execute_result"
    }
   ],
   "source": [
    "Cropbox.dependency(S1)"
   ]
  },
  {
   "cell_type": "code",
   "execution_count": 64,
   "metadata": {},
   "outputs": [
    {
     "data": {
      "image/svg+xml": [
       "<?xml version=\"1.0\" encoding=\"UTF-8\" standalone=\"no\"?>\n",
       "<!DOCTYPE svg PUBLIC \"-//W3C//DTD SVG 1.1//EN\"\n",
       " \"http://www.w3.org/Graphics/SVG/1.1/DTD/svg11.dtd\">\n",
       "<!-- Generated by graphviz version 2.50.0 (20211204.2007)\n",
       " -->\n",
       "<!-- Pages: 1 -->\n",
       "<svg width=\"106pt\" height=\"56pt\"\n",
       " viewBox=\"0.00 0.00 105.50 56.50\" xmlns=\"http://www.w3.org/2000/svg\" xmlns:xlink=\"http://www.w3.org/1999/xlink\">\n",
       "<g id=\"graph0\" class=\"graph\" transform=\"scale(1 1) rotate(0) translate(4 52.5)\">\n",
       "<polygon fill=\"white\" stroke=\"transparent\" points=\"-4,4 -4,-52.5 101.5,-52.5 101.5,4 -4,4\"/>\n",
       "<!-- 1 -->\n",
       "<g id=\"node1\" class=\"node\">\n",
       "<title>1</title>\n",
       "<text text-anchor=\"middle\" x=\"20.5\" y=\"-37.8\" font-family=\"Courier,monospace\" font-size=\"9.00\">context</text>\n",
       "</g>\n",
       "<!-- 2 -->\n",
       "<g id=\"node2\" class=\"node\">\n",
       "<title>2</title>\n",
       "<text text-anchor=\"middle\" x=\"20.5\" y=\"-5.8\" font-family=\"Courier,monospace\" font-size=\"9.00\">config</text>\n",
       "</g>\n",
       "<!-- 1&#45;&gt;2 -->\n",
       "<g id=\"edge1\" class=\"edge\">\n",
       "<title>1&#45;&gt;2</title>\n",
       "<path fill=\"none\" stroke=\"black\" stroke-width=\"0.2\" d=\"M20.5,-32.93C20.5,-28.37 20.5,-22.09 20.5,-17.11\"/>\n",
       "<polygon fill=\"black\" stroke=\"black\" stroke-width=\"0.2\" points=\"21.2,-17.06 20.5,-15.06 19.8,-17.06 21.2,-17.06\"/>\n",
       "</g>\n",
       "<!-- 3 -->\n",
       "<g id=\"node3\" class=\"node\">\n",
       "<title>3</title>\n",
       "<text text-anchor=\"middle\" x=\"64.5\" y=\"-37.8\" font-family=\"Courier,monospace\" font-size=\"9.00\">a</text>\n",
       "</g>\n",
       "<!-- 4 -->\n",
       "<g id=\"node4\" class=\"node\">\n",
       "<title>4</title>\n",
       "<text text-anchor=\"middle\" x=\"78.5\" y=\"-5.8\" font-family=\"Courier,monospace\" font-size=\"9.00\">b</text>\n",
       "</g>\n",
       "<!-- 3&#45;&gt;4 -->\n",
       "<g id=\"edge2\" class=\"edge\">\n",
       "<title>3&#45;&gt;4</title>\n",
       "<path fill=\"none\" stroke=\"black\" stroke-width=\"0.2\" d=\"M67.33,-32.93C69.46,-28.37 72.39,-22.09 74.72,-17.11\"/>\n",
       "<polygon fill=\"black\" stroke=\"black\" stroke-width=\"0.2\" points=\"75.46,-17.17 75.67,-15.06 74.19,-16.58 75.46,-17.17\"/>\n",
       "</g>\n",
       "<!-- 5 -->\n",
       "<g id=\"node5\" class=\"node\">\n",
       "<title>5</title>\n",
       "<text text-anchor=\"middle\" x=\"92.5\" y=\"-37.8\" font-family=\"Courier,monospace\" font-size=\"9.00\">c</text>\n",
       "</g>\n",
       "<!-- 5&#45;&gt;4 -->\n",
       "<g id=\"edge3\" class=\"edge\">\n",
       "<title>5&#45;&gt;4</title>\n",
       "<path fill=\"none\" stroke=\"black\" stroke-width=\"0.2\" d=\"M89.67,-32.93C87.54,-28.37 84.61,-22.09 82.28,-17.11\"/>\n",
       "<polygon fill=\"black\" stroke=\"black\" stroke-width=\"0.2\" points=\"82.81,-16.58 81.33,-15.06 81.54,-17.17 82.81,-16.58\"/>\n",
       "</g>\n",
       "</g>\n",
       "</svg>\n"
      ],
      "text/plain": [
       "\u001b[90m[\u001b[39m\u001b[94mc\u001b[39m\u001b[90m → \u001b[39m\u001b[94ma\u001b[39m\u001b[90m → \u001b[39m\u001b[94mb\u001b[39m\u001b[90m → \u001b[39m\u001b[94mcontext\u001b[39m\u001b[90m → \u001b[39m\u001b[94mconfig\u001b[39m\u001b[90m]\u001b[39m"
      ]
     },
     "execution_count": 64,
     "metadata": {},
     "output_type": "execute_result"
    }
   ],
   "source": [
    "Cropbox.dependency(S2)"
   ]
  },
  {
   "cell_type": "code",
   "execution_count": 65,
   "metadata": {},
   "outputs": [
    {
     "data": {
      "image/svg+xml": [
       "<?xml version=\"1.0\" encoding=\"UTF-8\" standalone=\"no\"?>\n",
       "<!DOCTYPE svg PUBLIC \"-//W3C//DTD SVG 1.1//EN\"\n",
       " \"http://www.w3.org/Graphics/SVG/1.1/DTD/svg11.dtd\">\n",
       "<!-- Generated by graphviz version 2.50.0 (20211204.2007)\n",
       " -->\n",
       "<!-- Pages: 1 -->\n",
       "<svg width=\"106pt\" height=\"56pt\"\n",
       " viewBox=\"0.00 0.00 105.50 56.50\" xmlns=\"http://www.w3.org/2000/svg\" xmlns:xlink=\"http://www.w3.org/1999/xlink\">\n",
       "<g id=\"graph0\" class=\"graph\" transform=\"scale(1 1) rotate(0) translate(4 52.5)\">\n",
       "<polygon fill=\"white\" stroke=\"transparent\" points=\"-4,4 -4,-52.5 101.5,-52.5 101.5,4 -4,4\"/>\n",
       "<!-- 1 -->\n",
       "<g id=\"node1\" class=\"node\">\n",
       "<title>1</title>\n",
       "<text text-anchor=\"middle\" x=\"20.5\" y=\"-37.8\" font-family=\"Courier,monospace\" font-size=\"9.00\">context</text>\n",
       "</g>\n",
       "<!-- 2 -->\n",
       "<g id=\"node2\" class=\"node\">\n",
       "<title>2</title>\n",
       "<text text-anchor=\"middle\" x=\"20.5\" y=\"-5.8\" font-family=\"Courier,monospace\" font-size=\"9.00\">config</text>\n",
       "</g>\n",
       "<!-- 1&#45;&gt;2 -->\n",
       "<g id=\"edge1\" class=\"edge\">\n",
       "<title>1&#45;&gt;2</title>\n",
       "<path fill=\"none\" stroke=\"black\" stroke-width=\"0.2\" d=\"M20.5,-32.93C20.5,-28.37 20.5,-22.09 20.5,-17.11\"/>\n",
       "<polygon fill=\"black\" stroke=\"black\" stroke-width=\"0.2\" points=\"21.2,-17.06 20.5,-15.06 19.8,-17.06 21.2,-17.06\"/>\n",
       "</g>\n",
       "<!-- 3 -->\n",
       "<g id=\"node3\" class=\"node\">\n",
       "<title>3</title>\n",
       "<text text-anchor=\"middle\" x=\"92.5\" y=\"-37.8\" font-family=\"Courier,monospace\" font-size=\"9.00\">a</text>\n",
       "</g>\n",
       "<!-- 4 -->\n",
       "<g id=\"node4\" class=\"node\">\n",
       "<title>4</title>\n",
       "<text text-anchor=\"middle\" x=\"64.5\" y=\"-5.8\" font-family=\"Courier,monospace\" font-size=\"9.00\">b</text>\n",
       "</g>\n",
       "<!-- 3&#45;&gt;4 -->\n",
       "<g id=\"edge2\" class=\"edge\">\n",
       "<title>3&#45;&gt;4</title>\n",
       "<path fill=\"none\" stroke=\"black\" stroke-width=\"0.2\" d=\"M87.36,-33.5C82.79,-28.59 76.06,-21.38 71.09,-16.06\"/>\n",
       "<polygon fill=\"black\" stroke=\"black\" stroke-width=\"0.2\" points=\"71.48,-15.45 69.6,-14.47 70.46,-16.41 71.48,-15.45\"/>\n",
       "</g>\n",
       "<!-- 6 -->\n",
       "<g id=\"node6\" class=\"node\">\n",
       "<title>6</title>\n",
       "<text text-anchor=\"middle\" x=\"92.5\" y=\"-5.8\" font-family=\"Courier,monospace\" font-size=\"9.00\">d</text>\n",
       "</g>\n",
       "<!-- 3&#45;&gt;6 -->\n",
       "<g id=\"edge3\" class=\"edge\">\n",
       "<title>3&#45;&gt;6</title>\n",
       "<path fill=\"none\" stroke=\"black\" stroke-width=\"0.2\" d=\"M92.5,-32.93C92.5,-28.37 92.5,-22.09 92.5,-17.11\"/>\n",
       "<polygon fill=\"black\" stroke=\"black\" stroke-width=\"0.2\" points=\"93.2,-17.06 92.5,-15.06 91.8,-17.06 93.2,-17.06\"/>\n",
       "</g>\n",
       "<!-- 5 -->\n",
       "<g id=\"node5\" class=\"node\">\n",
       "<title>5</title>\n",
       "<text text-anchor=\"middle\" x=\"64.5\" y=\"-37.8\" font-family=\"Courier,monospace\" font-size=\"9.00\">c</text>\n",
       "</g>\n",
       "<!-- 5&#45;&gt;4 -->\n",
       "<g id=\"edge4\" class=\"edge\">\n",
       "<title>5&#45;&gt;4</title>\n",
       "<path fill=\"none\" stroke=\"black\" stroke-width=\"0.2\" d=\"M64.5,-32.93C64.5,-28.37 64.5,-22.09 64.5,-17.11\"/>\n",
       "<polygon fill=\"black\" stroke=\"black\" stroke-width=\"0.2\" points=\"65.2,-17.06 64.5,-15.06 63.8,-17.06 65.2,-17.06\"/>\n",
       "</g>\n",
       "</g>\n",
       "</svg>\n"
      ],
      "text/plain": [
       "\u001b[90m[\u001b[39m\u001b[94mc\u001b[39m\u001b[90m → \u001b[39m\u001b[94ma\u001b[39m\u001b[90m → \u001b[39m\u001b[94mb\u001b[39m\u001b[90m → \u001b[39m\u001b[94md\u001b[39m\u001b[90m → \u001b[39m\u001b[94mcontext\u001b[39m\u001b[90m → \u001b[39m\u001b[94mconfig\u001b[39m\u001b[90m]\u001b[39m"
      ]
     },
     "execution_count": 65,
     "metadata": {},
     "output_type": "execute_result"
    }
   ],
   "source": [
    "Cropbox.dependency(S3)"
   ]
  },
  {
   "cell_type": "code",
   "execution_count": 66,
   "metadata": {},
   "outputs": [
    {
     "data": {
      "image/svg+xml": [
       "<?xml version=\"1.0\" encoding=\"UTF-8\" standalone=\"no\"?>\n",
       "<!DOCTYPE svg PUBLIC \"-//W3C//DTD SVG 1.1//EN\"\n",
       " \"http://www.w3.org/Graphics/SVG/1.1/DTD/svg11.dtd\">\n",
       "<!-- Generated by graphviz version 2.50.0 (20211204.2007)\n",
       " -->\n",
       "<!-- Pages: 1 -->\n",
       "<svg width=\"204pt\" height=\"106pt\"\n",
       " viewBox=\"0.00 0.00 204.00 106.00\" xmlns=\"http://www.w3.org/2000/svg\" xmlns:xlink=\"http://www.w3.org/1999/xlink\">\n",
       "<g id=\"graph0\" class=\"graph\" transform=\"scale(1 1) rotate(0) translate(4 102)\">\n",
       "<polygon fill=\"white\" stroke=\"transparent\" points=\"-4,4 -4,-102 200,-102 200,4 -4,4\"/>\n",
       "<!-- 1 -->\n",
       "<g id=\"node1\" class=\"node\">\n",
       "<title>1</title>\n",
       "<text text-anchor=\"middle\" x=\"65.66\" y=\"-4.8\" font-family=\"Courier,monospace\" font-size=\"9.00\">S3</text>\n",
       "</g>\n",
       "<!-- 2 -->\n",
       "<g id=\"node2\" class=\"node\">\n",
       "<title>2</title>\n",
       "<text text-anchor=\"middle\" x=\"65.66\" y=\"-32.8\" font-family=\"Courier,monospace\" font-size=\"9.00\">S1</text>\n",
       "</g>\n",
       "<!-- 2&#45;&gt;1 -->\n",
       "<g id=\"edge1\" class=\"edge\">\n",
       "<title>2&#45;&gt;1</title>\n",
       "<path fill=\"none\" stroke=\"black\" stroke-width=\"0.2\" stroke-dasharray=\"5,2\" d=\"M65.66,-27.97C65.66,-24.53 65.66,-20.16 65.66,-16.39\"/>\n",
       "<polygon fill=\"black\" stroke=\"black\" stroke-width=\"0.2\" points=\"66.36,-16.36 65.66,-14.36 64.96,-16.36 66.36,-16.36\"/>\n",
       "</g>\n",
       "<!-- 3 -->\n",
       "<g id=\"node3\" class=\"node\">\n",
       "<title>3</title>\n",
       "<text text-anchor=\"middle\" x=\"65.66\" y=\"-60.8\" font-family=\"Courier,monospace\" font-size=\"9.00\">Context</text>\n",
       "</g>\n",
       "<!-- 3&#45;&gt;1 -->\n",
       "<g id=\"edge2\" class=\"edge\">\n",
       "<title>3&#45;&gt;1</title>\n",
       "<path fill=\"none\" stroke=\"black\" stroke-width=\"0.2\" d=\"M58.31,-55.76C54.65,-52.16 50.61,-47.3 48.66,-42 46.51,-36.16 46.51,-33.84 48.66,-28 50.3,-23.52 53.44,-19.37 56.58,-16.01\"/>\n",
       "<polygon fill=\"black\" stroke=\"black\" stroke-width=\"0.2\" points=\"57.42,-16.16 58.31,-14.24 56.41,-15.18 57.42,-16.16\"/>\n",
       "</g>\n",
       "<!-- 3&#45;&gt;2 -->\n",
       "<g id=\"edge3\" class=\"edge\">\n",
       "<title>3&#45;&gt;2</title>\n",
       "<path fill=\"none\" stroke=\"black\" stroke-width=\"0.2\" d=\"M65.66,-55.97C65.66,-52.53 65.66,-48.16 65.66,-44.39\"/>\n",
       "<polygon fill=\"black\" stroke=\"black\" stroke-width=\"0.2\" points=\"66.36,-44.36 65.66,-42.36 64.96,-44.36 66.36,-44.36\"/>\n",
       "</g>\n",
       "<!-- 5 -->\n",
       "<g id=\"node5\" class=\"node\">\n",
       "<title>5</title>\n",
       "<text text-anchor=\"middle\" x=\"171.66\" y=\"-32.8\" font-family=\"Courier,monospace\" font-size=\"9.00\">S2</text>\n",
       "</g>\n",
       "<!-- 3&#45;&gt;5 -->\n",
       "<g id=\"edge4\" class=\"edge\">\n",
       "<title>3&#45;&gt;5</title>\n",
       "<path fill=\"none\" stroke=\"black\" stroke-width=\"0.2\" d=\"M86.35,-56.93C109.04,-51.36 144.52,-42.66 161.69,-38.45\"/>\n",
       "<polygon fill=\"black\" stroke=\"black\" stroke-width=\"0.2\" points=\"161.91,-39.11 163.69,-37.95 161.58,-37.75 161.91,-39.11\"/>\n",
       "</g>\n",
       "<!-- 4 -->\n",
       "<g id=\"node4\" class=\"node\">\n",
       "<title>4</title>\n",
       "<text text-anchor=\"middle\" x=\"65.66\" y=\"-88.8\" font-family=\"Courier,monospace\" font-size=\"9.00\">Clock</text>\n",
       "</g>\n",
       "<!-- 4&#45;&gt;3 -->\n",
       "<g id=\"edge5\" class=\"edge\">\n",
       "<title>4&#45;&gt;3</title>\n",
       "<path fill=\"none\" stroke=\"black\" stroke-width=\"0.2\" d=\"M65.66,-83.97C65.66,-80.53 65.66,-76.16 65.66,-72.39\"/>\n",
       "<polygon fill=\"black\" stroke=\"black\" stroke-width=\"0.2\" points=\"66.36,-72.36 65.66,-70.36 64.96,-72.36 66.36,-72.36\"/>\n",
       "</g>\n",
       "<!-- 5&#45;&gt;1 -->\n",
       "<g id=\"edge6\" class=\"edge\">\n",
       "<title>5&#45;&gt;1</title>\n",
       "<path fill=\"none\" stroke=\"black\" stroke-width=\"0.2\" stroke-dasharray=\"5,2\" d=\"M164.03,-32.13C145.16,-27.5 96.29,-15.51 75.38,-10.39\"/>\n",
       "<polygon fill=\"black\" stroke=\"black\" stroke-width=\"0.2\" points=\"75.32,-9.65 73.21,-9.85 74.99,-11.01 75.32,-9.65\"/>\n",
       "</g>\n",
       "</g>\n",
       "</svg>\n"
      ],
      "text/plain": [
       "\u001b[90m{\u001b[39m\u001b[95mS3\u001b[39m\u001b[90m, \u001b[39m\u001b[95mS1\u001b[39m\u001b[90m, \u001b[39m\u001b[95mContext\u001b[39m\u001b[90m, \u001b[39m\u001b[95mClock\u001b[39m\u001b[90m, \u001b[39m\u001b[95mS2\u001b[39m\u001b[90m}\u001b[39m"
      ]
     },
     "execution_count": 66,
     "metadata": {},
     "output_type": "execute_result"
    }
   ],
   "source": [
    "Cropbox.hierarchy(S3)"
   ]
  },
  {
   "cell_type": "markdown",
   "metadata": {},
   "source": [
    "Here `S3` *includes* `S1` and `S2`. `S3` *has* a `Context` which has a `Clock`."
   ]
  },
  {
   "cell_type": "markdown",
   "metadata": {},
   "source": [
    "### Notes"
   ]
  },
  {
   "cell_type": "markdown",
   "metadata": {},
   "source": [
    "1. Some functions (*i.e.* `simulate()`, `instance()`) used in this notebook were simply called without module name (*i.e.* `Cropbox.`), while some had to be called with a prefix (*e.g.* `Cropbox.hierarchy()`, `Cropbox.source()`). By default, the latter group of functions are not exported to the user scope, because they were mostly designed for internal use  and their forms and behaviors are likely to change in the future. So please be mindful when you need to use them."
   ]
  },
  {
   "cell_type": "markdown",
   "metadata": {},
   "source": [
    "2. This tutorial assumed readers have a basic understanding of Julia language. For more information, please read the official [Julia documentation](https://docs.julialang.org/)."
   ]
  }
 ],
 "metadata": {
  "@webio": {
   "lastCommId": "0d4b30ad-1f4e-4efe-bb99-556d02a0ac60",
   "lastKernelId": "6f6c286c-86c3-47ae-8181-ce229bd2acd2"
  },
  "kernelspec": {
   "display_name": "Julia 1.10.4",
   "language": "julia",
   "name": "julia-1.10"
  },
  "language_info": {
   "file_extension": ".jl",
   "mimetype": "application/julia",
   "name": "julia",
   "version": "1.10.4"
  }
 },
 "nbformat": 4,
 "nbformat_minor": 4
}

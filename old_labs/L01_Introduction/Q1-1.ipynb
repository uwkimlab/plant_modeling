{
 "cells": [
  {
   "cell_type": "markdown",
   "id": "15743960-9659-4dd7-9305-f8d9c618ffd8",
   "metadata": {},
   "source": [
    "## Question 1.1."
   ]
  },
  {
   "cell_type": "code",
   "execution_count": null,
   "id": "d7fcdd3e-7990-4abe-a3ff-7e4fb64f190e",
   "metadata": {
    "tags": []
   },
   "outputs": [],
   "source": [
    "# this line is a comment. In this cell, we are bringing in Julia packages to use in this notebook.\n",
    "using Cropbox, Dates  "
   ]
  },
  {
   "cell_type": "markdown",
   "id": "bfc2c59d-c847-46ff-9349-2901c73a9e45",
   "metadata": {
    "jp-MarkdownHeadingCollapsed": true,
    "tags": []
   },
   "source": [
    "### Q1.1b\n",
    "In the next blank cell, type in the Julia code from Question 1.1 (b) and see what it does. When done, press `shift-Enter` to run the cell. "
   ]
  },
  {
   "cell_type": "code",
   "execution_count": null,
   "id": "35001797-e57b-4f41-9fa4-2c3182da5825",
   "metadata": {
    "tags": []
   },
   "outputs": [],
   "source": [
    "\"Douglas-fir height growth model 1\"\n",
    "@system Q1b(Controller) begin    \n",
    "    t(context.clock.time) ~ track(u\"yr\")\n",
    "    r:  growth_rate    => 0.25 ~ preserve(parameter, u\"m/yr\")\n",
    "    H0: initial_height => 1.5  ~ preserve(parameter, u\"m\")\n",
    "    H(r): height       => r    ~ accumulate(u\"m\", init = H0)\n",
    "end"
   ]
  },
  {
   "cell_type": "code",
   "execution_count": null,
   "id": "3c31b888-5965-41d5-8dfc-abe57f1afea2",
   "metadata": {
    "tags": []
   },
   "outputs": [],
   "source": [
    "c = @config (\n",
    "    :Clock => (;\n",
    "       :step => 1u\"yr\",\n",
    "        ),\n",
    "    )\n",
    "    "
   ]
  },
  {
   "cell_type": "markdown",
   "id": "5708eb9a-32d1-4628-8e0d-bc5221fa6dd8",
   "metadata": {},
   "source": [
    "Let's check the definition of `Q1b` system we just created."
   ]
  },
  {
   "cell_type": "code",
   "execution_count": null,
   "id": "fa9fd281-5676-4162-b10e-de58f7922500",
   "metadata": {
    "tags": []
   },
   "outputs": [],
   "source": [
    "?Q1b"
   ]
  },
  {
   "cell_type": "markdown",
   "id": "0d8d45e2-e59f-40f5-a35a-0b2545557d62",
   "metadata": {},
   "source": [
    "Simple ploting of the model behavior"
   ]
  },
  {
   "cell_type": "code",
   "execution_count": null,
   "id": "6e3e13b1-3152-4c15-8183-c05dba352600",
   "metadata": {
    "tags": []
   },
   "outputs": [],
   "source": [
    "visualize([Q1b], :t, :H; config = c, stop = 27u\"yr\", kind = :line)"
   ]
  },
  {
   "cell_type": "markdown",
   "id": "949fce62-917f-4221-a530-1219410895fe",
   "metadata": {
    "jp-MarkdownHeadingCollapsed": true,
    "tags": []
   },
   "source": [
    "### Q1.1c\n",
    "First think about and jot down an analytical solution of Eqn 1.1. Then examine and run the next two cells."
   ]
  },
  {
   "cell_type": "code",
   "execution_count": null,
   "id": "c071fe49-68aa-4ed9-818c-17ee5a1df3df",
   "metadata": {
    "tags": []
   },
   "outputs": [],
   "source": [
    "\"Douglas-fir height growth model 2\"\n",
    "@system Q1c(Controller) begin\n",
    "    t(context.clock.time) ~ track(u\"yr\")    \n",
    "    yr(t): calendar_year => begin 1983u\"yr\" + t end ~ track(u\"yr\")  # This is a newly added line\n",
    "    r:  growth_rate    => 0.25 ~ preserve(parameter, u\"m/yr\")\n",
    "    H0: initial_height         => 1.5 ~ preserve(parameter, u\"m\")\n",
    "    H(r, H0, t): height => begin # an analytical solution of Q1b\n",
    "        H0 + r*t\n",
    "    end ~ track(u\"m\") # note we track, not accumulate over time here\n",
    "end"
   ]
  },
  {
   "cell_type": "code",
   "execution_count": null,
   "id": "16356feb-b93e-4000-b30c-2557bf5a0b6d",
   "metadata": {
    "tags": []
   },
   "outputs": [],
   "source": [
    "visualize([Q1c], :yr, :H; config = c, stop = 27u\"yr\", kind = :line)"
   ]
  },
  {
   "cell_type": "markdown",
   "id": "f64d8556-3b10-4d65-8417-834ee328f3cd",
   "metadata": {
    "jp-MarkdownHeadingCollapsed": true,
    "tags": []
   },
   "source": [
    "### Q1.1d\n",
    "Now let's import data shown in figure 1.1 adpated from Porzig et al. (2014) and evaluate how our guessimate model performs. Data points were semi-automatically extracted using [WebPlotDigitizer](https://automeris.io/wpd/). Other tools for digitizing data from figures include [ImageJ](https://imagej.net/ij/) and [PlotDigitizer](https://plotdigitizer.com)."
   ]
  },
  {
   "cell_type": "code",
   "execution_count": null,
   "id": "cffe4431-8deb-4950-9848-8ecaf94786d3",
   "metadata": {
    "tags": []
   },
   "outputs": [],
   "source": [
    "using CSV, DataFrames, DataFramesMeta # use additional packages to read and manage data"
   ]
  },
  {
   "cell_type": "code",
   "execution_count": null,
   "id": "c310a934-e7d3-4e55-b134-2ad04dcb15b3",
   "metadata": {
    "tags": []
   },
   "outputs": [],
   "source": [
    "dougfir = CSV.read(\"fig1-data.csv\", DataFrame) |> unitfy; \n",
    "# keeping the correct unit is a key in Cropbox. We will talk more about this."
   ]
  },
  {
   "cell_type": "markdown",
   "id": "17000d80-aaa3-4a98-9409-584a6f309838",
   "metadata": {},
   "source": [
    "Let's overlay the digitized data with our model. How did it do? Are you happy with the model? How would you improve it?"
   ]
  },
  {
   "cell_type": "code",
   "execution_count": null,
   "id": "8f29e7aa-20ce-439d-859e-f5bec4003ffa",
   "metadata": {
    "tags": []
   },
   "outputs": [],
   "source": [
    "p = visualize(dougfir, :year, :height; )\n",
    "visualize!(p, Q1c, :yr, :H; stop=27u\"yr\", kind = :line)"
   ]
  }
 ],
 "metadata": {
  "@webio": {
   "lastCommId": "20f8d37a-0a0b-4fcd-bfe6-d9bf49a80aaa",
   "lastKernelId": "a777018f-209f-42c5-91fc-bae86262a9b5"
  },
  "kernelspec": {
   "display_name": "Julia 1.10.4",
   "language": "julia",
   "name": "julia-1.10"
  },
  "language_info": {
   "file_extension": ".jl",
   "mimetype": "application/julia",
   "name": "julia",
   "version": "1.10.4"
  }
 },
 "nbformat": 4,
 "nbformat_minor": 5
}

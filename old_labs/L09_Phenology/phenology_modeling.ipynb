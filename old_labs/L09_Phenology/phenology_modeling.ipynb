{
 "cells": [
  {
   "cell_type": "markdown",
   "metadata": {},
   "source": [
    "# Lab09. Phenology Modeling \n",
    "Case studies of modeling plant phenology with corn leaf development and cherry blossoms"
   ]
  },
  {
   "cell_type": "code",
   "execution_count": null,
   "metadata": {},
   "outputs": [],
   "source": [
    "using Cropbox"
   ]
  },
  {
   "cell_type": "code",
   "execution_count": null,
   "metadata": {},
   "outputs": [],
   "source": [
    "Cropbox.Interact.WebIO.setup(:ijulia)"
   ]
  },
  {
   "cell_type": "code",
   "execution_count": null,
   "metadata": {},
   "outputs": [],
   "source": [
    "using CSV\n",
    "using DataFrames\n",
    "using Dates\n",
    "using TimeZones"
   ]
  },
  {
   "cell_type": "markdown",
   "metadata": {
    "tags": []
   },
   "source": [
    "## Growing Degree Days"
   ]
  },
  {
   "cell_type": "markdown",
   "metadata": {
    "jp-MarkdownHeadingCollapsed": true,
    "tags": []
   },
   "source": [
    "### Ex 9.1\n",
    "\n",
    "The maize data we used in the lab unit 3 for calibrating a sigmoidal growth curve originally came from a field experiment took place in Beltsville, Maryland at the research farm of USDA-ARS Beltsville Agricultural Research Center (BARC) in 2002. The data sets include daily weather, weather with every 5 min intervals, biomass by parts, leaf area growth per plant, and the number of leaves determined by counting leaf tips weekly. Planting date was 18 May 2002.\n",
    "\n",
    "- Eq 9.1 & 9.2\n",
    "\n",
    "$$\n",
    "\\begin{align}\n",
    "\\mathrm{GDD}(T) &= \\max \\{ 0, \\min \\{ T, T_{opt} \\} - T_b \\} \\\\\n",
    "\\mathrm{cGDD} &= \\sum_i^n \\mathrm{GDD}(T_i) \\\\\n",
    "\\end{align}\n",
    "$$"
   ]
  },
  {
   "cell_type": "markdown",
   "metadata": {},
   "source": [
    "#### Ex 9.1.1\n",
    "\n",
    "Using the daily weather data, determine the growing degree days (GDD) ($T_b$ = 8.0 °C and $T_{opt}$ = 32.0 °C) accrued for each day."
   ]
  },
  {
   "cell_type": "code",
   "execution_count": null,
   "metadata": {},
   "outputs": [],
   "source": [
    "@system GrowingDegreeDay begin\n",
    "    T:  temperature         ~ preserve(parameter, u\"°C\")\n",
    "    Tb: base_temperature    ~ preserve(parameter, u\"°C\")\n",
    "    To: optimal_temperature ~ preserve(parameter, u\"°C\")\n",
    "\n",
    "    GD(T, Tb, To): growing_degree => begin\n",
    "        min(T, To) - Tb\n",
    "    end ~ track(min = 0, u\"K\")\n",
    "\n",
    "    GDD(GD): growing_degree_day => begin\n",
    "        GD / 1u\"d\"\n",
    "    end ~ track(u\"K/d\")\n",
    "\n",
    "    cGDD(GDD): cumulative_growing_degree_day ~ accumulate(u\"K\")\n",
    "end"
   ]
  },
  {
   "cell_type": "code",
   "execution_count": null,
   "metadata": {},
   "outputs": [],
   "source": [
    "@system GDDController(GrowingDegreeDay, Controller)"
   ]
  },
  {
   "cell_type": "code",
   "execution_count": null,
   "metadata": {},
   "outputs": [],
   "source": [
    "gdd_config = @config (\n",
    "    Clock => (;\n",
    "        step = 1u\"d\",\n",
    "    ),\n",
    "    GrowingDegreeDay => (;\n",
    "        Tb = 8.0,\n",
    "        To = 32.0,\n",
    "    ),\n",
    ")"
   ]
  },
  {
   "cell_type": "code",
   "execution_count": null,
   "metadata": {},
   "outputs": [],
   "source": [
    "visualize(GDDController, :T, :GDD;\n",
    "    config = gdd_config,\n",
    "    xstep = :0 => :T => 0:40,\n",
    "    kind = :line,\n",
    ")"
   ]
  },
  {
   "cell_type": "code",
   "execution_count": null,
   "metadata": {},
   "outputs": [],
   "source": [
    "manipulate(GDDController, :T, :GDD;\n",
    "    config = Clock => :step => 1u\"d\",\n",
    "    parameters = GrowingDegreeDay => (;\n",
    "        Tb = 0:0.1:10,\n",
    "        To = 1:40,\n",
    "    ),\n",
    "    xstep = :0 => :T => -5:45,\n",
    "    ylim = (0, 40),\n",
    "    kind = :line,\n",
    ")"
   ]
  },
  {
   "cell_type": "code",
   "execution_count": null,
   "metadata": {},
   "outputs": [],
   "source": [
    "corn_weather = CSV.read(\"corn_weather.csv\", DataFrame) |> unitfy"
   ]
  },
  {
   "cell_type": "code",
   "execution_count": null,
   "metadata": {},
   "outputs": [],
   "source": [
    "@system Temperature begin\n",
    "    calendar(context)             ~      ::Calendar\n",
    "    t(calendar.date): date        ~ track::date\n",
    "\n",
    "    data                          ~ provide(parameter, index = :date, init = t)\n",
    "    T:                temperature ~ drive(from = data, by = :Tavg, u\"°C\")\n",
    "end"
   ]
  },
  {
   "cell_type": "markdown",
   "metadata": {},
   "source": [
    "`Temperature` is a mix-in system for loading up temperature variable from an external data source. It relies on variables with kind of `provide` and `drive`. For handling time variable in calendar date format (YYYY/MM/DD), we also deploy a `Calendar` system included with Cropbox.\n",
    "\n",
    "- `provide` *provides* a data frame with given index (`index`) starting from an initial value (`init`). Since we're going to provide a data frame using a configuration, the variable is tagged `parameter`.\n",
    "\n",
    "- `drive` makes a *driving* variable from a data source (`from`) with a given column name (`by`). The data source is often supplied by `provide`.\n",
    "\n",
    "- `Calendar` is like `Clock` embedded in `Context` system that provides `time` and `step` variables, but in the type of `ZonedDateTime` (`datetime` in Cropbox). A full specification looks like below.\n",
    "\n",
    "```julia\n",
    "@system Calendar begin\n",
    "    init ~ preserve::datetime(extern, parameter)\n",
    "    last => nothing ~ preserve::datetime(extern, parameter, optional)\n",
    "    time(t0=init, t=context.clock.time) => t0 + convert(Cropbox.Dates.Second, t) ~ track::datetime\n",
    "    date(time) => Cropbox.Dates.Date(time) ~ track::date\n",
    "    step(context.clock.step) ~ preserve(u\"hr\")\n",
    "    stop(time, last) => begin\n",
    "        isnothing(last) ? false : (time >= last)\n",
    "    end ~ flag\n",
    "    count(init, last, step) => begin\n",
    "        if isnothing(last)\n",
    "            nothing\n",
    "        else\n",
    "            # number of update!() required to reach `last` time\n",
    "            (last - init) / step\n",
    "        end\n",
    "    end ~ preserve::int(round, optional)\n",
    "end\n",
    "```"
   ]
  },
  {
   "cell_type": "code",
   "execution_count": null,
   "metadata": {},
   "outputs": [],
   "source": [
    "corn_config = @config (\n",
    "    Calendar => (;\n",
    "        init = ZonedDateTime(2002, 5, 15, tz\"America/New_York\"),\n",
    "        last = ZonedDateTime(2002, 9, 30, tz\"America/New_York\"),\n",
    "    ),\n",
    "    Clock => (;\n",
    "        step = 1u\"d\",\n",
    "    ),\n",
    "    Temperature => (;\n",
    "        data = corn_weather,\n",
    "    ),\n",
    ")"
   ]
  },
  {
   "cell_type": "markdown",
   "metadata": {},
   "source": [
    "`Calendar` system embedded in `Temperature` above accepts `init` and `last` parameters in the type of `ZonedDateTime` for representing timestamps with proper time zone support. We need time zone because the default time resolution in Cropbox is by an hour and things can become tricky when it comes to handling daylight savings. To simplify our exercises, we will use daily time step for the most part of simulations here. `Calendar` also provides `stop` variable that taps on the interval between `init` and `last` to inform `simulate()` when simulation should be done."
   ]
  },
  {
   "cell_type": "code",
   "execution_count": null,
   "metadata": {},
   "outputs": [],
   "source": [
    "@system GDDCalculator(GrowingDegreeDay, Temperature, Controller)"
   ]
  },
  {
   "cell_type": "code",
   "execution_count": null,
   "metadata": {},
   "outputs": [],
   "source": [
    "gddc_config = @config (\n",
    "    corn_config,\n",
    "    gdd_config,\n",
    ")"
   ]
  },
  {
   "cell_type": "code",
   "execution_count": null,
   "metadata": {},
   "outputs": [],
   "source": [
    "simulate(GDDCalculator;\n",
    "    config = gddc_config,\n",
    "    stop = \"calendar.stop\",\n",
    "    index = :t,\n",
    "    target = [:GDD, :cGDD],\n",
    ")"
   ]
  },
  {
   "cell_type": "code",
   "execution_count": null,
   "metadata": {},
   "outputs": [],
   "source": [
    "visualize(GDDCalculator, :t, :T;\n",
    "    config = gddc_config,\n",
    "    stop = \"calendar.stop\",\n",
    "    kind = :line\n",
    ")"
   ]
  },
  {
   "cell_type": "code",
   "execution_count": null,
   "metadata": {},
   "outputs": [],
   "source": [
    "visualize(GDDCalculator, :t, :GDD;\n",
    "    config = gddc_config,\n",
    "    stop = \"calendar.stop\",\n",
    "    kind = :line,\n",
    ")"
   ]
  },
  {
   "cell_type": "markdown",
   "metadata": {},
   "source": [
    "#### Ex 9.1.2\n",
    "\n",
    "Determine cumulative GDD (cGDD) since planting until harvest on 30 September 2002."
   ]
  },
  {
   "cell_type": "code",
   "execution_count": null,
   "metadata": {},
   "outputs": [],
   "source": [
    "visualize(GDDCalculator, :t, :cGDD;\n",
    "    config = gddc_config,\n",
    "    stop = \"calendar.stop\",\n",
    "    kind = :line,\n",
    ")"
   ]
  },
  {
   "cell_type": "markdown",
   "metadata": {},
   "source": [
    "#### Ex 9.1.3\n",
    "\n",
    "Determine leaf appearance rate for up to 17 leaves based on phyllochron of 43.0."
   ]
  },
  {
   "cell_type": "code",
   "execution_count": null,
   "metadata": {},
   "outputs": [],
   "source": [
    "@system LeafAppearanceGD(GrowingDegreeDay, Temperature, Controller) begin\n",
    "    N: leaves_total ~ preserve(parameter)\n",
    "    p: phyllochron  ~ preserve(parameter, u\"K\")\n",
    "    \n",
    "    n(cGDD, p): leaves_appeared => begin\n",
    "        cGDD / p\n",
    "    end ~ track::int(round = :floor)\n",
    "\n",
    "    m(n, N): match             => (n >= N) ~ flag\n",
    "    stop(m, s = calendar.stop) => (m || s) ~ flag\n",
    "end"
   ]
  },
  {
   "cell_type": "markdown",
   "metadata": {},
   "source": [
    "`flag` is a kind of variable similar to `track` associated with `Bool` (ture or false) type. Additionally, it allows composition with logical operators in supported tags like `when` for some variables like `track` and `accumulate`.\n",
    "\n",
    "- `match` is a flag variable indicating a certain threshold of thermal accumulation is fulfilled.\n",
    "- `stop` is a flag variable to determine if the simulation needs to be terminated when a successful match is found or when it reaches the `last` day of calendar."
   ]
  },
  {
   "cell_type": "code",
   "execution_count": null,
   "metadata": {},
   "outputs": [],
   "source": [
    "lagd_config = @config (\n",
    "    corn_config,\n",
    "    gdd_config,\n",
    "    LeafAppearanceGD => (;\n",
    "        N = 18,\n",
    "        p = 43.0,\n",
    "    ),\n",
    ")"
   ]
  },
  {
   "cell_type": "code",
   "execution_count": null,
   "metadata": {},
   "outputs": [],
   "source": [
    "lagd_result = simulate(LeafAppearanceGD;\n",
    "    config = lagd_config,\n",
    "    stop = :stop,\n",
    "    index = :t,\n",
    "    target = [:T, :GDD, :cGDD, :p, :n, :match, :stop],\n",
    ")"
   ]
  },
  {
   "cell_type": "code",
   "execution_count": null,
   "metadata": {},
   "outputs": [],
   "source": [
    "last(lagd_result, 10)"
   ]
  },
  {
   "cell_type": "code",
   "execution_count": null,
   "metadata": {},
   "outputs": [],
   "source": [
    "visualize(LeafAppearanceGD, :t, [:N, :n];\n",
    "    config = lagd_config,\n",
    "    stop = :stop,\n",
    "    kind = :line,\n",
    ")"
   ]
  },
  {
   "cell_type": "markdown",
   "metadata": {},
   "source": [
    "#### Ex 9.1.4\n",
    "\n",
    "Plot the predicted and observed leaf appearance data over days after planting (DAP) in the same figure."
   ]
  },
  {
   "cell_type": "code",
   "execution_count": null,
   "metadata": {},
   "outputs": [],
   "source": [
    "corn_obs = CSV.read(\"corn_sample.csv\", DataFrame) |> unitfy"
   ]
  },
  {
   "cell_type": "code",
   "execution_count": null,
   "metadata": {},
   "outputs": [],
   "source": [
    "p = visualize(corn_obs, :date, :TotLfNo;\n",
    "    xlim = (Date(2002, 5), Date(2002, 9)),\n",
    "    ylim = (0, 20),\n",
    "    name = \"Obs\",\n",
    ")\n",
    "visualize!(p, LeafAppearanceGD, :t, :n;\n",
    "    config = lagd_config,\n",
    "    stop = :stop,\n",
    "    kind = :line,\n",
    "    name = \"Model\",\n",
    ")"
   ]
  },
  {
   "cell_type": "code",
   "execution_count": null,
   "metadata": {},
   "outputs": [],
   "source": [
    "p = visualize(corn_obs, :date, :VSLfNo;\n",
    "    xlim = (Date(2002, 5), Date(2002, 9)),\n",
    "    ylim = (0, 20),\n",
    "    name = \"Obs\",\n",
    ")\n",
    "visualize!(p, LeafAppearanceGD, :t, :n;\n",
    "    config = lagd_config,\n",
    "    stop = :stop,\n",
    "    kind = :line,\n",
    "    name = \"Model\",\n",
    ")"
   ]
  },
  {
   "cell_type": "markdown",
   "metadata": {},
   "source": [
    "#### Ex 9.1.5\n",
    "\n",
    "Determine RMSE and EF, and interpret and discuss your findings."
   ]
  },
  {
   "cell_type": "code",
   "execution_count": null,
   "metadata": {},
   "outputs": [],
   "source": [
    "evaluate(LeafAppearanceGD, corn_obs;\n",
    "    config = lagd_config,\n",
    "    index = :date => :t,\n",
    "    target = :TotLfNo => :n,\n",
    "    stop = :stop,\n",
    "    metric = :rmse,\n",
    ")"
   ]
  },
  {
   "cell_type": "code",
   "execution_count": null,
   "metadata": {},
   "outputs": [],
   "source": [
    "evaluate(LeafAppearanceGD, corn_obs;\n",
    "    config = lagd_config,\n",
    "    index = :date => :t,\n",
    "    target = :TotLfNo => :n,\n",
    "    stop = :stop,\n",
    "    metric = :ef,\n",
    ")"
   ]
  },
  {
   "cell_type": "markdown",
   "metadata": {},
   "source": [
    "Calibrate"
   ]
  },
  {
   "cell_type": "code",
   "execution_count": null,
   "metadata": {},
   "outputs": [],
   "source": [
    "lagd_calib_config = calibrate(LeafAppearanceGD, corn_obs;\n",
    "    config = lagd_config,\n",
    "    index = :date => :t,\n",
    "    target = :LfNo => :n,\n",
    "    parameters = LeafAppearanceGD => (;\n",
    "        p = (45.0, 55.0),\n",
    "    ),\n",
    "    stop = :stop,\n",
    "    optim = (;\n",
    "        MaxSteps = 5000,\n",
    "    ),\n",
    "    metric = :rmse,\n",
    ")"
   ]
  },
  {
   "cell_type": "code",
   "execution_count": null,
   "metadata": {},
   "outputs": [],
   "source": [
    "p = visualize(corn_obs, :date, :TotLfNo;\n",
    "    xlim = (Date(2002, 5), Date(2002, 9)),\n",
    "    ylim = (0, 20),\n",
    "    name = \"Obs\",\n",
    ")\n",
    "visualize!(p, LeafAppearanceGD, :t, :n;\n",
    "    config = (lagd_config, lagd_calib_config),\n",
    "    stop = :stop,\n",
    "    kind = :line,\n",
    "    name = \"Model\",\n",
    ")"
   ]
  },
  {
   "cell_type": "code",
   "execution_count": null,
   "metadata": {},
   "outputs": [],
   "source": [
    "evaluate(LeafAppearanceGD, corn_obs;\n",
    "    config = (lagd_config, lagd_calib_config),\n",
    "    index = :date => :t,\n",
    "    target = :TotLfNo => :n,\n",
    "    stop = :stop,\n",
    "    metric = :rmse,\n",
    ")"
   ]
  },
  {
   "cell_type": "code",
   "execution_count": null,
   "metadata": {},
   "outputs": [],
   "source": [
    "evaluate(LeafAppearanceGD, corn_obs;\n",
    "    config = (lagd_config, lagd_calib_config),\n",
    "    index = :date => :t,\n",
    "    target = :TotLfNo => :n,\n",
    "    stop = :stop,\n",
    "    metric = :ef,\n",
    ")"
   ]
  },
  {
   "cell_type": "markdown",
   "metadata": {
    "tags": []
   },
   "source": [
    "## Beta Distribution Function"
   ]
  },
  {
   "cell_type": "markdown",
   "metadata": {
    "jp-MarkdownHeadingCollapsed": true,
    "tags": []
   },
   "source": [
    "### Ex 9.2\n",
    "\n",
    "Using the same data as above, answer the following questions based on the leaf tip appearance rate predicted by the beta function.\n",
    "\n",
    "- Eq 9.3\n",
    "\n",
    "$$\n",
    "r(T) = R_{max} \\left( \\frac{T_{ceil} - T}{T_{ceil} - T_{opt}} \\right) \\left( \\frac{T - T_{min}}{T_{opt} - T_{min}} \\right) ^ {\\frac{T_{opt} - T_{min}}{T_{ceil} - T_{opt}}}\n",
    "$$\n",
    "\n",
    "Here we explicitly use $T_{min}$ to make sure we have a proper unit (`K` instead of `°C`) from [calculation bewteen temperature variables](https://painterqubits.github.io/Unitful.jl/stable/temperature/)."
   ]
  },
  {
   "cell_type": "markdown",
   "metadata": {},
   "source": [
    "#### Ex 9.2.1\n",
    "\n",
    "Create a system to predict the leaf appearance rate based on beta function with the parameter values found in Yan and Hunt (1999): $R_{max}$ = 0.58 $\\mathrm{d^{-1}}$, $T_{opt}$ = 31.4 °C, and $T_{ceil}$ = 41.0 °C."
   ]
  },
  {
   "cell_type": "code",
   "execution_count": null,
   "metadata": {},
   "outputs": [],
   "source": [
    "@system BetaFunc begin\n",
    "    T:  temperature              ~ preserve(parameter, u\"°C\")\n",
    "    Tn: minimum_temperature => 0 ~ preserve(parameter, u\"°C\")\n",
    "    To: optimal_temperature      ~ preserve(parameter, u\"°C\")\n",
    "    Tc: ceiling_temperature      ~ preserve(parameter, u\"°C\")\n",
    "    Rx: maximum_rate        => 1 ~ preserve(parameter, u\"d^-1\")\n",
    "\n",
    "    r(T, Tn, To, Tc, Rx): rate => begin\n",
    "        Rx * (Tc - T) / (Tc - To) * ((T - Tn) / (To - Tn))^((To - Tn) / (Tc - To))\n",
    "    end ~ track(min = 0, max = Rx, u\"d^-1\")\n",
    "\n",
    "    R(r): cumulative_rate ~ accumulate\n",
    "end"
   ]
  },
  {
   "cell_type": "code",
   "execution_count": null,
   "metadata": {},
   "outputs": [],
   "source": [
    "@system BFController(BetaFunc, Controller)"
   ]
  },
  {
   "cell_type": "code",
   "execution_count": null,
   "metadata": {},
   "outputs": [],
   "source": [
    "bf_config = @config (\n",
    "    BetaFunc => (;\n",
    "        Rx = 0.58,\n",
    "        To = 31.4,\n",
    "        Tc = 41.0,\n",
    "    ),\n",
    ")"
   ]
  },
  {
   "cell_type": "code",
   "execution_count": null,
   "metadata": {},
   "outputs": [],
   "source": [
    "visualize(BFController, :T, :r;\n",
    "    config = bf_config,\n",
    "    xstep = :0 => :T => 0:40,\n",
    "    kind = :line,\n",
    ")"
   ]
  },
  {
   "cell_type": "code",
   "execution_count": null,
   "metadata": {},
   "outputs": [],
   "source": [
    "manipulate(BFController, :T, :r;\n",
    "    parameters = BetaFunc => (;\n",
    "        Rx = 0:0.1:1,\n",
    "        To = 0:0.1:40,\n",
    "        Tc = 0:0.1:60,\n",
    "    ),\n",
    "    xstep = :0 => :T => 0:50,\n",
    "    ylim = (0, 1),\n",
    "    kind = :line,\n",
    ")"
   ]
  },
  {
   "cell_type": "markdown",
   "metadata": {},
   "source": [
    "#### Ex 9.2.2\n",
    "\n",
    "Using daily weather data, simulate the leaf tip appearance up to 17 leaves throughout the experiment based on the beta function model."
   ]
  },
  {
   "cell_type": "code",
   "execution_count": null,
   "metadata": {},
   "outputs": [],
   "source": [
    "@system BFCalculator(BetaFunc, Temperature, Controller)"
   ]
  },
  {
   "cell_type": "code",
   "execution_count": null,
   "metadata": {},
   "outputs": [],
   "source": [
    "bfc_config = @config (\n",
    "    corn_config,\n",
    "    bf_config,\n",
    ")"
   ]
  },
  {
   "cell_type": "code",
   "execution_count": null,
   "metadata": {},
   "outputs": [],
   "source": [
    "simulate(BFCalculator;\n",
    "    config = bfc_config,\n",
    "    stop = \"calendar.stop\",\n",
    "    index = :t,\n",
    "    target = [:r, :R],\n",
    ")"
   ]
  },
  {
   "cell_type": "code",
   "execution_count": null,
   "metadata": {},
   "outputs": [],
   "source": [
    "visualize(BFCalculator, :t, :r;\n",
    "    config = bfc_config,\n",
    "    stop = \"calendar.stop\",\n",
    "    kind = :line,\n",
    ")"
   ]
  },
  {
   "cell_type": "code",
   "execution_count": null,
   "metadata": {},
   "outputs": [],
   "source": [
    "visualize(BFCalculator, :t, :R;\n",
    "    config = bfc_config,\n",
    "    stop = \"calendar.stop\",\n",
    "    kind = :line,\n",
    ")"
   ]
  },
  {
   "cell_type": "code",
   "execution_count": null,
   "metadata": {},
   "outputs": [],
   "source": [
    "@system LeafAppearanceBF(BetaFunc, Temperature, Controller) begin\n",
    "    N: leaves_total       ~ preserve::int(parameter)\n",
    "    \n",
    "    n(R): leaves_appeared ~ track::int(round = :floor)\n",
    "    \n",
    "    match(n, N)                        => (n >= N) ~ flag\n",
    "    stop(m = match, s = calendar.stop) => (m || s) ~ flag\n",
    "end"
   ]
  },
  {
   "cell_type": "code",
   "execution_count": null,
   "metadata": {},
   "outputs": [],
   "source": [
    "labf_config = @config (\n",
    "    corn_config,\n",
    "    bf_config,\n",
    "    LeafAppearanceBF => (;\n",
    "        N = 18,\n",
    "    ),\n",
    ")"
   ]
  },
  {
   "cell_type": "code",
   "execution_count": null,
   "metadata": {},
   "outputs": [],
   "source": [
    "labf_result = simulate(LeafAppearanceBF;\n",
    "    config = labf_config,\n",
    "    stop = :stop,\n",
    "    index = :t,\n",
    "    target = [:T, :r, :R, :n, :match, :stop],\n",
    ")"
   ]
  },
  {
   "cell_type": "code",
   "execution_count": null,
   "metadata": {},
   "outputs": [],
   "source": [
    "last(labf_result, 10)"
   ]
  },
  {
   "cell_type": "code",
   "execution_count": null,
   "metadata": {},
   "outputs": [],
   "source": [
    "visualize(LeafAppearanceBF, :t, [:N, :n];\n",
    "    config = labf_config,\n",
    "    stop = :stop,\n",
    "    kind = :line,\n",
    ")"
   ]
  },
  {
   "cell_type": "code",
   "execution_count": null,
   "metadata": {},
   "outputs": [],
   "source": [
    "p = visualize(corn_obs, :date, :TotLfNo;\n",
    "    xlim = (Date(2002, 5), Date(2002, 9)),\n",
    "    ylim = (0, 20),\n",
    "    name = \"Obs\",\n",
    ")\n",
    "visualize!(p, LeafAppearanceBF, :t, :n;\n",
    "    config = labf_config,\n",
    "    stop = :stop,\n",
    "    kind = :line,\n",
    "    name = \"Model\",\n",
    ")"
   ]
  },
  {
   "cell_type": "code",
   "execution_count": null,
   "metadata": {},
   "outputs": [],
   "source": [
    "p = visualize(corn_obs, :date, :VSLfNo;\n",
    "    xlim = (Date(2002, 5), Date(2002, 9)),\n",
    "    ylim = (0, 20),\n",
    "    name = \"Obs\",\n",
    ")\n",
    "visualize!(p, LeafAppearanceBF, :t, :n;\n",
    "    config = labf_config,\n",
    "    stop = :stop,\n",
    "    kind = :line,\n",
    "    name = \"Model\",\n",
    ")"
   ]
  },
  {
   "cell_type": "markdown",
   "metadata": {},
   "source": [
    "#### Ex 9.2.4\n",
    "\n",
    "Determine RMSE and EF, and interpret and discuss your findings."
   ]
  },
  {
   "cell_type": "code",
   "execution_count": null,
   "metadata": {},
   "outputs": [],
   "source": [
    "evaluate(LeafAppearanceBF, corn_obs;\n",
    "    config = labf_config,\n",
    "    index = :date => :t,\n",
    "    target = :TotLfNo => :n,\n",
    "    stop = :stop,\n",
    "    metric = :rmse,\n",
    ")"
   ]
  },
  {
   "cell_type": "code",
   "execution_count": null,
   "metadata": {},
   "outputs": [],
   "source": [
    "evaluate(LeafAppearanceBF, corn_obs;\n",
    "    config = labf_config,\n",
    "    index = :date => :t,\n",
    "    target = :TotLfNo => :n,\n",
    "    stop = :stop,\n",
    "    metric = :ef,\n",
    ")"
   ]
  },
  {
   "cell_type": "markdown",
   "metadata": {},
   "source": [
    "Calibrate"
   ]
  },
  {
   "cell_type": "code",
   "execution_count": null,
   "metadata": {
    "tags": []
   },
   "outputs": [],
   "source": [
    "labf_calib_config = calibrate(LeafAppearanceBF, corn_obs;\n",
    "    config = labf_config,\n",
    "    index = :date => :t,\n",
    "    target = :LffNo => :n,\n",
    "    parameters = LeafAppearanceBF => (;\n",
    "        Rx= (0.4, 0.7),\n",
    "        To = (25.0, 35.0),\n",
    "        Tc = (35.0, 45.0),\n",
    "    ),\n",
    "    stop = :stop,\n",
    "    optim = (;\n",
    "        MaxSteps = 5000,\n",
    "    ),\n",
    "    metric = :rmse,\n",
    ")"
   ]
  },
  {
   "cell_type": "code",
   "execution_count": null,
   "metadata": {},
   "outputs": [],
   "source": [
    "p = visualize(corn_obs, :date, :LfNo;\n",
    "    xlim = (Date(2002, 5), Date(2002, 9)),\n",
    "    ylim = (0, 20),\n",
    "    name = \"Obs\",\n",
    ")\n",
    "visualize!(p, LeafAppearanceBF, :t, :n;\n",
    "    config = (labf_config, labf_calib_config),\n",
    "    stop = :stop,\n",
    "    kind = :line,\n",
    "    name = \"Model\",\n",
    ")"
   ]
  },
  {
   "cell_type": "code",
   "execution_count": null,
   "metadata": {},
   "outputs": [],
   "source": [
    "evaluate(LeafAppearanceBF, corn_obs;\n",
    "    config = (labf_config, labf_calib_config),\n",
    "    index = :date => :t,\n",
    "    target = :TotLfNo => :n,\n",
    "    stop = :stop,\n",
    "    metric = :rmse,\n",
    ")"
   ]
  },
  {
   "cell_type": "markdown",
   "metadata": {
    "tags": []
   },
   "source": [
    "## Chilling-Forcing Model"
   ]
  },
  {
   "cell_type": "markdown",
   "metadata": {
    "jp-MarkdownHeadingCollapsed": true,
    "tags": []
   },
   "source": [
    "### Ex 9.3\n",
    "\\In this exercise, we will calibrate and evaluate a two-stage tree phenology model for predicting peak bloom dates of Yoshino cherries in Washington DC. Because of historical, cultural, and economic importance of these Tidal Basin cherry trees, the National Park Service horticulture staff pays meticulous attention to monitor their flowering phenology and bloom dates trees (See how NPS collect cherry phenology data: https://www.nps.gov/subjects/cherryblossom/bloom-watch.htm). That is, data quality is likely to be quite good. Our own UW campus also has many cherry trees and the Yoshino cherries in the Quad in particular are touted for their spectacular blooms and attract many visitors from the public who appreciate the spring blooms. Until recently there was no coordinated effort of monitoring the bloom time of UW cherries so far except for some quasi-observational data based on local and campus news (*e.g.*, Daily), social media (*e.g.*, [UW Cherry Blossom Twitter](https://twitter.com/uwcherryblossom)), and casual records (See Chung et al. (2011)). This means that data quality is likely to be low for UW cherry blossoms. \n",
    "\n",
    "The chilling-forcing model (Cesaraccio et al., 2004) has been implemented in the Cropbox framework and will be available for you. The historical peak bloom dates of Washington DC and UW campus will be available (`Cherry_PBD.xls`) along with the corresponding temperature data at nearby weather stations for this exercise.\n",
    "\n",
    "#### Model\n",
    "Before we move on, here is a bit explanation of theory behind the model. [Cesaraccio *et al.*](https://doi.org/10.1016/j.agrformet.2004.03.002) split up dormancy break into two distinctive steps, rest and quiescence, that required the same amount of chilling and subsequent anti-chilling accumulation in the opposite direction. Later this model was [extended](https://doi.org/10.1371/journal.pone.0027439) to predict peak bloom date of cherry tree coming after bud burst. The following equation represents our adaptation of this chilling and forcing (CF) model with three parameters: temperature threshold ($T_c$), chilling ($R_{\\mathtt{C}}$) and forcing ($R_{\\mathtt{F}}$) requirements.\n",
    "\n",
    "The original model used linear interpolation between maximum and minimum temperature values (Figure 9.4) to incorporate daily fluctuation of temperature. In this exercise, we use a much simpler form of the equation which works better when used with hourly temperature, yet with daily dataset for the sake of simplicity.\n",
    "\n",
    "$$\n",
    "\\begin{aligned}\n",
    "T_a & = \\begin{cases}\n",
    "  T & \\text{if } T \\geq 0 \\\\\n",
    "  0 & \\text{otherwise}\n",
    "\\end{cases} \\\\\n",
    "\\Delta T & = \\frac{T_a - T_c}{\\Delta t} \\\\\n",
    "c & = \\begin{cases}\n",
    "  \\Delta T & \\text{if } \\Delta T < 0 \\\\\n",
    "  0 & \\text{otherwise}\n",
    "\\end{cases} \\\\\n",
    "f & = \\begin{cases}\n",
    "  \\Delta T & \\text{if } \\Delta T > 0 \\\\\n",
    "  0 & \\text{otherwise}\n",
    "\\end{cases} \\\\\n",
    "\\sum_{t_0}^{\\hat{t}_d-1} c & > R_{\\mathtt{C}} \\geq \\sum_{t_0}^{\\hat{t}_d} c \\\\\n",
    "\\sum_{\\hat{t}_d}^{\\hat{t}-1} f & < R_{\\mathtt{F}} \\leq \\sum_{\\hat{t}_d}^{\\hat{t}} f \\\\\n",
    "\\end{aligned}\n",
    "$$"
   ]
  },
  {
   "cell_type": "code",
   "execution_count": null,
   "metadata": {},
   "outputs": [],
   "source": [
    "@system ChillForceEstimator(Temperature, Controller) begin\n",
    "    Tc: temperature_threshold ~ preserve(parameter, u\"°C\")\n",
    "    Rc: chilling_requirement  ~ preserve(parameter, u\"K\")\n",
    "    Rf: forcing_requirement   ~ preserve(parameter, u\"K\")\n",
    "\n",
    "    y(t = calendar.last): year              => Dates.year(t)      ~ preserve::int\n",
    "    doy(t): day_of_year                     => Dates.dayofyear(t) ~ track::int(u\"d\")\n",
    "    fdr(year): forced_dormancy_release      => Date(year, 2, 15) ~ preserve::date(parameter)\n",
    "    \n",
    "\n",
    "    Ta(T)                                    ~ track(min = 0, u\"°C\")\n",
    "    Δt(context.clock.step)                   ~ preserve(u\"d\")\n",
    "    ΔT(Ta, Tc, Δt)         => (Ta - Tc) / Δt ~ track(u\"K/d\")\n",
    "\n",
    "    c(ΔT): chilling             ~ track(max = 0, u\"K/d\")\n",
    "    C(c):  chilling_accumulated ~ accumulate(when = !d, u\"K\")\n",
    "\n",
    "   # d(C, Rc):    chilling_done => (C <= Rc) ~ flag\n",
    "    d(C, Rc, fdr, t): chilling_done => (C <= Rc || fdr <= t) ~ flag    \n",
    "\n",
    "    f(ΔT): forcing              ~ track(min = 0, u\"K/d\")\n",
    "    F(f):  forcing_accumulated  ~ accumulate(when = d, u\"K\")\n",
    "\n",
    "    m(F, Rf): match            => (F >= Rf) ~ flag\n",
    "    stop(m, s = calendar.stop) => (m || s)  ~ flag\n",
    "end"
   ]
  },
  {
   "cell_type": "markdown",
   "metadata": {},
   "source": [
    "For your reference, here is our implementation of the original model described by Cesaraccio *et al*. Note that it requires daily maximum and minimum temperature data."
   ]
  },
  {
   "cell_type": "markdown",
   "metadata": {},
   "source": [
    "In general, we can find these models similar to the GDD model we made earlier. A notable difference is that now we have two separate variables for accumulating chilling (cumulative `C` with the rate `c`) and forcing (cumulative `F` with the rate `f`). The end of chilling accumulation, which triggers the onset of forcing accumulation, flips `chilling_done` flag (`d`) which is used in the `when` tag for both accumulating variables."
   ]
  },
  {
   "cell_type": "markdown",
   "metadata": {},
   "source": [
    "We also need to think about handling exceptions which we would eventually encounter when trying to plug a large range of parameter values for calibration. There is a chance that chilling requirement is never fulfilled by either too high chilling requirement or too low rate of chilling accumulation in this `sequential` modeling approach. To prevent such case, we set`forced_dormancy_release` date to `Feb 15th` of given year. Is it reasonable safety net? \n",
    "\n",
    "Alternatively, we may use other ways (e.g., photoperiod, parallel forcing) to ensure forcing period begins regardless of chilling requirement being met instead of using `forced domancy release`. We could also simply run the  model without triggering forcing period. If we go with this approach, the model may never fulfill the forcing requirement within the given time frame which was set by the `last` day of `Calendar`, leaving no result in the output. We take care of such cases by supplying a `callback` function for `simulate()` to fill in *no result* with an arbitrary estimation date (365th day of the year)."
   ]
  },
  {
   "cell_type": "code",
   "execution_count": null,
   "metadata": {},
   "outputs": [],
   "source": [
    "callback(s, m) = if s.stop' && !s.match'\n",
    "    m.result[end][:doy] = 365u\"d\"\n",
    "end"
   ]
  },
  {
   "cell_type": "markdown",
   "metadata": {},
   "source": [
    "For convenience, we make `estimate()` function to call `simulate()` with some default arguments including `stop` and `callback` as well as configuration generated for each year by `cherry_config()` function explained later."
   ]
  },
  {
   "cell_type": "code",
   "execution_count": null,
   "metadata": {},
   "outputs": [],
   "source": [
    "estimate(S, years;\n",
    "    config,\n",
    "    index = [:year, :doy],\n",
    "    target = [],\n",
    "    stop = :stop,\n",
    "    kwargs...\n",
    ") = simulate(S;\n",
    "    configs = @config(config + cherry_config.(years)),\n",
    "    index,\n",
    "    target,\n",
    "    stop,\n",
    "    snap = stop,\n",
    "    callback,\n",
    "    kwargs...\n",
    ")"
   ]
  },
  {
   "cell_type": "markdown",
   "metadata": {
    "tags": []
   },
   "source": [
    "#### Weather"
   ]
  },
  {
   "cell_type": "code",
   "execution_count": null,
   "metadata": {},
   "outputs": [],
   "source": [
    "dc_weather = CSV.read(\"dc_weather.csv\", DataFrame) |> unitfy"
   ]
  },
  {
   "cell_type": "code",
   "execution_count": null,
   "metadata": {},
   "outputs": [],
   "source": [
    "visualize(dc_weather, :date, [:Tmin, :Tmax, :Tavg]; kind = :line)"
   ]
  },
  {
   "cell_type": "code",
   "execution_count": null,
   "metadata": {},
   "outputs": [],
   "source": [
    "dc_config = @config (\n",
    "    ChillForceEstimator => (;\n",
    "        data = dc_weather,\n",
    "    ),\n",
    ")"
   ]
  },
  {
   "cell_type": "markdown",
   "metadata": {
    "tags": []
   },
   "source": [
    "#### Configuration"
   ]
  },
  {
   "cell_type": "markdown",
   "metadata": {},
   "source": [
    "For each year, we need to specify start and end date of the simulation which are set by `init` and `last` of `Calendar`. Also don't forget setting daily time step for `Clock`. We create `cherry_config()` function to generate a configuration we need for each year."
   ]
  },
  {
   "cell_type": "code",
   "execution_count": null,
   "metadata": {},
   "outputs": [],
   "source": [
    "cherry_config(year) = @config (\n",
    "    Calendar => (;\n",
    "        init = ZonedDateTime(year-1, 10,  1, tz\"UTC\"),\n",
    "        last = ZonedDateTime(year,    5, 31, tz\"UTC\"),\n",
    "    ),\n",
    "    Clock => (;\n",
    "        step = 1u\"d\",\n",
    "    ),\n",
    ")"
   ]
  },
  {
   "cell_type": "code",
   "execution_count": null,
   "metadata": {},
   "outputs": [],
   "source": [
    "cherry_config(2017)"
   ]
  },
  {
   "cell_type": "markdown",
   "metadata": {},
   "source": [
    "Then we need another configuration to supply parameters for chilling forcing model. For now, let's have some arbtirary values. We'll recalibrate them later."
   ]
  },
  {
   "cell_type": "code",
   "execution_count": null,
   "metadata": {},
   "outputs": [],
   "source": [
    "cf_config = @config (\n",
    "    ChillForceEstimator => (;\n",
    "        Tc = 10,\n",
    "        Rc = -100,\n",
    "        Rf = 100,\n",
    "    ),\n",
    ")"
   ]
  },
  {
   "cell_type": "markdown",
   "metadata": {
    "tags": []
   },
   "source": [
    "#### Test"
   ]
  },
  {
   "cell_type": "markdown",
   "metadata": {},
   "source": [
    "Here is simulation result for the year of 2017. Note we use `simulate()` with a handmade configuration instead of relying on `estimate()` for testing. Let's run it for about 8 months."
   ]
  },
  {
   "cell_type": "code",
   "execution_count": null,
   "metadata": {},
   "outputs": [],
   "source": [
    "cf_df = simulate(ChillForceEstimator;\n",
    "    config = (cf_config, dc_config, cherry_config(2017)),\n",
    "    index = :t,\n",
    "    target = [:T, :Ta, :Tx, :Tn, :Tc, :c, :C, :Rc, :f, :F, :Rf, :match, :stop, :doy],\n",
    "    stop = 8*30u\"d\",\n",
    ")"
   ]
  },
  {
   "cell_type": "markdown",
   "metadata": {},
   "source": [
    "Here is what temperature (`T`) trend looks like during the period."
   ]
  },
  {
   "cell_type": "code",
   "execution_count": null,
   "metadata": {},
   "outputs": [],
   "source": [
    "visualize(cf_df, :t, :T; #= [:Tx, :Tn];=#\n",
    "    kind = :line,\n",
    "    ylim = (-10, 30),\n",
    ")"
   ]
  },
  {
   "cell_type": "markdown",
   "metadata": {},
   "source": [
    "Then, here is `Ta` with all negative values stripped out. It is the value going to be used for calculating the degree of chilling and forcing. `Tc` is a threshold parameter used for calculating the degree of chilling and forcing."
   ]
  },
  {
   "cell_type": "code",
   "execution_count": null,
   "metadata": {},
   "outputs": [],
   "source": [
    "visualize(cf_df, :t, [:Ta, :Tc];\n",
    "    kind = :line,\n",
    "    ylim = (-10, 30),\n",
    ")"
   ]
  },
  {
   "cell_type": "markdown",
   "metadata": {},
   "source": [
    "Now we have the degree of chilling (`c`) and forcing (`f`) per unit time (day)."
   ]
  },
  {
   "cell_type": "code",
   "execution_count": null,
   "metadata": {},
   "outputs": [],
   "source": [
    "visualize(cf_df, :t, [:c, :f];\n",
    "    kind = :line,\n",
    "    ylim = (-20, 20),\n",
    ")"
   ]
  },
  {
   "cell_type": "markdown",
   "metadata": {},
   "source": [
    "We can more clearly see how chilling and forcing units respond to the base temperature ($T_c$) thanks to interactive plot."
   ]
  },
  {
   "cell_type": "code",
   "execution_count": null,
   "metadata": {},
   "outputs": [],
   "source": [
    "manipulate(ChillForceEstimator, :t, [:c, :f];\n",
    "    config = (cf_config, dc_config, cherry_config(2017)),\n",
    "    parameters = ChillForceEstimator => :Tc => 0:0.1:20,\n",
    "    stop = 8*30u\"d\",\n",
    "    kind = :line,\n",
    "    ylim = (-20, 20),\n",
    ")"
   ]
  },
  {
   "cell_type": "markdown",
   "metadata": {},
   "source": [
    "The next plot shows how chilling and forcing would accumulate over the period. Note that chilling accumulation (`C`) starts first. Forcing accumulation (`F`) doesn't start until the chilling requirement (`Rc`) is fullfilled. Once the requirement is met, chilling accumulation stops. The output of model, an estimated date of particular phenological event, is determined when forcing accmulation (`F`) make a cross with forcing requirement (`Rf`), which is right before April in this example."
   ]
  },
  {
   "cell_type": "code",
   "execution_count": null,
   "metadata": {},
   "outputs": [],
   "source": [
    "visualize(cf_df, :t, [:C, :F, :Rc, :Rf];\n",
    "    kind = :line,\n",
    "    ylim = (-300, 500),\n",
    ")"
   ]
  },
  {
   "cell_type": "markdown",
   "metadata": {},
   "source": [
    "Here is an interactive version."
   ]
  },
  {
   "cell_type": "code",
   "execution_count": null,
   "metadata": {},
   "outputs": [],
   "source": [
    "manipulate(ChillForceEstimator, :t, [:C, :F, :Rc, :Rf];\n",
    "    config = (cf_config, dc_config, cherry_config(2017)),\n",
    "    parameters = ChillForceEstimator => (;\n",
    "        Tc = 0:0.1:20,\n",
    "        Rc = -300:0,\n",
    "        Rf = 0:500,\n",
    "    ),\n",
    "    stop = 8*30u\"d\",\n",
    "    kind = :line,\n",
    "    ylim = (-300, 500),\n",
    ")"
   ]
  },
  {
   "cell_type": "markdown",
   "metadata": {},
   "source": [
    "Now, let's try `estimate()` to get the answer more directly."
   ]
  },
  {
   "cell_type": "code",
   "execution_count": null,
   "metadata": {},
   "outputs": [],
   "source": [
    "estimate(ChillForceEstimator, [2017]; config = (cf_config, dc_config))"
   ]
  },
  {
   "cell_type": "markdown",
   "metadata": {},
   "source": [
    "We may provide additional options as we used to do for `simulate()`."
   ]
  },
  {
   "cell_type": "code",
   "execution_count": null,
   "metadata": {},
   "outputs": [],
   "source": [
    "estimate(ChillForceEstimator, [2017]; config = (cf_config, dc_config), target = [:C, :F])"
   ]
  },
  {
   "cell_type": "markdown",
   "metadata": {},
   "source": [
    "A nice feature of `estimate()` is that it supports simulation of multiple years in a convenient way. We'll revisit this later in this notebook."
   ]
  },
  {
   "cell_type": "code",
   "execution_count": null,
   "metadata": {},
   "outputs": [],
   "source": [
    "estimate(ChillForceEstimator, 2010:2018; config = (cf_config, dc_config), target = [:C, :F])"
   ]
  },
  {
   "cell_type": "markdown",
   "metadata": {},
   "source": [
    "#### Ex 9.3.1\n",
    "\n",
    "Using Cropbox, calibrate the chilling-forcing (CF) models using the Washington DC **Yoshino cherry** blooms and Reagan National weather data **from 1991 to 2010**. Provide parameter estimates and model performance measures for calibration (*i.e.*, RMSE, EF). How do the parameter estimates compare with the ones published in Chung et al. (2011)? If different, why do you think there's such difference when used the same data sets for calibration? "
   ]
  },
  {
   "cell_type": "markdown",
   "metadata": {},
   "source": [
    "#### Observations\n",
    "We have a dataset with recordings of peak bloom dates from cherry trees in Washington, DC."
   ]
  },
  {
   "cell_type": "code",
   "execution_count": null,
   "metadata": {},
   "outputs": [],
   "source": [
    "cherry_dc_obs = CSV.read(\"cherry_dc_obs.csv\", DataFrame)  |> unitfy"
   ]
  },
  {
   "cell_type": "code",
   "execution_count": null,
   "metadata": {},
   "outputs": [],
   "source": [
    "cherry_dc_obs[!,:doy]"
   ]
  },
  {
   "cell_type": "markdown",
   "metadata": {
    "tags": []
   },
   "source": [
    "#### Calibration"
   ]
  },
  {
   "cell_type": "markdown",
   "metadata": {},
   "source": [
    "We'll calibrate parameters (`Tc`, `Rc`, `Rf`) using the observation dataset from 1991 to 2010."
   ]
  },
  {
   "cell_type": "code",
   "execution_count": null,
   "metadata": {},
   "outputs": [],
   "source": [
    "cf_calib_config = calibrate(ChillForceEstimator, cherry_dc_obs;\n",
    "    configs = @config(dc_config + cherry_config.(1991:2010)),\n",
    "    index = :year,\n",
    "    target = :doy,\n",
    "    parameters = ChillForceEstimator => (;\n",
    "        Tc = (3, 8),\n",
    "        Rc = (-300, 0),\n",
    "        Rf = (0, 300),\n",
    "    ),\n",
    "    stop = :stop,\n",
    "    snap = :stop,\n",
    "    callback,\n",
    "    optim = (;\n",
    "        MaxSteps = 1000,\n",
    "    ),\n",
    ")"
   ]
  },
  {
   "cell_type": "code",
   "execution_count": null,
   "metadata": {},
   "outputs": [],
   "source": [
    "# cf_calib_config = @config ChillForceEstimator => (;\n",
    "#     Tc = 5.94915,\n",
    "#     Rc = -149.549,\n",
    "#     Rf = 128.738,\n",
    "# )"
   ]
  },
  {
   "cell_type": "markdown",
   "metadata": {},
   "source": [
    "Now we run the model with calibrated parameters."
   ]
  },
  {
   "cell_type": "code",
   "execution_count": null,
   "metadata": {},
   "outputs": [],
   "source": [
    "est = estimate(ChillForceEstimator, 1991:2010;\n",
    "    config = (cf_calib_config, dc_config),\n",
    "    target = [:C, :F],\n",
    ")"
   ]
  },
  {
   "cell_type": "markdown",
   "metadata": {},
   "source": [
    "Here are actual dates for the same period."
   ]
  },
  {
   "cell_type": "code",
   "execution_count": null,
   "metadata": {},
   "outputs": [],
   "source": [
    "cherry_dc_obs[1991 .<= cherry_dc_obs[!, :year] .<= 2010, :]"
   ]
  },
  {
   "cell_type": "markdown",
   "metadata": {},
   "source": [
    "Then let's create a helper function `compare()` to make a plot for comparing observation and estimation of the model."
   ]
  },
  {
   "cell_type": "code",
   "execution_count": null,
   "metadata": {},
   "outputs": [],
   "source": [
    "compare(S, obs, years; config, kw...) = begin\n",
    "    E = estimate(S, years; config)\n",
    "    O = obs[obs[!, :year] .∈ Ref(years), :]\n",
    "    p = plot(O, :year, :doy; name = \"Obs\", kind = :line, kw...)\n",
    "    plot!(p, E, :year, :doy; name = \"Model\", kind = :line)\n",
    "end"
   ]
  },
  {
   "cell_type": "markdown",
   "metadata": {},
   "source": [
    "Again, here is the result of calibration from 1991 to 2010."
   ]
  },
  {
   "cell_type": "code",
   "execution_count": null,
   "metadata": {},
   "outputs": [],
   "source": [
    "compare(ChillForceEstimator, cherry_dc_obs, 1991:2010;\n",
    "    config = (cf_calib_config, dc_config),\n",
    "    ylim = (75, 110),\n",
    ")"
   ]
  },
  {
   "cell_type": "code",
   "execution_count": null,
   "metadata": {},
   "outputs": [],
   "source": [
    "evaluate(ChillForceEstimator, cherry_dc_obs;\n",
    "    configs = @config(cf_calib_config + dc_config + cherry_config.(1991:2010)),\n",
    "    index = :year,\n",
    "    target = :doy,\n",
    "    stop = :stop,\n",
    "    snap = :stop,\n",
    "    metric = :rmse,\n",
    ")"
   ]
  },
  {
   "cell_type": "code",
   "execution_count": null,
   "metadata": {},
   "outputs": [],
   "source": [
    "evaluate(ChillForceEstimator, cherry_dc_obs;\n",
    "    configs = @config(cf_calib_config + dc_config + cherry_config.(1991:2010)),\n",
    "    index = :year,\n",
    "    target = :doy,\n",
    "    stop = :stop,\n",
    "    snap = :stop,\n",
    "    metric = :ef,\n",
    ")"
   ]
  },
  {
   "cell_type": "markdown",
   "metadata": {},
   "source": [
    "#### Ex 9.3.2\n",
    "Evaluate the model performance using the **Yoshino cherry** blooms and Reagan National weather data **from 1937 to 1990**. Provide parameter estimates and model performance measures for calibration (*i.e.*, RMSE, EF). Interpret and discuss the results.\n",
    "\n",
    "#### Validation"
   ]
  },
  {
   "cell_type": "code",
   "execution_count": null,
   "metadata": {},
   "outputs": [],
   "source": [
    "compare(ChillForceEstimator, cherry_dc_obs, 1937:1990; config=(cf_calib_config, dc_config), ylim=(70,120))"
   ]
  },
  {
   "cell_type": "code",
   "execution_count": null,
   "metadata": {},
   "outputs": [],
   "source": [
    "evaluate(ChillForceEstimator, cherry_dc_obs;\n",
    "    configs = @config(cf_calib_config + dc_config + cherry_config.(1937:1990)),\n",
    "    index = :year,\n",
    "    target = :doy,\n",
    "    stop = :stop,\n",
    "    snap = :stop,\n",
    "    metric = :rmse,\n",
    ")"
   ]
  },
  {
   "cell_type": "code",
   "execution_count": null,
   "metadata": {},
   "outputs": [],
   "source": [
    "evaluate(ChillForceEstimator, cherry_dc_obs;\n",
    "    configs = @config(cf_calib_config + dc_config + cherry_config.(1937:1990)),\n",
    "    index = :year,\n",
    "    target = :doy,\n",
    "    stop = :stop,\n",
    "    snap = :stop,\n",
    "    metric = :ef,\n",
    ")"
   ]
  },
  {
   "cell_type": "markdown",
   "metadata": {
    "tags": []
   },
   "source": [
    "#### Ex 9.3.3\n",
    "\n",
    "Import Sea-Tac airport weather data from the weather file and UW Yoshino bloom data. Using the parameter estimates from Question 1 above for the DC data, apply the CF models to predict Yoshino cherry bloom dates at UW since 2005 using Sea-Tac airport temperature data. Plot predicted and observed data over the entire period. Evaluate model performance using the appropriate metrics, interpret and discuss the results. What would you do to improve the predictions for UW cherry bloom times?\n",
    "\n",
    "#### Application to UW cherries"
   ]
  },
  {
   "cell_type": "code",
   "execution_count": null,
   "metadata": {},
   "outputs": [],
   "source": [
    "seatac_weather = CSV.read(\"seatac_weather.csv\", DataFrame) |> unitfy"
   ]
  },
  {
   "cell_type": "code",
   "execution_count": null,
   "metadata": {},
   "outputs": [],
   "source": [
    "visualize(seatac_weather, :date, [:Tmin, :Tmax, :Tavg]; kind = :line)"
   ]
  },
  {
   "cell_type": "code",
   "execution_count": null,
   "metadata": {},
   "outputs": [],
   "source": [
    "uw_config = @config (\n",
    "    ChillForceEstimator => (;\n",
    "        data = seatac_weather,\n",
    "    ),\n",
    ")"
   ]
  },
  {
   "cell_type": "code",
   "execution_count": null,
   "metadata": {},
   "outputs": [],
   "source": [
    "cherry_uw_obs = CSV.read(\"cherry_uw_obs.csv\", DataFrame) |> unitfy"
   ]
  },
  {
   "cell_type": "code",
   "execution_count": null,
   "metadata": {},
   "outputs": [],
   "source": [
    "compare(ChillForceEstimator, cherry_uw_obs, 2005:2019;\n",
    "    config = (cf_calib_config, uw_config),\n",
    "    ylim = (70, 120),\n",
    ")"
   ]
  },
  {
   "cell_type": "code",
   "execution_count": null,
   "metadata": {},
   "outputs": [],
   "source": [
    "evaluate(ChillForceEstimator, cherry_uw_obs;\n",
    "    configs = @config(cf_calib_config + uw_config + cherry_config.(2005:2019)),\n",
    "    index = :year,\n",
    "    target = :doy,\n",
    "    stop = :stop,\n",
    "    snap = :stop,\n",
    "    metric = :rmse,\n",
    ")"
   ]
  },
  {
   "cell_type": "code",
   "execution_count": null,
   "metadata": {},
   "outputs": [],
   "source": [
    "evaluate(ChillForceEstimator, cherry_uw_obs;\n",
    "    configs = @config(cf_calib_config + uw_config + cherry_config.(2005:2019)),\n",
    "    index = :year,\n",
    "    target = :doy,\n",
    "    stop = :stop,\n",
    "    snap = :stop,\n",
    "    metric = :ef,\n",
    ")"
   ]
  },
  {
   "cell_type": "markdown",
   "metadata": {},
   "source": [
    "It doesn't look too good here. How it would be like if we did calibration? Also note that the original implementation of the model with forced dormancy release seemed to work much better with these new datasets, at least with positive model efficiency (EF) values. What would that suggest?"
   ]
  }
 ],
 "metadata": {
  "@webio": {
   "lastCommId": "8afd5bdb-4629-4fe2-9977-2c5a02988a81",
   "lastKernelId": "3f67c595-131a-4826-b36b-8aa00c80e5ac"
  },
  "kernelspec": {
   "display_name": "Julia 1.10.4",
   "language": "julia",
   "name": "julia-1.10"
  },
  "language_info": {
   "file_extension": ".jl",
   "mimetype": "application/julia",
   "name": "julia",
   "version": "1.10.4"
  }
 },
 "nbformat": 4,
 "nbformat_minor": 4
}

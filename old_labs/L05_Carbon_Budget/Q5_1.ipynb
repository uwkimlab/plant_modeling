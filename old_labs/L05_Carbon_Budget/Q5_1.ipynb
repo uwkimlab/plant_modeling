{
 "cells": [
  {
   "cell_type": "markdown",
   "id": "ba1353a1-6cfb-44f1-9bb3-09fdb03a8b4a",
   "metadata": {},
   "source": [
    "## Question 5.1"
   ]
  },
  {
   "cell_type": "code",
   "execution_count": 1,
   "id": "e28b7eca-3d34-40f2-9209-43c845767031",
   "metadata": {
    "tags": []
   },
   "outputs": [
    {
     "data": {
      "application/vnd.webio.node+json": {
       "children": [],
       "instanceArgs": {
        "namespace": "html",
        "tag": "div"
       },
       "nodeType": "DOM",
       "props": {},
       "type": "node"
      },
      "text/html": [
       "<div style=\"padding: 1em; background-color: #f8d6da; border: 1px solid #f5c6cb; font-weight: bold;\">\n",
       "<p>The WebIO Jupyter extension was not detected. See the\n",
       "<a href=\"https://juliagizmos.github.io/WebIO.jl/latest/providers/ijulia/\" target=\"_blank\">\n",
       "    WebIO Jupyter integration documentation\n",
       "</a>\n",
       "for more information.\n",
       "</div>\n"
      ],
      "text/plain": [
       "WebIO._IJuliaInit()"
      ]
     },
     "metadata": {
      "@webio": {
       "kernelId": "bd9413ad-d8a5-4a79-8376-f44de6e48277"
      }
     },
     "output_type": "display_data"
    }
   ],
   "source": [
    "using Cropbox"
   ]
  },
  {
   "cell_type": "markdown",
   "id": "dbab867b",
   "metadata": {},
   "source": [
    "### How much biomass can humans gain or lose only through breathing (See Meerman & Brown, 2014)? ###\n",
    "Estimate potential weight change through breathing only for 10 days for a person whose body mass is 70 kg assuming a constant breathing (e.g., gas-exchange) rate of 6.0 $\\mathrm{L\\ min^{-1}}$ (0.5 L per breathing, 12 breaths/minute) and respiratory quotient (RQ = Volume of CO2 released/Volume of O2 absorbed) of 0.8 (Meerman & Brown, 2014; Patel, Kerndt, & Bhardwaj, 2023). Humans do not absorb all of the inhaled O2 for metabolism; inhaled air contains 21% O2 while exhaled breath contains approximately 16%O2 and 5% CO2 by volume (Pleil, Ariel Geer Wallace, Davis, & Matty, 2021). Provide both absolute and relative weight changes over this period through breathing only."
   ]
  },
  {
   "cell_type": "code",
   "execution_count": 2,
   "id": "1b14cbd3-1278-41d5-b0f7-a1bd94a409b2",
   "metadata": {
    "tags": []
   },
   "outputs": [
    {
     "data": {
      "text/plain": [
       "q51"
      ]
     },
     "execution_count": 2,
     "metadata": {},
     "output_type": "execute_result"
    }
   ],
   "source": [
    "@system q51(Controller) begin\n",
    "    t(context.clock.time) ~ track(u\"d\")\n",
    "    W0: initial_body_mass      => 70   ~ preserve(parameter, u\"kg\")\n",
    "    RQ: respiratory_quotient   =>  1.0 ~ preserve(parameter)\n",
    "    br: breathing_rate         =>  6.0 ~ preserve(parameter, u\"l/minute\")\n",
    "    CO2: MW_of_CO2             => 44.0 ~ preserve(parameter, u\"g\")\n",
    "    O2: MW_of_O2               => 32.0 ~ preserve(parameter,u\"g\")\n",
    "    V: molar_air_volume        => 22.4 ~ preserve(parameter, u\"l\")\n",
    "    air_in(O2, br, V): inhale_MW => 0.21*O2*br/V ~ track(u\"g/minute\")\n",
    "    air_out(O2, CO2, br, RQ, V): exhale_MW   => (0.16*O2+0.05*RQ*CO2)*br/V ~ track(u\"g/minute\")\n",
    "    W(air_in, air_out): body_mass =>  begin\n",
    "        air_in - air_out\n",
    "    end ~ accumulate(init = W0, u\"kg\")\n",
    "    ΔW(air_in, air_out): delta_mass => begin\n",
    "        air_in - air_out\n",
    "    end ~ accumulate(init = 0, u\"kg\")\n",
    "     \n",
    "end"
   ]
  },
  {
   "cell_type": "code",
   "execution_count": 3,
   "id": "cfa402ea-ead3-4c31-9a19-b649ea8e3b1f",
   "metadata": {
    "tags": []
   },
   "outputs": [
    {
     "data": {
      "text/plain": [
       "10 d"
      ]
     },
     "execution_count": 3,
     "metadata": {},
     "output_type": "execute_result"
    }
   ],
   "source": [
    "c0 = :Clock => :step => 1u\"hr\"\n",
    "stop = 10u\"d\""
   ]
  },
  {
   "cell_type": "code",
   "execution_count": 4,
   "id": "a19e3115-82e9-4247-bf8b-befab2ead82e",
   "metadata": {
    "tags": []
   },
   "outputs": [
    {
     "data": {
      "text/html": [
       "<div><div style = \"float: left;\"><span>11×12 DataFrame</span></div><div style = \"clear: both;\"></div></div><div class = \"data-frame\" style = \"overflow-x: scroll;\"><table class = \"data-frame\" style = \"margin-bottom: 6px;\"><thead><tr class = \"header\"><th class = \"rowNumber\" style = \"font-weight: bold; text-align: right;\">Row</th><th style = \"text-align: left;\">time</th><th style = \"text-align: left;\">t</th><th style = \"text-align: left;\">W0</th><th style = \"text-align: left;\">RQ</th><th style = \"text-align: left;\">br</th><th style = \"text-align: left;\">CO2</th><th style = \"text-align: left;\">O2</th><th style = \"text-align: left;\">V</th><th style = \"text-align: left;\">air_in</th><th style = \"text-align: left;\">air_out</th><th style = \"text-align: left;\">W</th><th style = \"text-align: left;\">ΔW</th></tr><tr class = \"subheader headerLastRow\"><th class = \"rowNumber\" style = \"font-weight: bold; text-align: right;\"></th><th title = \"Unitful.Quantity{Float64, 𝐓, Unitful.FreeUnits{(hr,), 𝐓, nothing}}\" style = \"text-align: left;\">Quantity…</th><th title = \"Unitful.Quantity{Float64, 𝐓, Unitful.FreeUnits{(d,), 𝐓, nothing}}\" style = \"text-align: left;\">Quantity…</th><th title = \"Unitful.Quantity{Float64, 𝐌, Unitful.FreeUnits{(kg,), 𝐌, nothing}}\" style = \"text-align: left;\">Quantity…</th><th title = \"Float64\" style = \"text-align: left;\">Float64</th><th title = \"Unitful.Quantity{Float64, 𝐋³ 𝐓⁻¹, Unitful.FreeUnits{(L, minute⁻¹), 𝐋³ 𝐓⁻¹, nothing}}\" style = \"text-align: left;\">Quantity…</th><th title = \"Unitful.Quantity{Float64, 𝐌, Unitful.FreeUnits{(g,), 𝐌, nothing}}\" style = \"text-align: left;\">Quantity…</th><th title = \"Unitful.Quantity{Float64, 𝐌, Unitful.FreeUnits{(g,), 𝐌, nothing}}\" style = \"text-align: left;\">Quantity…</th><th title = \"Unitful.Quantity{Float64, 𝐋³, Unitful.FreeUnits{(L,), 𝐋³, nothing}}\" style = \"text-align: left;\">Quantity…</th><th title = \"Unitful.Quantity{Float64, 𝐌 𝐓⁻¹, Unitful.FreeUnits{(g, minute⁻¹), 𝐌 𝐓⁻¹, nothing}}\" style = \"text-align: left;\">Quantity…</th><th title = \"Unitful.Quantity{Float64, 𝐌 𝐓⁻¹, Unitful.FreeUnits{(g, minute⁻¹), 𝐌 𝐓⁻¹, nothing}}\" style = \"text-align: left;\">Quantity…</th><th title = \"Unitful.Quantity{Float64, 𝐌, Unitful.FreeUnits{(kg,), 𝐌, nothing}}\" style = \"text-align: left;\">Quantity…</th><th title = \"Unitful.Quantity{Float64, 𝐌, Unitful.FreeUnits{(kg,), 𝐌, nothing}}\" style = \"text-align: left;\">Quantity…</th></tr></thead><tbody><tr><td class = \"rowNumber\" style = \"font-weight: bold; text-align: right;\">1</td><td style = \"text-align: right;\">0.0 hr</td><td style = \"text-align: right;\">0.0 d</td><td style = \"text-align: right;\">70.0 kg</td><td style = \"text-align: right;\">1.0</td><td style = \"text-align: right;\">6.0 L minute⁻¹</td><td style = \"text-align: right;\">44.0 g</td><td style = \"text-align: right;\">32.0 g</td><td style = \"text-align: right;\">22.4 L</td><td style = \"text-align: right;\">1.8 g minute⁻¹</td><td style = \"text-align: right;\">1.96071 g minute⁻¹</td><td style = \"text-align: right;\">70.0 kg</td><td style = \"text-align: right;\">0.0 kg</td></tr><tr><td class = \"rowNumber\" style = \"font-weight: bold; text-align: right;\">2</td><td style = \"text-align: right;\">24.0 hr</td><td style = \"text-align: right;\">1.0 d</td><td style = \"text-align: right;\">70.0 kg</td><td style = \"text-align: right;\">1.0</td><td style = \"text-align: right;\">6.0 L minute⁻¹</td><td style = \"text-align: right;\">44.0 g</td><td style = \"text-align: right;\">32.0 g</td><td style = \"text-align: right;\">22.4 L</td><td style = \"text-align: right;\">1.8 g minute⁻¹</td><td style = \"text-align: right;\">1.96071 g minute⁻¹</td><td style = \"text-align: right;\">69.7686 kg</td><td style = \"text-align: right;\">-0.231429 kg</td></tr><tr><td class = \"rowNumber\" style = \"font-weight: bold; text-align: right;\">3</td><td style = \"text-align: right;\">48.0 hr</td><td style = \"text-align: right;\">2.0 d</td><td style = \"text-align: right;\">70.0 kg</td><td style = \"text-align: right;\">1.0</td><td style = \"text-align: right;\">6.0 L minute⁻¹</td><td style = \"text-align: right;\">44.0 g</td><td style = \"text-align: right;\">32.0 g</td><td style = \"text-align: right;\">22.4 L</td><td style = \"text-align: right;\">1.8 g minute⁻¹</td><td style = \"text-align: right;\">1.96071 g minute⁻¹</td><td style = \"text-align: right;\">69.5371 kg</td><td style = \"text-align: right;\">-0.462857 kg</td></tr><tr><td class = \"rowNumber\" style = \"font-weight: bold; text-align: right;\">4</td><td style = \"text-align: right;\">72.0 hr</td><td style = \"text-align: right;\">3.0 d</td><td style = \"text-align: right;\">70.0 kg</td><td style = \"text-align: right;\">1.0</td><td style = \"text-align: right;\">6.0 L minute⁻¹</td><td style = \"text-align: right;\">44.0 g</td><td style = \"text-align: right;\">32.0 g</td><td style = \"text-align: right;\">22.4 L</td><td style = \"text-align: right;\">1.8 g minute⁻¹</td><td style = \"text-align: right;\">1.96071 g minute⁻¹</td><td style = \"text-align: right;\">69.3057 kg</td><td style = \"text-align: right;\">-0.694286 kg</td></tr><tr><td class = \"rowNumber\" style = \"font-weight: bold; text-align: right;\">5</td><td style = \"text-align: right;\">96.0 hr</td><td style = \"text-align: right;\">4.0 d</td><td style = \"text-align: right;\">70.0 kg</td><td style = \"text-align: right;\">1.0</td><td style = \"text-align: right;\">6.0 L minute⁻¹</td><td style = \"text-align: right;\">44.0 g</td><td style = \"text-align: right;\">32.0 g</td><td style = \"text-align: right;\">22.4 L</td><td style = \"text-align: right;\">1.8 g minute⁻¹</td><td style = \"text-align: right;\">1.96071 g minute⁻¹</td><td style = \"text-align: right;\">69.0743 kg</td><td style = \"text-align: right;\">-0.925714 kg</td></tr><tr><td class = \"rowNumber\" style = \"font-weight: bold; text-align: right;\">6</td><td style = \"text-align: right;\">120.0 hr</td><td style = \"text-align: right;\">5.0 d</td><td style = \"text-align: right;\">70.0 kg</td><td style = \"text-align: right;\">1.0</td><td style = \"text-align: right;\">6.0 L minute⁻¹</td><td style = \"text-align: right;\">44.0 g</td><td style = \"text-align: right;\">32.0 g</td><td style = \"text-align: right;\">22.4 L</td><td style = \"text-align: right;\">1.8 g minute⁻¹</td><td style = \"text-align: right;\">1.96071 g minute⁻¹</td><td style = \"text-align: right;\">68.8429 kg</td><td style = \"text-align: right;\">-1.15714 kg</td></tr><tr><td class = \"rowNumber\" style = \"font-weight: bold; text-align: right;\">7</td><td style = \"text-align: right;\">144.0 hr</td><td style = \"text-align: right;\">6.0 d</td><td style = \"text-align: right;\">70.0 kg</td><td style = \"text-align: right;\">1.0</td><td style = \"text-align: right;\">6.0 L minute⁻¹</td><td style = \"text-align: right;\">44.0 g</td><td style = \"text-align: right;\">32.0 g</td><td style = \"text-align: right;\">22.4 L</td><td style = \"text-align: right;\">1.8 g minute⁻¹</td><td style = \"text-align: right;\">1.96071 g minute⁻¹</td><td style = \"text-align: right;\">68.6114 kg</td><td style = \"text-align: right;\">-1.38857 kg</td></tr><tr><td class = \"rowNumber\" style = \"font-weight: bold; text-align: right;\">8</td><td style = \"text-align: right;\">168.0 hr</td><td style = \"text-align: right;\">7.0 d</td><td style = \"text-align: right;\">70.0 kg</td><td style = \"text-align: right;\">1.0</td><td style = \"text-align: right;\">6.0 L minute⁻¹</td><td style = \"text-align: right;\">44.0 g</td><td style = \"text-align: right;\">32.0 g</td><td style = \"text-align: right;\">22.4 L</td><td style = \"text-align: right;\">1.8 g minute⁻¹</td><td style = \"text-align: right;\">1.96071 g minute⁻¹</td><td style = \"text-align: right;\">68.38 kg</td><td style = \"text-align: right;\">-1.62 kg</td></tr><tr><td class = \"rowNumber\" style = \"font-weight: bold; text-align: right;\">9</td><td style = \"text-align: right;\">192.0 hr</td><td style = \"text-align: right;\">8.0 d</td><td style = \"text-align: right;\">70.0 kg</td><td style = \"text-align: right;\">1.0</td><td style = \"text-align: right;\">6.0 L minute⁻¹</td><td style = \"text-align: right;\">44.0 g</td><td style = \"text-align: right;\">32.0 g</td><td style = \"text-align: right;\">22.4 L</td><td style = \"text-align: right;\">1.8 g minute⁻¹</td><td style = \"text-align: right;\">1.96071 g minute⁻¹</td><td style = \"text-align: right;\">68.1486 kg</td><td style = \"text-align: right;\">-1.85143 kg</td></tr><tr><td class = \"rowNumber\" style = \"font-weight: bold; text-align: right;\">10</td><td style = \"text-align: right;\">216.0 hr</td><td style = \"text-align: right;\">9.0 d</td><td style = \"text-align: right;\">70.0 kg</td><td style = \"text-align: right;\">1.0</td><td style = \"text-align: right;\">6.0 L minute⁻¹</td><td style = \"text-align: right;\">44.0 g</td><td style = \"text-align: right;\">32.0 g</td><td style = \"text-align: right;\">22.4 L</td><td style = \"text-align: right;\">1.8 g minute⁻¹</td><td style = \"text-align: right;\">1.96071 g minute⁻¹</td><td style = \"text-align: right;\">67.9171 kg</td><td style = \"text-align: right;\">-2.08286 kg</td></tr><tr><td class = \"rowNumber\" style = \"font-weight: bold; text-align: right;\">11</td><td style = \"text-align: right;\">240.0 hr</td><td style = \"text-align: right;\">10.0 d</td><td style = \"text-align: right;\">70.0 kg</td><td style = \"text-align: right;\">1.0</td><td style = \"text-align: right;\">6.0 L minute⁻¹</td><td style = \"text-align: right;\">44.0 g</td><td style = \"text-align: right;\">32.0 g</td><td style = \"text-align: right;\">22.4 L</td><td style = \"text-align: right;\">1.8 g minute⁻¹</td><td style = \"text-align: right;\">1.96071 g minute⁻¹</td><td style = \"text-align: right;\">67.6857 kg</td><td style = \"text-align: right;\">-2.31429 kg</td></tr></tbody></table></div>"
      ],
      "text/latex": [
       "\\begin{tabular}{r|cccccccc}\n",
       "\t& time & t & W0 & RQ & br & CO2 & O2 & \\\\\n",
       "\t\\hline\n",
       "\t& Quantity… & Quantity… & Quantity… & Float64 & Quantity… & Quantity… & Quantity… & \\\\\n",
       "\t\\hline\n",
       "\t1 & 0.0 hr & 0.0 d & 70.0 kg & 1.0 & 6.0 L minute⁻¹ & 44.0 g & 32.0 g & $\\dots$ \\\\\n",
       "\t2 & 24.0 hr & 1.0 d & 70.0 kg & 1.0 & 6.0 L minute⁻¹ & 44.0 g & 32.0 g & $\\dots$ \\\\\n",
       "\t3 & 48.0 hr & 2.0 d & 70.0 kg & 1.0 & 6.0 L minute⁻¹ & 44.0 g & 32.0 g & $\\dots$ \\\\\n",
       "\t4 & 72.0 hr & 3.0 d & 70.0 kg & 1.0 & 6.0 L minute⁻¹ & 44.0 g & 32.0 g & $\\dots$ \\\\\n",
       "\t5 & 96.0 hr & 4.0 d & 70.0 kg & 1.0 & 6.0 L minute⁻¹ & 44.0 g & 32.0 g & $\\dots$ \\\\\n",
       "\t6 & 120.0 hr & 5.0 d & 70.0 kg & 1.0 & 6.0 L minute⁻¹ & 44.0 g & 32.0 g & $\\dots$ \\\\\n",
       "\t7 & 144.0 hr & 6.0 d & 70.0 kg & 1.0 & 6.0 L minute⁻¹ & 44.0 g & 32.0 g & $\\dots$ \\\\\n",
       "\t8 & 168.0 hr & 7.0 d & 70.0 kg & 1.0 & 6.0 L minute⁻¹ & 44.0 g & 32.0 g & $\\dots$ \\\\\n",
       "\t9 & 192.0 hr & 8.0 d & 70.0 kg & 1.0 & 6.0 L minute⁻¹ & 44.0 g & 32.0 g & $\\dots$ \\\\\n",
       "\t10 & 216.0 hr & 9.0 d & 70.0 kg & 1.0 & 6.0 L minute⁻¹ & 44.0 g & 32.0 g & $\\dots$ \\\\\n",
       "\t11 & 240.0 hr & 10.0 d & 70.0 kg & 1.0 & 6.0 L minute⁻¹ & 44.0 g & 32.0 g & $\\dots$ \\\\\n",
       "\\end{tabular}\n"
      ],
      "text/plain": [
       "\u001b[1m11×12 DataFrame\u001b[0m\n",
       "\u001b[1m Row \u001b[0m│\u001b[1m time      \u001b[0m\u001b[1m t         \u001b[0m\u001b[1m W0        \u001b[0m\u001b[1m RQ      \u001b[0m\u001b[1m br             \u001b[0m\u001b[1m CO2       \u001b[0m\u001b[1m O2\u001b[0m ⋯\n",
       "     │\u001b[90m Quantity… \u001b[0m\u001b[90m Quantity… \u001b[0m\u001b[90m Quantity… \u001b[0m\u001b[90m Float64 \u001b[0m\u001b[90m Quantity…      \u001b[0m\u001b[90m Quantity… \u001b[0m\u001b[90m Qu\u001b[0m ⋯\n",
       "─────┼──────────────────────────────────────────────────────────────────────────\n",
       "   1 │    0.0 hr      0.0 d    70.0 kg      1.0  6.0 L minute⁻¹     44.0 g     ⋯\n",
       "   2 │   24.0 hr      1.0 d    70.0 kg      1.0  6.0 L minute⁻¹     44.0 g\n",
       "   3 │   48.0 hr      2.0 d    70.0 kg      1.0  6.0 L minute⁻¹     44.0 g\n",
       "   4 │   72.0 hr      3.0 d    70.0 kg      1.0  6.0 L minute⁻¹     44.0 g\n",
       "   5 │   96.0 hr      4.0 d    70.0 kg      1.0  6.0 L minute⁻¹     44.0 g     ⋯\n",
       "   6 │  120.0 hr      5.0 d    70.0 kg      1.0  6.0 L minute⁻¹     44.0 g\n",
       "   7 │  144.0 hr      6.0 d    70.0 kg      1.0  6.0 L minute⁻¹     44.0 g\n",
       "   8 │  168.0 hr      7.0 d    70.0 kg      1.0  6.0 L minute⁻¹     44.0 g\n",
       "   9 │  192.0 hr      8.0 d    70.0 kg      1.0  6.0 L minute⁻¹     44.0 g     ⋯\n",
       "  10 │  216.0 hr      9.0 d    70.0 kg      1.0  6.0 L minute⁻¹     44.0 g\n",
       "  11 │  240.0 hr     10.0 d    70.0 kg      1.0  6.0 L minute⁻¹     44.0 g\n",
       "\u001b[36m                                                               6 columns omitted\u001b[0m"
      ]
     },
     "execution_count": 4,
     "metadata": {},
     "output_type": "execute_result"
    }
   ],
   "source": [
    "simulate(q51; stop, config = c0, snap=1u\"d\")"
   ]
  },
  {
   "cell_type": "code",
   "execution_count": 5,
   "id": "812d1b36-b0bb-49cb-904b-b3dbf713057e",
   "metadata": {
    "tags": []
   },
   "outputs": [
    {
     "data": {
      "image/svg+xml": [
       "<?xml version=\"1.0\" encoding=\"UTF-8\"?>\n",
       "<svg xmlns=\"http://www.w3.org/2000/svg\"\n",
       "     xmlns:xlink=\"http://www.w3.org/1999/xlink\"\n",
       "     xmlns:gadfly=\"http://www.gadflyjl.org/ns\"\n",
       "     version=\"1.2\"\n",
       "     width=\"141.42mm\" height=\"100mm\" viewBox=\"0 0 141.42 100\"\n",
       "     stroke=\"none\"\n",
       "     fill=\"#000000\"\n",
       "     stroke-width=\"0.3\"\n",
       "     font-size=\"3.88\"\n",
       ">\n",
       "<defs>\n",
       "  <marker id=\"arrow\" markerWidth=\"15\" markerHeight=\"7\" refX=\"5\" refY=\"3.5\" orient=\"auto\" markerUnits=\"strokeWidth\">\n",
       "    <path d=\"M0,0 L15,3.5 L0,7 z\" stroke=\"context-stroke\" fill=\"context-stroke\"/>\n",
       "  </marker>\n",
       "</defs>\n",
       "<g stroke=\"#000000\" stroke-opacity=\"0.000\" fill=\"#FFFFFF\" id=\"img-e1ca5edf-1\">\n",
       "  <g transform=\"translate(70.71,50)\">\n",
       "    <path d=\"M-70.71,-50 L70.71,-50 70.71,50 -70.71,50  z\" class=\"primitive\"/>\n",
       "  </g>\n",
       "</g>\n",
       "<g class=\"plotroot xscalable yscalable\" id=\"img-e1ca5edf-2\">\n",
       "  <g font-size=\"3.53\" font-family=\"'PT Sans','Helvetica Neue','Helvetica',sans-serif\" fill=\"#564A55\" stroke=\"#000000\" stroke-opacity=\"0.000\" id=\"img-e1ca5edf-3\">\n",
       "    <g transform=\"translate(77.03,93.72)\">\n",
       "      <g class=\"primitive\">\n",
       "        <text text-anchor=\"middle\" dy=\"0.6em\">t (d)</text>\n",
       "      </g>\n",
       "    </g>\n",
       "  </g>\n",
       "  <g class=\"guide xlabels\" font-size=\"2.82\" font-family=\"'PT Sans Caption','Helvetica Neue','Helvetica',sans-serif\" fill=\"#6C606B\" id=\"img-e1ca5edf-4\">\n",
       "    <g transform=\"translate(19.63,87.04)\">\n",
       "      <g class=\"primitive\">\n",
       "        <text text-anchor=\"middle\" dy=\"0.6em\">0</text>\n",
       "      </g>\n",
       "    </g>\n",
       "    <g transform=\"translate(77.03,87.04)\">\n",
       "      <g class=\"primitive\">\n",
       "        <text text-anchor=\"middle\" dy=\"0.6em\">5</text>\n",
       "      </g>\n",
       "    </g>\n",
       "    <g transform=\"translate(134.42,87.04)\">\n",
       "      <g class=\"primitive\">\n",
       "        <text text-anchor=\"middle\" dy=\"0.6em\">10</text>\n",
       "      </g>\n",
       "    </g>\n",
       "  </g>\n",
       "  <g clip-path=\"url(#img-e1ca5edf-5)\">\n",
       "    <g id=\"img-e1ca5edf-6\">\n",
       "      <g pointer-events=\"visible\" stroke-width=\"0.3\" fill=\"#000000\" fill-opacity=\"0.000\" stroke=\"#000000\" stroke-opacity=\"0.000\" class=\"guide background\" id=\"img-e1ca5edf-7\">\n",
       "        <g transform=\"translate(77.03,45.52)\" id=\"img-e1ca5edf-8\">\n",
       "          <path d=\"M-59.4,-40.52 L59.4,-40.52 59.4,40.52 -59.4,40.52  z\" class=\"primitive\"/>\n",
       "        </g>\n",
       "      </g>\n",
       "      <g class=\"guide ygridlines xfixed\" stroke-dasharray=\"0.5,0.5\" stroke-width=\"0.2\" stroke=\"#D0D0E0\" id=\"img-e1ca5edf-9\">\n",
       "        <g transform=\"translate(77.03,84.04)\" id=\"img-e1ca5edf-10\">\n",
       "          <path fill=\"none\" d=\"M-59.4,0 L59.4,0 \" class=\"primitive\"/>\n",
       "        </g>\n",
       "        <g transform=\"translate(77.03,58.36)\" id=\"img-e1ca5edf-11\">\n",
       "          <path fill=\"none\" d=\"M-59.4,0 L59.4,0 \" class=\"primitive\"/>\n",
       "        </g>\n",
       "        <g transform=\"translate(77.03,32.68)\" id=\"img-e1ca5edf-12\">\n",
       "          <path fill=\"none\" d=\"M-59.4,0 L59.4,0 \" class=\"primitive\"/>\n",
       "        </g>\n",
       "        <g transform=\"translate(77.03,7)\" id=\"img-e1ca5edf-13\">\n",
       "          <path fill=\"none\" d=\"M-59.4,0 L59.4,0 \" class=\"primitive\"/>\n",
       "        </g>\n",
       "      </g>\n",
       "      <g class=\"guide xgridlines yfixed\" stroke-dasharray=\"0.5,0.5\" stroke-width=\"0.2\" stroke=\"#D0D0E0\" id=\"img-e1ca5edf-14\">\n",
       "        <g transform=\"translate(19.63,45.52)\" id=\"img-e1ca5edf-15\">\n",
       "          <path fill=\"none\" d=\"M0,-40.52 L0,40.52 \" class=\"primitive\"/>\n",
       "        </g>\n",
       "        <g transform=\"translate(77.03,45.52)\" id=\"img-e1ca5edf-16\">\n",
       "          <path fill=\"none\" d=\"M0,-40.52 L0,40.52 \" class=\"primitive\"/>\n",
       "        </g>\n",
       "        <g transform=\"translate(134.42,45.52)\" id=\"img-e1ca5edf-17\">\n",
       "          <path fill=\"none\" d=\"M0,-40.52 L0,40.52 \" class=\"primitive\"/>\n",
       "        </g>\n",
       "      </g>\n",
       "      <g class=\"plotpanel\" id=\"img-e1ca5edf-18\">\n",
       "        <metadata>\n",
       "          <boundingbox value=\"17.629999999999995mm 5.0mm 118.79135623730951mm 81.04333333333334mm\"/>\n",
       "          <unitbox value=\"-0.1742291463013449 70.0778782503353 10.34845829260269 -3.155756500670618\"/>\n",
       "        </metadata>\n",
       "        <g stroke-width=\"0.3\" fill=\"#000000\" fill-opacity=\"0.000\" class=\"geometry\" id=\"img-e1ca5edf-19\">\n",
       "          <g class=\"color_LCHab{Float32}(70.0f0,60.0f0,240.0f0)\" stroke-dasharray=\"none\" stroke-opacity=\"1\" stroke=\"#00BFFF\" id=\"img-e1ca5edf-20\">\n",
       "            <g transform=\"translate(77.03,36.72)\" id=\"img-e1ca5edf-21\">\n",
       "              <path fill=\"none\" d=\"M-57.4,-29.72 L-56.92,-29.47 -56.44,-29.22 -55.96,-28.97 -55.48,-28.73 -55,-28.48 -54.53,-28.23 -54.05,-27.98 -53.57,-27.74 -53.09,-27.49 -52.61,-27.24 -52.13,-26.99 -51.66,-26.75 -51.18,-26.5 -50.7,-26.25 -50.22,-26 -49.74,-25.75 -49.26,-25.51 -48.79,-25.26 -48.31,-25.01 -47.83,-24.76 -47.35,-24.52 -46.87,-24.27 -46.39,-24.02 -45.92,-23.77 -45.44,-23.53 -44.96,-23.28 -44.48,-23.03 -44,-22.78 -43.53,-22.54 -43.05,-22.29 -42.57,-22.04 -42.09,-21.79 -41.61,-21.54 -41.13,-21.3 -40.66,-21.05 -40.18,-20.8 -39.7,-20.55 -39.22,-20.31 -38.74,-20.06 -38.26,-19.81 -37.79,-19.56 -37.31,-19.32 -36.83,-19.07 -36.35,-18.82 -35.87,-18.57 -35.39,-18.33 -34.92,-18.08 -34.44,-17.83 -33.96,-17.58 -33.48,-17.33 -33,-17.09 -32.52,-16.84 -32.05,-16.59 -31.57,-16.34 -31.09,-16.1 -30.61,-15.85 -30.13,-15.6 -29.65,-15.35 -29.18,-15.11 -28.7,-14.86 -28.22,-14.61 -27.74,-14.36 -27.26,-14.12 -26.78,-13.87 -26.31,-13.62 -25.83,-13.37 -25.35,-13.12 -24.87,-12.88 -24.39,-12.63 -23.91,-12.38 -23.44,-12.13 -22.96,-11.89 -22.48,-11.64 -22,-11.39 -21.52,-11.14 -21.05,-10.9 -20.57,-10.65 -20.09,-10.4 -19.61,-10.15 -19.13,-9.91 -18.65,-9.66 -18.18,-9.41 -17.7,-9.16 -17.22,-8.92 -16.74,-8.67 -16.26,-8.42 -15.78,-8.17 -15.31,-7.92 -14.83,-7.68 -14.35,-7.43 -13.87,-7.18 -13.39,-6.93 -12.91,-6.69 -12.44,-6.44 -11.96,-6.19 -11.48,-5.94 -11,-5.7 -10.52,-5.45 -10.04,-5.2 -9.57,-4.95 -9.09,-4.71 -8.61,-4.46 -8.13,-4.21 -7.65,-3.96 -7.17,-3.71 -6.7,-3.47 -6.22,-3.22 -5.74,-2.97 -5.26,-2.72 -4.78,-2.48 -4.3,-2.23 -3.83,-1.98 -3.35,-1.73 -2.87,-1.49 -2.39,-1.24 -1.91,-0.99 -1.43,-0.74 -0.96,-0.5 -0.48,-0.25 -0,0 0.48,0.25 0.96,0.5 1.43,0.74 1.91,0.99 2.39,1.24 2.87,1.49 3.35,1.73 3.83,1.98 4.3,2.23 4.78,2.48 5.26,2.72 5.74,2.97 6.22,3.22 6.7,3.47 7.17,3.71 7.65,3.96 8.13,4.21 8.61,4.46 9.09,4.71 9.57,4.95 10.04,5.2 10.52,5.45 11,5.7 11.48,5.94 11.96,6.19 12.44,6.44 12.91,6.69 13.39,6.93 13.87,7.18 14.35,7.43 14.83,7.68 15.31,7.92 15.78,8.17 16.26,8.42 16.74,8.67 17.22,8.92 17.7,9.16 18.18,9.41 18.65,9.66 19.13,9.91 19.61,10.15 20.09,10.4 20.57,10.65 21.05,10.9 21.52,11.14 22,11.39 22.48,11.64 22.96,11.89 23.44,12.13 23.91,12.38 24.39,12.63 24.87,12.88 25.35,13.12 25.83,13.37 26.31,13.62 26.78,13.87 27.26,14.12 27.74,14.36 28.22,14.61 28.7,14.86 29.18,15.11 29.65,15.35 30.13,15.6 30.61,15.85 31.09,16.1 31.57,16.34 32.05,16.59 32.52,16.84 33,17.09 33.48,17.33 33.96,17.58 34.44,17.83 34.92,18.08 35.39,18.33 35.87,18.57 36.35,18.82 36.83,19.07 37.31,19.32 37.79,19.56 38.26,19.81 38.74,20.06 39.22,20.31 39.7,20.55 40.18,20.8 40.66,21.05 41.13,21.3 41.61,21.54 42.09,21.79 42.57,22.04 43.05,22.29 43.53,22.54 44,22.78 44.48,23.03 44.96,23.28 45.44,23.53 45.92,23.77 46.39,24.02 46.87,24.27 47.35,24.52 47.83,24.76 48.31,25.01 48.79,25.26 49.26,25.51 49.74,25.75 50.22,26 50.7,26.25 51.18,26.5 51.66,26.75 52.13,26.99 52.61,27.24 53.09,27.49 53.57,27.74 54.05,27.98 54.53,28.23 55,28.48 55.48,28.73 55.96,28.97 56.44,29.22 56.92,29.47 57.4,29.72 \" class=\"primitive\"/>\n",
       "            </g>\n",
       "          </g>\n",
       "        </g>\n",
       "      </g>\n",
       "    </g>\n",
       "  </g>\n",
       "  <g class=\"guide ylabels\" font-size=\"2.82\" font-family=\"'PT Sans Caption','Helvetica Neue','Helvetica',sans-serif\" fill=\"#6C606B\" id=\"img-e1ca5edf-22\">\n",
       "    <g transform=\"translate(16.63,84.04)\" id=\"img-e1ca5edf-23\">\n",
       "      <g class=\"primitive\">\n",
       "        <text text-anchor=\"end\" dy=\"0.35em\">67</text>\n",
       "      </g>\n",
       "    </g>\n",
       "    <g transform=\"translate(16.63,58.36)\" id=\"img-e1ca5edf-24\">\n",
       "      <g class=\"primitive\">\n",
       "        <text text-anchor=\"end\" dy=\"0.35em\">68</text>\n",
       "      </g>\n",
       "    </g>\n",
       "    <g transform=\"translate(16.63,32.68)\" id=\"img-e1ca5edf-25\">\n",
       "      <g class=\"primitive\">\n",
       "        <text text-anchor=\"end\" dy=\"0.35em\">69</text>\n",
       "      </g>\n",
       "    </g>\n",
       "    <g transform=\"translate(16.63,7)\" id=\"img-e1ca5edf-26\">\n",
       "      <g class=\"primitive\">\n",
       "        <text text-anchor=\"end\" dy=\"0.35em\">70</text>\n",
       "      </g>\n",
       "    </g>\n",
       "  </g>\n",
       "  <g font-size=\"3.53\" font-family=\"'PT Sans','Helvetica Neue','Helvetica',sans-serif\" fill=\"#564A55\" stroke=\"#000000\" stroke-opacity=\"0.000\" id=\"img-e1ca5edf-27\">\n",
       "    <g transform=\"translate(8.64,43.52)\" id=\"img-e1ca5edf-28\">\n",
       "      <g class=\"primitive\">\n",
       "        <text text-anchor=\"middle\" dy=\"0.35em\" transform=\"rotate(-90,0, 2)\">W (kg)</text>\n",
       "      </g>\n",
       "    </g>\n",
       "  </g>\n",
       "</g>\n",
       "<defs>\n",
       "  <clipPath id=\"img-e1ca5edf-5\">\n",
       "    <path d=\"M17.63,5 L136.42,5 136.42,86.04 17.63,86.04 \" />\n",
       "  </clipPath>\n",
       "</defs>\n",
       "</svg>\n"
      ],
      "text/html": [
       "<?xml version=\"1.0\" encoding=\"UTF-8\"?>\n",
       "<svg xmlns=\"http://www.w3.org/2000/svg\"\n",
       "     xmlns:xlink=\"http://www.w3.org/1999/xlink\"\n",
       "     xmlns:gadfly=\"http://www.gadflyjl.org/ns\"\n",
       "     version=\"1.2\"\n",
       "     width=\"141.42mm\" height=\"100mm\" viewBox=\"0 0 141.42 100\"\n",
       "     stroke=\"none\"\n",
       "     fill=\"#000000\"\n",
       "     stroke-width=\"0.3\"\n",
       "     font-size=\"3.88\"\n",
       ">\n",
       "<defs>\n",
       "  <marker id=\"arrow\" markerWidth=\"15\" markerHeight=\"7\" refX=\"5\" refY=\"3.5\" orient=\"auto\" markerUnits=\"strokeWidth\">\n",
       "    <path d=\"M0,0 L15,3.5 L0,7 z\" stroke=\"context-stroke\" fill=\"context-stroke\"/>\n",
       "  </marker>\n",
       "</defs>\n",
       "<g stroke=\"#000000\" stroke-opacity=\"0.000\" fill=\"#FFFFFF\" id=\"img-8d0ea3df-1\">\n",
       "  <g transform=\"translate(70.71,50)\">\n",
       "    <path d=\"M-70.71,-50 L70.71,-50 70.71,50 -70.71,50  z\" class=\"primitive\"/>\n",
       "  </g>\n",
       "</g>\n",
       "<g class=\"plotroot xscalable yscalable\" id=\"img-8d0ea3df-2\">\n",
       "  <g font-size=\"3.53\" font-family=\"'PT Sans','Helvetica Neue','Helvetica',sans-serif\" fill=\"#564A55\" stroke=\"#000000\" stroke-opacity=\"0.000\" id=\"img-8d0ea3df-3\">\n",
       "    <g transform=\"translate(77.03,93.72)\">\n",
       "      <g class=\"primitive\">\n",
       "        <text text-anchor=\"middle\" dy=\"0.6em\">t (d)</text>\n",
       "      </g>\n",
       "    </g>\n",
       "  </g>\n",
       "  <g class=\"guide xlabels\" font-size=\"2.82\" font-family=\"'PT Sans Caption','Helvetica Neue','Helvetica',sans-serif\" fill=\"#6C606B\" id=\"img-8d0ea3df-4\">\n",
       "    <g transform=\"translate(19.63,87.04)\">\n",
       "      <g class=\"primitive\">\n",
       "        <text text-anchor=\"middle\" dy=\"0.6em\">0</text>\n",
       "      </g>\n",
       "    </g>\n",
       "    <g transform=\"translate(77.03,87.04)\">\n",
       "      <g class=\"primitive\">\n",
       "        <text text-anchor=\"middle\" dy=\"0.6em\">5</text>\n",
       "      </g>\n",
       "    </g>\n",
       "    <g transform=\"translate(134.42,87.04)\">\n",
       "      <g class=\"primitive\">\n",
       "        <text text-anchor=\"middle\" dy=\"0.6em\">10</text>\n",
       "      </g>\n",
       "    </g>\n",
       "  </g>\n",
       "  <g clip-path=\"url(#img-8d0ea3df-5)\">\n",
       "    <g id=\"img-8d0ea3df-6\">\n",
       "      <g pointer-events=\"visible\" stroke-width=\"0.3\" fill=\"#000000\" fill-opacity=\"0.000\" stroke=\"#000000\" stroke-opacity=\"0.000\" class=\"guide background\" id=\"img-8d0ea3df-7\">\n",
       "        <g transform=\"translate(77.03,45.52)\" id=\"img-8d0ea3df-8\">\n",
       "          <path d=\"M-59.4,-40.52 L59.4,-40.52 59.4,40.52 -59.4,40.52  z\" class=\"primitive\"/>\n",
       "        </g>\n",
       "      </g>\n",
       "      <g class=\"guide ygridlines xfixed\" stroke-dasharray=\"0.5,0.5\" stroke-width=\"0.2\" stroke=\"#D0D0E0\" id=\"img-8d0ea3df-9\">\n",
       "        <g transform=\"translate(77.03,84.04)\" id=\"img-8d0ea3df-10\">\n",
       "          <path fill=\"none\" d=\"M-59.4,0 L59.4,0 \" class=\"primitive\"/>\n",
       "        </g>\n",
       "        <g transform=\"translate(77.03,58.36)\" id=\"img-8d0ea3df-11\">\n",
       "          <path fill=\"none\" d=\"M-59.4,0 L59.4,0 \" class=\"primitive\"/>\n",
       "        </g>\n",
       "        <g transform=\"translate(77.03,32.68)\" id=\"img-8d0ea3df-12\">\n",
       "          <path fill=\"none\" d=\"M-59.4,0 L59.4,0 \" class=\"primitive\"/>\n",
       "        </g>\n",
       "        <g transform=\"translate(77.03,7)\" id=\"img-8d0ea3df-13\">\n",
       "          <path fill=\"none\" d=\"M-59.4,0 L59.4,0 \" class=\"primitive\"/>\n",
       "        </g>\n",
       "      </g>\n",
       "      <g class=\"guide xgridlines yfixed\" stroke-dasharray=\"0.5,0.5\" stroke-width=\"0.2\" stroke=\"#D0D0E0\" id=\"img-8d0ea3df-14\">\n",
       "        <g transform=\"translate(19.63,45.52)\" id=\"img-8d0ea3df-15\">\n",
       "          <path fill=\"none\" d=\"M0,-40.52 L0,40.52 \" class=\"primitive\"/>\n",
       "        </g>\n",
       "        <g transform=\"translate(77.03,45.52)\" id=\"img-8d0ea3df-16\">\n",
       "          <path fill=\"none\" d=\"M0,-40.52 L0,40.52 \" class=\"primitive\"/>\n",
       "        </g>\n",
       "        <g transform=\"translate(134.42,45.52)\" id=\"img-8d0ea3df-17\">\n",
       "          <path fill=\"none\" d=\"M0,-40.52 L0,40.52 \" class=\"primitive\"/>\n",
       "        </g>\n",
       "      </g>\n",
       "      <g class=\"plotpanel\" id=\"img-8d0ea3df-18\">\n",
       "        <metadata>\n",
       "          <boundingbox value=\"17.629999999999995mm 5.0mm 118.79135623730951mm 81.04333333333334mm\"/>\n",
       "          <unitbox value=\"-0.1742291463013449 70.0778782503353 10.34845829260269 -3.155756500670618\"/>\n",
       "        </metadata>\n",
       "        <g stroke-width=\"0.3\" fill=\"#000000\" fill-opacity=\"0.000\" class=\"geometry\" id=\"img-8d0ea3df-19\">\n",
       "          <g class=\"color_LCHab{Float32}(70.0f0,60.0f0,240.0f0)\" stroke-dasharray=\"none\" stroke-opacity=\"1\" stroke=\"#00BFFF\" id=\"img-8d0ea3df-20\">\n",
       "            <g transform=\"translate(77.03,36.72)\" id=\"img-8d0ea3df-21\">\n",
       "              <path fill=\"none\" d=\"M-57.4,-29.72 L-56.92,-29.47 -56.44,-29.22 -55.96,-28.97 -55.48,-28.73 -55,-28.48 -54.53,-28.23 -54.05,-27.98 -53.57,-27.74 -53.09,-27.49 -52.61,-27.24 -52.13,-26.99 -51.66,-26.75 -51.18,-26.5 -50.7,-26.25 -50.22,-26 -49.74,-25.75 -49.26,-25.51 -48.79,-25.26 -48.31,-25.01 -47.83,-24.76 -47.35,-24.52 -46.87,-24.27 -46.39,-24.02 -45.92,-23.77 -45.44,-23.53 -44.96,-23.28 -44.48,-23.03 -44,-22.78 -43.53,-22.54 -43.05,-22.29 -42.57,-22.04 -42.09,-21.79 -41.61,-21.54 -41.13,-21.3 -40.66,-21.05 -40.18,-20.8 -39.7,-20.55 -39.22,-20.31 -38.74,-20.06 -38.26,-19.81 -37.79,-19.56 -37.31,-19.32 -36.83,-19.07 -36.35,-18.82 -35.87,-18.57 -35.39,-18.33 -34.92,-18.08 -34.44,-17.83 -33.96,-17.58 -33.48,-17.33 -33,-17.09 -32.52,-16.84 -32.05,-16.59 -31.57,-16.34 -31.09,-16.1 -30.61,-15.85 -30.13,-15.6 -29.65,-15.35 -29.18,-15.11 -28.7,-14.86 -28.22,-14.61 -27.74,-14.36 -27.26,-14.12 -26.78,-13.87 -26.31,-13.62 -25.83,-13.37 -25.35,-13.12 -24.87,-12.88 -24.39,-12.63 -23.91,-12.38 -23.44,-12.13 -22.96,-11.89 -22.48,-11.64 -22,-11.39 -21.52,-11.14 -21.05,-10.9 -20.57,-10.65 -20.09,-10.4 -19.61,-10.15 -19.13,-9.91 -18.65,-9.66 -18.18,-9.41 -17.7,-9.16 -17.22,-8.92 -16.74,-8.67 -16.26,-8.42 -15.78,-8.17 -15.31,-7.92 -14.83,-7.68 -14.35,-7.43 -13.87,-7.18 -13.39,-6.93 -12.91,-6.69 -12.44,-6.44 -11.96,-6.19 -11.48,-5.94 -11,-5.7 -10.52,-5.45 -10.04,-5.2 -9.57,-4.95 -9.09,-4.71 -8.61,-4.46 -8.13,-4.21 -7.65,-3.96 -7.17,-3.71 -6.7,-3.47 -6.22,-3.22 -5.74,-2.97 -5.26,-2.72 -4.78,-2.48 -4.3,-2.23 -3.83,-1.98 -3.35,-1.73 -2.87,-1.49 -2.39,-1.24 -1.91,-0.99 -1.43,-0.74 -0.96,-0.5 -0.48,-0.25 -0,0 0.48,0.25 0.96,0.5 1.43,0.74 1.91,0.99 2.39,1.24 2.87,1.49 3.35,1.73 3.83,1.98 4.3,2.23 4.78,2.48 5.26,2.72 5.74,2.97 6.22,3.22 6.7,3.47 7.17,3.71 7.65,3.96 8.13,4.21 8.61,4.46 9.09,4.71 9.57,4.95 10.04,5.2 10.52,5.45 11,5.7 11.48,5.94 11.96,6.19 12.44,6.44 12.91,6.69 13.39,6.93 13.87,7.18 14.35,7.43 14.83,7.68 15.31,7.92 15.78,8.17 16.26,8.42 16.74,8.67 17.22,8.92 17.7,9.16 18.18,9.41 18.65,9.66 19.13,9.91 19.61,10.15 20.09,10.4 20.57,10.65 21.05,10.9 21.52,11.14 22,11.39 22.48,11.64 22.96,11.89 23.44,12.13 23.91,12.38 24.39,12.63 24.87,12.88 25.35,13.12 25.83,13.37 26.31,13.62 26.78,13.87 27.26,14.12 27.74,14.36 28.22,14.61 28.7,14.86 29.18,15.11 29.65,15.35 30.13,15.6 30.61,15.85 31.09,16.1 31.57,16.34 32.05,16.59 32.52,16.84 33,17.09 33.48,17.33 33.96,17.58 34.44,17.83 34.92,18.08 35.39,18.33 35.87,18.57 36.35,18.82 36.83,19.07 37.31,19.32 37.79,19.56 38.26,19.81 38.74,20.06 39.22,20.31 39.7,20.55 40.18,20.8 40.66,21.05 41.13,21.3 41.61,21.54 42.09,21.79 42.57,22.04 43.05,22.29 43.53,22.54 44,22.78 44.48,23.03 44.96,23.28 45.44,23.53 45.92,23.77 46.39,24.02 46.87,24.27 47.35,24.52 47.83,24.76 48.31,25.01 48.79,25.26 49.26,25.51 49.74,25.75 50.22,26 50.7,26.25 51.18,26.5 51.66,26.75 52.13,26.99 52.61,27.24 53.09,27.49 53.57,27.74 54.05,27.98 54.53,28.23 55,28.48 55.48,28.73 55.96,28.97 56.44,29.22 56.92,29.47 57.4,29.72 \" class=\"primitive\"/>\n",
       "            </g>\n",
       "          </g>\n",
       "        </g>\n",
       "      </g>\n",
       "    </g>\n",
       "  </g>\n",
       "  <g class=\"guide ylabels\" font-size=\"2.82\" font-family=\"'PT Sans Caption','Helvetica Neue','Helvetica',sans-serif\" fill=\"#6C606B\" id=\"img-8d0ea3df-22\">\n",
       "    <g transform=\"translate(16.63,84.04)\" id=\"img-8d0ea3df-23\">\n",
       "      <g class=\"primitive\">\n",
       "        <text text-anchor=\"end\" dy=\"0.35em\">67</text>\n",
       "      </g>\n",
       "    </g>\n",
       "    <g transform=\"translate(16.63,58.36)\" id=\"img-8d0ea3df-24\">\n",
       "      <g class=\"primitive\">\n",
       "        <text text-anchor=\"end\" dy=\"0.35em\">68</text>\n",
       "      </g>\n",
       "    </g>\n",
       "    <g transform=\"translate(16.63,32.68)\" id=\"img-8d0ea3df-25\">\n",
       "      <g class=\"primitive\">\n",
       "        <text text-anchor=\"end\" dy=\"0.35em\">69</text>\n",
       "      </g>\n",
       "    </g>\n",
       "    <g transform=\"translate(16.63,7)\" id=\"img-8d0ea3df-26\">\n",
       "      <g class=\"primitive\">\n",
       "        <text text-anchor=\"end\" dy=\"0.35em\">70</text>\n",
       "      </g>\n",
       "    </g>\n",
       "  </g>\n",
       "  <g font-size=\"3.53\" font-family=\"'PT Sans','Helvetica Neue','Helvetica',sans-serif\" fill=\"#564A55\" stroke=\"#000000\" stroke-opacity=\"0.000\" id=\"img-8d0ea3df-27\">\n",
       "    <g transform=\"translate(8.64,43.52)\" id=\"img-8d0ea3df-28\">\n",
       "      <g class=\"primitive\">\n",
       "        <text text-anchor=\"middle\" dy=\"0.35em\" transform=\"rotate(-90,0, 2)\">W (kg)</text>\n",
       "      </g>\n",
       "    </g>\n",
       "  </g>\n",
       "</g>\n",
       "<defs>\n",
       "  <clipPath id=\"img-8d0ea3df-5\">\n",
       "    <path d=\"M17.63,5 L136.42,5 136.42,86.04 17.63,86.04 \" />\n",
       "  </clipPath>\n",
       "</defs>\n",
       "</svg>\n"
      ],
      "text/plain": [
       "\"<Cropbox.Plot{Gadfly.Plot}>\""
      ]
     },
     "execution_count": 5,
     "metadata": {},
     "output_type": "execute_result"
    }
   ],
   "source": [
    "visualize(q51, :t, :W; stop=10u\"d\", config = c0, kind=:line)"
   ]
  },
  {
   "cell_type": "code",
   "execution_count": null,
   "id": "f8dd673e-b7fa-4a52-8bab-b5c6c1c72abd",
   "metadata": {},
   "outputs": [],
   "source": []
  }
 ],
 "metadata": {
  "@webio": {
   "lastCommId": "599819cf-2195-4443-8e3e-23affe1cffa0",
   "lastKernelId": "bd9413ad-d8a5-4a79-8376-f44de6e48277"
  },
  "kernelspec": {
   "display_name": "Julia 1.10.5",
   "language": "julia",
   "name": "julia-1.10"
  },
  "language_info": {
   "file_extension": ".jl",
   "mimetype": "application/julia",
   "name": "julia",
   "version": "1.10.5"
  }
 },
 "nbformat": 4,
 "nbformat_minor": 5
}

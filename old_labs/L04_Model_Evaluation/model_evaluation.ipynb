{
 "cells": [
  {
   "cell_type": "markdown",
   "metadata": {},
   "source": [
    "# Lab: Model Calibration and Evaluation"
   ]
  },
  {
   "cell_type": "markdown",
   "metadata": {},
   "source": [
    "<div class=\"alert alert-warning\">\n",
    "If figures/tables are not rendered correctly, make sure your notebook is `trusted` by choosing `Trust Notebook` command found in `View` - `Activate Command Palette` menu. Typing in the first letters (i.e. \"tr\") should give you the command.\n",
    "</div>"
   ]
  },
  {
   "cell_type": "code",
   "execution_count": null,
   "metadata": {
    "tags": []
   },
   "outputs": [],
   "source": [
    "using Cropbox"
   ]
  },
  {
   "cell_type": "markdown",
   "metadata": {
    "jp-MarkdownHeadingCollapsed": true,
    "tags": []
   },
   "source": [
    "### `Julia` and `Cropbox` documentations and tutorials\n",
    "It takes time, practice, and frustration to become good at something and modeling is no exception. But there are pain relieavers; resources that can ease the pain to some extent. Listed below are some of the online resources I find useful for using `Julia` and `Cropbox`. In general, trying the examples provided with the documentation can be quite helpful even if they don't seem to make much sense at first.\n",
    "- `Julia` language documentation: https://docs.julialang.org/en/v1/\n",
    "- `Cropbox` documentation and tutorials: https://cropbox.github.io/Cropbox.jl/stable/ (while this documentation is not as complete as we like it to be, it can save you time and trouble)\n",
    "- *Calculus with Julia* package: https://jverzani.github.io/CalculusWithJuliaNotes.jl/ (great resources for doing math in Julia; *Precalculus Concepts* chapter is handy)\n",
    "- *DataFrames* package: https://dataframes.juliadata.org/stable/ (useful package for data handling similar to `dplyr` in R)\n",
    "- Use `?` to see online doc in the notebook environment (e.g., `?plot`)"
   ]
  },
  {
   "cell_type": "code",
   "execution_count": null,
   "metadata": {
    "tags": []
   },
   "outputs": [],
   "source": [
    "new_install = false\n",
    "if new_install\n",
    "    import Pkg\n",
    "    Pkg.add(\"CSV\")\n",
    "    Pkg.add(\"DataFrames\")\n",
    "    Pkg.add(\"DataFramesMeta\")\n",
    "    Pkg.add(\"StatsBase\")    \n",
    "    Pkg.add(\"Dates\")\n",
    "    Pkg.add(\"Cairo\")\n",
    "    Pkg.add(\"Fontconfig\")\n",
    "end"
   ]
  },
  {
   "cell_type": "markdown",
   "metadata": {},
   "source": [
    "If you get errors running the cell below, some or all of the packages may not have been installed. In that case, change `new_install` to be `true` and run the cell abov to add those packages to the current kernel running in this environment.  "
   ]
  },
  {
   "cell_type": "code",
   "execution_count": null,
   "metadata": {
    "tags": []
   },
   "outputs": [],
   "source": [
    "using DataFrames\n",
    "using DataFramesMeta\n",
    "using StatsBase\n",
    "using CSV\n",
    "using Dates, Cairo, Fontconfig"
   ]
  },
  {
   "cell_type": "markdown",
   "metadata": {
    "jp-MarkdownHeadingCollapsed": true,
    "tags": []
   },
   "source": [
    "## EX 1. Douglas-fir height growth ##\n",
    "Let's revisit the Douglas-fir height data and estimate the parameter values (that is, calibrate or fit the model) for the exponential growth and logistic growth functions. In this exercise, we will assume that the trees began growing from 1980 as an even aged population.\n",
    "\n",
    "- Linear growth\n",
    "\\begin{equation}\n",
    "\\begin{split}\n",
    "    \\label{eq:DF_lin}\n",
    "    &\\frac{dH}{dt} = a \\\\\n",
    "    &H = H_0 + a \\cdot t \n",
    "\\end{split}\n",
    "\\end{equation}\n",
    "\n",
    "- Exponential growth\n",
    "\\begin{equation}\n",
    "\\begin{split}\n",
    "    \\label{eq:DF_exp}\n",
    "    &\\frac{dH}{dt} = rH \\\\\n",
    "    &H = H_0 \\cdot e^{rt}\n",
    "\\end{split}\n",
    "\\end{equation}\n",
    "\n",
    "- Logistic growth\n",
    "\\begin{equation}\n",
    "\\begin{split}\n",
    "    \\label{eq:DF_logis}\n",
    "    &\\frac{dH}{dt} = rH\\left(1 - \\frac{H}{H_f} \\right) \\\\\n",
    "    &H = \\frac{H_f}{1 + (\\frac{H_f}{H_0}-1)~e^{-rt}}\n",
    "\\end{split}\n",
    "\\end{equation}\n",
    "\n",
    "1. Identify the parameters in the three growth models: *1) linear, 2) exponential*, and *3) logistic*, use either the differential equation or analytical solution of each model and calibrate the model against the observed Douglas-fir height data from the previous labs and other information needed to calibrate the model.  \n",
    "2. How do the parameter estimates compare with those we estimated by intuition, visual inspection of data, or picking two data points over an interval of time in the previous labs?\n",
    "3. Plot the observed and predicted values for both models. Interpret and discuss the results. "
   ]
  },
  {
   "cell_type": "code",
   "execution_count": null,
   "metadata": {
    "tags": []
   },
   "outputs": [],
   "source": [
    "@system DF_lin(Controller) begin    \n",
    "    t(context.clock.time) ~ track(u\"yr\")\n",
    "    a:  absolute_growth_rate   ~ preserve(parameter, u\"m/yr\")\n",
    "    H0: initial_height         ~ preserve(parameter, u\"m\")\n",
    "    yr: year           => 1    ~ accumulate(u\"yr\", init = 1980u\"yr\")    \n",
    "#   H(a): height       => a    ~ accumulate(u\"m\", init = H0)\n",
    "    H(a): height               ~ accumulate(u\"m\", init = H0)\n",
    "end"
   ]
  },
  {
   "cell_type": "code",
   "execution_count": null,
   "metadata": {
    "tags": []
   },
   "outputs": [],
   "source": [
    "@system DF_exp(Controller) begin\n",
    "    t(context.clock.time) ~ track(u\"yr\")\n",
    "    H0: initial_height ~ preserve(parameter, u\"m\")\n",
    "    r: relative_growth_rate ~ preserve(parameter, u\"m/m/yr\")\n",
    "#    H(r, t, H0) => H0*exp(r*t) ~ track(u\"m\")\n",
    "    yr: year => 1 ~ accumulate(u\"yr\", init = 1980u\"yr\")\n",
    "    H(r,H) => r*H ~ accumulate(u\"m\", init = H0)\n",
    "end"
   ]
  },
  {
   "cell_type": "code",
   "execution_count": null,
   "metadata": {
    "tags": []
   },
   "outputs": [],
   "source": [
    "@system DF_logi(Controller) begin\n",
    "    t(context.clock.time) ~ track(u\"yr\")\n",
    "    H0: initial_height ~ preserve(parameter, u\"m\")\n",
    "    Hf: potential_height ~ preserve(parameter, u\"m\")\n",
    "    r: relative_growth_rate ~ preserve(parameter, u\"m/m/yr\")\n",
    "    H(r, t, H0, Hf) => Hf/(1+(Hf/H0 - 1.0)*exp(-r*t)) ~ track(u\"m\")\n",
    "    yr: year => 1 ~ accumulate(u\"yr\", init = 1980u\"yr\")\n",
    "#    H(r,H,Hf) => r*H*(1-H/Hf) ~ accumulate(u\"m\", init = H0)\n",
    "end"
   ]
  },
  {
   "cell_type": "markdown",
   "metadata": {},
   "source": [
    "First, let's set the time step to be yearly. Since this will be common for all models we configure it first and embed it to other configurations."
   ]
  },
  {
   "cell_type": "code",
   "execution_count": null,
   "metadata": {
    "tags": []
   },
   "outputs": [],
   "source": [
    "#c1 = @config(:Clock => :step => 1u\"yr\")\n",
    "c1 = @config(:Clock => (;step = 1u\"yr\",))"
   ]
  },
  {
   "cell_type": "markdown",
   "metadata": {},
   "source": [
    "Create a configuration for the linear model. Note we include `c1` to be merged with new configuration `c1a`.  "
   ]
  },
  {
   "cell_type": "code",
   "execution_count": null,
   "metadata": {
    "tags": []
   },
   "outputs": [],
   "source": [
    "c1a = @config(c1,\n",
    ":DF_lin => (;    \n",
    "    H0 = 1.42,\n",
    "    a = 0.25,\n",
    "    )\n",
    ")\n",
    "    "
   ]
  },
  {
   "cell_type": "code",
   "execution_count": null,
   "metadata": {
    "tags": []
   },
   "outputs": [],
   "source": [
    "c1b = @config(c1,\n",
    ":DF_exp => (;    \n",
    "    H0 = 1.42,\n",
    "    r = 0.07,\n",
    "    )\n",
    ")\n",
    "    "
   ]
  },
  {
   "cell_type": "code",
   "execution_count": null,
   "metadata": {
    "tags": []
   },
   "outputs": [],
   "source": [
    "c1c = @config(c1,\n",
    ":DF_logi => (;\n",
    "    H0 = 1.42,\n",
    "    r = 0.07,        \n",
    "    Hf = 70.0,\n",
    "    )\n",
    ")\n",
    "    "
   ]
  },
  {
   "cell_type": "code",
   "execution_count": null,
   "metadata": {
    "tags": []
   },
   "outputs": [],
   "source": [
    "visualize([DF_lin, DF_exp, DF_logi], :yr, :H; configs = [c1a, c1b, c1c], stop = 30u\"yr\", kind = :line)"
   ]
  },
  {
   "cell_type": "code",
   "execution_count": null,
   "metadata": {
    "tags": []
   },
   "outputs": [],
   "source": [
    "DF_obs = CSV.read(\"../Module02-Growth_Functions/PSME-height.csv\", DataFrame) |> unitfy;"
   ]
  },
  {
   "cell_type": "markdown",
   "metadata": {},
   "source": [
    "Let's check the data structure by looking at the first 3 rows of all variables (i.e., columns)"
   ]
  },
  {
   "cell_type": "code",
   "execution_count": null,
   "metadata": {
    "tags": []
   },
   "outputs": [],
   "source": [
    "DF_obs[1:3, :]"
   ]
  },
  {
   "cell_type": "markdown",
   "metadata": {},
   "source": [
    "It looks like the Douglas-fir height data includes only two columns of data: `year` and `height`. We will add a third column for tree age because the growth models we defined are driven by `age` in years since 1983 as `time` variable, not the calendar years. We use `select` function from the `DataFrames` package. The same can also be achieved by adding a new column to the dataframe as a 2 dimensional array without using the function."
   ]
  },
  {
   "cell_type": "code",
   "execution_count": null,
   "metadata": {
    "tags": []
   },
   "outputs": [],
   "source": [
    "?select;"
   ]
  },
  {
   "cell_type": "code",
   "execution_count": null,
   "metadata": {
    "tags": []
   },
   "outputs": [],
   "source": [
    "select!(DF_obs, :, :year => (x -> x .- 1980u\"yr\") => :age)\n",
    "# DF_obs[:, :age] .= DF_obs[:, :year] .- 1983u\"yr\"\n",
    "DF_obs;"
   ]
  },
  {
   "cell_type": "markdown",
   "metadata": {
    "jp-MarkdownHeadingCollapsed": true,
    "tags": []
   },
   "source": [
    "## Model calibration with `calibrate()` method\n",
    "Cropbox provides `calibrate()` function to estimate a set of parameter values best describing the dataset it's provided with. Internally, it relies on [BlackBoxOptim.jl](https://github.com/robertfeldt/BlackBoxOptim.jl) for global optimization methods. If you're interested in local optimization methods, refer to [Optim.jl](https://github.com/JuliaNLSolvers/Optim.jl) package for more information.\n",
    "\n",
    "`calibrate()` is in a form like `calibrate(<System>, <DataFrame>; index=<..>, target=<..>, parameters=<..>, metric=<..>, optim=(; <BlackBoxOptim options>..), <simulate() options>..`. It accepts arguments similar to `simulate()` for setting up simulations. Then it also requires a data frame for ground truth data and their column names for `index` and `target` variables. Oftentimes, it is in a time series like how our dataset is recorded for Douglas-fir height data we just created or corn harvest measurements we saw previously. `parameters` are in a format similar to Cropbox configuration object except that each variable has a tuple of values specifying lower and upper bounds of the parameter instead of an actual value.\n",
    "\n",
    "We first need to identify parameters, determine which parameters to calibrate and what values should be used as their ranges. We will use same period of simulation (e.g., 30 yrs) as `stop` condition. The default metric of cost (error) function used by calibration is [RMSE](https://doi.org/10.5194/gmd-15-5481-2022). More advanced options controlling BlackBoxOptim can be specified with optional `optim` including maximum steps of calibration which mainly determines how long calibration process can take."
   ]
  },
  {
   "cell_type": "code",
   "execution_count": null,
   "metadata": {
    "tags": []
   },
   "outputs": [],
   "source": [
    "fit_lin = calibrate(DF_lin, DF_obs;\n",
    "    config = c1a, # comment this line and see what happens\n",
    "    index = :age => :t,\n",
    "    target = :height => :H,\n",
    "    parameters = DF_lin => (;\n",
    "        a = (0, 1.0),\n",
    "        H0 = (1, 2),\n",
    "    ),\n",
    "    stop = 30u\"yr\",\n",
    " #   snap = 1u\"yr\",\n",
    "    metric = :rmse,\n",
    "    optim = (;\n",
    "        MaxSteps = 1000,\n",
    "        ),    \n",
    ")"
   ]
  },
  {
   "cell_type": "code",
   "execution_count": null,
   "metadata": {
    "tags": []
   },
   "outputs": [],
   "source": [
    "fit_exp = calibrate(DF_exp, DF_obs;\n",
    "    config = c1b, # comment this line and see what happens\n",
    "    index = :age => :t,\n",
    "    target = :height => :H,\n",
    "    parameters = DF_exp => (;\n",
    "        r = (0, 0.1),\n",
    "        H0 = (1, 2),\n",
    "    ),\n",
    "    stop = 30u\"yr\",\n",
    " #   snap = 1u\"yr\",\n",
    "    metric = :rmse,\n",
    "    optim = (;\n",
    "        MaxSteps = 1000,\n",
    "        ),    \n",
    ")"
   ]
  },
  {
   "cell_type": "code",
   "execution_count": null,
   "metadata": {
    "tags": []
   },
   "outputs": [],
   "source": [
    "fit_logi = calibrate(DF_logi, DF_obs;\n",
    "    config = c1c, # comment this line and see what happens\n",
    "    index = :age => :t,\n",
    "    target = :height => :H,\n",
    "    parameters = DF_logi => (;\n",
    "        r = (0, 0.1),\n",
    "        H0 = (1, 2),\n",
    "     #   Hf = (60, 80),\n",
    "    ),\n",
    "    stop = 30u\"yr\",\n",
    " #   snap = 1u\"yr\",\n",
    "    metric = :rmse,\n",
    "    optim = (;\n",
    "        MaxSteps = 1000,\n",
    "        ),    \n",
    ")"
   ]
  },
  {
   "cell_type": "markdown",
   "metadata": {},
   "source": [
    "Do you think it is reasonable for us to try to calibrate $H_f$ here?"
   ]
  },
  {
   "cell_type": "markdown",
   "metadata": {},
   "source": [
    "3. How do the parameter estimates compare with those we estimated by intuition, visual inspection of data, or picking two data points over an interval of time in the previous labs?\n",
    "4. Plot the observed and predicted values for both models. Interpret and discuss the results. "
   ]
  },
  {
   "cell_type": "code",
   "execution_count": null,
   "metadata": {
    "tags": []
   },
   "outputs": [],
   "source": [
    "p = visualize(DF_obs, :age, :height; xlim = (0, 30), xlab = \"Age\", ylab = \"Height\", title = \"Douglas-fir Height: Linear Model\")\n",
    "visualize!(p, DF_lin, :t, :H; config = (c1a, fit_lin), stop = 30u\"yr\", kind = :line)"
   ]
  },
  {
   "cell_type": "code",
   "execution_count": null,
   "metadata": {
    "tags": []
   },
   "outputs": [],
   "source": [
    "p = visualize(DF_obs, :age, :height; xlim = (0, 30), xlab = \"Age\", ylab = \"Height\", title = \"Douglas-fir Height: Exponential Model\")\n",
    "visualize!(p, DF_exp, :t, :H; config = (c1b, fit_exp), stop = 30u\"yr\", kind = :line)"
   ]
  },
  {
   "cell_type": "code",
   "execution_count": null,
   "metadata": {
    "tags": []
   },
   "outputs": [],
   "source": [
    "p = visualize(DF_obs, :age, :height; xlim = (0, 30), xlab = \"Age\", ylab = \"Height\", title = \"Douglas-fir Height: Logistic Model\")\n",
    "visualize!(p, DF_logi, :t, :H; config = (c1c, fit_logi), stop = 30u\"yr\", kind = :line)"
   ]
  },
  {
   "cell_type": "markdown",
   "metadata": {
    "tags": []
   },
   "source": [
    "### Interpolation and extrapolation: Can we do that?"
   ]
  },
  {
   "cell_type": "code",
   "execution_count": null,
   "metadata": {
    "tags": []
   },
   "outputs": [],
   "source": [
    "p = visualize(DF_obs, :age, :height; xlim = (0, 30), xlab = \"Age\", ylab = \"Height\", title = \"Douglas-fir Height Models\")\n",
    "visualize!(p, [DF_lin, DF_exp, DF_logi], :t, :H; configs = [(c1a, fit_lin), (c1b, fit_exp), (c1c, fit_logi)], stop = 30u\"yr\", kind = :line)"
   ]
  },
  {
   "cell_type": "code",
   "execution_count": null,
   "metadata": {
    "tags": []
   },
   "outputs": [],
   "source": [
    "p = visualize(DF_obs, :age, :height; xlim = (0, 100), xlab = \"Age\", ylab = \"Height\", ylim = (0, 80), title = \"Douglas-fir Height Model Extrapolations\")\n",
    "visualize!(p, [DF_lin, DF_exp, DF_logi], :t, :H; configs = [(c1a, fit_lin), (c1b, fit_exp), (c1c, fit_logi)], stop = 100u\"yr\", kind = :line)"
   ]
  },
  {
   "cell_type": "code",
   "execution_count": null,
   "metadata": {
    "tags": []
   },
   "outputs": [],
   "source": [
    "using Cairo, Fontconfig\n",
    "p[] |> Cropbox.Gadfly.PNG(\"DF-models.png\")"
   ]
  },
  {
   "cell_type": "markdown",
   "metadata": {
    "jp-MarkdownHeadingCollapsed": true,
    "tags": []
   },
   "source": [
    "## Model evaluation using `evaluate()` method and its metrics\n",
    "Cropbox provides `evaluate()` function, which is in a similart form to `calibrate()`, for calculating a measure of error between observation input and simulation output. We can specify an arbitrary metric function in `metric` option that accepts a list of estimated values (`E`) and corresponding observed values (`O`) and returns a meausre of error."
   ]
  },
  {
   "cell_type": "markdown",
   "metadata": {},
   "source": [
    "#### Root Mean Square Error (RMSE)"
   ]
  },
  {
   "cell_type": "markdown",
   "metadata": {},
   "source": [
    "- Eqn 3.1.\n",
    "\n",
    "$$\n",
    "\\mathrm{RMSE} = \\sqrt{\\frac{\\sum_{i=1}^N (\\hat{y}_i - y_i)^2}{N}}\n",
    "$$"
   ]
  },
  {
   "cell_type": "markdown",
   "metadata": {},
   "source": [
    "RMSE can be defined by a simple function like this."
   ]
  },
  {
   "cell_type": "code",
   "execution_count": null,
   "metadata": {
    "tags": []
   },
   "outputs": [],
   "source": [
    "rmse(E, O) = √mean((E .- O).^2)"
   ]
  },
  {
   "cell_type": "markdown",
   "metadata": {},
   "source": [
    "Let's look at the goodness of fit of the linear model. A nice property of RMSE is that it inherits the original unit; m in this case. You might notice that the value of RMSE is the same as `fitness` output of the calibration. That is because we used `RMSE` as the objective function in the optimization process during calibration. See the calibration step above and compare."
   ]
  },
  {
   "cell_type": "markdown",
   "metadata": {},
   "source": [
    "Then call the `evaluate()` method built in `Cropbox` using our `rmse()` function as metric to calculate RMSE for our model predictions."
   ]
  },
  {
   "cell_type": "code",
   "execution_count": null,
   "metadata": {
    "tags": []
   },
   "outputs": [],
   "source": [
    "evaluate(DF_lin, DF_obs;\n",
    "    config = (c1a, fit_lin),\n",
    "    index = :age => :t,\n",
    "    target = :height => :H,\n",
    "    stop = 30u\"yr\",\n",
    "    metric = rmse,\n",
    ")"
   ]
  },
  {
   "cell_type": "markdown",
   "metadata": {
    "tags": []
   },
   "source": [
    "#### Model Efficiency (EF)"
   ]
  },
  {
   "cell_type": "markdown",
   "metadata": {},
   "source": [
    "- Eqn 3.2.\n",
    "\n",
    "$$\n",
    "\\mathrm{EF} = 1 - \\frac{\\sum_i (\\hat{y}_i - y_i)^2}{\\sum_i (y_i - \\bar{y})^2}\n",
    "$$"
   ]
  },
  {
   "cell_type": "markdown",
   "metadata": {},
   "source": [
    "Model efficiency (EF), or more specficially, Nash-Sutcliffe model efficiency coefficient (NSE) can be defined in a similar way."
   ]
  },
  {
   "cell_type": "code",
   "execution_count": null,
   "metadata": {
    "tags": []
   },
   "outputs": [],
   "source": [
    "ef(E, O) = 1 - sum((E .- O).^2) / sum((O .- mean(O)).^2)"
   ]
  },
  {
   "cell_type": "code",
   "execution_count": null,
   "metadata": {
    "tags": []
   },
   "outputs": [],
   "source": [
    "evaluate(DF_lin, DF_obs;\n",
    "    config = (c1a, fit_lin),\n",
    "    index = :age => :t,\n",
    "    target = :height => :H,\n",
    "    stop = 30u\"yr\",\n",
    "    metric = ef,\n",
    ")"
   ]
  },
  {
   "cell_type": "markdown",
   "metadata": {},
   "source": [
    "The maximum value of EF is 1 which indicates a perfect model. When EF is zero, the model has the same predictive power as mean of observations. A negative value of EF indicates the model is worse than the observation mean. `Cropbox` includes an implementation of RMSE and EF with pre-defined symbols (`:rmse` for RMSE and `:ef` for EF).\n",
    "\n",
    "In addition, `Cropbox` provides other commonly used metrics of model performance such as Willmott's revised index of agreement $d_r$ (`:dr`), mean absolute error (`:mae`), and nornalized RMSE (`:nrmse`)."
   ]
  },
  {
   "cell_type": "code",
   "execution_count": null,
   "metadata": {
    "tags": []
   },
   "outputs": [],
   "source": [
    "evaluate(DF_lin, DF_obs;\n",
    "    config = (c1a, fit_lin),\n",
    "    index = :age => :t,\n",
    "    target = :height => :H,\n",
    "    stop = 30u\"yr\",\n",
    "    metric = :rmse,\n",
    ")"
   ]
  },
  {
   "cell_type": "code",
   "execution_count": null,
   "metadata": {
    "tags": []
   },
   "outputs": [],
   "source": [
    "evaluate(DF_lin, DF_obs;\n",
    "    config = (c1a, fit_lin),\n",
    "    index = :age => :t,\n",
    "    target = :height => :H,\n",
    "    stop = 30u\"yr\",\n",
    "    metric = :ef,\n",
    ")"
   ]
  },
  {
   "cell_type": "code",
   "execution_count": null,
   "metadata": {
    "tags": []
   },
   "outputs": [],
   "source": [
    "evaluate(DF_lin, DF_obs;\n",
    "    config = (c1a, fit_lin),\n",
    "    index = :age => :t,\n",
    "    target = :height => :H,\n",
    "    stop = 30u\"yr\",\n",
    "    metric = :dr,\n",
    ")"
   ]
  },
  {
   "cell_type": "code",
   "execution_count": null,
   "metadata": {
    "tags": []
   },
   "outputs": [],
   "source": [
    "evaluate(DF_lin, DF_obs;\n",
    "    config = (c1a, fit_lin),\n",
    "    index = :age => :t,\n",
    "    target = :height => :H,\n",
    "    stop = 30u\"yr\",\n",
    "    metric = :mae,\n",
    ")"
   ]
  },
  {
   "cell_type": "markdown",
   "metadata": {},
   "source": [
    "Note that RMSE and MAE shares the same units (`m`) with the `target` variable."
   ]
  },
  {
   "cell_type": "markdown",
   "metadata": {},
   "source": [
    "Again, beware that what we just did above was not a proper **validation** of calibrated model since the dataset we used for calibration was used again for calculating a measure of error. In other words, we were just looking at the fitness of calibration itself. For validation, we need another dataset independent of calibration."
   ]
  },
  {
   "cell_type": "markdown",
   "metadata": {
    "jp-MarkdownHeadingCollapsed": true,
    "tags": []
   },
   "source": [
    "## Ex 2. Evaluating Douglas-fir height growth models\n",
    "\n",
    "In this exercise, we will evaluate the performance of three models for their ability to account for the variabilities in the Douglas-fir height data used for *calibration*. Let's use three goodness of fit (GOF) metrics to compare model fit for calibration. \n",
    "\n",
    "1. Evaluate RMSE, EF, and $d_r$ for the three models.\n",
    "1. Fill in the `gof` dataframe table below.\n",
    "1. Save the table as a `CSV` file.\n",
    "\n"
   ]
  },
  {
   "cell_type": "code",
   "execution_count": null,
   "metadata": {
    "tags": []
   },
   "outputs": [],
   "source": [
    "DF_gof = DataFrame(:model => [\"linear\",\"exponential\",\"logistic\"], :RMSE => 0.0u\"m\" , :EF =>0.0, :d_r => 0.0) |> unitfy"
   ]
  },
  {
   "cell_type": "code",
   "execution_count": null,
   "metadata": {
    "tags": []
   },
   "outputs": [],
   "source": [
    "DF_gof[1, :RMSE] = evaluate(DF_lin, DF_obs;\n",
    "    config = (c1a, fit_lin),\n",
    "    index = :age => :t,\n",
    "    target = :height => :H,\n",
    "    stop = 30u\"yr\",\n",
    "    metric = :rmse,\n",
    ")"
   ]
  },
  {
   "cell_type": "code",
   "execution_count": null,
   "metadata": {
    "tags": []
   },
   "outputs": [],
   "source": [
    "DF_gof"
   ]
  },
  {
   "cell_type": "code",
   "execution_count": null,
   "metadata": {},
   "outputs": [],
   "source": [
    "CSV.write(\"./DF_gof.csv\", DF_gof, overwrite=true)"
   ]
  },
  {
   "cell_type": "markdown",
   "metadata": {
    "jp-MarkdownHeadingCollapsed": true,
    "tags": []
   },
   "source": [
    "## Ex 3. Corn biomass accumulation\n",
    "\n",
    "In this exercise, we will calibrate the logistic and Gompertz growth functions using experimental data from field corn research. We've seen the weather data from the corn experiment conducted in Beltsville, MD in 2002. Planting was done on May 15, 2002 with 8 $\\mathrm{plants/m^2}$ of planting density. Plants were well-fertilized and irrigated as needed.\n",
    "\n",
    "1. Calibrate the differential equations of the a) logistic and b) Gompertz growth functions against the corn total shoot biomass data collected over time. Think carefully about biological meanings of the parameters and what starting values you will use to calibrate them?\n",
    "2. Plot predicted vs observed values of the models and compare.\n",
    "3. Evaluate the performance of both models based on RMSE, EF, and $d_r$ as the goodness of fit metrics. Analyze and interpret the results. Discuss which model would be your choice of model for this purpose and why. "
   ]
  },
  {
   "cell_type": "markdown",
   "metadata": {
    "tags": []
   },
   "source": [
    "### Loading data from a file"
   ]
  },
  {
   "cell_type": "markdown",
   "metadata": {},
   "source": [
    "We can load CSV files into a table-like structure (`DataFrame`) using [CSV.jl](https://github.com/JuliaData/CSV.jl) package.\n",
    "\n",
    "Cropbox provides a convenient feature with `unitfy()` function that automatically handle units for each column. For example, if the column name was set to \"LA (cm^2)\" in the CSV file, it would be converted to a column named \"LA\" and its underlying type incorprating units of \"cm^2\".\n",
    "\n",
    "Note that we use piping operator (`|>`) to hand over the data frame returned by `CSV.read()` to `unitfy()` function. It's identical as if we called `unitfy(CSV.read(...))`."
   ]
  },
  {
   "cell_type": "code",
   "execution_count": null,
   "metadata": {
    "tags": []
   },
   "outputs": [],
   "source": [
    "corn_data = CSV.read(\"corn_data.csv\", DataFrame) |> unitfy;"
   ]
  },
  {
   "cell_type": "markdown",
   "metadata": {},
   "source": [
    "There are many columns in the data frame as we can see with `names()` function."
   ]
  },
  {
   "cell_type": "code",
   "execution_count": null,
   "metadata": {
    "tags": []
   },
   "outputs": [],
   "source": [
    "names(corn_data);"
   ]
  },
  {
   "cell_type": "markdown",
   "metadata": {},
   "source": [
    "`DAS` means \"days after sowing\". We have dry weights (DW) in 'grams' for shoot (`shootDW`), stem (`StemDW`), leaf (`LfDW`), and ear (`EarDW`)."
   ]
  },
  {
   "cell_type": "code",
   "execution_count": null,
   "metadata": {
    "tags": []
   },
   "outputs": [],
   "source": [
    "visualize(corn_data, :day, [:shootDW, :StemDW, :LfDW, :EarDW])"
   ]
  },
  {
   "cell_type": "markdown",
   "metadata": {},
   "source": [
    "Among them, we'll first use shoot dry weight (`shootDW`) that represents the above ground biomass (g) to calibrate the logistic growth model we discussed last week. Note that data have been collected weekly throughout the growing season to capture the entire growth phases."
   ]
  },
  {
   "cell_type": "markdown",
   "metadata": {
    "tags": []
   },
   "source": [
    "### Logistic Equation\n",
    "- Eqn.\n",
    "\n",
    "$$\n",
    "\\frac{dW}{dt} = rW \\cdot \\left(1-\\frac{W}{W_f} \\right) \\\\\n",
    "W = \\frac{W_f}{1 + (\\frac{W_f}{W_0} - 1) e^{-rt}}\n",
    "$$\n",
    "\n",
    "Here is the logistic growth model we're going to use for modeling biomass accumulation. It's basically the same as the system `Eq25` we used before.\n",
    "\n",
    "Note that there are two ways of using exponential function in Julia. The first one is to use `exp()` function and the other is to use constant variable `ℯ` representing Euler's number with power operator `^` . To get the Unicode symbol `ℯ`, type `\\euler` or first few letters like `\\eu` and press tab key. `exp(-r*t)` would be equivalent to `ℯ^(-r*t)`."
   ]
  },
  {
   "cell_type": "markdown",
   "metadata": {},
   "source": [
    "- Table 3.1.\n",
    "\n",
    "| Symbol | Value | Units | Description |\n",
    "| :- | :- | :- | :- |\n",
    "| $t$ | - | $\\mathrm{d}$ | Time unit used in the model |\n",
    "| $r$ | - | $\\mathrm{g}$ $\\mathrm{g^{-1}}$ $\\mathrm{d^{-1}}$ | Relative (or specific or intrinsic) growth rate |\n",
    "| $W_0$ | - | $\\mathrm{g}$ | Seed mass or initial biomass |\n",
    "| $W_f$ | - | $\\mathrm{g}$ | Potential final mass of a plant |\n",
    "| $W$ | - | $\\mathrm{g}$ | Whole-plant biomass as dry matter (state variable) |"
   ]
  },
  {
   "cell_type": "code",
   "execution_count": null,
   "metadata": {
    "tags": []
   },
   "outputs": [],
   "source": [
    "@system Logistic(Controller) begin\n",
    "    t(context.clock.time) ~ track(u\"d\")\n",
    "    \n",
    "    r:  relative_growth_rate    ~ preserve(parameter, u\"g/g/d\")\n",
    "    W0: initial_biomass         ~ preserve(parameter, u\"g\")\n",
    "    Wf: potential_final_biomass ~ preserve(parameter, u\"g\")\n",
    "\n",
    "    # W(r, W, Wf): biomass => begin\n",
    "    #     r * W * (Wf - W) / Wf\n",
    "    # end ~ accumulate(u\"g\", init=W0)\n",
    "\n",
    "    W(t, r, W0, Wf): biomass => begin\n",
    "        Wf / (1 + ((Wf / W0) - 1) * ℯ^(-r*t))\n",
    "    end ~ track(u\"g\")\n",
    "end"
   ]
  },
  {
   "cell_type": "markdown",
   "metadata": {},
   "source": [
    "#### Calibration\n",
    "In this case, we're calibrating three parameters, `r`, `W0`, and `Wf`, within a reasonable range of values. We use same period of simulation, 150 days, as `stop` condition. The deafult metric of cost (error) function used by calibration is [RMSE](https://en.wikipedia.org/wiki/Root-mean-square_deviation). More advanced options controlling BlackBoxOptim can be specified with optional `optim` including maximum steps of calibration which mainly determines how long calibration process can take."
   ]
  },
  {
   "cell_type": "markdown",
   "metadata": {},
   "source": [
    "Configure `calibrate` method to run *daily* instead of the default *hourly* time steps. This can reduce time for calibration substantially unless data to calibrate with are provided in hourly intervals."
   ]
  },
  {
   "cell_type": "code",
   "execution_count": null,
   "metadata": {
    "tags": []
   },
   "outputs": [],
   "source": [
    "c = @config(\n",
    "    :Clock => :step => 1u\"d\",\n",
    "    )"
   ]
  },
  {
   "cell_type": "code",
   "execution_count": null,
   "metadata": {
    "tags": []
   },
   "outputs": [],
   "source": [
    "lc = calibrate(Logistic, corn_data;\n",
    "    config = c,\n",
    "    index = :DAS => :t,\n",
    "    target = :shootDW => :W,\n",
    "    parameters = Logistic => (;\n",
    "        r = (0, 1),\n",
    "        W0 = (0, 10),\n",
    "        Wf = (0, 500),\n",
    "    ),\n",
    "    stop = 150u\"d\",\n",
    "    metric = :rmse,\n",
    ")"
   ]
  },
  {
   "cell_type": "markdown",
   "metadata": {},
   "source": [
    "After calibration, we found a set of parameter estimates that can describe the observation reasonable well with fitness value of 30.79 which referrs to RMSE. In other words, our simulation with this particular set of parameters had an average error about 30 $\\mathrm{g}$ compared to the original dataset.\n",
    "\n",
    "The result of calibration is returned as a configuration object which can be directly plugged into `simluate()` or `visualize()`. Let's plot the result of simulation using the calibrated parameter set and compare it with the dataset used for calibration."
   ]
  },
  {
   "cell_type": "markdown",
   "metadata": {},
   "source": [
    "Before we used two-line code for overlaying observed vs predicted figures. Here is an one-line code doing the same using `visualize(<DataFrame>, <System>, <x>, <y>; <simulate() options>.., <plot() options>..)`."
   ]
  },
  {
   "cell_type": "code",
   "execution_count": null,
   "metadata": {
    "tags": []
   },
   "outputs": [],
   "source": [
    "visualize(corn_data, Logistic, :DAS => :t, :shootDW => :W; config  = lc, stop = 150u\"d\", xlim = (0, 150))"
   ]
  },
  {
   "cell_type": "markdown",
   "metadata": {},
   "source": [
    "Another form of `visualize(<DataFrame>, <System>, <y>; index=<..>, <simulate() options>.., <plot() options>..)` provides an 1:1 plot with observation against model estimation."
   ]
  },
  {
   "cell_type": "code",
   "execution_count": null,
   "metadata": {
    "tags": []
   },
   "outputs": [],
   "source": [
    "visualize(corn_data, Logistic, :shootDW => :W; index = :DAS => :t, config = lc, stop = 150u\"d\")"
   ]
  },
  {
   "cell_type": "markdown",
   "metadata": {
    "tags": []
   },
   "source": [
    "### Gompertz Equation\n",
    "- Diffrential equations\n",
    "$$\n",
    "\\begin{align}\n",
    "    \\frac{dW}{dt} = rW \\\\\n",
    "    \\frac{dr}{dt} = -\\alpha r\n",
    "\\end{align}    \n",
    "$$\n",
    "\n",
    "- Analytical solution\n",
    "$$\n",
    "W = W_0 \\exp \\left[ \\frac{r_0}{\\alpha} (1 - e^{-\\alpha t}) \\right]\n",
    "$$"
   ]
  },
  {
   "cell_type": "markdown",
   "metadata": {},
   "source": [
    "- Table 3.1.\n",
    "\n",
    "| Symbol | Value | Units | Description |\n",
    "| :- | :- | :- | :- |\n",
    "| $t$ | - | $\\mathrm{d}$ | Time unit used in the model |\n",
    "| $r_0$ | - | $\\mathrm{g}$ $\\mathrm{g^{-1}}$ $\\mathrm{d^{-1}}$ | Initial intrinsic growth rate before loss of efficiency |\n",
    "| $W_0$ | - | $\\mathrm{g}$ | Seed mass or initial biomass |\n",
    "| $\\alpha$ | - | $\\mathrm{d^{-1}}$ | Decay rate of the growth efficiency over time |\n",
    "| $W$ | - | $\\mathrm{g}$ | Whole-plant biomass as dry matter (state variable) |"
   ]
  },
  {
   "cell_type": "code",
   "execution_count": null,
   "metadata": {
    "tags": []
   },
   "outputs": [],
   "source": [
    "@system Gompertz(Controller) begin\n",
    "    t(context.clock.time) ~ track(u\"d\")\n",
    "\n",
    "    r0: intrinsic_growth_rate => 0.24 ~ preserve(parameter, u\"g/g/d\")\n",
    "    W0: initial_biomass       => 0.15 ~ preserve(parameter, u\"g\")\n",
    "    α:  decay_rate            => 0.03 ~ preserve(parameter, u\"d^-1\")\n",
    "    \n",
    "# differential equations\n",
    "    r(α, r): actual_growth_rate => -α*r ~ accumulate(init = r0, u\"g/g/d\")\n",
    "    W(r, W): biomass            => r*W  ~ accumulate(init = W0, u\"g\")\n",
    "    \n",
    "# analytical solution\n",
    "    # W(t, r0, W0, α): biomass => begin\n",
    "    #     W0 * exp(r0 / α * (1 - ℯ^(-α*t)))\n",
    "    # end ~ track(u\"g\")    \n",
    "end"
   ]
  },
  {
   "cell_type": "code",
   "execution_count": null,
   "metadata": {
    "tags": []
   },
   "outputs": [],
   "source": [
    "gc = calibrate(Gompertz, corn_data;\n",
    "    config = c,\n",
    "    index = :DAS => :t,\n",
    "    target = :shootDW => :W,\n",
    "    parameters = Gompertz => (;\n",
    "        r0 = (0, 0.5),\n",
    "        W0 = (0, 1),\n",
    "        α = (0, 0.1),\n",
    "    ),\n",
    "    stop = 150u\"d\",\n",
    "    metric = :rmse,\n",
    ")"
   ]
  },
  {
   "cell_type": "code",
   "execution_count": null,
   "metadata": {
    "tags": []
   },
   "outputs": [],
   "source": [
    "visualize(corn_data, Gompertz, :DAS => :t, :shootDW => :W; config = (c, gc), stop = 150u\"d\", xlim = (0, 150))"
   ]
  },
  {
   "cell_type": "code",
   "execution_count": null,
   "metadata": {
    "tags": []
   },
   "outputs": [],
   "source": [
    "visualize(corn_data, Gompertz, :shootDW => :W; index = :DAS => :t, config = (c, gc), stop = 150u\"d\")"
   ]
  },
  {
   "cell_type": "markdown",
   "metadata": {},
   "source": [
    "### Model evaulation\n",
    "Evaluate the performance of both models based on RMSE, EF, and $d_r$ as the goodness of fit metrics. Analyze and interpret the results. Discuss which model would be your choice of model for this purpose and why. "
   ]
  },
  {
   "cell_type": "code",
   "execution_count": null,
   "metadata": {
    "tags": []
   },
   "outputs": [],
   "source": [
    "corn_gof = DataFrame(:model => [\"Logistic\",\"Gompertz\",\"Chanter\"], :RMSE => 0.0u\"g\" , :EF =>0.0, :d_r => 0.0) |> unitfy"
   ]
  },
  {
   "cell_type": "code",
   "execution_count": null,
   "metadata": {},
   "outputs": [],
   "source": [
    "corn_gof[1, :RMSE] = evaluate(Logistic, corn_data;\n",
    "    config = (c, lc),\n",
    "    index = :DAS => :t,\n",
    "    target = :shootDW => :W,\n",
    "    stop = 150u\"d\",\n",
    "    metric = :rmse,\n",
    ")"
   ]
  },
  {
   "cell_type": "code",
   "execution_count": null,
   "metadata": {},
   "outputs": [],
   "source": [
    "corn_gof"
   ]
  },
  {
   "cell_type": "markdown",
   "metadata": {
    "tags": []
   },
   "source": [
    "#### Do we always need to calibrate all parameters all at once?"
   ]
  },
  {
   "cell_type": "markdown",
   "metadata": {},
   "source": [
    "Sometimes we may not need or wish to calibrate all parameters in a model at the same time. It may even be preferable to determine a parameter value based on the literature or prior knowledge instead of going through calibration process in some cases especially if those prior values are based on solid biological understandings and/or data are limited for reliable calibration. For example, it is relatively simple to determine the seed mass of corn before planting. Here, we will use seed mass ($W_0$) of 0.275g as an example. This value is based on our prior knowledge of the mass of a corn kernel.  This will help us reduce the number of prameters to calibrate. This might sacrifice the fitness (e.g., RMSE) a little but that's ok and we can determine how much fitness is lost, and whether it was worth it. There could be multiple ways to do this. Let's think about how we can achieve this in `Cropbox`."
   ]
  },
  {
   "cell_type": "code",
   "execution_count": null,
   "metadata": {
    "tags": []
   },
   "outputs": [],
   "source": [
    "# Here we will force W0 to be 0.275g based on our prior knoledget of the seed mass of corn kernels. \n",
    "# This will help us reduce the number of prameters to calibrate. This might sacrifice the fitness (e.g., rmse) but that's ok.\n",
    "# There could be multiple ways to do this. Here we will simply confine the range of W0 = (0.275, 0.275)\n",
    "\n",
    "lc = calibrate(Logistic, corn_data;\n",
    "    config = c,\n",
    "    index = :DAS => :t,\n",
    "    target = :shootDW => :W,\n",
    "    parameters = Logistic => (;\n",
    "        r = (0, 1),\n",
    "        W0 = (0.275, 0.275),\n",
    "        Wf = (0, 500),\n",
    "    ),\n",
    "    stop = 150u\"d\",\n",
    "    metric = :rmse,\n",
    ")"
   ]
  },
  {
   "cell_type": "code",
   "execution_count": null,
   "metadata": {
    "tags": []
   },
   "outputs": [],
   "source": [
    "# # You can also achieve the same by setting W0 value in a configuration, and add to the calibration result.\n",
    "# lc = calibrate(Logistic, corn_data;\n",
    "\n",
    "# # set W0 value in a configuration and remove it from parameters to calibrate     \n",
    "#     config = (c, :Logistic => (; W0 = 0.275,)),\n",
    "\n",
    "#     index = :DAS => :t,\n",
    "#     target = :shootDW => :W,\n",
    "#     parameters = Logistic => (;\n",
    "#         r = (0, 1),\n",
    "# #        W0 = (0.0, 0.5),\n",
    "#         Wf = (0, 500),\n",
    "#     ),\n",
    "#     stop = 150u\"d\",\n",
    "#     metric = :rmse,\n",
    "# )\n"
   ]
  },
  {
   "cell_type": "markdown",
   "metadata": {},
   "source": [
    "Combine `lc` configuration which includes newly calibrated parameter estimates (i.e., $r$ and $W_f$), `c` configuration for running on daily timestep, and $W_0$ value into one configuration `lc1`. We do this because `calibrate()` function creates a new configuration that includes the estimates for only those parameters that were calibrated."
   ]
  },
  {
   "cell_type": "code",
   "execution_count": null,
   "metadata": {},
   "outputs": [],
   "source": [
    "lc1 = @config (c, lc,\n",
    "    Logistic => (;\n",
    "        W0 = 0.275,\n",
    "    ),\n",
    ")"
   ]
  },
  {
   "cell_type": "code",
   "execution_count": null,
   "metadata": {
    "tags": []
   },
   "outputs": [],
   "source": [
    "visualize(corn_data, Logistic, :DAS => :t, :shootDW => :W; config  = lc1, stop = 150u\"d\", xlim = (0, 150))"
   ]
  },
  {
   "cell_type": "markdown",
   "metadata": {
    "jp-MarkdownHeadingCollapsed": true,
    "tags": []
   },
   "source": [
    "## Ex 4. Corn biomass accumulation as a function of growing degree days or solar radiation \n",
    "Previously, We talked about radiation use efficiency and thermal unit (e.g., growing degree days) approaches. Let's modify our logistic model to be a function of GDD or solar radiation or GDD and compare the behavior and performance with the time dependent model we worked on above. \n",
    "\n",
    "We first need to import the weather data."
   ]
  },
  {
   "cell_type": "code",
   "execution_count": null,
   "metadata": {
    "tags": []
   },
   "outputs": [],
   "source": [
    "corn_weather = CSV.read(\"./corn_weather.csv\", DataFrame) |> unitfy;"
   ]
  },
  {
   "cell_type": "markdown",
   "metadata": {},
   "source": [
    "Create a system for growing degree days and killing degree days for daily weather data."
   ]
  },
  {
   "cell_type": "code",
   "execution_count": null,
   "metadata": {},
   "outputs": [],
   "source": [
    "\"Growing degree days and killing degree days calculator\"\n",
    "@system DegreeDays begin\n",
    "    T:  temperature                              ~ preserve(parameter, u\"°C\")\n",
    "    Tx: daily_max_temperature                    ~ preserve(parameter, u\"°C\")\n",
    "    Tb: base_temperature                         ~ preserve(parameter, u\"°C\")\n",
    "    To: optimal_temperature                      ~ preserve(parameter, u\"°C\")\n",
    "    GDD_rating: maturity_growing_degree_rating   ~ preserve(parameter, u\"K\")\n",
    "    \n",
    "    GD(T, Tb, To): growing_degree => begin\n",
    "        min(T, To) - Tb\n",
    "    end ~ track(min = 0, u\"K\")\n",
    "\n",
    "    GDD(GD): growing_degree_day => begin\n",
    "        GD / 1u\"d\"\n",
    "    end ~ track(u\"K/d\")\n",
    "\n",
    "    cGDD(GDD): cumulative_growing_degree_day ~ accumulate(u\"K\")\n",
    "\n",
    "    KD(Tx, To): killing_degree => begin\n",
    "        Tx - To\n",
    "    end ~ track(min = 0, u\"K\")\n",
    "\n",
    "    KDD(KD): killing_degree_day => begin\n",
    "        KD / 1u\"d\"\n",
    "    end ~ track(u\"K/d\")\n",
    "\n",
    "    cKDD(KDD): cumulative_killing_degree_day ~ accumulate(u\"K\")\n",
    "end"
   ]
  },
  {
   "cell_type": "markdown",
   "metadata": {},
   "source": [
    "set up a configuration for `DegreeDays` system."
   ]
  },
  {
   "cell_type": "code",
   "execution_count": null,
   "metadata": {},
   "outputs": [],
   "source": [
    "dd_config = @config (\n",
    "    :Clock => (;\n",
    "        step = 1u\"d\",\n",
    "    ),\n",
    "    :DegreeDays => (;\n",
    "        :Tb => 10.0,\n",
    "        :To => 30.0,\n",
    "        :GDD_rating => 1500,\n",
    "    ),\n",
    ")"
   ]
  },
  {
   "cell_type": "markdown",
   "metadata": {},
   "source": [
    "Create a system `Weather_daily` contain and handle imported weather daily weather data. We worked with this in the previous lab. "
   ]
  },
  {
   "cell_type": "code",
   "execution_count": null,
   "metadata": {
    "tags": []
   },
   "outputs": [],
   "source": [
    "@system Weather_daily begin\n",
    "    calendar(context)               ~      ::Calendar\n",
    "    t(calendar.date)                ~ track::date\n",
    "\n",
    "    data:                source_data     ~ provide(parameter, index = :date, init = t)\n",
    "    Tavg:                avg_temperature ~ drive(from = data, by = :Tavg, u\"°C\")\n",
    "    Tmin:                min_temperature ~ drive(from = data, by = :Tmin, u\"°C\")\n",
    "    Tmax:                max_temperature ~ drive(from = data, by = :Tmax, u\"°C\")\n",
    "    solrad:              solar_radiation ~ drive(from = data, by = :rad, u\"MJ/m^2/d^1\")\n",
    "    \n",
    "    T(Tavg):             temperature             => Tavg   ~ track(u\"°C\")\n",
    "    Tx(Tmax):            daily_max_temperature   => Tmax   ~ track(u\"°C\")\n",
    "    cRad(solrad):        sum_of_solar_radiation  => solrad ~ accumulate(u\"MJ/m^2\")\n",
    "    \n",
    "end"
   ]
  },
  {
   "cell_type": "markdown",
   "metadata": {},
   "source": [
    "Combine configurations for `DegreeDays`, `Logistic`, and `Weather_daily` systems."
   ]
  },
  {
   "cell_type": "code",
   "execution_count": null,
   "metadata": {
    "tags": []
   },
   "outputs": [],
   "source": [
    "c3 = @config (dd_config, lc,\n",
    "    :Calendar => (\n",
    "        :init => ZonedDateTime(2002, 5, 15, tz\"America/New_York\"),\n",
    "        :last => ZonedDateTime(2002, 9, 30, tz\"America/New_York\"),\n",
    "    ),\n",
    "    :Clock => (;\n",
    "        :step => 1u\"d\",\n",
    "    ),\n",
    "    :Weather_daily => (;\n",
    "        :data => corn_weather, # provide a dataframe as source\n",
    "    ),\n",
    ")"
   ]
  },
  {
   "cell_type": "markdown",
   "metadata": {},
   "source": [
    "Mixin `DegreeDays` and `Weather_daily` with `Controller`."
   ]
  },
  {
   "cell_type": "code",
   "execution_count": null,
   "metadata": {
    "tags": []
   },
   "outputs": [],
   "source": [
    "@system WeatherSum(DegreeDays, Weather_daily, Controller)"
   ]
  },
  {
   "cell_type": "markdown",
   "metadata": {},
   "source": [
    "Run simulation of `WeatherSum` and save results to create a dataframe containing the output bioclimatic variables that include GDD variables and cumulative radiation (`cRad`)"
   ]
  },
  {
   "cell_type": "code",
   "execution_count": null,
   "metadata": {
    "tags": []
   },
   "outputs": [],
   "source": [
    "corn_bioclim=select(simulate(WeatherSum; \n",
    "        config =(c3, dd_config), stop = \"calendar.stop\"), :t, :Tavg, :Tmin, :Tmax, :GDD, :cGDD, :KDD, :cKDD, :solrad, :cRad);"
   ]
  },
  {
   "cell_type": "markdown",
   "metadata": {},
   "source": [
    "Merge `corn_data` and `corn_bioclim` dataframes by `:day` and `:t` as index and select variables needed later and put in a new datafram named `corn`. Rename the variable `:day` to `:date`. "
   ]
  },
  {
   "cell_type": "code",
   "execution_count": null,
   "metadata": {},
   "outputs": [],
   "source": [
    "corn = leftjoin(corn_data, corn_bioclim, on = :day => :t, makeunique = true)\n",
    "select!(corn, :day => :date, :DAS, :shootDW, :LA, :LfNo, :Ht, :Tavg, :GDD, :cGDD, :solrad, :cRad);"
   ]
  },
  {
   "cell_type": "markdown",
   "metadata": {},
   "source": [
    "Create a logistic model with cumulative radiataion (`solad`) or `GDD` as driving variable. Pay attention to the units."
   ]
  },
  {
   "cell_type": "code",
   "execution_count": null,
   "metadata": {
    "tags": []
   },
   "outputs": [],
   "source": [
    "@system Logistic2(WeatherSum, Controller) begin\n",
    "    r:  relative_growth_rate    ~ preserve(parameter, u\"g/g/(MJ/m^2)\")\n",
    "    W0: initial_biomass         ~ preserve(parameter, u\"g\")\n",
    "    Wf: potential_final_biomass ~ preserve(parameter, u\"g\")\n",
    "\n",
    "# differential equation\n",
    "    W(r, solrad, W, Wf): biomass => begin\n",
    "        (r * W * (Wf - W) / Wf)*solrad\n",
    "    end ~ accumulate(u\"g\", init=W0)    \n",
    "    \n",
    "# analytical solution\n",
    "    # W(r, cRad, W0, Wf): biomass => begin\n",
    "    #     Wf / (1 + ((Wf / W0) - 1) * ℯ^(-r*cRad))\n",
    "    # end ~ track(u\"g\")\n",
    "end"
   ]
  },
  {
   "cell_type": "code",
   "execution_count": null,
   "metadata": {
    "tags": []
   },
   "outputs": [],
   "source": [
    "lc2 = calibrate(Logistic2, corn;\n",
    "    config = c3,\n",
    "    index = :date => :t,\n",
    "    target = :shootDW => :W,\n",
    "    parameters = Logistic2 => (;\n",
    "        r = (0, 0.01),\n",
    "        W0 = (0, 1),\n",
    "        Wf = (300, 400),\n",
    "    ),\n",
    "    stop = \"calendar.stop\",\n",
    "    metric = :rmse,\n",
    ")"
   ]
  },
  {
   "cell_type": "code",
   "execution_count": null,
   "metadata": {},
   "outputs": [],
   "source": [
    "visualize(corn, Logistic2, :cRad, :shootDW => :W; config = (c3, lc2), stop = \"calendar.stop\")"
   ]
  },
  {
   "cell_type": "markdown",
   "metadata": {},
   "source": [
    "#### Ex 4a. Did the model performance improve?\n",
    "Evaluate the performance `Logistic2` model in comparison with `Logistic` model using the GOF metrics. "
   ]
  },
  {
   "cell_type": "code",
   "execution_count": null,
   "metadata": {},
   "outputs": [],
   "source": [
    "### Do you own performance evaluation to answer the above question: 4a."
   ]
  },
  {
   "cell_type": "markdown",
   "metadata": {
    "tags": []
   },
   "source": [
    "#### Ex 4b. Will the perofmance improve further if we used `GDD` as driving variable instead of `solrad`?\n",
    "Pair, disuss, and modify the model to run with `GDD` to test your hypothesis."
   ]
  },
  {
   "cell_type": "code",
   "execution_count": null,
   "metadata": {},
   "outputs": [],
   "source": [
    "### Run a new model using GDD as driving variable to answer question: 4b."
   ]
  },
  {
   "cell_type": "markdown",
   "metadata": {
    "tags": []
   },
   "source": [
    "## Homework Problems"
   ]
  },
  {
   "cell_type": "markdown",
   "metadata": {},
   "source": [
    "### Homework 1. Calibrate and evaluate Chanter function\n",
    "\n",
    "This is an extension of the lab exercise on corn biomass accumulation. Calibrate the differential equation or analytical solution of Chanter equation with total shoot biomass (`shootDW`) in the corn growth data. This equation inherits the parameters from the Logistic and Gompertz functions with similar meanings. \n",
    "\n",
    "- Differential equation\n",
    "\\begin{equation}\n",
    "\\begin{split}\n",
    "    \\label{eq:chanter_derivative}\n",
    "    \\frac{dW}{dt} &= rW \\left(1-\\frac{W}{B}\\right) e^{-\\alpha \\cdot t} \\\\\n",
    "                  &= rW \\left(\\frac{B-W}{B}\\right)\\left\\{1-\\frac{\\alpha}{r} \\ln\\left[\\left(\\frac{W}{B-W}\\right)\\left(\\frac{B-W_0}{W_0}\\right)\\right]\\right\\} \\\\\n",
    "\\end{split}\n",
    "\\end{equation}\n",
    "\n",
    "- Analytical solution\n",
    "\\begin{equation}\n",
    "\\begin{split}\n",
    "    W &= \\frac{W_0 B}{W_0 + (B-W_0)\\exp{\\left[-\\frac{r}{\\alpha}(1-e^{-\\alpha t})\\right]}}\n",
    "\\end{split}\n",
    "\\end{equation}\n",
    "\n",
    "1. Calibrate the Chanter model in derivative form (differential equation) OR in integrated form (analytical solution) with total shoot biomass data (`shootDM`). $r$ and $\\alpha$ are the same as in the Gompertz function. $B$ parameter here may be interpreted as potential biomass representing the genetic ceiling that can be reached when no loss in growth efficiency occurs (i.e., $\\alpha$ = 0). Provide the parameter estimates for best fit, and discuss their biological meanings. How many parameters did you end up calibrating and why?\n",
    "2. Plot the result with DAS (days after sowing) on the x-axis and shoot DW on the y-axis with observed as points and predicted as line. \n",
    "3. Plot the observed (x-axis) vs the predicted (y-axis) with a 1:1 line.\n",
    "4. Evaluate goodness of fit of this model, add as the third column in the table we worked on above, and compare with the logistic and Gompertz functions. Provide model evaluation stats (RMSE, MAE, EF, and Willmott's revised $d_r$) and discuss which of the three models you would consider the best model and select for for this case and why. \n"
   ]
  },
  {
   "cell_type": "markdown",
   "metadata": {
    "jp-MarkdownHeadingCollapsed": true,
    "tags": []
   },
   "source": [
    "### Homework 2. Modeling leaf area dynamics\n",
    "Build a model for leaf area dynamics of a corn plant over time.  You may use information, skills, tools, and methods that you've learned so far in this class or other sources. In your response notebook, clearly identify the state variable(s), driving variable(s), and parameters. \n",
    "\n",
    "Evaluate your model's performance using RMSE, EF, and $d_r$. Compare your model's GOF metrics against the instructor's metrics. If your model outperforms his model, you can get extra points. Here's an example formula of how your score ($S$) may be determined for this homework problem.\n",
    "\n",
    "$$\n",
    "S = \\frac{1}{4} \\cdot \\left(\\frac{d_{r_1}}{d_{r_2}}  + \\frac{\\mathrm{EF_1}}{\\mathrm{EF_2}} + \\frac{\\mathrm{RMSE_2}}{\\mathrm{RMSE_1}} + \\frac{p_2}{p_1}\\right)\n",
    "$$\n",
    "\n",
    "Where the subscript $1$ represents student's metrics and $2$ is instructor's. Shown below shows the model behavior and performance metrics of instructor's model.\n"
   ]
  },
  {
   "cell_type": "code",
   "execution_count": null,
   "metadata": {},
   "outputs": [],
   "source": [
    "visualize(corn, :date, :LA; xlim = (Date(2002, 6,1), Date(2002,9,30)))"
   ]
  },
  {
   "cell_type": "code",
   "execution_count": null,
   "metadata": {},
   "outputs": [],
   "source": [
    "benchmark = CSV.read(\"./benchmark_gof.csv\", DataFrame) |> unitfy"
   ]
  }
 ],
 "metadata": {
  "@webio": {
   "lastCommId": "e7e753ed-d1bd-4a16-94b4-ce1ecb84c476",
   "lastKernelId": "ebaac9a2-d9d3-4af8-b417-0a618c9c4e81"
  },
  "kernelspec": {
   "display_name": "Julia 1.10.5",
   "language": "julia",
   "name": "julia-1.10"
  },
  "language_info": {
   "file_extension": ".jl",
   "mimetype": "application/julia",
   "name": "julia",
   "version": "1.10.5"
  }
 },
 "nbformat": 4,
 "nbformat_minor": 4
}

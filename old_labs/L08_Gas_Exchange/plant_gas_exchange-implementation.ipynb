{
 "cells": [
  {
   "cell_type": "markdown",
   "metadata": {},
   "source": [
    "# Lab 08 supplement: Implementation of Plant Gas-Exchange Models"
   ]
  },
  {
   "cell_type": "markdown",
   "metadata": {
    "jp-MarkdownHeadingCollapsed": true,
    "tags": []
   },
   "source": [
    "### Setting up"
   ]
  },
  {
   "cell_type": "code",
   "execution_count": null,
   "metadata": {},
   "outputs": [],
   "source": [
    "using Cropbox"
   ]
  },
  {
   "cell_type": "markdown",
   "metadata": {},
   "source": [
    "We will use interactive plotting feature in this notebook. For this, we have to initialize [WebIO.jl](https://github.com/JuliaGizmos/WebIO.jl) manually when using [prebuilt system images](https://github.com/JuliaLang/PackageCompiler.jl) as we do with our JupyterHub environment."
   ]
  },
  {
   "cell_type": "code",
   "execution_count": null,
   "metadata": {},
   "outputs": [],
   "source": [
    "Cropbox.Interact.WebIO.setup(:ijulia)"
   ]
  },
  {
   "cell_type": "markdown",
   "metadata": {},
   "source": [
    "Bisection method used for optimization by default prints out warning messages when it can't find a solution within a given range, for example, when we try running simulation under an extreme condition (*i.e.* some zero values for parameters). Let's make it quiet."
   ]
  },
  {
   "cell_type": "code",
   "execution_count": null,
   "metadata": {},
   "outputs": [],
   "source": [
    "using Logging\n",
    "Logging.disable_logging(Logging.Warn)"
   ]
  },
  {
   "cell_type": "markdown",
   "metadata": {
    "jp-MarkdownHeadingCollapsed": true,
    "tags": []
   },
   "source": [
    "## Cropbox"
   ]
  },
  {
   "cell_type": "markdown",
   "metadata": {},
   "source": [
    "Before going into the model, let's briefly talk about the kinds of variable we didn't have a chance to discuss in the previous lab sessions."
   ]
  },
  {
   "cell_type": "markdown",
   "metadata": {},
   "source": [
    "### Call"
   ]
  },
  {
   "cell_type": "markdown",
   "metadata": {},
   "source": [
    "`call` makes a *callable* variable which works like a function. Depending variables declared in the argument list before `;` are mapped to existing variables as usual. Variables declared after `;` indicates these arguments need explicitly supplied when calling the respective `call` variable.\n",
    "\n",
    "In the example below, `f` is a `call`-kind variable which is dependent on `a` and callable with `x`. Look at how it's called in the declaration of variable `f2`."
   ]
  },
  {
   "cell_type": "code",
   "execution_count": null,
   "metadata": {},
   "outputs": [],
   "source": [
    "@system SCall(Controller) begin\n",
    "    a       => 1 ~ preserve\n",
    "    f(a; x) => a + x ~ call\n",
    "    f2(f)   => f(2) ~ track\n",
    "end"
   ]
  },
  {
   "cell_type": "code",
   "execution_count": null,
   "metadata": {},
   "outputs": [],
   "source": [
    "simulate(SCall)"
   ]
  },
  {
   "cell_type": "code",
   "execution_count": null,
   "metadata": {},
   "outputs": [],
   "source": [
    "s = instance(SCall)"
   ]
  },
  {
   "cell_type": "code",
   "execution_count": null,
   "metadata": {},
   "outputs": [],
   "source": [
    "s.f(2)"
   ]
  },
  {
   "cell_type": "code",
   "execution_count": null,
   "metadata": {},
   "outputs": [],
   "source": [
    "@look s.f(2; a = 2)"
   ]
  },
  {
   "cell_type": "markdown",
   "metadata": {},
   "source": [
    "### Solve"
   ]
  },
  {
   "cell_type": "markdown",
   "metadata": {},
   "source": [
    "`solve` derives a symbolic solution of polynomial equation via [SymPy.jl](https://github.com/JuliaPy/SymPy.jl). The equation is solved for the name of variable itself. For example, the variable `x` below is resolved as -1 as $x = -1$ for the equation $x^2 + 2x + 1 = (x + 1)^2$."
   ]
  },
  {
   "cell_type": "code",
   "execution_count": null,
   "metadata": {},
   "outputs": [],
   "source": [
    "@system SSolve(Controller) begin\n",
    "    a => 1 ~ preserve\n",
    "    b => 2 ~ preserve\n",
    "    c => 1 ~ preserve\n",
    "    x(a, b, c) => a*x^2 + b*x + c ~ solve\n",
    "end"
   ]
  },
  {
   "cell_type": "code",
   "execution_count": null,
   "metadata": {},
   "outputs": [],
   "source": [
    "simulate(SSolve)"
   ]
  },
  {
   "cell_type": "markdown",
   "metadata": {},
   "source": [
    "### Bisect"
   ]
  },
  {
   "cell_type": "markdown",
   "metadata": {},
   "source": [
    "`bisect` also derives a solution of equations. While `solve` can find an analytical solution only when the equation is solvable via symbolic algebra, `bisect` relies on numerical optimizations which are more generally applicable to more types of equations. The downside is that it is much slower and can still fail especially when the given boundary of solution is not correct. The boundary of solution should be given by `lower` and `upper` tags."
   ]
  },
  {
   "cell_type": "code",
   "execution_count": null,
   "metadata": {},
   "outputs": [],
   "source": [
    "@system SBisect(Controller) begin\n",
    "    x(x) => x - 1 ~ bisect(lower = 0, upper = 2)\n",
    "end"
   ]
  },
  {
   "cell_type": "code",
   "execution_count": null,
   "metadata": {},
   "outputs": [],
   "source": [
    "simulate(SBisect)"
   ]
  },
  {
   "cell_type": "markdown",
   "metadata": {
    "jp-MarkdownHeadingCollapsed": true,
    "tags": []
   },
   "source": [
    "## Model"
   ]
  },
  {
   "cell_type": "markdown",
   "metadata": {},
   "source": [
    "The gas exchange model was originally derived from [MAIZSIM](https://github.com/ARS-CSGCL-DT/MAIZSIM) and reimplemented with Cropbox framework to build [Garlic.jl](https://github.com/cropbox/Garlic.jl). A standalone package is also available as [LeafGasExchange.jl](https://github.com/cropbox/LeafGasExchange.jl) that we used in the lab. In this notebook, we're going to implement (mostly) the same model from scratch to better understand how the model works internally."
   ]
  },
  {
   "cell_type": "markdown",
   "metadata": {},
   "source": [
    "### Environment"
   ]
  },
  {
   "cell_type": "markdown",
   "metadata": {},
   "source": [
    "$$\n",
    "e_s[T] = 0.611 \\cdot \\exp\\!\\left[ \\frac{17.502 \\cdot T}{240.97 + T} \\right]\n",
    "$$"
   ]
  },
  {
   "cell_type": "code",
   "execution_count": null,
   "metadata": {},
   "outputs": [],
   "source": [
    "@system VaporPressure begin\n",
    "    a => 0.611  ~ preserve(parameter, u\"kPa\")\n",
    "    b => 17.502 ~ preserve(parameter)\n",
    "    c => 240.97 ~ preserve(parameter)\n",
    "\n",
    "    es(a, b, c; T(u\"°C\")):                 saturation        => (t = deunitfy(T); a*exp((b*t)/(c+t))) ~ call(u\"kPa\")\n",
    "    ea(es;      T(u\"°C\"), RH(u\"percent\")): ambient           => es(T) * RH                            ~ call(u\"kPa\")\n",
    "    D(es;       T(u\"°C\"), RH(u\"percent\")): deficit           => es(T) * (1 - RH)                      ~ call(u\"kPa\")\n",
    "    RH(es;      T(u\"°C\"), VPD(u\"kPa\")):    relative_humidity => 1 - VPD / es(T)                       ~ call(u\"NoUnits\")\n",
    "\n",
    "    Δ(es, b, c; T(u\"°C\")):            saturation_slope_delta => (e = es(T); t = deunitfy(T); e*(b*c)/(c+t)^2 / u\"K\") ~ call(u\"kPa/K\")\n",
    "    s(Δ;        T(u\"°C\"), P(u\"kPa\")): saturation_slope       => Δ(T) / P                                             ~ call(u\"K^-1\")\n",
    "end"
   ]
  },
  {
   "cell_type": "code",
   "execution_count": null,
   "metadata": {},
   "outputs": [],
   "source": [
    "@system Weather begin\n",
    "    vp(context): vapor_pressure ~ ::VaporPressure\n",
    "\n",
    "    PFD:           photon_flux_density      => 2000 ~ preserve(parameter, u\"μmol/m^2/s\")\n",
    "    CO2:           carbon_dioxide           => 400  ~ preserve(parameter, u\"μmol/mol\")\n",
    "    RH:            relative_humidity        => 66   ~ preserve(parameter, u\"percent\")\n",
    "    T_air:         air_temperature          => 32   ~ preserve(parameter, u\"°C\")\n",
    "    Tk_air(T_air): absolute_air_temperature         ~ track(u\"K\")\n",
    "    wind:          wind_speed               => 2.0  ~ preserve(parameter, u\"m/s\")\n",
    "    P_air:         air_pressure             => 99.4 ~ preserve(parameter, u\"kPa\")\n",
    "\n",
    "    VPD(T_air, RH, D=vp.D):      vapor_pressure_deficit                => D(T_air, RH)    ~ track(u\"kPa\")\n",
    "    VPD_Δ(T_air, Δ=vp.Δ):        vapor_pressure_saturation_slope_delta => Δ(T_air)        ~ track(u\"kPa/K\")\n",
    "    VPD_s(T_air, P_air, s=vp.s): vapor_pressure_saturation_slope       => s(T_air, P_air) ~ track(u\"K^-1\")\n",
    "end"
   ]
  },
  {
   "cell_type": "markdown",
   "metadata": {},
   "source": [
    "| Symbol | Value | Units | Description |\n",
    "|:-------|:------|:------|:------------|\n",
    "$\\mathcal{D}_w$ | 24.2 | $$\\mathrm{mm^2}\\ \\mathrm{s^{-1}}$$ | Diffusion coefficient for water vapor in air at 20 $\\mathrm{^{\\circ}C}$ |\n",
    "$\\mathcal{D}_c$ | 14.7 | $\\mathrm{mm^2}\\ \\mathrm{s^{-1}}$ | Diffusion coefficient for $\\mathrm{CO_2}$ in air at 20 $\\mathrm{^{\\circ}C}$ |\n",
    "$\\mathcal{D}_h$ | 21.5 | $\\mathrm{mm^2}\\ \\mathrm{s^{-1}}$ | Diffusion coefficient for heat (thermal diffusivity) in air at 20 $\\mathrm{^{\\circ}C}$ |\n",
    "$\\mathcal{D}_m$ | 15.1 | $\\mathrm{mm^2}\\ \\mathrm{s^{-1}}$ | Diffusion coefficient for momentum (kinematic viscosity) in air at 20 $\\mathrm{^{\\circ}C}$ |"
   ]
  },
  {
   "cell_type": "code",
   "execution_count": null,
   "metadata": {},
   "outputs": [],
   "source": [
    "@system Diffusion begin\n",
    "    Dw: diffusion_coeff_for_water_vapor_in_air_at_20 => 24.2 ~ preserve(parameter, u\"mm^2/s\")\n",
    "    Dc: diffusion_coeff_for_co2_in_air_at_20         => 14.7 ~ preserve(parameter, u\"mm^2/s\")\n",
    "    Dh: diffusion_coeff_for_heat_in_air_at_20        => 21.5 ~ preserve(parameter, u\"mm^2/s\")\n",
    "    Dm: diffusion_coeff_for_momentum_in_air_at_20    => 15.1 ~ preserve(parameter, u\"mm^2/s\")\n",
    "end"
   ]
  },
  {
   "cell_type": "markdown",
   "metadata": {},
   "source": [
    "$$\n",
    "\\begin{align}\n",
    "I_2 &= \\frac{(1 - f)}{2} I_a \\\\\n",
    "I_a &= \\alpha I\n",
    "\\end{align}\n",
    "$$"
   ]
  },
  {
   "cell_type": "markdown",
   "metadata": {},
   "source": [
    "| Symbol | Units | Description |\n",
    "|:-------|:------|:------------|\n",
    "$I$ | $$\\mathrm{\\mu mol_{quanta}}\\ \\mathrm{m^{-2}}\\ \\mathrm{s^{-1}}$$ | Incident PAR |\n",
    "$I_a$ | $\\mathrm{\\mu mol_{quanta}}\\ \\mathrm{m^{-2}}\\ \\mathrm{s^{-1}}$ | Absorbed PAR |\n",
    "$I_2$ | $\\mathrm{\\mu mol_{quanta}}\\ \\mathrm{m^{-2}}\\ \\mathrm{s^{-1}}$ | Effective PAR |"
   ]
  },
  {
   "cell_type": "markdown",
   "metadata": {},
   "source": [
    "| Symbol | Value | Units | Description |\n",
    "|:-------|:------|:------|:------------|\n",
    "$\\alpha$ | 0.85 | - | Leaf absorptance in PAR |\n",
    "$\\delta$ | 0.15 | - | Leaf scattering factor |\n",
    "$f$ | 0.15 | - | Leaf spectral correction factor |"
   ]
  },
  {
   "cell_type": "code",
   "execution_count": null,
   "metadata": {},
   "outputs": [],
   "source": [
    "@system Irradiance begin\n",
    "    PFD ~ hold\n",
    "    PPFD(PFD): photosynthetic_photon_flux_density ~ track(u\"μmol/m^2/s\")\n",
    "\n",
    "    δ: leaf_scattering          => 0.15 ~ preserve(parameter)\n",
    "    f: leaf_spectral_correction => 0.15 ~ preserve(parameter)\n",
    "\n",
    "    Ia(PPFD, δ): absorbed_irradiance  => (PPFD * (1 - δ))   ~ track(u\"μmol/m^2/s\")\n",
    "    I2(Ia, f):   effective_irradiance => (Ia * (1 - f) / 2) ~ track(u\"μmol/m^2/s\")\n",
    "end"
   ]
  },
  {
   "cell_type": "markdown",
   "metadata": {},
   "source": [
    "### Photosynthesis"
   ]
  },
  {
   "cell_type": "markdown",
   "metadata": {},
   "source": [
    "#### Common"
   ]
  },
  {
   "cell_type": "markdown",
   "metadata": {},
   "source": [
    "$$\n",
    "\\begin{align}\n",
    "k_{T_A}[T_k, E_a] &= \\exp\\!\\left[ \\frac{E_a ( T_k - T_{b_k} )}{R \\cdot T_k \\cdot T_{b_k}} \\right] \\\\\n",
    "k_{T_Q}[T] &= Q_{10}^{\\frac{T - T_b}{10}} \\\\\n",
    "k_{T_P}[T_k, E_a, H, S] &= k_{T_A}[T_k, E_a] \\cdot \\left( 1 + \\exp\\!\\left[ \\frac{S \\cdot T_{b_k} - H}{R \\cdot T_{b_k}} \\right] \\right) \\left( 1 + \\exp\\!\\left[ \\frac{S \\cdot T_k - H}{R \\cdot T_k} \\right] \\right)^{-1} \\\\\n",
    "\\end{align}\n",
    "$$"
   ]
  },
  {
   "cell_type": "markdown",
   "metadata": {},
   "source": [
    "| Symbol | Units | Description |\n",
    "|:-------|:------|:------------|\n",
    "| $k_{T_A}$ | - | Temperature dependence by Arrhenius equation |\n",
    "| $k_{T_Q}$ | - | Temperature dependence by $Q_{10}$ function |\n",
    "| $k_{T_P}$ | - | Temperature dependence by a peaked function |\n",
    "| $T_a$ | $\\mathrm{^{\\circ}C}$ | Air temperature in Celsius |\n",
    "| $T_{a_k}$ | $\\mathrm{K}$ | Air temperature in Kelvin |\n",
    "| $T_l$ | $\\mathrm{^{\\circ}C}$ | Leaf temperature in Celsius |\n",
    "| $T_{l_k}$ | $\\mathrm{K}$ | Leaf temperature in Kelvin |"
   ]
  },
  {
   "cell_type": "markdown",
   "metadata": {},
   "source": [
    "| Symbol | Value | Units | Description |\n",
    "|:-------|:------|:------|:------------|\n",
    "$R$ | 8.314 | $$\\mathrm{J}\\ \\mathrm{K^{-1}}\\ \\mathrm{mol}$$ | Universal gas constant |"
   ]
  },
  {
   "cell_type": "code",
   "execution_count": null,
   "metadata": {},
   "outputs": [],
   "source": [
    "@system TemperatureDependence begin\n",
    "    T: leaf_temperature ~ hold\n",
    "    Tk(T): absolute_leaf_temperature ~ track(u\"K\")\n",
    "\n",
    "    Tb: base_temperature               => 25 ~ preserve(parameter, u\"°C\")\n",
    "    Tbk(Tb): absolute_base_temperature       ~ preserve(u\"K\")\n",
    "\n",
    "    kT(T, Tk, Tb, Tbk; Ea(u\"kJ/mol\")): arrhenius_equation => begin\n",
    "        exp(Ea * (T - Tb) / (u\"R\" * Tk * Tbk))\n",
    "    end ~ call\n",
    "\n",
    "    kTpeak(Tk, Tbk, kT; Ea(u\"kJ/mol\"), S(u\"J/mol/K\"), H(u\"kJ/mol\")): peaked_function => begin\n",
    "        R = u\"R\"\n",
    "        kT(Ea) * (1 + exp((S*Tbk - H) / (R*Tbk))) / (1 + exp((S*Tk - H) / (R*Tk)))\n",
    "    end ~ call\n",
    "\n",
    "    Q10 => 2 ~ preserve(parameter)\n",
    "    kTQ10(T, Tb, Q10): q10_rate => begin\n",
    "        Q10^((T - Tb) / 10u\"K\")\n",
    "    end ~ track\n",
    "end"
   ]
  },
  {
   "cell_type": "markdown",
   "metadata": {},
   "source": [
    "$$\n",
    "k_{N} = \\frac{2}{1 + \\exp\\!\\left[ -s \\cdot \\max \\{ N_0, N \\} - N_0 \\right]} - 1\n",
    "$$"
   ]
  },
  {
   "cell_type": "markdown",
   "metadata": {},
   "source": [
    "| Symbol | Units | Description |\n",
    "|:-------|:------|:------------|\n",
    "| $k_N$ | - | Nitrogen dependence |\n",
    "| $N$ | $$\\mathrm{g}\\ \\mathrm{m^{-2}}$$ | Leaf nitrogen content |\n",
    "| $N_p$ | $\\mathrm{\\%}$ | Relative leaf nitrogen content assuming SLA = 200 $\\mathrm{cm^2}\\ \\mathrm{g^{-1}}$ |"
   ]
  },
  {
   "cell_type": "markdown",
   "metadata": {},
   "source": [
    "| Symbol | Value | Units | Description |\n",
    "|:-------|:------|:------|:------------|\n",
    "$N_0$ | 0.343 | $$\\mathrm{g}\\ \\mathrm{m^{-2}}$$ | Baseline leaf nitrogen content |\n",
    "$s$ | 4.191 | $\\mathrm{m^2}\\ \\mathrm{g^{-1}}$ | Steepness of nitrogen response curve |"
   ]
  },
  {
   "cell_type": "code",
   "execution_count": null,
   "metadata": {},
   "outputs": [],
   "source": [
    "@system NitrogenDependence begin\n",
    "    N: leaf_nitrogen_content => 4.0   ~ preserve(parameter, u\"g/m^2\")\n",
    "    s                        => 4.191 ~ preserve(parameter, u\"m^2/g\")\n",
    "    N0                       => 0.343 ~ preserve(parameter, u\"g/m^2\")\n",
    "\n",
    "    kN(N, s, N0): nitrogen_limited_rate => begin\n",
    "        2 / (1 + exp(-s * (max(N0, N) - N0))) - 1\n",
    "    end ~ track\n",
    "\n",
    "    Np(N, SLA) => N * SLA ~ track(u\"percent\")\n",
    "    SLA: specific_leaf_area => 200 ~ preserve(u\"cm^2/g\")\n",
    "end"
   ]
  },
  {
   "cell_type": "code",
   "execution_count": null,
   "metadata": {},
   "outputs": [],
   "source": [
    "@system CBase(TemperatureDependence, NitrogenDependence) begin\n",
    "    Ci: intercellular_co2 ~ hold\n",
    "    I2: effective_irradiance ~ hold\n",
    "end"
   ]
  },
  {
   "cell_type": "markdown",
   "metadata": {},
   "source": [
    "#### C3"
   ]
  },
  {
   "cell_type": "markdown",
   "metadata": {},
   "source": [
    "| Symbol | Units | Description |\n",
    "|:-------|:------|:------------|\n",
    "| $A_c$ | $\\mathrm{\\mu mol_{CO_2}}\\ \\mathrm{m^{-2}}\\ \\mathrm{s^{-1}}$ | Rubisco-limited $\\mathrm{CO_2}$ assimilation rate |\n",
    "| $A_j$ | $\\mathrm{\\mu mol_{CO_2}}\\ \\mathrm{m^{-2}}\\ \\mathrm{s^{-1}}$ | Electron transport-limited $\\mathrm{CO_2}$ assimilation rate |\n",
    "| $A_n$ | $\\mathrm{\\mu mol_{CO_2}}\\ \\mathrm{m^{-2}}\\ \\mathrm{s^{-1}}$ | Net photosynthesis rate |\n",
    "| $A_p$ | $\\mathrm{\\mu mol_{CO_2}}\\ \\mathrm{m^{-2}}\\ \\mathrm{s^{-1}}$ | Triose phosphate utilization-limited $\\mathrm{CO_2}$ assimilation rate |\n",
    "| $C_a$ | $\\mathrm{\\mu bar}$ | Atmospheric $\\mathrm{CO_2}$ partial pressure |\n",
    "| $C_i$ | $\\mathrm{\\mu bar}$ | Intercellular $\\mathrm{CO_2}$ partial pressure |\n",
    "| $C_m$ | $\\mathrm{\\mu bar}$ | Mesophyll $\\mathrm{CO_2}$ partial pressure |\n",
    "| $\\Gamma$ | $\\mathrm{\\mu bar}$ | $\\mathrm{CO_2}$ compensation point |\n",
    "| $J$ | $$\\mathrm{\\mu mol_{electron}}\\ \\mathrm{m^{-2}}\\ \\mathrm{s^{-1}}$$ | Electron transport rate |\n",
    "| $J_{\\max}$ | $\\mathrm{\\mu mol_{electron}}\\ \\mathrm{m^{-2}}\\ \\mathrm{s^{-1}}$ | Maximum rate of electron transport |\n",
    "| $K_c$ | $\\mathrm{\\mu bar}$ | Michaelis-Menton constant of Rubisco for $\\mathrm{CO_2}$ |\n",
    "| $K_m$ | $\\mathrm{\\mu bar}$ | Michaelis-Menton constant of Rubisco for $\\mathrm{CO_2}$ in presence of $\\mathrm{O_2}$ |\n",
    "| $K_o$ | $\\mathrm{mbar}$ | Michaelis-Menton constant of Rubisco for $\\mathrm{O_2}$ |\n",
    "| $P_a$ | $\\mathrm{kPa}$ | Atmospheric pressure |\n",
    "| $R_d$ | $\\mathrm{\\mu mol_{CO_2}}\\ \\mathrm{m^{-2}}\\ \\mathrm{s^{-1}}$ | Mitochondrial respiration rate |\n",
    "| $r_{v_c}$ | $\\mathrm{m^2}\\ \\mathrm{s}\\ \\mathrm{mol^{-1}_{CO_2}}\\ \\mathrm{bar}$ | Total leaf resistance to $\\mathrm{CO_2}$ |\n",
    "| $T_p$ | $\\mathrm{\\mu mol_{CO_2}}\\ \\mathrm{m^{-2}}\\ \\mathrm{s^{-1}}$ | Maximum rate of triose phosphate utilization |\n",
    "| $V_{c\\!\\max}$ | $\\mathrm{\\mu mol_{CO_2}}\\ \\mathrm{m^{-2}}\\ \\mathrm{s^{-1}}$ | Maximum rate of Rubisco carboxylation |"
   ]
  },
  {
   "cell_type": "markdown",
   "metadata": {},
   "source": [
    "| Symbol | Value | Units | Description |\n",
    "|:-------|:------|:------|:------------|\n",
    "$E_{ac}$ | 79.43 | $\\mathrm{kJ}\\ \\mathrm{mol^{-1}}$ | Activation energy for $K_c$ |\n",
    "$E_{ag}$ | 37.83 | $\\mathrm{kJ}\\ \\mathrm{mol^{-1}}$ | Activation energy for $\\Gamma$ |\n",
    "$E_{aj}$ | 23.9976 | $\\mathrm{kJ}\\ \\mathrm{mol^{-1}}$ | Activation energy for $J_{\\max}$ |\n",
    "$E_{ao}$ | 36.38 | $\\mathrm{kJ}\\ \\mathrm{mol^{-1}}$ | Activation energy for $K_o$ |\n",
    "$E_{ar}$ | 49.39 | $\\mathrm{kJ}\\ \\mathrm{mol^{-1}}$ | Activation energy for $R_d$ |\n",
    "$E_{aVc}$ | 52.1573 | $\\mathrm{kJ}\\ \\mathrm{mol^{-1}}$ | Activation energy for $V_{c\\!\\max}$ |\n",
    "$E_{aTp}$ | 47.10 | $\\mathrm{kJ}\\ \\mathrm{mol^{-1}}$ | Activation energy for $T_p$ |\n",
    "$\\Gamma_{25}$ | 42.75 | $\\mathrm{\\mu bar}$ | $\\mathrm{CO_2}$ compensation point at 25 $\\mathrm{^{\\circ}C}$ |\n",
    "$H_j$ | 200 | $\\mathrm{kJ}\\ \\mathrm{mol^{-1}}$ | Curvature parameter for $J_{\\max}$ |\n",
    "$J_{\\max_{25}}$ | 169 | $$\\mathrm{mol_{electron}}\\ \\mathrm{m^{-2}}\\ \\mathrm{s^{-1}}\\ \\mathrm{bar^{-1}}$$ | Maximum rate of electron transport at 25 $\\mathrm{^{\\circ}C}$ |\n",
    "$K_{c_{25}}$ | 404.9 | $\\mathrm{\\mu bar}$ | Michaelis-Menton constant of Rubisco for $\\mathrm{CO_2}$ at 25 $\\mathrm{^{\\circ}C}$ |\n",
    "$K_{o_{25}}$ | 278.4 | $\\mathrm{mbar}$ | Michaelis-Menton constant of Rubisco for $\\mathrm{O_2}$ at 25 $\\mathrm{^{\\circ}C}$ |\n",
    "$O_m$ | 210 | $\\mathrm{mbar}$ | Mesophyll $\\mathrm{O_2}$ partial pressure |\n",
    "$R_{d_{25}}$ | 1.08 | $\\mathrm{\\mu mol_{CO_2}}\\ \\mathrm{m^{-2}}\\ \\mathrm{s^{-1}}$ | Mitochondrial respiration rate at 25 $\\mathrm{^{\\circ}C}$ |\n",
    "$S_j$ | 616.4 | $\\mathrm{J}\\ \\mathrm{mol^{-1}}\\ \\mathrm{K}$ | Entropy factor for $J_{\\max}$ |\n",
    "$\\theta$ | 0.7 | - | Sharpness of transition between light limitation and saturation |\n",
    "$T_b$ | 25 | $\\mathrm{^{\\circ}C}$ | Base temperature in Celsius |\n",
    "$T_{b_k}$ | 298.15 | $\\mathrm{K}$ | Base temperature in Kelvin |\n",
    "$T_{p_{25}}$ | 16.03 | $\\mathrm{\\mu mol_{CO_2}}\\ \\mathrm{m^{-2}}\\ \\mathrm{s^{-1}}$ | Triose phosphate utilization rate at 25 $\\mathrm{^{\\circ}C}$ |\n",
    "$V_{c\\!\\max_{25}}$ | 108.4 | $\\mathrm{\\mu mol_{CO_2}}\\ \\mathrm{m^{-2}}\\ \\mathrm{s^{-1}}$ | Maximum rate of Rubisco carboxylation at 25 $\\mathrm{^{\\circ}C}$ |"
   ]
  },
  {
   "cell_type": "code",
   "execution_count": null,
   "metadata": {},
   "outputs": [],
   "source": [
    "@system C3Base(CBase)"
   ]
  },
  {
   "cell_type": "code",
   "execution_count": null,
   "metadata": {},
   "outputs": [],
   "source": [
    "@system C3c(C3Base) begin\n",
    "    Kc25: rubisco_constant_for_co2_at_25 => 404.9 ~ preserve(parameter, u\"μbar\")\n",
    "    Eac:  activation_energy_for_co2      => 79.43 ~ preserve(u\"kJ/mol\")\n",
    "    Kc(Kc25, kT, Eac): rubisco_constant_for_co2 => begin\n",
    "        Kc25 * kT(Eac)\n",
    "    end ~ track(u\"μbar\")\n",
    "\n",
    "    Ko25: rubisco_constant_for_o2_at_25 => 278.4 ~ preserve(parameter, u\"mbar\")\n",
    "    Eao:  activation_energy_for_o2      => 36.38 ~ preserve(parameter, u\"kJ/mol\")\n",
    "    Ko(Ko25, kT, Eao): rubisco_constant_for_o2 => begin\n",
    "        Ko25 * kT(Eao)\n",
    "    end ~ track(u\"mbar\")\n",
    "\n",
    "    Om: mesophyll_o2_partial_pressure => 210 ~ preserve(parameter, u\"mbar\")\n",
    "    Km(Kc, Om, Ko): rubisco_constant_for_co2_with_o2 => begin\n",
    "        Kc * (1 + Om / Ko)\n",
    "    end ~ track(u\"μbar\")\n",
    "\n",
    "    Vcm25: maximum_carboxylation_rate_at_25    => 108.4   ~ preserve(parameter, u\"μmol/m^2/s\")\n",
    "    EaVc:  activation_energy_for_carboxylation => 52.1573 ~ preserve(parameter, u\"kJ/mol\")\n",
    "    Vcmax(Vcm25, kT, EaVc, kN): maximum_carboxylation_rate => begin\n",
    "        Vcm25 * kT(EaVc) * kN\n",
    "    end ~ track(u\"μmol/m^2/s\")\n",
    "end"
   ]
  },
  {
   "cell_type": "markdown",
   "metadata": {},
   "source": [
    "$$\n",
    "J = \\min\\!h \\{ I_2, J_{\\max}, \\theta \\}\n",
    "$$"
   ]
  },
  {
   "cell_type": "code",
   "execution_count": null,
   "metadata": {},
   "outputs": [],
   "source": [
    "@system C3j(C3Base) begin\n",
    "    Jm25: maximum_electron_transport_rate_at_25    => 169.0   ~ preserve(parameter, u\"μmol/m^2/s\")\n",
    "    Eaj:  activation_energy_for_electron_transport => 23.9976 ~ preserve(parameter, u\"kJ/mol\")\n",
    "    Sj:   electron_transport_temperature_response  => 616.4   ~ preserve(parameter, u\"J/mol/K\")\n",
    "    Hj:   electron_transport_curvature             => 200     ~ preserve(parameter, u\"kJ/mol\")\n",
    "    Jmax(Jm25, kTpeak, Eaj, Sj, Hj, kN): maximum_electron_transport_rate => begin\n",
    "        Jm25 * kTpeak(Eaj, Sj, Hj) * kN\n",
    "    end ~ track(u\"μmol/m^2/s\")\n",
    "\n",
    "    θ: light_transition_sharpness => 0.7 ~ preserve(parameter)\n",
    "    J(I2, Jmax, θ): electron_transport_rate => begin\n",
    "        θ*J^2 - (I2+Jmax)*J + I2*Jmax ⩵ 0\n",
    "    end ~ solve(lower = 0, upper = Jmax, u\"μmol/m^2/s\")\n",
    "end"
   ]
  },
  {
   "cell_type": "code",
   "execution_count": null,
   "metadata": {},
   "outputs": [],
   "source": [
    "@system C3p(C3Base) begin\n",
    "    Tp25: triose_phosphate_limitation_at_25 => 16.03 ~ preserve(parameter, u\"μmol/m^2/s\")\n",
    "    Eap: activation_energy_for_Tp           => 47.10 ~ preserve(parameter, u\"kJ/mol\")\n",
    "    Tp(Tp25, kT, Eap, kN): triose_phosphate_utilization => begin\n",
    "        Tp25 * kT(Eap) * kN\n",
    "    end ~ track(u\"μmol/m^2/s\")\n",
    "end"
   ]
  },
  {
   "cell_type": "code",
   "execution_count": null,
   "metadata": {},
   "outputs": [],
   "source": [
    "@system C3r(C3Base) begin\n",
    "    Rd25: dark_respiration_at_25            => 1.08  ~ preserve(parameter, u\"μmol/m^2/s\")\n",
    "    Ear:  activation_energy_for_respiration => 49.39 ~ preserve(parameter, u\"kJ/mol\")\n",
    "    Rd(Rd25, kT, Ear): dark_respiration => begin\n",
    "        Rd25 * kT(Ear)\n",
    "    end ~ track(u\"μmol/m^2/s\")\n",
    "\n",
    "    Γ25: co2_compensation_point_at_25                 => 42.75 ~ preserve(parameter, u\"μbar\")\n",
    "    Eag: activation_energy_for_co2_compensation_point => 37.83 ~ preserve(parameter, u\"kJ/mol\")\n",
    "    Γ(Γ25, kT, Eag): co2_compensation_point => begin\n",
    "        Γ25 * kT(Eag)\n",
    "    end ~ track(u\"μbar\")\n",
    "end"
   ]
  },
  {
   "cell_type": "markdown",
   "metadata": {},
   "source": [
    "$$\n",
    "A_n = \\min \\{ A_c, A_j, A_p \\}\n",
    "$$"
   ]
  },
  {
   "cell_type": "markdown",
   "metadata": {},
   "source": [
    "$$\n",
    "A_c = V_{c\\!\\max} \\frac{C_i - \\Gamma}{C_i + K_c \\cdot (1 + \\frac{O_m}{K_o})} - R_d\n",
    "$$"
   ]
  },
  {
   "cell_type": "markdown",
   "metadata": {},
   "source": [
    "$$\n",
    "A_j = \\frac{J \\cdot (C_i - \\Gamma)}{4 (C_i + 2 \\Gamma)} - R_d\n",
    "$$"
   ]
  },
  {
   "cell_type": "markdown",
   "metadata": {},
   "source": [
    "$$\n",
    "A_p = 3T_p - R_d\n",
    "$$"
   ]
  },
  {
   "cell_type": "code",
   "execution_count": null,
   "metadata": {},
   "outputs": [],
   "source": [
    "@system C3Rate(C3c, C3j, C3p, C3r) begin\n",
    "    Ac(Vcmax, Ci, Γ, Km, Rd): enzyme_limited_photosynthesis_rate => begin\n",
    "        Vcmax * (Ci - Γ) / (Ci + Km) - Rd\n",
    "    end ~ track(u\"μmol/m^2/s\")\n",
    "\n",
    "    Aj(J, Ci, Γ, Rd): transport_limited_photosynthesis_rate => begin\n",
    "        J * (Ci - Γ) / 4(Ci + 2Γ) - Rd\n",
    "    end ~ track(u\"μmol/m^2/s\")\n",
    "\n",
    "    Ap(Tp, Rd): triose_phosphate_limited_photosynthesis_rate => begin\n",
    "        3Tp - Rd\n",
    "    end ~ track(u\"μmol/m^2/s\")\n",
    "\n",
    "    A_net(Ac, Aj, Ap): net_photosynthesis => begin\n",
    "        min(Ac, Aj, Ap)\n",
    "    end ~ track(u\"μmol/m^2/s\")\n",
    "\n",
    "    A_gross(A_net, Rd): gross_photosynthesis => begin\n",
    "        A_net + Rd\n",
    "    end ~ track(u\"μmol/m^2/s\")\n",
    "end"
   ]
  },
  {
   "cell_type": "code",
   "execution_count": null,
   "metadata": {},
   "outputs": [],
   "source": [
    "@system C3(C3Rate)"
   ]
  },
  {
   "cell_type": "markdown",
   "metadata": {},
   "source": [
    "Let's examine how the following individual components of a coupled gas-exchange model are implemented in Cropbox: 1) FvCB model for C3 photosynthesis."
   ]
  },
  {
   "cell_type": "code",
   "execution_count": null,
   "metadata": {},
   "outputs": [],
   "source": [
    "@system C3Controller(C3, Controller) begin\n",
    "    T:  leaf_temperature     => 25  ~ preserve(parameter, u\"°C\")\n",
    "    Ci: intercellular_co2    => 300 ~ preserve(parameter, u\"μbar\")\n",
    "    I2: effective_irradiance => 600 ~ preserve(parameter, u\"μmol/m^2/s\")\n",
    "end"
   ]
  },
  {
   "cell_type": "code",
   "execution_count": null,
   "metadata": {},
   "outputs": [],
   "source": [
    "Cropbox.hierarchy(C3Controller)"
   ]
  },
  {
   "cell_type": "code",
   "execution_count": null,
   "metadata": {},
   "outputs": [],
   "source": [
    "Cropbox.dependency(C3Controller)"
   ]
  },
  {
   "cell_type": "code",
   "execution_count": null,
   "metadata": {},
   "outputs": [],
   "source": [
    "visualize(C3Controller, :Ci, [:A_net, :Ac, :Aj, :Ap];\n",
    "    xstep = :0 => :Ci => 0:1000,\n",
    "    ylim = (0,50),\n",
    "    kind = :line,\n",
    ")"
   ]
  },
  {
   "cell_type": "code",
   "execution_count": null,
   "metadata": {},
   "outputs": [],
   "source": [
    "visualize(C3Controller, :I2, [:A_net, :Ac, :Aj, :Ap];\n",
    "    xstep = :0 => :I2 => 0:2000,\n",
    "    ylim = (0,50),\n",
    "    kind = :line,\n",
    ")"
   ]
  },
  {
   "cell_type": "code",
   "execution_count": null,
   "metadata": {},
   "outputs": [],
   "source": [
    "visualize(C3Controller, :T, [:A_net, :Ac, :Aj, :Ap];\n",
    "    xstep = :0 => :T => 0:45,\n",
    "    ylim = (0,50),\n",
    "    kind = :line,\n",
    ")"
   ]
  },
  {
   "cell_type": "markdown",
   "metadata": {},
   "source": [
    "#### C4"
   ]
  },
  {
   "cell_type": "markdown",
   "metadata": {},
   "source": [
    "| Symbol | Units | Description |\n",
    "|:-------|:------|:------------|\n",
    "| $A_c$ | $\\mathrm{\\mu mol_{CO_2}}\\ \\mathrm{m^{-2}}\\ \\mathrm{s^{-1}}$ | Rubisco-limited $\\mathrm{CO_2}$ assimilation rate |\n",
    "| $A_j$ | $\\mathrm{\\mu mol_{CO_2}}\\ \\mathrm{m^{-2}}\\ \\mathrm{s^{-1}}$ | Electron transport-limited $\\mathrm{CO_2}$ assimilation rate |\n",
    "| $A_n$ | $\\mathrm{\\mu mol_{CO_2}}\\ \\mathrm{m^{-2}}\\ \\mathrm{s^{-1}}$ | Net photosynthesis rate |\n",
    "| $C_a$ | $\\mathrm{\\mu bar}$ | Atmospheric $\\mathrm{CO_2}$ partial pressure |\n",
    "| $C_i$ | $\\mathrm{\\mu bar}$ | Intercellular $\\mathrm{CO_2}$ partial pressure |\n",
    "| $C_m$ | $\\mathrm{\\mu bar}$ | Mesophyll $\\mathrm{CO_2}$ partial pressure |\n",
    "| $J$ | $$\\mathrm{\\mu mol_{electron}}\\ \\mathrm{m^{-2}}\\ \\mathrm{s^{-1}}$$ | Electron transport rate |\n",
    "| $J_{\\max}$ | $\\mathrm{\\mu mol_{electron}}\\ \\mathrm{m^{-2}}\\ \\mathrm{s^{-1}}$ | Maximum rate of electron transport |\n",
    "| $K_c$ | $\\mathrm{\\mu bar}$ | Michaelis-Menton constant of Rubisco for $\\mathrm{CO_2}$ |\n",
    "| $K_p$ | $\\mathrm{\\mu bar}$ | Michaelis-Menton constant of PEPC for $\\mathrm{CO_2}$ |\n",
    "| $P_a$ | $\\mathrm{kPa}$ | Atmospheric pressure |\n",
    "| $R_d$ | $\\mathrm{\\mu mol_{CO_2}}\\ \\mathrm{m^{-2}}\\ \\mathrm{s^{-1}}$ | Mitochondrial respiration rate |\n",
    "| $r_{v_c}$ | $\\mathrm{m^2}\\ \\mathrm{s}\\ \\mathrm{mol^{-1}_{CO_2}}\\ \\mathrm{bar}$ | Total leaf resistance to $\\mathrm{CO_2}$ |\n",
    "| $V_p$ | $\\mathrm{\\mu mol_{CO_2}}\\ \\mathrm{m^{-2}}\\ \\mathrm{s^{-1}}$ | $\\mathrm{C_4}$ carboxylation rate |\n",
    "| $V_{pr}$ | $\\mathrm{\\mu mol_{CO_2}}\\ \\mathrm{m^{-2}}\\ \\mathrm{s^{-1}}$ | PEP regeneration rate |\n",
    "| $V_{c\\!\\max}$ | $\\mathrm{\\mu mol_{CO_2}}\\ \\mathrm{m^{-2}}\\ \\mathrm{s^{-1}}$ | Maximum rate of Rubisco carboxylation |\n",
    "| $V_{p\\!\\max}$ | $\\mathrm{\\mu mol_{CO_2}}\\ \\mathrm{m^{-2}}\\ \\mathrm{s^{-1}}$ | Maximum rate of $\\mathrm{C_4}$ carboxylation |"
   ]
  },
  {
   "cell_type": "markdown",
   "metadata": {},
   "source": [
    "| Symbol | Value | Units | Description |\n",
    "|:-------|:------|:------|:------------|\n",
    "$\\beta$ | 0.99 | - | Sharpness of transition between $A_c$ and $A_j$ |\n",
    "$E_{ac}$ | 55.9 | $\\mathrm{kJ}\\ \\mathrm{mol^{-1}}$ | Activation energy for $V_{c\\!\\max}$ |\n",
    "$E_{aj}$ | 32.8 | $\\mathrm{kJ}\\ \\mathrm{mol^{-1}}$ | Activation energy for $J_{\\max}$ |\n",
    "$E_{ap}$ | 75.1 | $\\mathrm{kJ}\\ \\mathrm{mol^{-1}}$ | Activation energy for $V_{p\\!\\max}$ |\n",
    "$E_{ar}$ | 39.8 | $\\mathrm{kJ}\\ \\mathrm{mol^{-1}}$ | Activation energy for $R_d$ |\n",
    "$g_{bs}$ | 0.003 | $\\mathrm{mol_{CO_2}}\\ \\mathrm{m^{-2}}\\ \\mathrm{s^{-1}}\\ \\mathrm{bar^{-1}}$ | Bundle-sheath conductance to $\\mathrm{CO_2}$ |\n",
    "$H_j$ | 220 | $\\mathrm{kJ}\\ \\mathrm{mol^{-1}}$ | Curvature parameter for $J_{\\max}$ |\n",
    "$J_{\\max_{25}}$ | 300 | $$\\mathrm{mol_{electron}}\\ \\mathrm{m^{-2}}\\ \\mathrm{s^{-1}}\\ \\mathrm{bar^{-1}}$$ | Maximum rate of electron transport at 25 $\\mathrm{^{\\circ}C}$ |\n",
    "$K_{c_{25}}$ | 650 | $\\mathrm{\\mu bar}$ | Michaelis-Menton constant of Rubisco for $\\mathrm{CO_2}$ at 25 $\\mathrm{^{\\circ}C}$ |\n",
    "$K_{p_{25}}$ | 80 | $\\mathrm{\\mu bar}$ | Michaelis-Menton constant of PEPC for $\\mathrm{CO_2}$ at 25 $\\mathrm{^{\\circ}C}$ |\n",
    "$R_{d_{25}}$ | 2 | $\\mathrm{\\mu mol_{CO_2}}\\ \\mathrm{m^{-2}}\\ \\mathrm{s^{-1}}$ | Mitochondrial respiration rate at 25 $\\mathrm{^{\\circ}C}$ |\n",
    "$S_j$ | 702.6 | $\\mathrm{J}\\ \\mathrm{mol^{-1}}\\ \\mathrm{K}$ | Entropy factor for $J_{\\max}$ |\n",
    "$\\theta$ | 0.5 | - | Sharpness of transition between light limitation and saturation |\n",
    "$T_b$ | 25 | $\\mathrm{^{\\circ}C}$ | Base temperature in Celsius |\n",
    "$T_{b_k}$ | 298.15 | $\\mathrm{K}$ | Base temperature in Kelvin |\n",
    "$V_{c\\!\\max_{25}}$ | 50 | $\\mathrm{\\mu mol_{CO_2}}\\ \\mathrm{m^{-2}}\\ \\mathrm{s^{-1}}$ | Maximum rate of Rubisco carboxylation at 25 $\\mathrm{^{\\circ}C}$ |\n",
    "$V_{p\\!\\max_{25}}$ | 70 | $\\mathrm{\\mu mol_{CO_2}}\\ \\mathrm{m^{-2}}\\ \\mathrm{s^{-1}}$ | Maximum rate of PEP carboxylation at 25 $\\mathrm{^{\\circ}C}$ |\n",
    "$V_{pr_{25}}$ | 80 | $\\mathrm{\\mu mol_{CO_2}}\\ \\mathrm{m^{-2}}\\ \\mathrm{s^{-1}}$ | PEP regeneration rate at 25 $\\mathrm{^{\\circ}C}$ |\n",
    "$x$ | 0.4 | - | Partitioning factor of electron transport rate |"
   ]
  },
  {
   "cell_type": "code",
   "execution_count": null,
   "metadata": {},
   "outputs": [],
   "source": [
    "@system C4Base(CBase) begin\n",
    "    Cm(Ci): mesophyll_co2                      ~ track(u\"μbar\")\n",
    "    gbs:    bundle_sheath_conductance => 0.003 ~ preserve(parameter, u\"mol/m^2/s/bar\")\n",
    "end"
   ]
  },
  {
   "cell_type": "markdown",
   "metadata": {},
   "source": [
    "$$\n",
    "V_p = \\min \\Bigg\\{ \\frac{C_m V_{p\\!\\max}}{C_m + K_p}, V_{pr} \\Bigg\\}\n",
    "$$"
   ]
  },
  {
   "cell_type": "code",
   "execution_count": null,
   "metadata": {},
   "outputs": [],
   "source": [
    "@system C4c(C4Base) begin\n",
    "    Kp25: pep_carboxylase_constant_for_co2_at_25 => 80 ~ preserve(parameter, u\"μbar\")\n",
    "    Kp(Kp25, kTQ10): pep_carboxylase_constant_for_co2 => begin\n",
    "        Kp25 * kTQ10\n",
    "    end ~ track(u\"μbar\")\n",
    "\n",
    "    Vpm25: maximum_pep_carboxylation_rate_for_co2_at_25 => 70   ~ preserve(parameter, u\"μmol/m^2/s\")\n",
    "    EaVp:  activation_energy_for_pep_carboxylation      => 75.1 ~ preserve(parameter, u\"kJ/mol\")\n",
    "    Vpmax(Vpm25, kT, EaVp, kN): maximum_pep_carboxylation_rate => begin\n",
    "        Vpm25 * kT(EaVp) * kN\n",
    "    end ~ track(u\"μmol/m^2/s\")\n",
    "\n",
    "    Vpr25: regeneration_limited_pep_carboxylation_rate_for_co2_at_25 => 80 ~ preserve(parameter, u\"μmol/m^2/s\")\n",
    "    Vpr(Vpr25, kTQ10): regeneration_limited_pep_carboxylation_rate => begin\n",
    "        Vpr25 * kTQ10\n",
    "    end ~ track(u\"μmol/m^2/s\")\n",
    "    Vp(Vpmax, Vpr, Cm, Kp): pep_carboxylation_rate => begin\n",
    "        (Cm * Vpmax) / (Cm + Kp)\n",
    "    end ~ track(u\"μmol/m^2/s\", max = Vpr)\n",
    "\n",
    "    Vcm25: maximum_carboxylation_rate_at_25    => 50   ~ preserve(parameter, u\"μmol/m^2/s\")\n",
    "    EaVc:  activation_energy_for_carboxylation => 55.9 ~ preserve(parameter, u\"kJ/mol\")\n",
    "    Vcmax(Vcm25, kT, EaVc, kN): maximum_carboxylation_rate => begin\n",
    "        Vcm25 * kT(EaVc) * kN\n",
    "    end ~ track(u\"μmol/m^2/s\")\n",
    "end"
   ]
  },
  {
   "cell_type": "markdown",
   "metadata": {},
   "source": [
    "$$\n",
    "J = \\min\\!h \\{ I_2, J_{\\max}, \\theta \\}\n",
    "$$"
   ]
  },
  {
   "cell_type": "code",
   "execution_count": null,
   "metadata": {},
   "outputs": [],
   "source": [
    "@system C4j(C4Base) begin\n",
    "    Jm25: maximum_electron_transport_rate_at_25    => 300   ~ preserve(parameter, u\"μmol/m^2/s\")\n",
    "    Eaj:  activation_energy_for_electron_transport => 32.8  ~ preserve(parameter, u\"kJ/mol\")\n",
    "    Sj:   electron_transport_temperature_response  => 702.6 ~ preserve(parameter, u\"J/mol/K\")\n",
    "    Hj:   electron_transport_curvature             => 220   ~ preserve(parameter, u\"kJ/mol\")\n",
    "    Jmax(Jm25, kTpeak, Eaj, Sj, Hj, kN): maximum_electron_transport_rate => begin\n",
    "        Jm25 * kTpeak(Eaj, Sj, Hj) * kN\n",
    "    end ~ track(u\"μmol/m^2/s\")\n",
    "\n",
    "    θ: light_transition_sharpness => 0.5 ~ preserve(parameter)\n",
    "    J(I2, Jmax, θ): electron_transport_rate => begin\n",
    "        θ*J^2 - (I2+Jmax)*J + I2*Jmax ⩵ 0\n",
    "    end ~ solve(lower = 0, upper = Jmax, u\"μmol/m^2/s\")\n",
    "end"
   ]
  },
  {
   "cell_type": "code",
   "execution_count": null,
   "metadata": {},
   "outputs": [],
   "source": [
    "@system C4r(C4Base) begin\n",
    "    Kc25: rubisco_constant_for_co2_at_25 => 650  ~ preserve(parameter, u\"μbar\")\n",
    "    Eac:  activation_energy_for_co2      => 59.4 ~ preserve(parameter, u\"kJ/mol\")\n",
    "    Kc(kT, Kc25, Eac): rubisco_constant_for_co2 => begin\n",
    "        Kc25 * kT(Eac)\n",
    "    end ~ track(u\"μbar\")\n",
    "\n",
    "    Ko25: rubisco_constant_for_o2_at_25 => 450 ~ preserve(parameter, u\"mbar\")\n",
    "    Eao:  activation_energy_for_o2      => 36  ~ preserve(parameter, u\"kJ/mol\")\n",
    "    Ko(Ko25, kT, Eao): rubisco_constant_for_o2 => begin\n",
    "        Ko25 * kT(Eao)\n",
    "    end ~ track(u\"mbar\")\n",
    "\n",
    "    Om: mesophyll_o2_partial_pressure => 210 ~ preserve(parameter, u\"mbar\")\n",
    "    Km(Kc, Om, Ko): rubisco_constant_for_co2_with_o2 => begin\n",
    "        Kc * (1 + Om / Ko)\n",
    "    end ~ track(u\"μbar\")\n",
    "\n",
    "    Rd25: dark_respiration_at_25            => 2    ~ preserve(parameter, u\"μmol/m^2/s\")\n",
    "    Ear:  activation_energy_for_respiration => 39.8 ~ preserve(parameter, u\"kJ/mol\")\n",
    "    Rd(Rd25, kT, Ear): dark_respiration => begin\n",
    "        Rd25 * kT(Ear)\n",
    "    end ~ track(u\"μmol/m^2/s\")\n",
    "    Rm(Rd) => 0.5Rd ~ track(u\"μmol/m^2/s\")\n",
    "end"
   ]
  },
  {
   "cell_type": "markdown",
   "metadata": {},
   "source": [
    "$$\n",
    "A_n = \\min\\!h \\{ A_c, A_j, \\beta \\}\n",
    "$$"
   ]
  },
  {
   "cell_type": "markdown",
   "metadata": {},
   "source": [
    "$$\n",
    "\\begin{align}\n",
    "A_c &= \\min \\{ A_{c_1}, A_{c_2} \\} \\\\\n",
    "A_{c_1} &= V_p + g_{bs} C_m - R_m \\\\\n",
    "A_{c_2} &= V_{c\\!\\max} - R_d \\\\\n",
    "\\end{align}\n",
    "$$"
   ]
  },
  {
   "cell_type": "markdown",
   "metadata": {},
   "source": [
    "$$\n",
    "\\begin{align}\n",
    "A_j &= \\min \\{ A_{j_1}, A_{j_2} \\} \\\\\n",
    "A_{j_1} &= \\frac{xJ}{2} - R_m + g_{bs} C_m \\\\\n",
    "A_{j_2} &= \\frac{(1-x)J}{3} - R_d \\\\\n",
    "\\end{align}\n",
    "$$"
   ]
  },
  {
   "cell_type": "code",
   "execution_count": null,
   "metadata": {},
   "outputs": [],
   "source": [
    "@system C4Rate(C4c, C4j, C4r) begin\n",
    "    Ac1(Vp, gbs, Cm, Rm) => (Vp + gbs*Cm - Rm) ~ track(u\"μmol/m^2/s\")\n",
    "    Ac2(Vcmax, Rd)       => (Vcmax - Rd)       ~ track(u\"μmol/m^2/s\")\n",
    "    Ac(Ac1, Ac2): enzyme_limited_photosynthesis_rate => begin\n",
    "        min(Ac1, Ac2)\n",
    "    end ~ track(u\"μmol/m^2/s\")\n",
    "\n",
    "    x: electron_transport_partitioning_factor => 0.4 ~ preserve(parameter)\n",
    "    Aj1(x, J, Rm, gbs, Cm) => (x * J/2 + gbs*Cm - Rm) ~ track(u\"μmol/m^2/s\")\n",
    "    Aj2(x, J, Rd)          => (1-x) * J/3 - Rd        ~ track(u\"μmol/m^2/s\")\n",
    "    Aj(Aj1, Aj2): transport_limited_photosynthesis_rate => begin\n",
    "        min(Aj1, Aj2)\n",
    "    end ~ track(u\"μmol/m^2/s\")\n",
    "\n",
    "    β: photosynthesis_transition_factor => 0.99 ~ preserve(parameter)\n",
    "    A_net(Ac, Aj, β): net_photosynthesis => begin\n",
    "        x = A_net\n",
    "        a = β\n",
    "        b = -(Ac+Aj)\n",
    "        c = Ac*Aj\n",
    "        a*x^2 + b*x + c ⩵ 0\n",
    "    end ~ solve(pick = :minimum, u\"μmol/m^2/s\")\n",
    "\n",
    "    A_gross(A_net, Rd): gross_photosynthesis => begin\n",
    "        A_gross = A_net + Rd\n",
    "    end ~ track(u\"μmol/m^2/s\")\n",
    "end"
   ]
  },
  {
   "cell_type": "code",
   "execution_count": null,
   "metadata": {},
   "outputs": [],
   "source": [
    "@system C4(C4Rate)"
   ]
  },
  {
   "cell_type": "markdown",
   "metadata": {},
   "source": [
    "Let's examine how the biochemical model of C4 photosynthesis by von Caemmerer is implemented in Cropbox."
   ]
  },
  {
   "cell_type": "code",
   "execution_count": null,
   "metadata": {},
   "outputs": [],
   "source": [
    "@system C4Controller(C4, Controller) begin\n",
    "    T: leaf_temperature      => 25  ~ preserve(parameter, u\"°C\")\n",
    "    Ci: intercellular_co2    => 300 ~ preserve(parameter, u\"μbar\")\n",
    "    I2: effective_irradiance => 600 ~ preserve(parameter, u\"μmol/m^2/s\")\n",
    "end"
   ]
  },
  {
   "cell_type": "code",
   "execution_count": null,
   "metadata": {},
   "outputs": [],
   "source": [
    "Cropbox.hierarchy(C4Controller)"
   ]
  },
  {
   "cell_type": "code",
   "execution_count": null,
   "metadata": {},
   "outputs": [],
   "source": [
    "Cropbox.dependency(C4Controller)"
   ]
  },
  {
   "cell_type": "code",
   "execution_count": null,
   "metadata": {},
   "outputs": [],
   "source": [
    "visualize(C4Controller, :Ci, [:A_net, :Ac, :Aj];\n",
    "    xstep = :0 => :Ci => 0:1000,\n",
    "    ylim = (0,60),\n",
    "    kind = :line,\n",
    ")"
   ]
  },
  {
   "cell_type": "code",
   "execution_count": null,
   "metadata": {},
   "outputs": [],
   "source": [
    "visualize(C4Controller, :I2, [:A_net, :Ac, :Aj];\n",
    "    xstep = :0 => :I2 => 0:2000,\n",
    "    ylim = (0,60),\n",
    "    kind = :line,\n",
    ")"
   ]
  },
  {
   "cell_type": "code",
   "execution_count": null,
   "metadata": {},
   "outputs": [],
   "source": [
    "visualize(C4Controller, :T, [:A_net, :Ac, :Aj];\n",
    "    xstep = :0 => :T => 0:45,\n",
    "    ylim = (0,60),\n",
    "    kind = :line,\n",
    ")"
   ]
  },
  {
   "cell_type": "markdown",
   "metadata": {},
   "source": [
    "### Interface"
   ]
  },
  {
   "cell_type": "markdown",
   "metadata": {},
   "source": [
    "#### Boundary Layer"
   ]
  },
  {
   "cell_type": "markdown",
   "metadata": {},
   "source": [
    "$$\n",
    "\\begin{align}\n",
    "g_H &= \\frac{\\mathcal{D}_h \\cdot \\mathtt{Nu}}{d} \\\\\n",
    "\\mathtt{Nu} &= 0.60 \\sqrt{\\mathtt{Re}} \\\\\n",
    "\\mathtt{Re} &= \\frac{u \\cdot d}{\\mathcal{D}_m} \\\\\n",
    "d &= 0.72 w \\label{eq:g_H:d} \\\\\n",
    "g_h &= g_H \\cdot \\frac{P_a}{R \\cdot T_{a_k}} \\\\\n",
    "g_b &= \\frac{g_h}{P_a} \\cdot {\\left( \\frac{\\mathcal{D}_w}{\\mathcal{D}_h} \\right)}^{\\!\\frac{2}{3}} \\\\\n",
    "\\end{align}\n",
    "$$"
   ]
  },
  {
   "cell_type": "markdown",
   "metadata": {},
   "source": [
    "| Symbol | Units | Description |\n",
    "|:-------|:------|:------------|\n",
    "$d$ | $\\mathrm{m}$ | Leaf characteristic dimension |\n",
    "$g_b$ | $$\\mathrm{mol_{H_2O}}\\ \\mathrm{m^{-2}}\\ \\mathrm{s^{-1}}\\ \\mathrm{bar^{-1}}$$ | Boundary layer conductance to water vapor |\n",
    "$g_h$ | $\\mathrm{mmol}\\ \\mathrm{m^{-2}}\\ \\mathrm{s^{-1}}$ | Leaf convective heat conductance in molar flux |\n",
    "$g_H$ | $\\mathrm{m}\\ \\mathrm{s^{-1}}$ | Leaf convective heat conductance |\n",
    "$r_{b_c}$ | $\\mathrm{m^2}\\ \\mathrm{s}\\ \\mathrm{mol^{-1}_{CO_2}}\\ \\mathrm{bar}$ | Boundary layer resistance to $\\mathrm{CO_2}$ |\n",
    "$u$ | $\\mathrm{m}\\ \\mathrm{s^{-1}}$ | Wind speed |"
   ]
  },
  {
   "cell_type": "code",
   "execution_count": null,
   "metadata": {},
   "outputs": [],
   "source": [
    "@system BoundaryLayer(Weather, Diffusion) begin\n",
    "    w: leaf_width => 10 ~ preserve(u\"cm\", parameter)\n",
    "\n",
    "    sr:      stomatal_ratio            => 1.0                       ~ preserve(parameter)\n",
    "    scr(sr): sides_conductance_ratio   => ((sr + 1)^2 / (sr^2 + 1)) ~ preserve\n",
    "    ocr:     outdoor_conductance_ratio => 1.4                       ~ preserve\n",
    "\n",
    "    u(u = wind): wind_velocity                         ~ track(min = 0.1, u\"m/s\")\n",
    "    d(w):        characteristic_dimension   => 0.72w   ~ track(u\"m\")\n",
    "    v(Dm):       kinematic_viscosity_of_air            ~ preserve(u\"m^2/s\")\n",
    "    κ(Dh):       thermal_diffusivity_of_air            ~ preserve(u\"m^2/s\")\n",
    "    Re(u, d, v): reynolds_number            => u*d/v   ~ track\n",
    "    Nu(Re):      nusselt_number             => 0.60*√Re ~ track\n",
    "    gh(κ, Nu, d, scr, ocr, P_air, Tk_air): boundary_layer_heat_conductance => begin\n",
    "        g = κ * Nu / d\n",
    "        g *= scr * ocr\n",
    "        g * P_air / (u\"R\" * Tk_air)\n",
    "    end ~ track(u\"mmol/m^2/s\")\n",
    "\n",
    "    rhw(Dw, Dh):        ratio_from_heat_to_water_vapor => (Dw / Dh)^(2/3)  ~ preserve\n",
    "    gb(rhw, gh, P_air): boundary_layer_conductance     => rhw * gh / P_air ~ track(u\"mol/m^2/s/bar\")\n",
    "end"
   ]
  },
  {
   "cell_type": "markdown",
   "metadata": {},
   "source": [
    "#### Stomata"
   ]
  },
  {
   "cell_type": "markdown",
   "metadata": {},
   "source": [
    "| Symbol | Units | Description |\n",
    "|:-------|:------|:------------|\n",
    "$D_s$ | $\\mathrm{kPa}$ | Vapor pressure deficit at the leaf surface |\n",
    "$f_{\\Psi_v}$ | - | Water stress factor |\n",
    "$g_s$ | $$\\mathrm{mol_{H_2O}}\\ \\mathrm{m^{-2}}\\ \\mathrm{s^{-1}}\\ \\mathrm{bar^{-1}}$$ | Stomatal conductance to water vapor |\n",
    "$g_{s_\\textrm{BB}}$ | $\\mathrm{mol_{H_2O}}\\ \\mathrm{m^{-2}}\\ \\mathrm{s^{-1}}\\ \\mathrm{bar^{-1}}$ | Stomatal conductance to water vapor from Ball--Berry model |\n",
    "$g_{s_\\textrm{MED}}$ | $\\mathrm{mol_{H_2O}}\\ \\mathrm{m^{-2}}\\ \\mathrm{s^{-1}}\\ \\mathrm{bar^{-1}}$ | Stomatal conductance to water vapor from Medlyn model |\n",
    "$\\mathrm{RH}$ | $\\mathrm{\\%}$ | Relative humidity of the air (0-100) |\n",
    "$h_a$ | - | Relative humidity of the air (0-1) |\n",
    "$h_s$ | - | Relative humidity at the leaf surface (0-1) |\n",
    "$w_a$ | $\\mathrm{kPa}$ | Water vapor pressure in the air |\n",
    "$w_i$ | $\\mathrm{kPa}$ | Water vapor pressure in the intercellular space |\n",
    "$w_s$ | $\\mathrm{kPa}$ | Water vapor pressure at the leaf surface |\n",
    "$\\Psi_v$ | $\\mathrm{MPa}$ | Bulk leaf water potential |\n",
    "$r_{s_c}$ | $\\mathrm{m^2}\\ \\mathrm{s}\\ \\mathrm{mol^{-1}_{CO_2}}\\ \\mathrm{bar}$ | Stomatal resistance to $\\mathrm{CO_2}$ |"
   ]
  },
  {
   "cell_type": "markdown",
   "metadata": {},
   "source": [
    "| Symbol | Value | Units | Description |\n",
    "|:-------|:------|:------|:------------|\n",
    "$\\Psi_f$ | -2.0 | $\\mathrm{MPa}$ | Reference water potential |\n",
    "$s_f$ | 2.3 | $\\mathrm{MPa}$ | Sensitivity of water response |"
   ]
  },
  {
   "cell_type": "markdown",
   "metadata": {},
   "source": [
    "$$\n",
    "C_s = C_a - A_n r_{b_c}\n",
    "$$"
   ]
  },
  {
   "cell_type": "code",
   "execution_count": null,
   "metadata": {},
   "outputs": [],
   "source": [
    "@system StomataBase(Weather, Diffusion) begin\n",
    "    gs:    stomatal_conductance       ~ hold\n",
    "    gb:    boundary_layer_conductance ~ hold\n",
    "    A_net: net_photosynthesis         ~ hold\n",
    "    T:     leaf_temperature           ~ hold\n",
    "\n",
    "    drb(Dw, Dc):        diffusivity_ratio_boundary_layer => (Dw / Dc)^(2/3)       ~ preserve\n",
    "    dra(Dw, Dc):        diffusivity_ratio_air            => (Dw / Dc)             ~ preserve\n",
    "\n",
    "    Ca(CO2, P_air):     co2_air                          => (CO2 * P_air)         ~ track(u\"μbar\")\n",
    "    Cs(Ca, A_net, gbc): co2_at_leaf_surface              => (Ca - A_net / gbc)    ~ track(u\"μbar\")\n",
    "\n",
    "    gv(gs, gb):         total_conductance_h2o            => (gs * gb / (gs + gb)) ~ track(u\"mol/m^2/s/bar\")\n",
    "\n",
    "    rbc(gb, drb):       boundary_layer_resistance_co2    => (drb / gb)            ~ track(u\"m^2*s/mol*bar\")\n",
    "    rsc(gs, dra):       stomatal_resistance_co2          => (dra / gs)            ~ track(u\"m^2*s/mol*bar\")\n",
    "    rvc(rbc, rsc):      total_resistance_co2             => (rbc + rsc)           ~ track(u\"m^2*s/mol*bar\")\n",
    "\n",
    "    gbc(rbc):           boundary_layer_conductance_co2   => (1 / rbc)             ~ track(u\"mol/m^2/s/bar\")\n",
    "    gsc(rsc):           stomatal_conductance_co2         => (1 / rsc)             ~ track(u\"mol/m^2/s/bar\")\n",
    "    gvc(rvc):           total_conductance_co2            => (1 / rvc)             ~ track(u\"mol/m^2/s/bar\")\n",
    "end"
   ]
  },
  {
   "cell_type": "markdown",
   "metadata": {},
   "source": [
    "$$\n",
    "f_{\\Psi_v} = \\frac{1 + \\exp\\!\\left[ s_f \\Psi_f \\right]}{1 + \\exp\\!\\left[ s_f (\\Psi_f - \\Psi_v) \\right]}\n",
    "$$"
   ]
  },
  {
   "cell_type": "code",
   "execution_count": null,
   "metadata": {},
   "outputs": [],
   "source": [
    "@system StomataTuzet begin\n",
    "    Ψv: leaf_water_potential           => 0    ~ preserve(parameter, u\"MPa\")\n",
    "    Ψf: reference_leaf_water_potential => -1.2 ~ preserve(parameter, u\"MPa\")\n",
    "    sf: stomata_sensitivity_param      => 2.3  ~ preserve(parameter, u\"MPa^-1\")\n",
    "    fΨv(Ψv, Ψf, sf): stomata_sensitivty => begin\n",
    "        (1 + exp(sf*Ψf)) / (1 + exp(sf*(Ψf-Ψv)))\n",
    "    end ~ track\n",
    "end"
   ]
  },
  {
   "cell_type": "markdown",
   "metadata": {},
   "source": [
    "##### Ball-Berry Model"
   ]
  },
  {
   "cell_type": "markdown",
   "metadata": {},
   "source": [
    "$$\n",
    "g_{s_\\textrm{BB}} = g_{0_\\textrm{BB}} + g_{1_\\textrm{BB}} \\frac{h_s A_n}{C_s} f_{\\Psi_v}\n",
    "$$"
   ]
  },
  {
   "cell_type": "markdown",
   "metadata": {},
   "source": [
    "$$\n",
    "(h_s - h_a) g_b = (1 - h_s) g_{s_\\textrm{BB}}\n",
    "$$"
   ]
  },
  {
   "cell_type": "code",
   "execution_count": null,
   "metadata": {},
   "outputs": [],
   "source": [
    "@system StomataBallBerry(StomataBase, StomataTuzet) begin\n",
    "    g0 ~ preserve(parameter, u\"mol/m^2/s/bar\")\n",
    "    g1 ~ preserve(parameter)\n",
    "\n",
    "    hs(g0, g1, gb, A_net, Cs, fΨv, RH): relative_humidity_at_leaf_surface => begin\n",
    "        gs = g0 + g1*(A_net*hs/Cs) * fΨv\n",
    "        (hs - RH)*gb ⩵ (1 - hs)*gs\n",
    "    end ~ solve(lower = 0, upper = 1)\n",
    "\n",
    "    Ds(D = vp.D, T, hs): vapor_pressure_deficit_at_leaf_surface => begin\n",
    "        D(T, hs)\n",
    "    end ~ track(u\"kPa\")\n",
    "\n",
    "    gs(g0, g1, A_net, hs, Cs, fΨv): stomatal_conductance => begin\n",
    "        g0 + g1*(A_net*hs/Cs) * fΨv\n",
    "    end ~ track(min = g0, u\"mol/m^2/s/bar\")\n",
    "end"
   ]
  },
  {
   "cell_type": "markdown",
   "metadata": {},
   "source": [
    "Let's examine how the following individual components of a coupled gas-exchange model are implemented in Cropbox: 2) Ball-Berry model for stomatal conductance."
   ]
  },
  {
   "cell_type": "code",
   "execution_count": null,
   "metadata": {},
   "outputs": [],
   "source": [
    "@system StomataBallBerryController(StomataBallBerry, BoundaryLayer, Controller) begin\n",
    "    A_net: net_photosynthesis => 40 ~ preserve(parameter, u\"μmol/m^2/s\")\n",
    "    T:     leaf_temperature   => 25 ~ preserve(parameter, u\"°C\")\n",
    "\n",
    "    g0 => 0.1 ~ preserve(parameter, u\"mol/m^2/s/bar\")\n",
    "    g1 => 4.0 ~ preserve(parameter)\n",
    "end"
   ]
  },
  {
   "cell_type": "code",
   "execution_count": null,
   "metadata": {},
   "outputs": [],
   "source": [
    "Cropbox.hierarchy(StomataBallBerryController)"
   ]
  },
  {
   "cell_type": "code",
   "execution_count": null,
   "metadata": {},
   "outputs": [],
   "source": [
    "Cropbox.dependency(StomataBallBerryController)"
   ]
  },
  {
   "cell_type": "code",
   "execution_count": null,
   "metadata": {},
   "outputs": [],
   "source": [
    "visualize(StomataBallBerryController, :A_net, :gs;\n",
    "    xstep = :0 => :A_net => 0:50,\n",
    "    kind=:line\n",
    ")"
   ]
  },
  {
   "cell_type": "markdown",
   "metadata": {},
   "source": [
    "Cropbox provides `manipulate()` function for creating interactive plots. It looks like `visualize()` but requires additional range of parameter values in `parameters` argument as similar to `calibrate()` function. These parameter ranges will be automatically transformed into a set of interactive widgets like sliders that uses can *manipulate*. This feature is implemented based on [Interact.jl](https://github.com/JuliaGizmos/Interact.jl) and [WebIO.jl](https://github.com/JuliaGizmos/WebIO.jl)."
   ]
  },
  {
   "cell_type": "code",
   "execution_count": null,
   "metadata": {},
   "outputs": [],
   "source": [
    "manipulate(StomataBallBerryController, :A_net, :gs;\n",
    "    parameters = :StomataBallBerry => (;\n",
    "        g0 = 0:0.01:1,\n",
    "        g1 = 0:0.1:10,\n",
    "    ),\n",
    "    xstep = :0 => :A_net => 0:50,\n",
    "    ylim = (0,2),\n",
    "    kind = :line,\n",
    ")"
   ]
  },
  {
   "cell_type": "markdown",
   "metadata": {},
   "source": [
    "##### Medlyn Model"
   ]
  },
  {
   "cell_type": "markdown",
   "metadata": {},
   "source": [
    "$$\n",
    "g_{s_\\textrm{MED}} = g_{0_\\textrm{MED}} + \\bigg( 1 + \\frac{g_{1_\\textrm{MED}}}{\\sqrt{D_s}} \\bigg) \\frac{A_n}{C_s} f_{\\Psi_v}\n",
    "$$"
   ]
  },
  {
   "cell_type": "markdown",
   "metadata": {},
   "source": [
    "$$\n",
    "(w_s - w_a) g_b = (w_i - w_s) g_{s_\\textrm{MED}}\n",
    "$$"
   ]
  },
  {
   "cell_type": "code",
   "execution_count": null,
   "metadata": {},
   "outputs": [],
   "source": [
    "@system StomataMedlyn(StomataBase, StomataTuzet) begin\n",
    "    g0 ~ preserve(parameter, u\"mol/m^2/s/bar\")\n",
    "    g1 ~ preserve(parameter, u\"√kPa\")\n",
    "\n",
    "    wa(ea = vp.ea, T_air, RH): vapor_pressure_at_air                 => ea(T_air, RH) ~ track(u\"kPa\")\n",
    "    wi(es = vp.es, T):         vapor_pressure_at_intercellular_space => es(T)         ~ track(u\"kPa\")\n",
    "    ws(Ds, wi): vapor_pressure_at_leaf_surface                       => (wi - Ds)     ~ track(u\"kPa\")\n",
    "\n",
    "    Ds¹ᐟ²(g0, g1, gb, A_net, Cs, fΨv, wi, wa) => begin\n",
    "        gs = g0 + (1 + g1 / Ds¹ᐟ²) * (A_net / Cs) * fΨv\n",
    "        ws = wi - Ds¹ᐟ²^2\n",
    "        (ws - wa)*gb ⩵ (wi - ws)*gs\n",
    "    end ~ solve(lower = 0, upper = √wi', u\"√kPa\")\n",
    "    Ds(Ds¹ᐟ²): vapor_pressure_deficit_at_leaf_surface => Ds¹ᐟ²^2 ~ track(min = 1u\"Pa\", u\"kPa\")\n",
    "\n",
    "    hs(RH = vp.RH, T, Ds): relative_humidity_at_leaf_surface => RH(T, Ds) ~ track\n",
    "\n",
    "    gs(g0, g1, A_net, Ds, Cs, fΨv): stomatal_conductance => begin\n",
    "        g0 + (1 + g1/√Ds)*(A_net/Cs) * fΨv\n",
    "    end ~ track(min = g0, u\"mol/m^2/s/bar\")\n",
    "end"
   ]
  },
  {
   "cell_type": "markdown",
   "metadata": {},
   "source": [
    "#### Intercellular Space"
   ]
  },
  {
   "cell_type": "markdown",
   "metadata": {},
   "source": [
    "$$\n",
    "\\begin{align}\n",
    "C_m \\approx C_i &= C_a - \\frac{A_n}{g_{v_c}} \\\\\n",
    "g_{v_c} &= \\frac{1}{r_{v_c}} \\\\\n",
    "r_{v_c} &= r_{s_c} + r_{b_c} \\\\\n",
    "r_{s_c} &= \\frac{1}{g_s} \\cdot {\\left( \\frac{\\mathcal{D}_w}{\\mathcal{D}_c} \\right)}^{\\!1}  \\\\\n",
    "r_{b_c} &= \\frac{1}{g_b} \\cdot {\\left( \\frac{\\mathcal{D}_w}{\\mathcal{D}_c} \\right)}^{\\!\\frac{2}{3}}\n",
    "\\end{align}\n",
    "$$"
   ]
  },
  {
   "cell_type": "code",
   "execution_count": null,
   "metadata": {},
   "outputs": [],
   "source": [
    "@system IntercellularSpace(Weather) begin\n",
    "    A_net ~ hold\n",
    "    gvc   ~ hold\n",
    "\n",
    "    Ca(CO2, P_air): co2_air                       => (CO2 * P_air) ~ track(u\"μbar\")\n",
    "    Cimax(Ca):      intercellular_co2_upper_limit => 2Ca           ~ track(u\"μbar\")\n",
    "    Cimin:          intercellular_co2_lower_limit => 0             ~ preserve(u\"μbar\")\n",
    "    Ci(Ca, Ci, A_net, gvc): intercellular_co2 => begin\n",
    "        Ca - Ci ⩵ A_net / gvc\n",
    "    end ~ bisect(min = Cimin, upper = Cimax, u\"μbar\")\n",
    "end"
   ]
  },
  {
   "cell_type": "markdown",
   "metadata": {},
   "source": [
    "Let's examine the coupling process of the sub-models for photosynthesis and transpiration through stomatal conductance."
   ]
  },
  {
   "cell_type": "markdown",
   "metadata": {},
   "source": [
    "### Energy Balance"
   ]
  },
  {
   "cell_type": "markdown",
   "metadata": {},
   "source": [
    "$$\n",
    "T_l = T_a + \\Delta T\n",
    "$$"
   ]
  },
  {
   "cell_type": "markdown",
   "metadata": {},
   "source": [
    "$$\n",
    "R_n - H - \\lambda E = 0\n",
    "$$"
   ]
  },
  {
   "cell_type": "markdown",
   "metadata": {},
   "source": [
    "$$\n",
    "\\begin{align}\n",
    "R_n &= R_{sw} + R_{lw} \\\\\n",
    "R_{sw} &= \\alpha_s k I \\\\\n",
    "R_{lw} &= 2 \\epsilon \\sigma (T_{a_k}^4 - T_{l_k}^4)\n",
    "\\end{align}\n",
    "$$"
   ]
  },
  {
   "cell_type": "markdown",
   "metadata": {},
   "source": [
    "$$\n",
    "H = C_p g_h \\Delta T\n",
    "$$"
   ]
  },
  {
   "cell_type": "markdown",
   "metadata": {},
   "source": [
    "$$\n",
    "\\begin{align}\n",
    "E &= g_v \\Delta w \\\\\n",
    "g_v &= \\frac{1}{\\cfrac{1}{g_s} + \\cfrac{1}{g_b}} \\\\\n",
    "D &= e_s[T_l] - e_a\n",
    "\\end{align}\n",
    "$$"
   ]
  },
  {
   "cell_type": "markdown",
   "metadata": {},
   "source": [
    "| Symbol | Units | Description |\n",
    "|:-------|:------|:------------|\n",
    "$\\Delta w$ | $\\mathrm{kPa}$ | Vapor pressure gradient between leaf surface and the air |\n",
    "$e_a$ | $\\mathrm{kPa}$ | Vapor pressure in the ambient air |\n",
    "$e_s$ | $\\mathrm{kPa}$ | Saturated vapor pressure |\n",
    "$E$ | $\\mathrm{mmol_{H_2O}}\\ \\mathrm{m^{-2}}\\ \\mathrm{s^{-1}}$ | Transpiration rate |\n",
    "$g_v$ | $$\\mathrm{mol_{H_2O}}\\ \\mathrm{m^{-2}}\\ \\mathrm{s^{-1}}\\ \\mathrm{bar^{-1}}$$ | Total leaf conductance to water vapor |\n",
    "$H$ | $\\mathrm{W}\\ \\mathrm{m^{-2}}$ | Sensible heat flux |\n",
    "$\\lambda E$ | $\\mathrm{W}\\ \\mathrm{m^{-2}}$ | Latent heat flux |\n",
    "$R_n$ | $\\mathrm{W}\\ \\mathrm{m^{-2}}$ | Net radiation absorbed |\n",
    "$\\Delta T$ | $\\mathrm{K}$ | Temperature difference between $T_l$ and $T_a$ |"
   ]
  },
  {
   "cell_type": "markdown",
   "metadata": {},
   "source": [
    "| Symbol | Value | Units | Description |\n",
    "|:-------|:------|:------|:------------|\n",
    "$\\alpha_s$ | 0.79 | - | Radiation absorption coefficient of the leaf |\n",
    "$C_p$ | 29.3 | $\\mathrm{J}\\ \\mathrm{mol^{-1}}\\ \\mathrm{K^{-1}}$ | Specific heat of air |\n",
    "$\\epsilon$ | 0.97 | - | Leaf thermal emissivity |\n",
    "$k$ | 0.22 | $\\mathrm{J}\\ \\mathrm{\\mu mol^{-1}}$ | Radiation conversion factor |\n",
    "$\\lambda$ | 44 | $\\mathrm{kJ}\\ \\mathrm{mol^{-1}}$ | Latent heat of vaporization at 25 $\\mathrm{^{\\circ}C}$ |\n",
    "$\\sigma$ | $$5.670 \\times 10^{-8}$$ | $$\\mathrm{W}\\ \\mathrm{m^{-2}}\\ \\mathrm{K^{-4}}$$ | Stefan-Boltzmann constant |"
   ]
  },
  {
   "cell_type": "code",
   "execution_count": null,
   "metadata": {},
   "outputs": [],
   "source": [
    "@system EnergyBalance(Weather) begin\n",
    "    gv ~ hold\n",
    "    gh ~ hold\n",
    "    PPFD ~ hold\n",
    "\n",
    "    ϵ:  leaf_thermal_emissivity           => 0.97 ~ preserve(parameter)\n",
    "    σ:  stefan_boltzmann_constant         => u\"σ\" ~ preserve(u\"W/m^2/K^4\")\n",
    "    λ:  latent_heat_of_vaporization_at_25 => 44   ~ preserve(parameter, u\"kJ/mol\")\n",
    "    Cp: specific_heat_of_air              => 29.3 ~ preserve(parameter, u\"J/mol/K\")\n",
    "\n",
    "    k:              radiation_conversion_factor         => (1 / 4.55)   ~ preserve(u\"J/μmol\")\n",
    "    α_s:            absorption_coefficient              => 0.79         ~ preserve(parameter)\n",
    "    PAR(PPFD, k):   photosynthetically_active_radiation => (PPFD * k)   ~ track(u\"W/m^2\")\n",
    "    R_sw(PAR, α_s): shortwave_radiation_absorbed         => (α_s * PAR) ~ track(u\"W/m^2\")\n",
    "\n",
    "    R_wall(ϵ, σ, Tk_air):      thermal_radiation_absorbed_from_wall => 2ϵ*σ*Tk_air^4    ~ track(u\"W/m^2\")\n",
    "    R_leaf(ϵ, σ, Tk):          thermal_radiation_emitted_by_leaf    => 2ϵ*σ*Tk^4        ~ track(u\"W/m^2\")\n",
    "    R_thermal(R_wall, R_leaf): thermal_radiation_absorbed           => R_wall - R_leaf  ~ track(u\"W/m^2\")\n",
    "    R_net(R_sw, R_thermal):    net_radiation_absorbed               => R_sw + R_thermal ~ track(u\"W/m^2\")\n",
    "\n",
    "    Δw(T, T_air, RH, ea = vp.ambient, es = vp.saturation): leaf_vapor_pressure_gradient => begin\n",
    "        es(T) - ea(T_air, RH)\n",
    "    end ~ track(u\"kPa\")\n",
    "    E(gv, Δw): transpiration => gv*Δw ~ track(u\"mmol/m^2/s\")\n",
    "\n",
    "    H(Cp, gh, ΔT): sensible_heat_flux => Cp*gh*ΔT ~ track(u\"W/m^2\")\n",
    "    λE(λ, E):      latent_heat_flux   => λ*E      ~ track(u\"W/m^2\")\n",
    "\n",
    "    ΔT(R_net, H, λE): temperature_adjustment => begin\n",
    "        R_net ⩵ H + λE\n",
    "    end ~ bisect(lower = -10, upper = 10, u\"K\", evalunit = u\"W/m^2\")\n",
    "\n",
    "    T(T_air, ΔT): leaf_temperature          => (T_air + ΔT) ~ track(u\"°C\")\n",
    "    Tk(T):        absolute_leaf_temperature                 ~ track(u\"K\")\n",
    "end"
   ]
  },
  {
   "cell_type": "markdown",
   "metadata": {},
   "source": [
    "Let's examine how the following individual components of a coupled gas-exchange model are implemented in Cropbox: 3) energy balance equation to calculate transpiration and leaf temperature."
   ]
  },
  {
   "cell_type": "markdown",
   "metadata": {},
   "source": [
    "Variable `ΔT` implemented with `bisect` will try a range of values between `lower` and `upper` boundary to find the best solution satisfying the equation (`R_net ⩵ H + λE`) in the declaration body. It corresponds to the outer loop illustrated in the schematic diagram of a coupled gas-exchange model flow."
   ]
  },
  {
   "cell_type": "code",
   "execution_count": null,
   "metadata": {},
   "outputs": [],
   "source": [
    "Cropbox.dependency(EnergyBalance)"
   ]
  },
  {
   "cell_type": "code",
   "execution_count": null,
   "metadata": {},
   "outputs": [],
   "source": [
    "display(\"text/plain\", Cropbox.dependency(EnergyBalance))"
   ]
  },
  {
   "cell_type": "markdown",
   "metadata": {},
   "source": [
    "### Coupling"
   ]
  },
  {
   "cell_type": "code",
   "execution_count": null,
   "metadata": {},
   "outputs": [],
   "source": [
    "@system GasExchange(Weather, BoundaryLayer, StomataBase, IntercellularSpace, Irradiance, EnergyBalance)"
   ]
  },
  {
   "cell_type": "code",
   "execution_count": null,
   "metadata": {},
   "outputs": [],
   "source": [
    "@system C3BB(GasExchange, StomataBallBerry, C3, Controller) begin\n",
    "    g0 => 0.096 ~ preserve(parameter, u\"mol/m^2/s/bar\")\n",
    "    g1 => 6.824 ~ preserve(parameter)\n",
    "end"
   ]
  },
  {
   "cell_type": "code",
   "execution_count": null,
   "metadata": {},
   "outputs": [],
   "source": [
    "@system C4BB(GasExchange, StomataBallBerry, C4, Controller) begin\n",
    "    g0 => 0.036 ~ preserve(parameter, u\"mol/m^2/s/bar\")\n",
    "    g1 => 2.792 ~ preserve(parameter)\n",
    "end"
   ]
  },
  {
   "cell_type": "code",
   "execution_count": null,
   "metadata": {},
   "outputs": [],
   "source": [
    "@system C4MED(GasExchange, StomataMedlyn, C4, Controller) begin\n",
    "    g0 => 0.031 ~ preserve(parameter, u\"mol/m^2/s/bar\")\n",
    "    g1 => 1.281 ~ preserve(parameter, u\"√kPa\")\n",
    "end"
   ]
  },
  {
   "cell_type": "code",
   "execution_count": null,
   "metadata": {},
   "outputs": [],
   "source": [
    "Cropbox.hierarchy(C4MED; skipcontext=true)"
   ]
  },
  {
   "cell_type": "code",
   "execution_count": null,
   "metadata": {},
   "outputs": [],
   "source": [
    "Cropbox.dependency(C4MED)"
   ]
  },
  {
   "cell_type": "markdown",
   "metadata": {
    "jp-MarkdownHeadingCollapsed": true,
    "tags": []
   },
   "source": [
    "## Results"
   ]
  },
  {
   "cell_type": "markdown",
   "metadata": {},
   "source": [
    "Based on the coupled models of C3 and C4 leaves, generate $A/C_i$ and light response ($A/Q$) curves for C3 and C4 leaves, and identify limiting processes (Ac, Aj, or Ap). Assume that all other conditions are optimal for photosynthesis except the variable of interest (*i.e.*, CO2 and PFD)."
   ]
  },
  {
   "cell_type": "code",
   "execution_count": null,
   "metadata": {},
   "outputs": [],
   "source": [
    "parameters(Weather)"
   ]
  },
  {
   "cell_type": "code",
   "execution_count": null,
   "metadata": {},
   "outputs": [],
   "source": [
    "co2_xstep = :Weather => :CO2   => 10:10:1500;\n",
    "pfd_xstep = :Weather => :PFD   => 0:20:2000;\n",
    "ta_xstep  = :Weather => :T_air => 0:1:45;\n",
    "rh_xstep  = :Weather => :RH    => 0:1:100;"
   ]
  },
  {
   "cell_type": "code",
   "execution_count": null,
   "metadata": {},
   "outputs": [],
   "source": [
    "co2_group = :Weather => :CO2   => [1000, 400, 250];\n",
    "pfd_group = :Weather => :PFD   => 1800:-400:600;\n",
    "ta_group  = :Weather => :T_air => 40:-5:10;\n",
    "rh_group  = :Weather => :RH    => 80:-20:20;"
   ]
  },
  {
   "cell_type": "markdown",
   "metadata": {},
   "source": [
    "### C3"
   ]
  },
  {
   "cell_type": "markdown",
   "metadata": {},
   "source": [
    "#### A-Ci"
   ]
  },
  {
   "cell_type": "code",
   "execution_count": null,
   "metadata": {},
   "outputs": [],
   "source": [
    "visualize(C3BB, :Ci, [:Ac, :Aj, :Ap, :A_net]; xstep = co2_xstep, ylim = (0,40), kind = :line)"
   ]
  },
  {
   "cell_type": "markdown",
   "metadata": {},
   "source": [
    "#### A-Q"
   ]
  },
  {
   "cell_type": "code",
   "execution_count": null,
   "metadata": {},
   "outputs": [],
   "source": [
    "visualize(C3BB, :PFD, [:Ac, :Aj, :Ap, :A_net]; xstep = pfd_xstep, ylim = (0,40), kind = :line)"
   ]
  },
  {
   "cell_type": "markdown",
   "metadata": {},
   "source": [
    "#### A-T"
   ]
  },
  {
   "cell_type": "code",
   "execution_count": null,
   "metadata": {},
   "outputs": [],
   "source": [
    "visualize(C3BB, :T_air, [:Ac, :Aj, :Ap, :A_net]; xstep = ta_xstep, ylim = (0,40), kind = :line)"
   ]
  },
  {
   "cell_type": "markdown",
   "metadata": {},
   "source": [
    "### C4"
   ]
  },
  {
   "cell_type": "markdown",
   "metadata": {},
   "source": [
    "#### A-Ci"
   ]
  },
  {
   "cell_type": "code",
   "execution_count": null,
   "metadata": {},
   "outputs": [],
   "source": [
    "visualize(C4MED, :Ci, [:Ac, :Aj, :A_net]; xstep = co2_xstep, ylim = (0,70), kind = :line)"
   ]
  },
  {
   "cell_type": "markdown",
   "metadata": {},
   "source": [
    "#### A-Q"
   ]
  },
  {
   "cell_type": "code",
   "execution_count": null,
   "metadata": {},
   "outputs": [],
   "source": [
    "visualize(C4MED, :PFD, [:Ac, :Aj, :A_net]; xstep = pfd_xstep, ylim = (0,70), kind = :line)"
   ]
  },
  {
   "cell_type": "markdown",
   "metadata": {},
   "source": [
    "#### A-T"
   ]
  },
  {
   "cell_type": "code",
   "execution_count": null,
   "metadata": {},
   "outputs": [],
   "source": [
    "visualize(C4MED, :T_air, [:Ac, :Aj, :A_net]; xstep = ta_xstep, ylim = (0,70), kind = :line)"
   ]
  },
  {
   "cell_type": "markdown",
   "metadata": {},
   "source": [
    "#### Transition smoothing factor ($\\beta$)"
   ]
  },
  {
   "cell_type": "code",
   "execution_count": null,
   "metadata": {},
   "outputs": [],
   "source": [
    "let S = C4MED, x = :T_air, y = :A_net, xstep = ta_xstep, ylim = (0,60), kind = :line\n",
    "    p = visualize(S, x, y; xstep, ylim, kind, name = \"β = 1\", config = :0 => :β => 1)\n",
    "    p = visualize!(p, S, x, y; xstep, kind, name = \"β = 0.99\", config = :0 => :β => 0.99)\n",
    "    p = visualize!(p, S, x, y; xstep, kind, name = \"β = 0.9\", config = :0 => :β => 0.9)\n",
    "    p = visualize!(p, S, x, y; xstep, kind, name = \"β = 0.8\", config = :0 => :β => 0.8)\n",
    "end"
   ]
  },
  {
   "cell_type": "code",
   "execution_count": null,
   "metadata": {},
   "outputs": [],
   "source": [
    "manipulate(C4MED, :T_air, :A_net;\n",
    "    parameters = :C4Rate => :β => 0.01:0.01:1,\n",
    "    xstep = ta_xstep,\n",
    "    ylim = (0,60),\n",
    "    kind = :line,\n",
    ")"
   ]
  },
  {
   "cell_type": "markdown",
   "metadata": {},
   "source": [
    "Explore how C3 and C4 leaves will respond over a wide range of temperatures under the atmospheric CO2 concentrations of **250 ppm, 400 ppm, and 1000 ppm**. Assume other environmental conditions are favorable with saturating light level (PFD = 2,000 $\\mathrm{\\mu mol}\\ \\mathrm{m^{-2}}\\ \\mathrm{s^{-1}}$)."
   ]
  },
  {
   "cell_type": "code",
   "execution_count": null,
   "metadata": {},
   "outputs": [],
   "source": [
    "@config co2_group"
   ]
  },
  {
   "cell_type": "markdown",
   "metadata": {},
   "source": [
    "Generate figures to compare C3 and C4 temperature response curves at different CO2 concentrations."
   ]
  },
  {
   "cell_type": "code",
   "execution_count": null,
   "metadata": {},
   "outputs": [],
   "source": [
    "visualize(C3BB, :T, :A_net;\n",
    "    xstep = ta_xstep,\n",
    "    group = co2_group,\n",
    "    ylim = (0,50),\n",
    "    kind = :line,\n",
    ")"
   ]
  },
  {
   "cell_type": "code",
   "execution_count": null,
   "metadata": {},
   "outputs": [],
   "source": [
    "visualize(C4BB, :T, :A_net;\n",
    "    xstep = ta_xstep,\n",
    "    group = co2_group,\n",
    "    ylim = (0,60),\n",
    "    kind = :line,\n",
    ")"
   ]
  },
  {
   "cell_type": "markdown",
   "metadata": {},
   "source": [
    "Identify the **air temperature and CO2** conditions where photorespiration becomes substantial in the figures, and discuss why those conditions."
   ]
  },
  {
   "cell_type": "code",
   "execution_count": null,
   "metadata": {},
   "outputs": [],
   "source": [
    "manipulate(C3BB, :Ci, [:Ac, :Aj, :Ap, :A_net];\n",
    "    parameters = ta_xstep,\n",
    "    xstep = co2_xstep,\n",
    "    xlim = (0,500),\n",
    "    ylim = (0,50),\n",
    "    kind = :line,\n",
    ")"
   ]
  },
  {
   "cell_type": "code",
   "execution_count": null,
   "metadata": {},
   "outputs": [],
   "source": [
    "manipulate(C4BB, :Ci, [:Ac, :Aj, :A_net];\n",
    "    parameters = ta_xstep,\n",
    "    xstep = co2_xstep,\n",
    "    xlim = (0,500),\n",
    "    ylim = (0,60),\n",
    "    kind = :line,\n",
    ")"
   ]
  },
  {
   "cell_type": "markdown",
   "metadata": {},
   "source": [
    "Do the same comparisons with water-stressed C3 and C4 leaves at -1.5 MPa of leaf water potential and compare their responses."
   ]
  },
  {
   "cell_type": "code",
   "execution_count": null,
   "metadata": {},
   "outputs": [],
   "source": [
    "manipulate(C3BB, :T, :A_net;\n",
    "    parameters = :StomataTuzet => :Ψv => -3:0.1:0,\n",
    "    xstep = ta_xstep,\n",
    "    group = co2_group,\n",
    "    xlim = (0,50),\n",
    "    ylim = (0,50),\n",
    "    kind = :line,\n",
    ")"
   ]
  },
  {
   "cell_type": "code",
   "execution_count": null,
   "metadata": {},
   "outputs": [],
   "source": [
    "manipulate(C4BB, :T, :A_net;\n",
    "    parameters = :StomataTuzet => :Ψv => -3:0.1:0,\n",
    "    xstep = ta_xstep,\n",
    "    group = co2_group,\n",
    "    xlim = (0,50),\n",
    "    ylim = (0,60),\n",
    "    kind = :line,\n",
    ")"
   ]
  },
  {
   "cell_type": "markdown",
   "metadata": {},
   "source": [
    "Now replenish the leaves with ample water but reduce the light level to 200 $\\mathrm{\\mu mol}\\ \\mathrm{m^{-2}}\\ \\mathrm{s^{-1}}$ of PFD and compare the responses."
   ]
  },
  {
   "cell_type": "code",
   "execution_count": null,
   "metadata": {},
   "outputs": [],
   "source": [
    "visualize(C3BB, :T, :A_net;\n",
    "    config = :0 => (:Ψv => 0, :PFD => 200),\n",
    "    xstep = ta_xstep,\n",
    "    group = co2_group,\n",
    "    ylim = (0,50),\n",
    "    kind = :line,\n",
    ")"
   ]
  },
  {
   "cell_type": "code",
   "execution_count": null,
   "metadata": {},
   "outputs": [],
   "source": [
    "visualize(C4BB, :T, :A_net;\n",
    "    config = :0 => (:Ψv => 0, :PFD => 200),\n",
    "    xstep = ta_xstep,\n",
    "    group = co2_group,\n",
    "    ylim = (0,60),\n",
    "    kind = :line,\n",
    ")"
   ]
  },
  {
   "cell_type": "code",
   "execution_count": null,
   "metadata": {},
   "outputs": [],
   "source": [
    "manipulate(C3BB, :T, :A_net;\n",
    "    parameters = (\n",
    "        :StomataTuzet => :Ψv => -3:0.1:0,\n",
    "        :Weather => :PFD => 0:100:2000,\n",
    "    ),\n",
    "    xstep = ta_xstep,\n",
    "    group = co2_group,\n",
    "    xlim = (0,50),\n",
    "    ylim = (0,50),\n",
    "    kind = :line,\n",
    ")"
   ]
  },
  {
   "cell_type": "code",
   "execution_count": null,
   "metadata": {},
   "outputs": [],
   "source": [
    "manipulate(C4BB, :T, :A_net;\n",
    "    parameters = (\n",
    "        :StomataTuzet => :Ψv => -3:0.1:0,\n",
    "        :Weather => :PFD => 0:100:2000,\n",
    "    ),\n",
    "    xstep = ta_xstep,\n",
    "    group = co2_group,\n",
    "    xlim = (0,50),\n",
    "    ylim = (0,60),\n",
    "    kind = :line,\n",
    ")"
   ]
  },
  {
   "cell_type": "markdown",
   "metadata": {},
   "source": [
    "Let's examine how leaf water and nitrogen status is implemented in the coupled model and study their behavior by experimenting with the parameter values associated their responses."
   ]
  },
  {
   "cell_type": "markdown",
   "metadata": {},
   "source": [
    "#### Nitrogen Stress"
   ]
  },
  {
   "cell_type": "code",
   "execution_count": null,
   "metadata": {},
   "outputs": [],
   "source": [
    "nitrogen_group = :NitrogenDependence => :N => 2:-0.5:0.5;\n",
    "nitrogen_xstep = :NitrogenDependence => :N => 0.5:0.01:2.0;"
   ]
  },
  {
   "cell_type": "code",
   "execution_count": null,
   "metadata": {},
   "outputs": [],
   "source": [
    "visualize(C4MED, :Np, :A_net;\n",
    "    xstep = nitrogen_xstep,\n",
    "    group = co2_group,\n",
    "    ylim = (0,60),\n",
    "    kind = :line,\n",
    ")"
   ]
  },
  {
   "cell_type": "code",
   "execution_count": null,
   "metadata": {},
   "outputs": [],
   "source": [
    "visualize(C4MED, :T_air, :A_net;\n",
    "    xstep = ta_xstep,\n",
    "    group = nitrogen_group,\n",
    "    ylim = (0,60),\n",
    "    kind = :line,\n",
    ")"
   ]
  },
  {
   "cell_type": "markdown",
   "metadata": {},
   "source": [
    "#### Water Stress"
   ]
  },
  {
   "cell_type": "code",
   "execution_count": null,
   "metadata": {},
   "outputs": [],
   "source": [
    "water_group = :StomataTuzet => :Ψv => 0:-0.5:-2;\n",
    "water_xstep = :StomataTuzet => :Ψv => -2:0.02:0;"
   ]
  },
  {
   "cell_type": "code",
   "execution_count": null,
   "metadata": {},
   "outputs": [],
   "source": [
    "visualize(C4MED, :Ψv, :A_net;\n",
    "    xstep = water_xstep,\n",
    "    group = co2_group,\n",
    "    ylim = (0,60),\n",
    "    kind = :line,\n",
    ")"
   ]
  },
  {
   "cell_type": "code",
   "execution_count": null,
   "metadata": {},
   "outputs": [],
   "source": [
    "visualize(C4MED, :T_air, :A_net;\n",
    "    xstep = ta_xstep,\n",
    "    group = water_group,\n",
    "    ylim = (0,60),\n",
    "    kind = :line,\n",
    ")"
   ]
  },
  {
   "cell_type": "markdown",
   "metadata": {},
   "source": [
    "#### Nitrogen x Water Stress"
   ]
  },
  {
   "cell_type": "code",
   "execution_count": null,
   "metadata": {},
   "outputs": [],
   "source": [
    "visualize(C4MED, :N, :Ψv, :A_net;\n",
    "    config = :Weather => (),\n",
    "    xstep = :NitrogenDependence => :N => 1:0.02:2,\n",
    "    ystep = :StomataTuzet => :Ψv => -2:0.04:0,\n",
    "    kind = :contour,\n",
    "    aspect = 1,\n",
    "    zlim = (0,60),\n",
    "    zgap = 1,\n",
    "    zlabgap = 10,\n",
    ")"
   ]
  },
  {
   "cell_type": "markdown",
   "metadata": {},
   "source": [
    "#### Interactive Plot"
   ]
  },
  {
   "cell_type": "code",
   "execution_count": null,
   "metadata": {},
   "outputs": [],
   "source": [
    "manipulate(C4MED, :T, :A_net;\n",
    "    parameters = (\n",
    "        :NitrogenDependence => :N => 0:0.05:3,\n",
    "        :StomataTuzet => :Ψv => -3:0.05:0,\n",
    "    ),\n",
    "    xstep = ta_xstep,\n",
    "    group = co2_group,\n",
    "    xlim = (0,50),\n",
    "    ylim = (0,60),\n",
    "    kind = :line,\n",
    ")"
   ]
  },
  {
   "cell_type": "markdown",
   "metadata": {
    "jp-MarkdownHeadingCollapsed": true,
    "tags": []
   },
   "source": [
    "## Model Expansion"
   ]
  },
  {
   "cell_type": "markdown",
   "metadata": {},
   "source": [
    "The models we've used above can simulate the rate of photosynthesis at an individual leaf-level pretty accurately. However, the amount of CO2 assimilated to the single leaf doesn't automatically translate to the total amount of carbon assimilated at the canopy-level. There are a few approaches published for scaling photosynthesis from leaf to canopy. Let's take a look at \"sunlit and shaded leaf model\" which is one of the most widely used methods for scaling."
   ]
  },
  {
   "cell_type": "markdown",
   "metadata": {},
   "source": [
    "### Sun"
   ]
  },
  {
   "cell_type": "markdown",
   "metadata": {},
   "source": [
    "We first need to know how much light would be available for *sunlit* leaves and *shaded* leaves. Sunlit leaves receive *directional light* and shaded leaves receive *diffusive light*. The ratio between two types of light is primarily determined by the location of light source, the sun, and it changes according to time and season. It is also influenced by the amount of cloud or dust in the air, which is represented by atmospheric transmissivity ($\\tau$)."
   ]
  },
  {
   "cell_type": "code",
   "execution_count": null,
   "metadata": {},
   "outputs": [],
   "source": [
    "@system Sun begin\n",
    "    weather ~ ::Weather(override)\n",
    "\n",
    "    d: day  ~ preserve::int(parameter, u\"d\")\n",
    "    h: hour ~ preserve::int(parameter, u\"hr\")\n",
    "\n",
    "    ϕ: latitude   => 37.5u\"°\"  ~ preserve(parameter, u\"°\")\n",
    "    λ: longitude  => 126.9u\"°\" ~ preserve(parameter, u\"°\")\n",
    "    alt: altitude => 0         ~ preserve(parameter, u\"m\")\n",
    "\n",
    "    Q: photosynthetic_active_radiation_conversion_factor => begin\n",
    "        # 4.55 is a conversion factor from W to photons for solar radiation, Goudriaan and van Laar (1994)\n",
    "        # some use 4.6 i.e., Amthor 1994, McCree 1981, Challa 1995.\n",
    "        4.6\n",
    "    end ~ preserve(u\"μmol/J\", parameter)\n",
    "\n",
    "    solrad(weather.PFD, Q): solar_radiation => begin\n",
    "        PFD / Q\n",
    "    end ~ track(u\"W/m^2\")\n",
    "    \n",
    "    \"atmospheric transmissivity, Goudriaan and van Laar (1994) p 30\"\n",
    "    τ: transmissivity => 0.5 ~ preserve(parameter)\n",
    "\n",
    "    #####################\n",
    "    # Solar Coordinates #\n",
    "    #####################\n",
    "\n",
    "    δ(declination_angle_spencer): declination_angle ~ track(u\"°\")\n",
    "\n",
    "    \"Spencer equation, Iqbal (1983) Pg 7 Eqn 1.3.1. Most accurate among all\"\n",
    "    declination_angle_spencer(d) => begin\n",
    "        # gamma: day angle\n",
    "        g = 2pi * (d - 1u\"d\") / 365u\"d\"\n",
    "        0.006918 - 0.399912cos(g) + 0.070257sin(g) - 0.006758cos(2g) + 0.000907sin(2g) -0.002697cos(3g) + 0.00148sin(3g)\n",
    "    end ~ track(u\"rad\")\n",
    "\n",
    "    dph: degree_per_hour => 360u\"°\" / 24u\"hr\" ~ preserve(u\"°/hr\")\n",
    "\n",
    "    \"longitude correction for Light noon, Wohlfart et al, 2000; Campbell & Norman 1998\"\n",
    "    LC(λ, dph): longitude_correction => begin\n",
    "        meridian = round(u\"hr\", λ / dph) * dph\n",
    "        (meridian - λ) / dph\n",
    "    end ~ track(u\"hr\")\n",
    "\n",
    "    ET(d): equation_of_time => begin\n",
    "        f = (279.575 + 0.9856u\"d^-1\" * d)*u\"°\"\n",
    "        (-104.7sin(f) + 596.2sin(2f) + 4.3sin(3f) - 12.7sin(4f) -429.3cos(f) - 2.0cos(2f) + 19.3cos(3f)) / (60 * 60)\n",
    "    end ~ track(u\"hr\")\n",
    "\n",
    "    solar_noon(LC, ET) => 12u\"hr\" - LC - ET ~ track(u\"hr\")\n",
    "\n",
    "    \"θs: zenith angle\"\n",
    "    hour_angle_at(ϕ, δ; θs(u\"°\")) => begin\n",
    "        c = (cos(θs) - sin(ϕ) * sin(δ)) / (cos(ϕ) * cos(δ))\n",
    "        # c > 1: in the polar region during the winter, sun does not rise\n",
    "        # c < -1: white nights during the summer in the polar region\n",
    "        c = clamp(c, -1, 1)\n",
    "        acosd(c)\n",
    "    end ~ call(u\"°\")\n",
    "\n",
    "    hour_angle_at_horizon(hour_angle_at) => hour_angle_at(90u\"°\") ~ track(u\"°\")\n",
    "\n",
    "    \"from Iqbal (1983) p 16\"\n",
    "    half_day_length(hour_angle_at_horizon, dph) => (hour_angle_at_horizon / dph) ~ track(u\"hr\")\n",
    "    day_length(half_day_length)                 => 2half_day_length              ~ track(u\"hr\")\n",
    "\n",
    "    sunrise(solar_noon, half_day_length) => (solar_noon - half_day_length) ~ track(u\"hr\")\n",
    "    sunset(solar_noon, half_day_length)  => (solar_noon + half_day_length) ~ track(u\"hr\")\n",
    "\n",
    "    hour_angle(h, solar_noon, dph) => ((h - solar_noon) * dph) ~ track(u\"°\")\n",
    "\n",
    "    αs(h=hour_angle, δ, ϕ): elevation_angle => begin\n",
    "        asind(cos(h) * cos(δ) * cos(ϕ) + sin(δ) * sin(ϕ))\n",
    "    end ~ track(u\"°\")\n",
    "\n",
    "    ts(αs): positive_elevation_angle      ~ track(u\"°\", min=0)\n",
    "    θs(αs): zenith_angle => (90u\"°\" - αs) ~ track(u\"°\")\n",
    "\n",
    "    \"\"\"\n",
    "    The solar azimuth angle is the angular distance between due South and the\n",
    "    projection of the line of sight to the sun on the ground.\n",
    "    View point from south, morning: +, afternoon: -\n",
    "    See An introduction to solar radiation by Iqbal (1983) p 15-16\n",
    "    Also see https://www.susdesign.com/sunangle/\n",
    "    \"\"\"\n",
    "    ϕs(αs, δ, ϕ): azimuth_angle => begin\n",
    "        acosd((sin(δ) - sin(αs) * sin(ϕ)) / (cos(αs) * cos(ϕ)))\n",
    "    end ~ track(u\"°\")\n",
    "\n",
    "    ###################\n",
    "    # Solar Radiation #\n",
    "    ###################\n",
    "\n",
    "    \"atmospheric pressure in kPa; Campbell and Norman (1998), p 41\"\n",
    "    p(altitude): atmospheric_pressure => begin\n",
    "        101.3exp(-altitude / 8200u\"m\")\n",
    "    end ~ track(u\"kPa\")\n",
    "\n",
    "    m(p, ts): optical_air_mass_number => begin\n",
    "        p / (101.3u\"kPa\" * sin(ts))\n",
    "    end ~ track\n",
    "\n",
    "    SC: solar_constant => 1370 ~ preserve(u\"W/m^2\", parameter)\n",
    "\n",
    "    \"Campbell and Norman's global solar radiation\"\n",
    "    insolation(ts, d, SC) => begin\n",
    "        # solar constant, Iqbal (1983)\n",
    "        #FIXME better to be 1361 or 1362 W/m-2?\n",
    "        g = 2pi * (d - 10u\"d\") / 365u\"d\"\n",
    "        SC * sin(ts) * (1 + 0.033cos(g))\n",
    "    end ~ track(u\"W/m^2\")\n",
    "\n",
    "    directional_solar_radiation(Fdir, solar_radiation) => begin\n",
    "        Fdir * solar_radiation\n",
    "    end ~ track(u\"W/m^2\")\n",
    "\n",
    "    diffusive_solar_radiation(Fdif, solar_radiation) => begin\n",
    "        Fdif * solar_radiation\n",
    "    end ~ track(u\"W/m^2\")\n",
    "\n",
    "    Fdir(τ, m): directional_coeff => begin\n",
    "        # Campbell and Norman (1998), p 173\n",
    "        τ^m\n",
    "    end ~ track\n",
    "\n",
    "    \"Fraction of diffused light\"\n",
    "    Fdif(τ, m): diffusive_coeff => begin\n",
    "        # Campbell and Norman (1998), p 173\n",
    "        0.3(1 - τ^m)\n",
    "    end ~ track\n",
    "\n",
    "    directional_fraction(Fdif, Fdir) => (1 / (1 + Fdif/Fdir)) ~ track\n",
    "    diffusive_fraction(Fdir, Fdif) => (1 / (1 + Fdir/Fdif)) ~ track\n",
    "\n",
    "    PARfr(τ): photosynthetic_coeff => begin\n",
    "        # Goudriaan and van Laar (1994)\n",
    "        # clear sky (τ >= 0.7): 45% is PAR\n",
    "        if τ >= 0.7\n",
    "            0.45\n",
    "        # cloudy sky (τ <= 0.3): 55% is PAR\n",
    "        elseif τ <= 0.3\n",
    "            0.55\n",
    "        else\n",
    "            0.625 - 0.25τ\n",
    "        end\n",
    "    end ~ track\n",
    "\n",
    "    \"total PAR (umol m-2 s-1) on horizontal surface (PFD)\"\n",
    "    PARtot(solar_radiation, PARfr, Q): photosynthetic_active_radiation_total => begin\n",
    "        # conversion factor from W/m2 to PFD (umol m-2 s-1) for PAR waveband (median 550 nm of 400-700 nm) of solar radiation,\n",
    "        # see Campbell and Norman (1994) p 149\n",
    "        solar_radiation * PARfr * Q\n",
    "    end ~ track(u\"μmol/m^2/s\") # Quanta\n",
    "\n",
    "    PARdir(PARtot, directional_fraction): directional_photosynthetic_radiation => (directional_fraction * PARtot) ~ track(u\"μmol/m^2/s\") # Quanta\n",
    "    PARdif(PARtot, diffusive_fraction): diffusive_photosynthetic_radiation     => (diffusive_fraction * PARtot)   ~ track(u\"μmol/m^2/s\") # Quanta\n",
    "end"
   ]
  },
  {
   "cell_type": "code",
   "execution_count": null,
   "metadata": {},
   "outputs": [],
   "source": [
    "@system SunController(Controller) begin\n",
    "    weather(context)         ~ ::Weather\n",
    "    s(context, weather): sun ~ ::Sun\n",
    "end"
   ]
  },
  {
   "cell_type": "code",
   "execution_count": null,
   "metadata": {},
   "outputs": [],
   "source": [
    "sun_config = @config(\n",
    "    Sun => (;\n",
    "        day = 200,\n",
    "        hour = 12,\n",
    "        latitude = 37.5,\n",
    "        longitude = 126.9,\n",
    "    ),\n",
    ")"
   ]
  },
  {
   "cell_type": "code",
   "execution_count": null,
   "metadata": {},
   "outputs": [],
   "source": [
    "visualize(SunController, \"sun.day\", \"sun.δ\";\n",
    "    title = \"Declination Angle\",\n",
    "    config = sun_config,\n",
    "    xstep = Sun => :day => 1:365,\n",
    "    kind = :line,\n",
    ")"
   ]
  },
  {
   "cell_type": "code",
   "execution_count": null,
   "metadata": {},
   "outputs": [],
   "source": [
    "manipulate(SunController, \"sun.hour\", \"sun.αs\";\n",
    "    title = \"Elevation Angle\",\n",
    "    parameters = Sun => (;\n",
    "        latitude = -90:0.1:90,\n",
    "        longitude = -180:0.1:180,\n",
    "    ),\n",
    "    config = sun_config,\n",
    "    xstep = Sun => :hour => 0:23,\n",
    "    ylim = (-90,90),\n",
    "    kind = :line,\n",
    ")"
   ]
  },
  {
   "cell_type": "code",
   "execution_count": null,
   "metadata": {},
   "outputs": [],
   "source": [
    "manipulate(SunController, \"sun.hour\", [\"sun.Fdir\", \"sun.Fdif\"];\n",
    "    title = \"Directional & Diffusive Coeff.\",\n",
    "    parameters = Sun => (;\n",
    "        day = 1:365,\n",
    "        :τ => 0:0.01:1\n",
    "    ),\n",
    "    config = sun_config,\n",
    "    xstep = Sun => :hour => 0:23,\n",
    "    ylim = (0,1),\n",
    "    kind = :line,\n",
    ")"
   ]
  },
  {
   "cell_type": "markdown",
   "metadata": {},
   "source": [
    "### Radiation"
   ]
  },
  {
   "cell_type": "markdown",
   "metadata": {},
   "source": [
    "Now we can calculate the amount of directional and diffusive lights available at a certain time and location. Then how much of these lights would be actually absorbed by which part of the canopy? They can greatly vary depending on the strucuture of canopy, leaf distribution, and leaf area index.\n",
    "\n",
    "You may want to obtain an accurate geometric structure of the 3D canopy and apply ray casting to estimate the precise amount of light received by individual leaves. Of course, it's not an easy task. Instead, we can simplify the canopy structure by assuming there are only two types of leaf: sunlit leaf and shaded leaf. The sunlit leaf receives only directional light and the sunilt leaf receives only diffusive light. This model is thus called \"sunlit-shaded leaf\" model.\n",
    "\n",
    "There are lots of variables, but the most important ones include leaf angle and leaf area index (LAI). They are major factors that control the ratio between direct and diffusive lights in the canopy. Once the amount of each light is determined, leaf-level gas-exchange model we once developed would be geared up two times, one for the sunlit leaf, and the other for the shaded leaf. The total rate of photosynthesis for the canopy would be then calculated by multiplying the portion of LAI for each leaf, which are also determined by this new module of system."
   ]
  },
  {
   "cell_type": "code",
   "execution_count": null,
   "metadata": {},
   "outputs": [],
   "source": [
    "@enum LeafAngle begin\n",
    "    spherical = 1\n",
    "    horizontal = 2\n",
    "    vertical = 3\n",
    "    diaheliotropic = 4\n",
    "    empirical = 5\n",
    "    ellipsoidal = 6\n",
    "end"
   ]
  },
  {
   "cell_type": "code",
   "execution_count": null,
   "metadata": {},
   "outputs": [],
   "source": [
    "@enum WaveBand begin\n",
    "    photosynthetically_active_radiation = 1\n",
    "    near_infrared = 2\n",
    "    longwave = 3\n",
    "end"
   ]
  },
  {
   "cell_type": "code",
   "execution_count": null,
   "metadata": {},
   "outputs": [],
   "source": [
    "@system Radiation begin\n",
    "    sun                  ~ ::Sun(override)\n",
    "    LAI: leaf_area_index ~ track(override)\n",
    "\n",
    "    leaf_angle => ellipsoidal ~ preserve::LeafAngle(parameter)\n",
    "\n",
    "    \"ratio of horizontal to vertical axis of an ellipsoid\"\n",
    "    LAF: leaf_angle_factor => begin\n",
    "        #1\n",
    "        # leaf angle factor for corn leaves, Campbell and Norman (1998)\n",
    "        #1.37\n",
    "        # leaf angle factor for garlic canopy, from Rizzalli et al. (2002),  X factor in Campbell and Norman (1998)\n",
    "        0.7\n",
    "    end ~ preserve(parameter)\n",
    "\n",
    "    wave_band => photosynthetically_active_radiation ~ preserve::WaveBand(parameter)\n",
    "\n",
    "    \"scattering coefficient (reflectance + transmittance)\"\n",
    "    s: scattering => 0.15 ~ preserve(parameter)\n",
    "\n",
    "    \"clumping index\"\n",
    "    clumping => 1.0 ~ preserve(parameter)\n",
    "\n",
    "    # Forward from Sun\n",
    "\n",
    "    current_zenith_angle(sun.zenith_angle) ~ track(u\"°\")\n",
    "    elevation_angle(sun.αs)                ~ track(u\"°\")\n",
    "\n",
    "    I0_dr(sun.PARdir): directional_photosynthetic_radiation ~ track(u\"μmol/m^2/s\" #= Quanta =#)\n",
    "    I0_df(sun.PARdif): diffusive_photosynthetic_radiation   ~ track(u\"μmol/m^2/s\" #= Quanta =#)\n",
    "\n",
    "    leaf_angle_coeff(a=leaf_angle, leaf_angle_factor; zenith_angle(u\"°\")) => begin\n",
    "        elevation_angle = 90u\"°\" - zenith_angle\n",
    "        α = elevation_angle\n",
    "        t = zenith_angle\n",
    "        # leaf angle distribution parameter\n",
    "        x = leaf_angle_factor\n",
    "        if a == spherical\n",
    "            # When Lt accounts for total path length, division by sin(elev) isn't necessary\n",
    "            1 / (2sin(α))\n",
    "        elseif a == horizontal\n",
    "            1\n",
    "        elseif a == vertical\n",
    "            1 / (tan(α) * π/2)\n",
    "        elseif a == empirical\n",
    "            0.667\n",
    "        elseif a == diaheliotropic\n",
    "            1 / sin(α)\n",
    "        elseif a == ellipsoidal\n",
    "            sqrt(x^2 + tan(t)^2) / (x + 1.774 * (x+1.182)^-0.733)\n",
    "        else\n",
    "            1\n",
    "        end\n",
    "    end ~ call\n",
    "\n",
    "    \"extinction coefficient assuming spherical leaf dist\"\n",
    "    Kb_at(leaf_angle_coeff, clumping; zenith_angle(u\"°\")): projection_ratio_at => begin\n",
    "        leaf_angle_coeff(zenith_angle) * clumping\n",
    "    end ~ call\n",
    "\n",
    "    Kb(Kb_at, current_zenith_angle): projection_ratio => begin\n",
    "        Kb_at(current_zenith_angle)\n",
    "    end ~ track\n",
    "\n",
    "    \"diffused light ratio to ambient, integrated over all incident angles from 0 to 90\"\n",
    "    Kd_F(leaf_angle_coeff, LAI; a): diffused_fraction_for_Kd => begin\n",
    "        c = leaf_angle_coeff(a)\n",
    "        x = exp(-c * LAI)\n",
    "        2x * sin(a) * cos(a)\n",
    "    end ~ integrate(from=0, to=π/2)\n",
    "\n",
    "    \"K for diffuse light, the same literature as above\"\n",
    "    Kd(F=Kd_F, LAI, clumping): diffusion_ratio => begin\n",
    "        K = -log(F) / LAI\n",
    "        K * clumping\n",
    "    end ~ track\n",
    "\n",
    "    ###############################\n",
    "    # de Pury and Farquhar (1997) #\n",
    "    ###############################\n",
    "\n",
    "    \"Kb prime in de Pury and Farquhar(1997)\"\n",
    "    Kb1(Kb, s): projection_ratio_prime => (Kb * sqrt(1 - s)) ~ track\n",
    "\n",
    "    \"Kd prime in de Pury and Farquhar(1997)\"\n",
    "    Kd1(Kd, s): diffusion_ratio_prime => (Kd * sqrt(1 - s)) ~ track\n",
    "\n",
    "    ################\n",
    "    # Reflectivity #\n",
    "    ################\n",
    "\n",
    "    reflectivity(rho_h, Kb, Kd) => begin\n",
    "        rho_h * (2Kb / (Kb + Kd))\n",
    "    end ~ track\n",
    "\n",
    "    # canopy reflection coefficients for beam horizontal leaves, beam uniform leaves, and diffuse radiations\n",
    "\n",
    "    \"\"\"\n",
    "    canopy reflectance of beam irradiance on horizontal leaves, de Pury and Farquhar (1997)\n",
    "    also see Campbell and Norman (1998) p 255 for further info on potential problems\n",
    "    \"\"\"\n",
    "    rho_h(s): canopy_reflectivity_horizontal_leaf => begin\n",
    "        (1 - sqrt(1 - s)) / (1 + sqrt(1 - s))\n",
    "    end ~ track\n",
    "\n",
    "    \"canopy reflectance of beam irradiance for uniform leaf angle distribution, de Pury and Farquhar (1997)\"\n",
    "    rho_cb_at(rho_h, Kb_at; zenith_angle): canopy_reflectivity_uniform_leaf_at => begin\n",
    "        Kb = Kb_at(zenith_angle)\n",
    "        1 - exp(-2rho_h * Kb / (1 + Kb))\n",
    "    end ~ call\n",
    "\n",
    "    rho_cb(rho_cb_at, current_zenith_angle): canopy_reflectivity_uniform_leaf => begin\n",
    "        rho_cb_at(current_zenith_angle)\n",
    "    end ~ track\n",
    "\n",
    "    rho_cd_F(rho_cb_at; a): diffused_fraction_for_rho_cd => begin\n",
    "        x = rho_cb_at(a)\n",
    "        2x * sin(a) * cos(a)\n",
    "    end ~ integrate(from=0, to=π/2)\n",
    "\n",
    "    \"canopy reflectance of diffuse irradiance, de Pury and Farquhar (1997) Table A2\"\n",
    "    rho_cd(I0_df, rho_cd_F): canopy_reflectivity_diffusion => begin\n",
    "        iszero(I0_df) ? 0 : rho_cd_F\n",
    "    end ~ track\n",
    "\n",
    "    \"soil reflectivity for PAR band\"\n",
    "    rho_soil: soil_reflectivity => 0.10 ~ preserve(parameter)\n",
    "\n",
    "    #######################\n",
    "    # I_l?: dePury (1997) #\n",
    "    #######################\n",
    "\n",
    "    \"dePury (1997) eqn A3\"\n",
    "    I_lb(I0_dr, rho_cb, Kb1; L): irradiance_lb => begin\n",
    "        I0_dr * (1 - rho_cb) * Kb1 * exp(-Kb1 * L)\n",
    "    end ~ call(u\"μmol/m^2/s\" #= Quanta =#)\n",
    "\n",
    "    \"dePury (1997) eqn A5\"\n",
    "    I_ld(I0_df, rho_cb, Kd1; L): irradiance_ld => begin\n",
    "        I0_df * (1 - rho_cb) * Kd1 * exp(-Kd1 * L)\n",
    "    end ~ call(u\"μmol/m^2/s\" #= Quanta =#)\n",
    "\n",
    "    \"dePury (1997) eqn A5\"\n",
    "    I_l(; L): irradiance_l => (I_lb(L) + I_ld(L)) ~ call(u\"μmol/m^2/s\" #= Quanta =#)\n",
    "\n",
    "    \"dePury (1997) eqn A5\"\n",
    "    I_lbSun(I0_dr, s, Kb, I_lSh; L): irradiance_l_sunlit => begin\n",
    "        I_lb_sunlit = I0_dr * (1 - s) * Kb\n",
    "        #TODO: check name I_lbSun vs. I_l_sunlit?\n",
    "        I_l_sunlit = I_lb_sunlit + I_lSh(L)\n",
    "    end ~ call(u\"μmol/m^2/s\" #= Quanta =#)\n",
    "\n",
    "    \"dePury (1997) eqn A5\"\n",
    "    I_lSh(I_ld, I_lbs; L): irradiance_l_shaded => begin\n",
    "        I_ld(L) + I_lbs(L)\n",
    "    end ~ call(u\"μmol/m^2/s\" #= Quanta =#)\n",
    "\n",
    "    \"dePury (1997) eqn A5\"\n",
    "    I_lbs(I0_dr, rho_cb, s, Kb1, Kb; L): irradiance_lbs => begin\n",
    "        I0_dr * ((1 - rho_cb) * Kb1 * exp(-Kb1 * L) - (1 - s) * Kb * exp(-Kb * L))\n",
    "    end ~ call(u\"μmol/m^2/s\" #= Quanta =#)\n",
    "\n",
    "    \"\"\"\n",
    "    total irradiance at the top of the canopy,\n",
    "    passed over from either observed PAR or TSolar or TIrradiance\n",
    "    \"\"\"\n",
    "    I0_tot(I0_dr, I0_df): irradiance_I0_tot => (I0_dr + I0_df) ~ track(u\"μmol/m^2/s\" #= Quanta =#)\n",
    "\n",
    "    ########\n",
    "    # I_c? #\n",
    "    ########\n",
    "\n",
    "    # I_tot, I_sun, I_shade: absorbed irradiance integrated over LAI per ground area\n",
    "\n",
    "    \"Total irradiance absorbed by the canopy, de Pury and Farquhar (1997)\"\n",
    "    I_c(rho_cb, I0_dr, I0_df, Kb1, Kd1, LAI): canopy_irradiance => begin\n",
    "        #I_c = I_cSun + I_cSh\n",
    "        I(I0, K) = (1 - rho_cb) * I0 * (1 - exp(-K * LAI))\n",
    "        I_tot = I(I0_dr, Kb1) + I(I0_df, Kd1)\n",
    "    end ~ track(u\"μmol/m^2/s\" #= Quanta =#)\n",
    "\n",
    "    \"The irradiance absorbed by the sunlit fraction, de Pury and Farquhar (1997)\"\n",
    "    I_cSun(s, rho_cb, rho_cd, I0_dr, I0_df, Kb, Kb1, Kd1, LAI): canopy_sunlit_irradiance => begin\n",
    "        I_c_sunlit = begin\n",
    "            I0_dr * (1 - s) * (1 - exp(-Kb * LAI)) +\n",
    "            I0_df * (1 - rho_cd) * (1 - exp(-(Kd1 + Kb) * LAI)) * Kd1 / (Kd1 + Kb) +\n",
    "            I0_dr * ((1 - rho_cb) * (1 - exp(-(Kb1 + Kb) * LAI)) * Kb1 / (Kb1 + Kb) - (1 - s) * (1 - exp(-2Kb * LAI)) / 2)\n",
    "        end\n",
    "    end ~ track(u\"μmol/m^2/s\" #= Quanta =#)\n",
    "\n",
    "    \"The irradiance absorbed by the shaded fraction, de Pury and Farquhar (1997)\"\n",
    "    I_cSh(I_c, I_cSun): canopy_shaded_irradiance => (I_c - I_cSun) ~ track(u\"μmol/m^2/s\" #= Quanta =#)\n",
    "\n",
    "    ######\n",
    "    # Q? #\n",
    "    ######\n",
    "\n",
    "    \"total irradiance (dir + dif) at depth L, simple empirical approach\"\n",
    "    Q_tot(I0_tot, s, Kb, Kd; L): irradiance_Q_tot => begin\n",
    "        I0_tot * exp(-sqrt(1 - s) * ((Kb + Kd) / 2) * L)\n",
    "    end ~ call(u\"μmol/m^2/s\" #= Quanta =#)\n",
    "\n",
    "    \"total beam radiation at depth L\"\n",
    "    Q_bt(I0_dr, s, Kb; L): irradiance_Q_bt => begin\n",
    "        I0_dr * exp(-sqrt(1 - s) * Kb * L)\n",
    "    end ~ call(u\"μmol/m^2/s\" #= Quanta =#)\n",
    "\n",
    "    \"net diffuse flux at depth of L within canopy\"\n",
    "    Q_d(I0_dr, s, Kd; L): irradiance_Q_d => begin\n",
    "        I0_df * exp(-sqrt(1 - s) * Kd * L)\n",
    "    end ~ call(u\"μmol/m^2/s\" #= Quanta =#)\n",
    "\n",
    "    \"\"\"\n",
    "    weighted average absorbed diffuse flux over depth of L within canopy\n",
    "    accounting for exponential decay, Campbell p261\n",
    "    \"\"\"\n",
    "    Q_dm(LAI, I0_df, s, Kd): irradiance_Q_dm => begin\n",
    "        # Integral Qd / Integral L\n",
    "        Q = I0_df * (1 - exp(-sqrt(1 - s) * Kd * LAI)) / (sqrt(1 - s) * Kd * LAI)\n",
    "        isnan(Q) ? zero(Q) : Q\n",
    "    end ~ track(u\"μmol/m^2/s\" #= Quanta =#)\n",
    "\n",
    "    \"unintercepted beam (direct beam) flux at depth of L within canopy\"\n",
    "    Q_b(I0_dr, Kb; L): irradiance_Q_b => begin\n",
    "        I0_dr * exp(-Kb * L)\n",
    "    end ~ call(u\"μmol/m^2/s\" #= Quanta =#)\n",
    "\n",
    "    \"mean flux density on sunlit leaves\"\n",
    "    Q_sun(I0_dr, Kb, Q_sh): irradiance_Q_sunlit => begin\n",
    "        I0_dr * Kb + Q_sh\n",
    "    end ~ track(u\"μmol/m^2/s\" #= Quanta =#)\n",
    "\n",
    "    \"flux density on sunlit leaves at depth L\"\n",
    "    Q_sun_at(I0_dr, Kb; L): irradiance_Q_sunlit_at => begin\n",
    "        I0_dr * Kb + Q_sh_at(L)\n",
    "    end ~ call(u\"μmol/m^2/s\" #= Quanta =#)\n",
    "\n",
    "    \"mean flux density on shaded leaves over LAI\"\n",
    "    Q_sh(Q_dm, Q_scm): irradiance_Q_shaded => begin\n",
    "        # It does not include soil reflection\n",
    "        Q_dm + Q_scm\n",
    "    end ~ track(u\"μmol/m^2/s\" #= Quanta =#)\n",
    "\n",
    "    \"diffuse flux density on shaded leaves at depth L\"\n",
    "    Q_sh_at(Q_d, Q_sc; L): irradiance_Q_shaded_at => begin\n",
    "        # It does not include soil reflection\n",
    "        Q_d(L) + Q_sc(L)\n",
    "    end ~ call(u\"μmol/m^2/s\" #= Quanta =#)\n",
    "\n",
    "    \"weighted average of Soil reflectance over canopy accounting for exponential decay\"\n",
    "    Q_soilm(LAI, rho_soil, s, Kd, Q_soil): irradiance_Q_soilm => begin\n",
    "        # Integral Qd / Integral L\n",
    "        Q = Q_soil * rho_soil * (1 - exp(-sqrt(1 - s) * Kd * LAI)) / (sqrt(1 - s) * Kd * LAI)\n",
    "        isnan(Q) ? zero(Q) : Q\n",
    "    end ~ track(u\"μmol/m^2/s\" #= Quanta =#)\n",
    "\n",
    "    \"weighted average scattered radiation within canopy\"\n",
    "    Q_scm(LAI, I0_dr, s, Kb): irradiance_Q_scm => begin\n",
    "        # total beam including scattered absorbed by canopy\n",
    "        #FIXME should the last part be multiplied by LAI like others?\n",
    "        #TODO simplify by using existing variables (i.e. Q_bt, Q_b)\n",
    "        total_beam = I0_dr * (1 - exp(-sqrt(1 - s) * Kb * LAI)) / (sqrt(1 - s) * Kb)\n",
    "        # non scattered beam absorbed by canopy\n",
    "        nonscattered_beam = I0_dr * (1 - exp(-Kb * LAI)) / Kb\n",
    "        Q = (total_beam - nonscattered_beam) / LAI\n",
    "        # Campbell and Norman (1998) p 261, Average between top (where scattering is 0) and bottom.\n",
    "        #(self.Q_bt(LAI) - Q_b(LAI)) / 2\n",
    "        isnan(Q) ? zero(Q) : Q\n",
    "    end ~ track(u\"μmol/m^2/s\" #= Quanta =#)\n",
    "\n",
    "    \"scattered radiation at depth L in the canopy\"\n",
    "    Q_sc(Q_bt, Q_b; L): irradiance_Q_sc => begin\n",
    "        # total beam - nonscattered beam at depth L\n",
    "        Q_bt(L) - Q_b(L)\n",
    "    end ~ call(u\"μmol/m^2/s\" #= Quanta =#)\n",
    "\n",
    "    \"total PFD at the soil surface under the canopy\"\n",
    "    Q_soil(LAI, Q_tot): irradiance_Q_soil => Q_tot(LAI) ~ track(u\"μmol/m^2/s\" #= Quanta =#)\n",
    "\n",
    "    ###################\n",
    "    # Leaf Area Index #\n",
    "    ###################\n",
    "\n",
    "    sunrisen(elevation_angle, minimum_elevation_angle=5u\"°\") => begin\n",
    "        elevation_angle > minimum_elevation_angle\n",
    "    end ~ flag\n",
    "\n",
    "    \"sunlit LAI assuming closed canopy; thus not accurate for row or isolated canopy\"\n",
    "    LAI_sunlit(sunrisen, Kb, LAI): sunlit_leaf_area_index => begin\n",
    "        sunrisen ? (1 - exp(-Kb * LAI)) / Kb : 0\n",
    "    end ~ track\n",
    "\n",
    "    \"shaded LAI assuming closed canopy\"\n",
    "    LAI_shaded(LAI, LAI_sunlit): shaded_leaf_area_index => begin\n",
    "        LAI - LAI_sunlit\n",
    "    end ~ track\n",
    "\n",
    "    \"sunlit fraction of current layer\"\n",
    "    sunlit_fraction(sunrisen, Kb; L) => begin\n",
    "        sunrisen ? exp(-Kb * L) : 0\n",
    "    end ~ call\n",
    "\n",
    "    shaded_fraction(sunlit_fraction; L) => begin\n",
    "        1 - sunlit_fraction(L)\n",
    "    end ~ call\n",
    "end"
   ]
  },
  {
   "cell_type": "code",
   "execution_count": null,
   "metadata": {},
   "outputs": [],
   "source": [
    "@system RadiationController(Radiation, Controller) begin\n",
    "    weather(context)      ~ ::Weather\n",
    "    sun(context, weather) ~ ::Sun\n",
    "    LAI: leaf_area_index  ~ preserve(parameter)\n",
    "end"
   ]
  },
  {
   "cell_type": "code",
   "execution_count": null,
   "metadata": {},
   "outputs": [],
   "source": [
    "manipulate(RadiationController, \"sun.hour\", [:Q_sun, :Q_sh];\n",
    "    parameters = (\n",
    "        Sun => (;\n",
    "            day = 1:365,\n",
    "        ),\n",
    "        :0 => (;\n",
    "            LAI = 0:20,\n",
    "        ),\n",
    "        Radiation => (;\n",
    "            leaf_angle = LeafAngle,\n",
    "        ),\n",
    "    ),\n",
    "    xstep = Sun => :hour => 0:23,\n",
    "    ylim = (0,1000),\n",
    "    kind = :line,\n",
    ")"
   ]
  },
  {
   "cell_type": "code",
   "execution_count": null,
   "metadata": {},
   "outputs": [],
   "source": [
    "manipulate(RadiationController, \"sun.hour\", [:LAI_sunlit, :LAI_shaded];\n",
    "    config = :0 => :LAI => 10,\n",
    "    parameters = (\n",
    "        Sun => (;\n",
    "            day = 1:365,\n",
    "        ),\n",
    "        Radiation => (;\n",
    "            leaf_angle = LeafAngle,\n",
    "        ),\n",
    "    ),\n",
    "    xstep = Sun => :hour => 0:23,\n",
    "    kind = :line,\n",
    ")"
   ]
  },
  {
   "cell_type": "markdown",
   "metadata": {},
   "source": [
    "### Integration"
   ]
  },
  {
   "cell_type": "markdown",
   "metadata": {},
   "source": [
    "Now it's time to make a system for the canopy which is composed of sunlit and shaded leaves and integrated with other modules we created earlier.\n",
    "\n",
    "`Sun` system calculates the amount of directional and diffisuive lights, which are adjusted by `Radiation` system relying on the canopy structure. Then two separate gas-exchange systems inside `Canopy` can now run to get net photosynthesis rate of the canopy (`A_net`; $\\mathrm{\\mu mol\\; m^{-2}\\; s^{-1}}$), which can be converted to net assimilation rate (`net_assimilation`; $\\mathrm{g\\; d^{-1}}$) by taking account of molar mass of carbohydrates."
   ]
  },
  {
   "cell_type": "code",
   "execution_count": null,
   "metadata": {},
   "outputs": [],
   "source": [
    "@system C3BBC(GasExchange, StomataBallBerry, C3) begin\n",
    "    PPFD: photosynthetic_photon_flux_density ~ track(u\"μmol/m^2/s\" #= Quanta =#, override)\n",
    "    LAI: leaf_area_index                     ~ track(override)\n",
    "\n",
    "    A_net_total(A_net, LAI): net_photosynthesis_total       => A_net * LAI   ~ track(u\"μmol/m^2/s\" #= CO2 =#)\n",
    "    A_gross_total(A_gross, LAI): gross_photosynthesis_total => A_gross * LAI ~ track(u\"μmol/m^2/s\" #= CO2 =#)\n",
    "    E_total(E, LAI): transpiration_total                    => E * LAI       ~ track(u\"mmol/m^2/s\" #= H2O =#)\n",
    "end"
   ]
  },
  {
   "cell_type": "code",
   "execution_count": null,
   "metadata": {},
   "outputs": [],
   "source": [
    "@system Canopy(Controller) begin\n",
    "    weather(context)             ~ ::Weather\n",
    "    sun(context, weather)        ~ ::Sun\n",
    "    radiation(context, sun, LAI) ~ ::Radiation\n",
    "\n",
    "    LAI: leaf_area_index       ~ preserve(parameter)\n",
    "    PD: planting_density => 55 ~ preserve(parameter, u\"m^-2\")\n",
    "\n",
    "    H2O_weight  => 18.01528 ~ preserve(u\"g/mol\")\n",
    "    CO2_weight  => 44.0098  ~ preserve(u\"g/mol\")\n",
    "    CH2O_weight => 30.031   ~ preserve(u\"g/mol\")\n",
    "\n",
    "    sunlit_gasexchange(context, weather, PPFD=Q_sun, LAI=LAI_sunlit) ~ ::C3BBC\n",
    "    shaded_gasexchange(context, weather, PPFD=Q_sh,  LAI=LAI_shaded) ~ ::C3BBC\n",
    "\n",
    "    leaf_width => begin\n",
    "        #5.0 # for maize\n",
    "        1.5 # for garlic\n",
    "    end ~ preserve(u\"cm\", parameter)\n",
    "\n",
    "    LAI_sunlit(radiation.sunlit_leaf_area_index): sunlit_leaf_area_index ~ track\n",
    "    LAI_shaded(radiation.shaded_leaf_area_index): shaded_leaf_area_index ~ track\n",
    "\n",
    "    Q_sun(radiation.irradiance_Q_sunlit): sunlit_irradiance ~ track(u\"μmol/m^2/s\" #= Quanta =#)\n",
    "    Q_sh(radiation.irradiance_Q_shaded): shaded_irradiance  ~ track(u\"μmol/m^2/s\" #= Quanta =#)\n",
    "\n",
    "    A_gross(a=sunlit_gasexchange.A_gross_total, b=shaded_gasexchange.A_gross_total): gross_CO2_umol_per_m2_s => begin\n",
    "        a + b\n",
    "    end ~ track(u\"μmol/m^2/s\" #= CO2 =#)\n",
    "\n",
    "    A_net(a=sunlit_gasexchange.A_net_total, b=shaded_gasexchange.A_net_total): net_CO2_umol_per_m2_s => begin\n",
    "        a + b\n",
    "    end ~ track(u\"μmol/m^2/s\" #= CO2 =#)\n",
    "\n",
    "    gross_assimilation(A_gross, PD, w=CH2O_weight) => begin\n",
    "        A_gross / PD * w\n",
    "    end ~ track(u\"g/d\")\n",
    "\n",
    "    net_assimilation(A_net, PD, w=CH2O_weight) => begin\n",
    "        A_net / PD * w\n",
    "    end ~ track(u\"g/d\")\n",
    "\n",
    "    conductance(gs_sun=sunlit_gasexchange.gs, LAI_sunlit, gs_sh=shaded_gasexchange.gs, LAI_shaded, LAI) => begin\n",
    "        c = ((gs_sun * LAI_sunlit) + (gs_sh * LAI_shaded)) / LAI\n",
    "        iszero(LAI) ? zero(c) : c\n",
    "    end ~ track(u\"mol/m^2/s/bar\")\n",
    "end"
   ]
  },
  {
   "cell_type": "code",
   "execution_count": null,
   "metadata": {},
   "outputs": [],
   "source": [
    "config = @config(\n",
    "    Sun => (;\n",
    "        day = 200,\n",
    "        hour = 12,\n",
    "    ),\n",
    "    StomataBallBerry => (;\n",
    "        g0 = 0.096,\n",
    "        g1 = 6.824,\n",
    "    ),\n",
    "    Canopy => (;\n",
    "        :LAI => 5,\n",
    "    ),\n",
    "    Radiation => (;\n",
    "        :leaf_angle_factor => 3,\n",
    "        :leaf_angle => horizontal,\n",
    "    ),\n",
    ")"
   ]
  },
  {
   "cell_type": "code",
   "execution_count": null,
   "metadata": {},
   "outputs": [],
   "source": [
    "manipulate(Canopy, \"weather.CO2\", [:A_net, \"sunlit_gasexchange.A_net\", \"shaded_gasexchange.A_net\"];\n",
    "    config,\n",
    "    parameters = (\n",
    "        Canopy => :LAI => 0:0.1:20,\n",
    "        Radiation => :leaf_angle => LeafAngle,\n",
    "    ),\n",
    "    xstep = Weather => :CO2 => 10:10:1000,\n",
    "    ylim = (0,50),\n",
    "    kind = :line,\n",
    "    ylab = \"A_net\",\n",
    "    names = [\"Total\", \"Sunlit\", \"Shaded\"],\n",
    ")"
   ]
  },
  {
   "cell_type": "code",
   "execution_count": null,
   "metadata": {},
   "outputs": [],
   "source": [
    "manipulate(Canopy, \"weather.PFD\", [:A_net, \"sunlit_gasexchange.A_net\", \"shaded_gasexchange.A_net\"];\n",
    "    config,\n",
    "    parameters = (\n",
    "        Canopy => :LAI => 0:0.1:20,\n",
    "        Radiation => :leaf_angle => LeafAngle,\n",
    "    ),\n",
    "    xstep = Weather => :PFD => 0:10:2000,\n",
    "    ylim = (0,50),\n",
    "    kind = :line,\n",
    "    ylab = \"A_net\",\n",
    "    names = [\"Total\", \"Sunlit\", \"Shaded\"],\n",
    ")"
   ]
  },
  {
   "cell_type": "code",
   "execution_count": null,
   "metadata": {},
   "outputs": [],
   "source": [
    "manipulate(Canopy, \"weather.T_air\", [:A_net, \"sunlit_gasexchange.A_net\", \"shaded_gasexchange.A_net\"];\n",
    "    config,\n",
    "    parameters = (\n",
    "        Canopy => :LAI => 0:0.1:20,\n",
    "        Radiation => :leaf_angle => LeafAngle,\n",
    "    ),\n",
    "    xstep = Weather => :T_air => -10:50,\n",
    "    ylim = (0,50),\n",
    "    kind = :line,\n",
    "    ylab = \"A_net\",\n",
    "    names = [\"Total\", \"Sunlit\", \"Shaded\"],\n",
    ")"
   ]
  }
 ],
 "metadata": {
  "@webio": {
   "lastCommId": "e79fb424-b7e7-4ef1-8055-40246dd58acf",
   "lastKernelId": "3dac6528-0f61-47e8-8eed-eff2e8b5a7ca"
  },
  "kernelspec": {
   "display_name": "Julia 1.10.4",
   "language": "julia",
   "name": "julia-1.10"
  },
  "language_info": {
   "file_extension": ".jl",
   "mimetype": "application/julia",
   "name": "julia",
   "version": "1.10.4"
  }
 },
 "nbformat": 4,
 "nbformat_minor": 4
}

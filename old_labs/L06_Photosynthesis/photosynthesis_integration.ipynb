{
 "cells": [
  {
   "cell_type": "markdown",
   "metadata": {},
   "source": [
    "# Lab 06: Modeling leaf and canopy photosynthesis"
   ]
  },
  {
   "cell_type": "markdown",
   "metadata": {},
   "source": [
    "<div class=\"alert alert-warning\">\n",
    "If figures/tables are not rendered correctly, make sure your notebook is `trusted` by choosing `Trust Notebook` command found in `View` - `Activate Command Palette` menu. Typing in the first letters (i.e. \"tr\") should give you the command.\n",
    "</div>"
   ]
  },
  {
   "cell_type": "code",
   "execution_count": null,
   "metadata": {},
   "outputs": [],
   "source": [
    "using Cropbox"
   ]
  },
  {
   "cell_type": "markdown",
   "metadata": {
    "jp-MarkdownHeadingCollapsed": true,
    "tags": []
   },
   "source": [
    "## Ex 6.1\n",
    "Using Cropbox package, create a function that implements the Michaelis-Mention equation as shown in Eqn[6.3] that calculates the rate of biochemical reaction by an enzyme. Use the parameter values provided in Table 6.1. Plot the response of reaction rate ($V$) as a function of substrate concentration ranging from 0 to 1000. For this exercise we will ignore units but imagine that the substrate is CO2 used for carboxylation catalyzed by the enzyme Rubisco.\n",
    "\n",
    "- Eqn 6.3\n",
    "\n",
    "$$\n",
    "\\frac{d[P]}{dt} = V = \\frac{V_{\\mathrm{max}} \\cdot [S]}{K_m + [S]}\n",
    "$$\n",
    "\n",
    "- Table 6.1\n",
    "\n",
    "| Symbol | Value | Units | Description |\n",
    "|:-------|:------|:------|:------------|\n",
    "| $V_{\\mathrm{max}}$ | 100 | [Product] / time (*e.g.* $\\mathrm{\\mu mol}\\ \\mathrm{m^{-2}}\\ \\mathrm{s^{-1}}$) | Potential rate of biochemical reaction for product synthesis (*i.e.* Rubisco capacity) |\n",
    "| $K_m$ | 400 | [Substrate] (*e.g.* $\\mathrm{M}$, $\\mathrm{ppm}$, $\\mathrm{\\mu mol}\\ \\mathrm{mol^{-1}}$) | Michaelis-Menten constant where $V = \\frac{1}{2} V_{\\mathrm{max}}$ |"
   ]
  },
  {
   "cell_type": "code",
   "execution_count": null,
   "metadata": {},
   "outputs": [],
   "source": [
    "@system MichaelisMenten(Controller) begin\n",
    "    V(S, Vmax, Km): reaction_rate => begin\n",
    "        Vmax * S / (Km + S)\n",
    "    end ~ track(u\"μmol/m^2/s\")\n",
    "\n",
    "    Vmax: maximum_reaction_rate     => 100 ~ preserve(parameter, u\"μmol/m^2/s\")\n",
    "    Km:   michaelis_menten_constant => 400 ~ preserve(parameter, u\"μmol/mol\")\n",
    "\n",
    "    S:    substrate                 => 0   ~ preserve(parameter, u\"μmol/mol\")\n",
    "end"
   ]
  },
  {
   "cell_type": "code",
   "execution_count": null,
   "metadata": {},
   "outputs": [],
   "source": [
    "instance(MichaelisMenten)"
   ]
  },
  {
   "cell_type": "markdown",
   "metadata": {},
   "source": [
    "### Simulation with configuration"
   ]
  },
  {
   "cell_type": "markdown",
   "metadata": {},
   "source": [
    "By default, `simulate()` runs a single simulation for a given configuration set from `config` option. If we want to run multiple simulations, a list of multiple configurations should be provided in `configs` option (note trailing `s`). Cropbox provides a helper macro `@config` to easily generate such a list of multiple configurations useful for some common use cases such as adjusting one parameter over a range of values. Here we want `S` value ranging from 0 to 1000 by 1 (`0:1:1000` or `0:1000` as the step size is 1 by default) which is declared as a Julia built-in range type and later expanded to a list by `!` operator used in conjunction with the `@config` macro. By the way, the name of system `:0` in the configuration is a shorthand for the name of whatever top-level system currently used for simulation. In this example, it is going to be `MichaelisMenten`."
   ]
  },
  {
   "cell_type": "code",
   "execution_count": null,
   "metadata": {},
   "outputs": [],
   "source": [
    "mmc = @config !(:0 => :S => 0:1000);"
   ]
  },
  {
   "cell_type": "code",
   "execution_count": null,
   "metadata": {},
   "outputs": [],
   "source": [
    "r = simulate(MichaelisMenten; configs = mmc);"
   ]
  },
  {
   "cell_type": "markdown",
   "metadata": {},
   "source": [
    "Note that `time` doesn't advance here indicating that this is a `steady-state` simulation"
   ]
  },
  {
   "cell_type": "code",
   "execution_count": null,
   "metadata": {},
   "outputs": [],
   "source": [
    "visualize(r, :S, :V; kind = :line)"
   ]
  },
  {
   "cell_type": "markdown",
   "metadata": {},
   "source": [
    "We can use another form of `visualize()` for automatically running `simulate()` inside. A good thing about this approach is that we don't have to deal with custom expansion of configurations using `@config` in favor of convenient options like `xstep`. `xstep` indicates the range of a certain parameter value that needs to be simulated individually to make a series of consecutive output. Here we change the value of `S` from 0 to 1000 with an increment of 10 by simply providing a snippet of range value (`:0 => :S => 0:10:1000`) representing 101 times of simulation. Common plotting options like `kind` are also available."
   ]
  },
  {
   "cell_type": "code",
   "execution_count": null,
   "metadata": {},
   "outputs": [],
   "source": [
    "visualize(MichaelisMenten, :S, :V; \n",
    "    xstep = :0 => :S => 0:10:1000,\n",
    "    kind = :line,\n",
    ")"
   ]
  },
  {
   "cell_type": "markdown",
   "metadata": {},
   "source": [
    "Create a configuration to change `Km` and `Vmax`, and observe how `V` changes with different`Km` and `Vmax` values over a wide range of `S` levels"
   ]
  },
  {
   "cell_type": "code",
   "execution_count": null,
   "metadata": {},
   "outputs": [],
   "source": [
    "c1 = @config(\n",
    "    :MichaelisMenten => (\n",
    "        Km = 200,\n",
    "        Vmax = 50,\n",
    "        ),\n",
    "    )"
   ]
  },
  {
   "cell_type": "markdown",
   "metadata": {},
   "source": [
    "Run the simulation with new configuation `c1` over a range of `S` specified in `mmc`."
   ]
  },
  {
   "cell_type": "code",
   "execution_count": null,
   "metadata": {},
   "outputs": [],
   "source": [
    "r = simulate(MichaelisMenten; configs = mmc, config = c1);"
   ]
  },
  {
   "cell_type": "markdown",
   "metadata": {},
   "source": [
    "We can simply `visualize` this using `xstep` argument with new configuration `c1`."
   ]
  },
  {
   "cell_type": "code",
   "execution_count": null,
   "metadata": {},
   "outputs": [],
   "source": [
    "visualize(MichaelisMenten, :S, :V; \n",
    "    config = c1,\n",
    "    xstep = :0 => :S => 0:10:2000,\n",
    "    kind = :line,\n",
    ")"
   ]
  },
  {
   "cell_type": "markdown",
   "metadata": {
    "jp-MarkdownHeadingCollapsed": true,
    "tags": []
   },
   "source": [
    "## Ex 6.2\n",
    "\n",
    "In this exercise, you will answer Q 6.5 using Julia (or R or Python or any computer tool of your choice).\n",
    "- Get an analytical solution for Eqn[5.4]\n",
    "- Create a function to get numerical solutions using Gaussian two-point and three-point integration methods.\n",
    "\n",
    "- Eqn 6.4\n",
    "\n",
    "$$\n",
    "\\int_0^{\\pi} \\sin{x} \\, dx\n",
    "$$"
   ]
  },
  {
   "cell_type": "markdown",
   "metadata": {},
   "source": [
    "### Analytical solution"
   ]
  },
  {
   "cell_type": "code",
   "execution_count": null,
   "metadata": {},
   "outputs": [],
   "source": [
    "f′(x) = sin(x)\n",
    "f(x) = -cos(x)\n",
    "f(π) - f(0)"
   ]
  },
  {
   "cell_type": "markdown",
   "metadata": {},
   "source": [
    "### Gaussian two-point integration method"
   ]
  },
  {
   "cell_type": "markdown",
   "metadata": {},
   "source": [
    "As the two points (-1/√3, +1/√3) and weights (1 for both) are defined in a normalized interval [-1, 1], we need to shift and scale them to the interval that our problem lies on, [0, π]. This process is shown step by step below."
   ]
  },
  {
   "cell_type": "markdown",
   "metadata": {},
   "source": [
    "##### [-1, 1]"
   ]
  },
  {
   "cell_type": "code",
   "execution_count": null,
   "metadata": {},
   "outputs": [],
   "source": [
    "(1 * f′(-1/√3) + 1 * f′(1/√3)) * 2/2"
   ]
  },
  {
   "cell_type": "markdown",
   "metadata": {},
   "source": [
    "##### [0, 2]"
   ]
  },
  {
   "cell_type": "code",
   "execution_count": null,
   "metadata": {},
   "outputs": [],
   "source": [
    "(1 * f′(-1/√3 + 1) + 1 * f′(1/√3 + 1)) * 2/2"
   ]
  },
  {
   "cell_type": "markdown",
   "metadata": {},
   "source": [
    "##### [0, 1]"
   ]
  },
  {
   "cell_type": "code",
   "execution_count": null,
   "metadata": {},
   "outputs": [],
   "source": [
    "(1 * f′((-1/√3 + 1) / 2) + 1 * f′((1/√3 + 1) / 2)) * 1/2"
   ]
  },
  {
   "cell_type": "markdown",
   "metadata": {},
   "source": [
    "##### [0, π]"
   ]
  },
  {
   "cell_type": "code",
   "execution_count": null,
   "metadata": {},
   "outputs": [],
   "source": [
    "(1 * f′((-1/√3 + 1) / 2 * π) + 1 * f′((1/√3 + 1) / 2 * π)) * π/2"
   ]
  },
  {
   "cell_type": "markdown",
   "metadata": {},
   "source": [
    "#### Gaussian three-point integration method"
   ]
  },
  {
   "cell_type": "code",
   "execution_count": null,
   "metadata": {},
   "outputs": [],
   "source": [
    "(5/9 * f′((-√(3/5) + 1) / 2 * π) + 8/9 * f′((0 + 1)/2 * π) + 5/9 * f′((√(3/5) + 1) / 2 * π)) * π/2"
   ]
  },
  {
   "cell_type": "markdown",
   "metadata": {},
   "source": [
    "Calculation of Gaussian quadrature can be more easily done via a dedicated package called [QuadGK.jl](https://github.com/JuliaMath/QuadGK.jl) which is already imported inside Cropbox."
   ]
  },
  {
   "cell_type": "code",
   "execution_count": null,
   "metadata": {},
   "outputs": [],
   "source": [
    "X, W = Cropbox.QuadGK.gauss(2, 0, pi)\n",
    "sum(W .* f′.(X))"
   ]
  },
  {
   "cell_type": "code",
   "execution_count": null,
   "metadata": {},
   "outputs": [],
   "source": [
    "X, W = Cropbox.QuadGK.gauss(3, 0, pi)\n",
    "sum(W .* f′.(X))"
   ]
  },
  {
   "cell_type": "markdown",
   "metadata": {
    "jp-MarkdownHeadingCollapsed": true,
    "tags": []
   },
   "source": [
    "## Ex 6.3\n",
    "\n",
    "Using Cropbox package, create a function to predict leaf net photosynthesis ($A$) as a function of irradiance ($I$) that takes parameters of photochemical efficiency ($\\alpha$), the maximum photosynthetic rate at saturating light ($A_{\\mathrm{max}}$), and dark respiration rate ($R_d$).\n",
    "- Based on rectangular hyperbola (Eqn[5.11])\n",
    "- Based on non-rectangular hyperbola (Eqn[5.12] for $0 < \\theta \\leq 1$)\n",
    "- Using the parameter values in 6.1, plot the light response curves of both functions from 0 to 2000 $\\mathrm{\\mu mol}\\ \\mathrm{m^{-2}}\\ \\mathrm{s^{-1}}$ of photosynthetic photon flux density (PFD).\n",
    "- Evaluate the sensitivity of non-rectangular hyperbola to $\\theta$ graphically and discuss."
   ]
  },
  {
   "cell_type": "markdown",
   "metadata": {},
   "source": [
    "### Rectangular hyperbola\n",
    "\n",
    "- Eqn 6.11\n",
    "\n",
    "$$\n",
    "\\begin{align}\n",
    "A_g &= \\frac{\\alpha I A_{\\mathrm{max}}}{\\alpha I + A_{\\mathrm{max}}} \\\\\n",
    "A_n &= A_g - R_d\n",
    "\\end{align}\n",
    "$$\n",
    "\n",
    "- Table 6.1\n",
    "\n",
    "| Symbol | Value | Units | Description |\n",
    "|:-------|:------|:------|:------------|\n",
    "| $\\alpha$ | 0.05 | $$\\mathrm{\\mu mol_{CO_2}}\\ \\mathrm{\\mu mol_{photon}^{-1}}$$ | Apparent photochemical efficiency (*a.k.a.* quantum yield) |\n",
    "| $A_{\\mathrm{max}}$ | 25.0 | $\\mathrm{\\mu mol}\\ \\mathrm{m^{-2}}\\ \\mathrm{s^{-1}}$ | Light saturated $A_g$ at ambient $\\mathrm{[CO_2]}$ and standard temperature |\n",
    "| $R_d$ | 1.0, 40 | $\\mathrm{\\mu mol_{CO_2}}\\ \\mathrm{m^{-2}}\\ \\mathrm{s^{-1}}$ | Leaf mitochondrial respiration rate at 25 $\\mathrm{^{\\circ}C}$ |\n",
    "\n",
    "- Table 6.1\n",
    "\n",
    "| Symbol | Units | Description |\n",
    "|:-------|:------|:------------|\n",
    "| $I$ | $\\mathrm{\\mu mol_{photon}}\\ \\mathrm{m^{-2}}$ | Incident PAR on leaf surface |\n",
    "| $A_g$ | $$\\mathrm{\\mu mol_{CO_2}}\\ \\mathrm{m^{-2}}\\ \\mathrm{s^{-1}}$$ | Leaf gross $\\mathrm{CO_2}$ assimilation rate \n",
    "| $A_n$ | $\\mathrm{\\mu mol_{CO_2}}\\ \\mathrm{m^{-2}}\\ \\mathrm{s^{-1}}$ | Leaf net $\\mathrm{CO_2}$ assimilation rate |"
   ]
  },
  {
   "cell_type": "markdown",
   "metadata": {},
   "source": [
    "We first define a mix-in system named `Photosynthesis` which provides a shared template of photosynthesis model which other models will be all based on.\n",
    "\n",
    "We have three common parameters and two variables representing photosynthesis rate. $A_n$ is the net photosynthesis derived from gross photosynthesis ($A_g$) and respiration ($R_d$). As we decided to make $R_d$ a constant parameter, subsequent models would only need to provide a custom definition for $A_g$. Although `Ag` is not defined here, it is still a dependency of `An` and thus we need to make a placeholder for it by creating a `hold` variable. For declaring `hold`, only a name and an optinal alias of the variable are needed. Any variables with `hold` state should be properly defined later in another system which embeds `Photosynthesis` as a mix-in."
   ]
  },
  {
   "cell_type": "code",
   "execution_count": null,
   "metadata": {},
   "outputs": [],
   "source": [
    "@system Photosynthesis begin\n",
    "    α:    photochemical_efficiency    => 0.05 ~ preserve(parameter)\n",
    "    Amax: maximum_photosynthetic_rate => 25   ~ preserve(parameter, u\"μmol/m^2/s\")\n",
    "    Rd:   dark_respiration            => 1.0  ~ preserve(parameter, u\"μmol/m^2/s\")\n",
    "\n",
    "    Ag: gross_photosynthesis ~ hold\n",
    "\n",
    "    An(Ag, Rd): net_photosynthesis => Ag - Rd ~ track(u\"μmol/m^2/s\")\n",
    "end"
   ]
  },
  {
   "cell_type": "markdown",
   "metadata": {},
   "source": [
    "Here is our first model based on rectangular hyperbola named `PhotosynthesisRH` which consists of two mix-ins, `Photosynthesis` and `Controller`. As you remember, `Controller` is a mix-in that makes a top-level system which can be instantiated by `instance()` or `simulate()`. Note that variables from other mix-in that are used by the system should be declared as `hold` kind of variable to ensure correct bindings between variables. Note that `PhotosynthesisRH` now has a concrete definition of `Ag` with an introduction of additional parameter `I`."
   ]
  },
  {
   "cell_type": "code",
   "execution_count": null,
   "metadata": {},
   "outputs": [],
   "source": [
    "@system PhotosynthesisRH(Photosynthesis, Controller) begin\n",
    "    I: irradiance => 0 ~ preserve(parameter, u\"μmol/m^2/s\")\n",
    "\n",
    "    Ag(I, α, Amax): gross_photosynthesis => begin\n",
    "        α*I * Amax / (α*I + Amax)\n",
    "    end ~ track(u\"μmol/m^2/s\")\n",
    "end"
   ]
  },
  {
   "cell_type": "markdown",
   "metadata": {},
   "source": [
    "We use `visualize()` with a range of `I` value set up for `xstep` in the same way as we saw earlier."
   ]
  },
  {
   "cell_type": "code",
   "execution_count": null,
   "metadata": {},
   "outputs": [],
   "source": [
    "visualize(PhotosynthesisRH, :I, :An;\n",
    "    xstep = :0 => :I => 0:1500,\n",
    "    kind = :line,\n",
    ")"
   ]
  },
  {
   "cell_type": "markdown",
   "metadata": {},
   "source": [
    "### Non-rectangular hyperbola"
   ]
  },
  {
   "cell_type": "markdown",
   "metadata": {},
   "source": [
    "- Eqn 6.12\n",
    "\n",
    "$$\n",
    "A_g = \\frac{\\alpha I + A_{\\mathrm{max}} - \\sqrt{(\\alpha I + A_{\\mathrm{max}})^2 - 4\\theta\\alpha I A_{\\mathrm{max}}}}{2\\theta} \\\\\n",
    "$$"
   ]
  },
  {
   "cell_type": "markdown",
   "metadata": {},
   "source": [
    "- Table 6.1\n",
    "\n",
    "| Symbol | Value | Units | Description |\n",
    "|:-------|:------|:------|:------------|\n",
    "| $\\theta$ | 0.7 | - | Curvature determining transition between light-limited and saturated photosynthesis |"
   ]
  },
  {
   "cell_type": "markdown",
   "metadata": {},
   "source": [
    "Another variant of the model using non-rectangular hyperbola looks similar to the rectangular model we built earlier, except the addition of new parameter `θ` controlling curvature of transition."
   ]
  },
  {
   "cell_type": "code",
   "execution_count": null,
   "metadata": {},
   "outputs": [],
   "source": [
    "@system PhotosynthesisNRH(Photosynthesis, Controller) begin\n",
    "    θ: transition_curvature => 0.7 ~ preserve(parameter)\n",
    "    I: irradiance           => 0   ~ preserve(parameter, u\"μmol/m^2/s\")\n",
    "\n",
    "    Ag(θ, I, α, Amax): gross_photosynthesis => begin\n",
    "        (α*I + Amax - √((α*I + Amax)^2 - 4θ*α*I*Amax)) / 2θ\n",
    "    end ~ track(u\"μmol/m^2/s\")\n",
    "end"
   ]
  },
  {
   "cell_type": "code",
   "execution_count": null,
   "metadata": {},
   "outputs": [],
   "source": [
    "visualize(PhotosynthesisNRH, :I, :An;\n",
    "    xstep = :0 => :I => 0:1500,\n",
    "    kind = :line,\n",
    ")"
   ]
  },
  {
   "cell_type": "markdown",
   "metadata": {},
   "source": [
    "By the way, instead of solving the quadratic equation for $A_g$ manually as we did above, we can use `solve` variable to let the framework automatically figure it out. In such case, we can use Eqn[5.9] almost as is. When multiple solutions exist, we may need to provide an extra information to guide a solution. Here we specify a sensible range of $A_g$ from 0 to $A_{\\mathrm{max}}$ with `lower` and `upper` tags."
   ]
  },
  {
   "cell_type": "markdown",
   "metadata": {},
   "source": [
    "- Eqn 6.9.\n",
    "\n",
    "$$\n",
    "\\theta A_g^2 - (\\alpha I + A_{\\mathrm{max}}) A_g + \\alpha I A_{\\mathrm{max}} = 0\n",
    "$$"
   ]
  },
  {
   "cell_type": "code",
   "execution_count": null,
   "metadata": {},
   "outputs": [],
   "source": [
    "@system PhotosynthesisNRH2(Photosynthesis, Controller) begin\n",
    "    θ: transition_curvature => 0.7 ~ preserve(parameter)\n",
    "    I: irradiance           => 0   ~ preserve(parameter, u\"μmol/m^2/s\")\n",
    "\n",
    "    Ag(Ag, θ, I, α, Amax): gross_photosynthesis => begin\n",
    "        θ*Ag^2 - (α*I + Amax)*Ag + α*I*Amax\n",
    "    end ~ solve(lower = 0, upper = Amax, u\"μmol/m^2/s\")\n",
    "end"
   ]
  },
  {
   "cell_type": "code",
   "execution_count": null,
   "metadata": {},
   "outputs": [],
   "source": [
    "visualize(PhotosynthesisNRH2, :I, :An;\n",
    "    xstep = :0 => :I => 0:1500,\n",
    "    kind = :line,\n",
    ")"
   ]
  },
  {
   "cell_type": "markdown",
   "metadata": {},
   "source": [
    "#### Sensitivity of θ"
   ]
  },
  {
   "cell_type": "markdown",
   "metadata": {},
   "source": [
    "So far we've only made plots with a single line composed of a series of points from multiple simulations triggered by `xstep` option. For drawing multiple lines of simulations for non-rectangular hyperbola, we use `group` option to control another parameter value in the system. For testing sensitivity of `θ`, we want to run simulations with different values of `θ` from 0.2 to 1.0 by increment of 0.2. For convenience of the reader, we use a parameter list in reverse order (`[1, 0.99, 0.9, 0.7, 0.4]`) to show the labels from top to bottom. Additionally, we append a plot for the rectangular hyperbola obtained when `θ` is 0."
   ]
  },
  {
   "cell_type": "code",
   "execution_count": null,
   "metadata": {},
   "outputs": [],
   "source": [
    "let x = :I, y = :An,\n",
    "    xstep = :0 => :I => 0:10:1500,\n",
    "    group = :0 => :θ => [1, 0.99, 0.9, 0.7, 0.4],\n",
    "    kind = :line\n",
    "    p = visualize(PhotosynthesisNRH, x, y; group, xstep, kind)\n",
    "    visualize!(p, PhotosynthesisRH, x, y; xstep, kind, name = \"0\")\n",
    "end"
   ]
  },
  {
   "cell_type": "markdown",
   "metadata": {
    "jp-MarkdownHeadingCollapsed": true,
    "tags": []
   },
   "source": [
    "## Ex 6.4\n",
    "\n",
    "Using Cropbox, you will evaluate three different systems for modeling instantaneous canopy photosynthesis ($A_{g,\\mathrm{can}}$) based on the Appendix (section A.2) of Goudriaan and van Laar (1994) and also Goudriaan (1986):\n",
    "- Build system based on 1) analytical solution, 2) Gaussian 3 point integration method, and 3) Rectangular integration (Eulerian) method over total LAI ($L$) with an increment ($dl$) = 1.0 and 0.1.\n",
    "- Reproduce the results shown in  Appendix (section A.2) of Goudriaan and van Laar(1994) for the same conditions\n",
    "- Plot *gross* canopy photosynthesis ($A_{g,\\mathrm{can}}$) to compare the three approaches in response to LAI ranging from 0 to 10\n",
    "- Plot *net* canopy photosynthesis ($A_{n,\\mathrm{can}}$) to compare the three approaches in response to LAI ranging from 0 to 10. Assume that canopy respiration is 10% of $A_{max}$ integrated over the whole canopy. How do the two plots compare?\n",
    "- Choose one method of integration and experiment with different parameter values for physiological (e.g., $A_{\\mathrm{max}}$, $\\alpha$, $\\theta$) and canopy (e.g., $k$, $L$) traits to evaluate their impacts on canopy productivity. Plot *net* canopy photosynthesis ($A_{n,\\mathrm{can}}$) to compare the changes in these parameters and discuss the results.\n",
    "- Here we are integrating leaf photosynthesis spatially over a canopy but not temporally over a day or over a growing season. Hence the results represent 'instantaneous' canopy photosynthesis at one time point. Please discuss how this method may be incorporated into the growth functions in the form of $dW/dt = rW$ for temporal integration where $r$ is the intrinsic growth rate with respect to  carbon budget determining biomass that we have been discussing in previous units including unit 05. How would you do that? No coding is necessary for this sub-question."
   ]
  },
  {
   "cell_type": "markdown",
   "metadata": {},
   "source": [
    "### Breaking down the model into components: Irradiance"
   ]
  },
  {
   "cell_type": "markdown",
   "metadata": {},
   "source": [
    "`Irradiance` system contains code related to the calculation of irradiance. Note that `Ih` and `I` are declared as `call` variable which can be *called* like a regular function. It is used when a certain equation needs to be evaluated multiple times with different values within the same time step. **Positional arguments** declared *before* semi-colon (`;`) indicates the list of depending variables and **keyword arguments** declared *after* semi-colon denotes input arguments that has to be supplied when the variable is called. For example, `Ih` depends on `I0` and `k` variables and accepts an argument named `l`. In the declaration of `I`, `Ih` is called with an argument named `l` which is supplied inside parenthesis following the name of variable (`Ih(l)`)."
   ]
  },
  {
   "cell_type": "markdown",
   "metadata": {},
   "source": [
    "- Eqn 6.13 & 14\n",
    "\n",
    "$$\n",
    "\\begin{align}\n",
    "I_h(l) &= I_0 e^{-k l} \\\\\n",
    "I(l) &= k \\cdot I_h(l) = k \\cdot I_0 e^{-k l}\n",
    "\\end{align}\n",
    "$$"
   ]
  },
  {
   "cell_type": "markdown",
   "metadata": {},
   "source": [
    "- Table 6.1\n",
    "\n",
    "| Symbol | Units | Description |\n",
    "|:-------|:------|:------------|\n",
    "| $l$ | $\\mathrm{m_{leaf}^2}\\ \\mathrm{m_{ground}^{-2}}$ | Cumulative leaf area index up to the position of a leaf inside the canopy |\n",
    "| $I_h(l)$ | $$\\mathrm{\\mu mol}\\ \\mathrm{m^{-2}}\\ \\mathrm{s^{-1}}$$ | $I$ incident on a horizontal surface at canopy depth $l$ |\n",
    "| $I(l)$ | $\\mathrm{\\mu mol}\\ \\mathrm{m^{-2}}\\ \\mathrm{s^{-1}}$ | $I$ incident on a leaf surface at canopy depth $l$ |"
   ]
  },
  {
   "cell_type": "markdown",
   "metadata": {},
   "source": [
    "- Table 6.1\n",
    "\n",
    "| Symbol | Value | Units | Description |\n",
    "|:-------|:------|:------|:------------|\n",
    "| $I_0$ | 575 | $$\\mathrm{\\mu mol}\\ \\mathrm{m^{-2}}\\ \\mathrm{s^{-1}}$$ | Irradiance at the top of the canopy |\n",
    "| $k$ | 0.8 | $\\mathrm{m_{ground}^2}\\ \\mathrm{m_{leaf}^{-2}}$ | Light extinction coefficient inside the canopy |"
   ]
  },
  {
   "cell_type": "code",
   "execution_count": null,
   "metadata": {},
   "outputs": [],
   "source": [
    "@system Irradiance begin\n",
    "    I0: irradiance_top   => 575 ~ preserve(parameter, u\"μmol/m^2/s\") # equivalent to 125 W m-2 of PAR\n",
    "    k:  extinction_coeff => 0.8 ~ preserve(parameter, u\"m^2/m^2\")\n",
    "\n",
    "    Ih(I0, k; l) => I0 * exp(-k*l) ~ call(u\"μmol/m^2/s\")\n",
    "    I(Ih, k; l)  => k * Ih(l)      ~ call(u\"μmol/m^2/s\")\n",
    "end"
   ]
  },
  {
   "cell_type": "markdown",
   "metadata": {},
   "source": [
    "### Breaking down the model into components: $A_{can}$"
   ]
  },
  {
   "cell_type": "markdown",
   "metadata": {},
   "source": [
    "`CanopyPhotosynthesis` consists of variables calculated by integrating over a depth of the canopy. Gross photosynthesis (`Ag`) is a `hold` variable implying an actual definition of this variable must be supplied by other systems (mix-ins) which will be later combined to form a complete system. Dark respiration (`Rd`) is calculated by the ratio parameter (`Rdp`) whose initial value is 0.1 assuming 10% of maximum gross photosynthesis (`Amax*L`) is used for canopy respiration (`Rd`).\n",
    "\n",
    "$$R_d = 0.1 \\cdot A_{\\mathrm{max}} L$$"
   ]
  },
  {
   "cell_type": "markdown",
   "metadata": {},
   "source": [
    "- Table 6.1\n",
    "\n",
    "| Symbol | Units | Description |\n",
    "|:-------|:------|:------------|\n",
    "| $L$ | $\\mathrm{m_{leaf}^2}\\ \\mathrm{m_{ground}^{-2}}$ | Total leaf area index of the canopy |\n",
    "| $R_d$ | $$\\mathrm{\\mu mol}\\ \\mathrm{m^{-2}}\\ \\mathrm{s^{-1}}$$ | Canopy respiration rate |"
   ]
  },
  {
   "cell_type": "markdown",
   "metadata": {},
   "source": [
    "- Table 6.1\n",
    "\n",
    "| Symbol | Value | Units | Description |\n",
    "|:-------|:------|:------|:------------|\n",
    "| $\\alpha$ | 0.0494 | $$\\mathrm{\\mu mol_{CO_2}}\\ \\mathrm{\\mu mol_{photon}^{-1}}$$ | Apparent photochemical efficiency (*a.k.a.* quantum yield) |\n",
    "| $A_{\\mathrm{max}}$ | 22.73 | $\\mathrm{\\mu mol}\\ \\mathrm{m^{-2}}\\ \\mathrm{s^{-1}}$ | Light saturated $A_g$ at ambient $\\mathrm{[CO_2]}$ and standard temperature |"
   ]
  },
  {
   "cell_type": "code",
   "execution_count": null,
   "metadata": {},
   "outputs": [],
   "source": [
    "c = @config Photosynthesis => (Amax = 22.73, α = 0.0494)"
   ]
  },
  {
   "cell_type": "code",
   "execution_count": null,
   "metadata": {},
   "outputs": [],
   "source": [
    "@system CanopyPhotosynthesis(Photosynthesis) begin\n",
    "    α:    photochemical_efficiency    => 0.0494 ~ preserve(parameter, u\"μmol/μmol\")\n",
    "    Amax: maximum_photosynthetic_rate => 22.73  ~ preserve(parameter, u\"μmol/m^2/s\")\n",
    "\n",
    "    L: leaf_area_index => 5 ~ preserve(parameter, u\"m^2/m^2\") # for comparison with Gourdriaan and van Laar (1994)\n",
    "\n",
    "    Rdp:              dark_respiration_ratio => 0.1        ~ preserve(parameter)\n",
    "    Rd(Rdp, Amax, L): dark_respiration       => Rdp*Amax*L ~ track(u\"μmol/m^2/s\")\n",
    "end"
   ]
  },
  {
   "cell_type": "markdown",
   "metadata": {},
   "source": [
    "### Analytical solution"
   ]
  },
  {
   "cell_type": "markdown",
   "metadata": {},
   "source": [
    "Let's define an anlytical version of the model first. `CanopyPhotosynthesisA` is composed of other systems including `CanopyPhotosynthesis` and `Irradiance` defined above. These mixins provide actual definition of many variables declared to be `hold` here. For example, `α`, `Amax`, and `Rd` `Ag` is provided by this system while other variables are declared to be `hold` meaning provided by other mixins."
   ]
  },
  {
   "cell_type": "markdown",
   "metadata": {},
   "source": [
    "- Eqn 6.16\n",
    "\n",
    "$$\n",
    "A_{g,\\mathrm{can}} = \\int_0^L A(l) \\, dl = \\frac{A_{\\mathrm{max}}}{k} \\cdot \\ln{\\frac{A_{\\mathrm{max}} + \\alpha k I_0}{A_{\\mathrm{max}} + \\alpha k I_0 e^{-k L}}}\n",
    "$$"
   ]
  },
  {
   "cell_type": "code",
   "execution_count": null,
   "metadata": {},
   "outputs": [],
   "source": [
    "@system CanopyPhotosynthesisA(CanopyPhotosynthesis, Irradiance, Controller) begin\n",
    "    Ag(α, Amax, I0, k, L): gross_photosynthesis => begin\n",
    "        Amax/k * log((Amax + α*k*I0) / (Amax + α*k*I0*exp(-k*L)))\n",
    "    end ~ track(u\"μmol/m^2/s\")\n",
    "end"
   ]
  },
  {
   "cell_type": "code",
   "execution_count": null,
   "metadata": {},
   "outputs": [],
   "source": [
    "Cropbox.hierarchy(CanopyPhotosynthesisA)"
   ]
  },
  {
   "cell_type": "markdown",
   "metadata": {},
   "source": [
    "`CanopyPhotosynthesisN` is an intermediate mix-in providing a common ground for Gauss and Euler version of the model. Instead of directly computing `Ag` for the whole canopy, it makes uses a `call` variable `A` for calculating a photosynthesis rate at a certain layer represented by a value of leaf area index (`L`). `A` will be later integrated over a total range of leaf area index from 0 to `L` for computing `Ag`."
   ]
  },
  {
   "cell_type": "markdown",
   "metadata": {},
   "source": [
    "- Eqn 6.15\n",
    "\n",
    "$$\n",
    "A(l) = \\frac{\\alpha I(l) \\cdot A_{\\mathrm{max}}}{\\alpha I(l) + A_{\\mathrm{max}}}\n",
    "$$"
   ]
  },
  {
   "cell_type": "markdown",
   "metadata": {},
   "source": [
    "- Table 6.1\n",
    "\n",
    "| Symbol | Units | Description |\n",
    "|:-------|:------|:------------|\n",
    "| $A(l)$ | $$\\mathrm{\\mu mol}\\ \\mathrm{m^{-2}}\\ \\mathrm{s^{-1}}$$ | Leaf gross $\\mathrm{CO_2}$ assimilation rate ($A_g$) of a leaf inside the canopy at depth $l$ |"
   ]
  },
  {
   "cell_type": "code",
   "execution_count": null,
   "metadata": {},
   "outputs": [],
   "source": [
    "@system CanopyPhotosynthesisN(CanopyPhotosynthesis, Irradiance, Controller) begin\n",
    "    A(α, Amax, I; l) => begin\n",
    "        Il = I(l)\n",
    "        α*Il * Amax / (α*Il + Amax)\n",
    "    end ~ call(u\"μmol/m^2/s\")\n",
    "end"
   ]
  },
  {
   "cell_type": "markdown",
   "metadata": {},
   "source": [
    "### Gaussian integration"
   ]
  },
  {
   "cell_type": "markdown",
   "metadata": {},
   "source": [
    "`CanopyPhotosynthesisG` uses Gaussian integration method to compute `Ag` from `A` defined above. Let's use QuadGK for convenience."
   ]
  },
  {
   "cell_type": "code",
   "execution_count": null,
   "metadata": {},
   "outputs": [],
   "source": [
    "@system CanopyPhotosynthesisG(CanopyPhotosynthesisN, Controller) begin\n",
    "    Ag(A, L): gross_photosynthesis => begin\n",
    "        #Cropbox.QuadGK.quadgk(A, 0, L) |> first\n",
    "        X, W = Cropbox.QuadGK.gauss(3, 0, L)\n",
    "        sum(W .* A.(X))\n",
    "    end ~ track(u\"μmol/m^2/s\")\n",
    "end"
   ]
  },
  {
   "cell_type": "code",
   "execution_count": null,
   "metadata": {},
   "outputs": [],
   "source": [
    "Cropbox.hierarchy(CanopyPhotosynthesisG)"
   ]
  },
  {
   "cell_type": "markdown",
   "metadata": {},
   "source": [
    "### Rectangular integration (Eulerian)"
   ]
  },
  {
   "cell_type": "markdown",
   "metadata": {},
   "source": [
    "`CanopyPhotosynthesisE` uses Euler integration method to compute `Ag`. Overall structure is close to `CanopyPhotosynthesisG` except that it uses a parameter `dl` to control the size of integration step."
   ]
  },
  {
   "cell_type": "code",
   "execution_count": null,
   "metadata": {},
   "outputs": [],
   "source": [
    "@system CanopyPhotosynthesisE(CanopyPhotosynthesisN, Controller) begin\n",
    "    dl => 1.0 ~ preserve(parameter)\n",
    "    Ag(A, L, dl): gross_photosynthesis => begin\n",
    "        sum([A(l) * dl for l in dl:dl:L])\n",
    "    end ~ track(u\"μmol/m^2/s\")\n",
    "end"
   ]
  },
  {
   "cell_type": "code",
   "execution_count": null,
   "metadata": {},
   "outputs": [],
   "source": [
    "Cropbox.hierarchy(CanopyPhotosynthesisE)"
   ]
  },
  {
   "cell_type": "markdown",
   "metadata": {},
   "source": [
    "Now it's time to make a plot of three models using the same option. We want to plot gross photosynthesis (`Ag`) against a range of leaf area index (`L`) from 0 to 15. `visualize()` function again conveniently provides a feature to draw a series of simulation lines from multiple systems."
   ]
  },
  {
   "cell_type": "markdown",
   "metadata": {},
   "source": [
    "Reproduce the results for three methods and compare them with the values from Gourdriaan and van Laar (1994) p. 181. Their analytical solution was 843.74 $\\mathrm{\\mu g}\\ \\mathrm{m^{-2}}\\ \\mathrm{s^{-1}}$ and Gaussian solution was 844.22 $\\mathrm{\\mu g}\\ \\mathrm{m^{-2}}\\ \\mathrm{s^{-1}}$ respectively. Note that 1 $\\mathrm{\\mu mol_{CO_2}}$ equals to 44 $\\mathrm{\\mu g_{CO_2}}$."
   ]
  },
  {
   "cell_type": "code",
   "execution_count": null,
   "metadata": {},
   "outputs": [],
   "source": [
    "co2_molar_mass = 44u\"μg\" / 1u\"μmol\""
   ]
  },
  {
   "cell_type": "code",
   "execution_count": null,
   "metadata": {},
   "outputs": [],
   "source": [
    "instance(CanopyPhotosynthesisA).Ag' * co2_molar_mass"
   ]
  },
  {
   "cell_type": "code",
   "execution_count": null,
   "metadata": {},
   "outputs": [],
   "source": [
    "instance(CanopyPhotosynthesisG).Ag' * co2_molar_mass"
   ]
  },
  {
   "cell_type": "code",
   "execution_count": null,
   "metadata": {},
   "outputs": [],
   "source": [
    "instance(CanopyPhotosynthesisE).Ag' * co2_molar_mass"
   ]
  },
  {
   "cell_type": "markdown",
   "metadata": {},
   "source": [
    "Let's try a smaller integration step for the rectangular method. $dl$ is now decreased to 0.1 from 1.0 above."
   ]
  },
  {
   "cell_type": "code",
   "execution_count": null,
   "metadata": {},
   "outputs": [],
   "source": [
    "instance(CanopyPhotosynthesisE, config = :0 => :dl => 0.1).Ag' * co2_molar_mass"
   ]
  },
  {
   "cell_type": "code",
   "execution_count": null,
   "metadata": {},
   "outputs": [],
   "source": [
    "models = [CanopyPhotosynthesisA, CanopyPhotosynthesisG, CanopyPhotosynthesisE]\n",
    "xstep = :0 => :L => 0:0.1:10\n",
    "names = [\"Analytic\", \"Gauss\", \"Euler\"]\n",
    "kind = :scatter\n",
    "ylim = (0, 30);"
   ]
  },
  {
   "cell_type": "markdown",
   "metadata": {},
   "source": [
    "Note that the line of Gauss model (yellow) is barely visible since it's mostly overlapped with the line of analytic solution (blue)."
   ]
  },
  {
   "cell_type": "code",
   "execution_count": null,
   "metadata": {},
   "outputs": [],
   "source": [
    "visualize(models, :L, :Ag; xstep, names, kind, ylim)"
   ]
  },
  {
   "cell_type": "markdown",
   "metadata": {},
   "source": [
    "Plotting net photosynthesis (`An`) which takes out 10% of gross respiration (`Ag`) as dark respiration (`Rd`) can be easily done in a similar way."
   ]
  },
  {
   "cell_type": "code",
   "execution_count": null,
   "metadata": {},
   "outputs": [],
   "source": [
    "visualize(models, :L, :An; xstep, names, kind, ylim)"
   ]
  },
  {
   "cell_type": "markdown",
   "metadata": {},
   "source": [
    "Note that Cropbox also implements a special kind of variable named `integrate` to cover the need of numerical integration as we explored in this notebook. Instead of relying on two separate variables, one `call` defining a function to be integrated and another `track` manually doing numerical integration, `integrate` can describe the same logic using a single variable. It takes a similar form as `call` putting the name of internal variable to be integrated (`l` in this case) after semi-colon (`;`) in the argument list. Then the range of integration is specified by `from` and `to` tags defined inside the parenthesis following the state name (`integrate`). As we want to integrate from 0 to `L` and the default value of `from` and `to` are 0, we only need to specify `to` as `L`. As a bonus, unit conversion would be automatically handled if any of these variables were assigned some units. `CanopyPhotosynthesisG2` implemented with `call` should behave in the exactly same way as `CanopyPhotosynthesisG` implemented earlier with `call` and `track`."
   ]
  },
  {
   "cell_type": "code",
   "execution_count": null,
   "metadata": {},
   "outputs": [],
   "source": [
    "@system CanopyPhotosynthesisG2(CanopyPhotosynthesis, Irradiance, Controller) begin\n",
    "    Ag(α, Amax, I; l): gross_photosynthesis => begin\n",
    "        Il = I(l)\n",
    "        α*Il * Amax / (α*Il + Amax)\n",
    "    end ~ integrate(to = L, u\"μmol/m^2/s\")\n",
    "end"
   ]
  },
  {
   "cell_type": "code",
   "execution_count": null,
   "metadata": {},
   "outputs": [],
   "source": [
    "Cropbox.hierarchy(CanopyPhotosynthesisG2)"
   ]
  },
  {
   "cell_type": "code",
   "execution_count": null,
   "metadata": {},
   "outputs": [],
   "source": [
    "Cropbox.dependency(CanopyPhotosynthesisG2)"
   ]
  },
  {
   "cell_type": "code",
   "execution_count": null,
   "metadata": {},
   "outputs": [],
   "source": [
    "instance(CanopyPhotosynthesisG2)"
   ]
  },
  {
   "cell_type": "markdown",
   "metadata": {},
   "source": [
    "### Sensitivity of Parameters"
   ]
  },
  {
   "cell_type": "markdown",
   "metadata": {},
   "source": [
    "We can test sensitivty of parameters as we did earlier."
   ]
  },
  {
   "cell_type": "code",
   "execution_count": null,
   "metadata": {},
   "outputs": [],
   "source": [
    "visualize(CanopyPhotosynthesisG2, :Amax, :An;\n",
    "    xstep = :0 => :Amax => 1:50,\n",
    "    kind = :line,\n",
    ")"
   ]
  },
  {
   "cell_type": "code",
   "execution_count": null,
   "metadata": {},
   "outputs": [],
   "source": [
    "visualize(CanopyPhotosynthesisG2, :α, :An;\n",
    "    xstep = :0 => :α => 0:0.001:0.1,\n",
    "    xlim = (0, 0.1),\n",
    "    kind = :line,\n",
    ")"
   ]
  },
  {
   "cell_type": "code",
   "execution_count": null,
   "metadata": {},
   "outputs": [],
   "source": [
    "visualize(CanopyPhotosynthesisG2, :k, :An;\n",
    "    xstep = :0 => :k => 0:0.01:1,\n",
    "    kind = :line,\n",
    ")"
   ]
  },
  {
   "cell_type": "code",
   "execution_count": null,
   "metadata": {},
   "outputs": [],
   "source": [
    "visualize(CanopyPhotosynthesisG2, :L, :An;\n",
    "    xstep = :0 => :L => 0:0.1:10,\n",
    "    kind = :line,\n",
    ")"
   ]
  },
  {
   "cell_type": "markdown",
   "metadata": {},
   "source": [
    "#### Light response of leaf and canopy photosynthesis"
   ]
  },
  {
   "cell_type": "code",
   "execution_count": null,
   "metadata": {},
   "outputs": [],
   "source": [
    "p = visualize(CanopyPhotosynthesisG2, :I0, :An;\n",
    "    config = :0 => :L => 5,\n",
    "    xstep = :0 => :I0 => 0:10:2000,\n",
    "    kind = :line,\n",
    "    name = \"An,can (L=5)\",\n",
    ")\n",
    "visualize!(p, PhotosynthesisRH, :I, :An;\n",
    "    xstep = :0 => :I => 0:10:2000,\n",
    "    kind = :line,\n",
    "    name = \"An,leaf\",\n",
    ")"
   ]
  },
  {
   "cell_type": "markdown",
   "metadata": {},
   "source": [
    "We can make an interactive plot using `manipulate()` function."
   ]
  },
  {
   "cell_type": "code",
   "execution_count": null,
   "metadata": {},
   "outputs": [],
   "source": [
    "Cropbox.Interact.WebIO.setup(:ijulia)"
   ]
  },
  {
   "cell_type": "code",
   "execution_count": null,
   "metadata": {},
   "outputs": [],
   "source": [
    "manipulate(CanopyPhotosynthesisG2, :I0, :An;\n",
    "    parameters = :0 => :L => 0:0.1:10,\n",
    "    xstep = :0 => :I0 => 0:10:2000,\n",
    "    ylim = (-10, 30),\n",
    "    kind = :line,\n",
    ")"
   ]
  },
  {
   "cell_type": "code",
   "execution_count": null,
   "metadata": {},
   "outputs": [],
   "source": [
    "manipulate(parameters = :0 => :L => 0:0.1:10) do c\n",
    "    p = visualize(CanopyPhotosynthesisG2, :I0, :An;\n",
    "        config = c,\n",
    "        xstep = :0 => :I0 => 0:10:2000,\n",
    "        ylim = (-10, 30),\n",
    "        kind = :line,\n",
    "        name = \"An,can\",\n",
    "    )\n",
    "    visualize!(p, PhotosynthesisRH, :I, :An;\n",
    "        xstep = :0 => :I => 0:10:2000,\n",
    "        kind = :line,\n",
    "        name = \"An,leaf\",\n",
    "    )\n",
    "end"
   ]
  },
  {
   "cell_type": "markdown",
   "metadata": {
    "tags": []
   },
   "source": [
    "## Homework Problem 6.1\n",
    "\n",
    "1. Using the Gaussian 3 point integration method, experiment with different parameter values for physiological (e.g., $A_{\\mathrm{max}}$, $\\alpha$, $\\theta$) and canopy (e.g., $k$, $L$, $I_0$) traits to evaluate their impacts on canopy productivity; that is, perform sensitivity analyses of the parameters within a reasonable range of their expected values. $\\textbf{(1)}$ Plot $\\textit{net}$ canopy photosynthesis ($A_{n,can}$) in response to different values of the parameters and $\\textbf{(2)}$ Interpret and discuss the results. $\\textit{Hint:}$ Use \n",
    "    $\\texttt{xstep}$ and $\\texttt{group}$ for visualization.\n",
    "2. Here we are integrating leaf photosynthesis spatially over the leaf area index of a canopy in steady state. Hence the results represent 'instantaneous' canopy photosynthesis at one time point. This gives a snapshot but is not a dynamic model that runs over a day or throughout the growing season. Discuss how this steady-state snapshot may be incorporated into a growth function in the form of $dW/dt = rW$ we've looked at before for temporal integration where $r$ is the specific growth rate. How would you do that? No coding is necessary for this part. Just discuss. "
   ]
  }
 ],
 "metadata": {
  "@webio": {
   "lastCommId": "d07176ed-13d1-4778-957a-37bcb95b2d2b",
   "lastKernelId": "81b299b4-fae1-4d9f-be35-a61d78ba8312"
  },
  "kernelspec": {
   "display_name": "Julia 1.10.5",
   "language": "julia",
   "name": "julia-1.10"
  },
  "language_info": {
   "file_extension": ".jl",
   "mimetype": "application/julia",
   "name": "julia",
   "version": "1.10.5"
  }
 },
 "nbformat": 4,
 "nbformat_minor": 4
}

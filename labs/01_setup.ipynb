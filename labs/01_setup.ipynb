{
    "cells": [
        {
            "cell_type": "code",
            "execution_count": null,
            "metadata": {},
            "outputs": [],
            "source": [
                "### A Pluto.jl notebook ###\n",
                "# v0.20.17\n",
                "\n",
                "using Markdown\n",
                "using InteractiveUtils\n",
                "\n"
            ]
        },
        {
            "cell_type": "markdown",
            "metadata": {},
            "source": [
                "\n",
                "# Set up\n",
                "\n",
                "We will use Julia language in the JupyterLab interface for doing most of computational work in this course. For UW students, this environment will be provided through the UW JupyterHub tailored for the course. Others can use the binder service from [course github](https://github.com/uwkimlab/plant_modeling).  `Cropbox` will be our primary toolbox for plant growth and ecophysiology modeling. Cropbox is a plant modeling framework with its own syntax as domain specific language (DSL) built specifically for plant and crop modeling in Julia. We will talk about the `Cropbox` framework throughout the course. See @Yun2023 and [Cropbox github](https://github.com/cropbox) for more information. \n",
                "\n",
                "To begin the course, what you need is a web browser on a computer with internet access. There are other ways to run Julia and Cropbox on your computer locally. It is also possible to use Julia in JupyterLab without an internet server like Binder or JupyterHub. For example, you can install Julia on your computer to run on a local webserver or run a `Docker container` that has all the component preinstialled. See appendices for more about using the locan environment. We will revisit this later. \n",
                "\n"
            ]
        },
        {
            "cell_type": "markdown",
            "metadata": {},
            "source": [
                "\n",
                "## Objectives\n",
                "\n",
                "This document provides a brief introduction to *Jupyter, Julia*, and *Cropbox*. We will then use these tools to get a quick taste of plant growth modeling: 1) set-up and learn to use the JupyterLab interface, 2) get introduced to basic Julia and Cropbox syntax, and 3) create figures of a simple model\n",
                "\n"
            ]
        },
        {
            "cell_type": "markdown",
            "metadata": {},
            "source": [
                "\n",
                "## Jupyter\n",
                "\n",
                "You might have used or heard of `Jupyter` before. If so, that's great. If not, that's okay because we will use it a lot throughout this course. At the end of the quarter, you will be a proficient user of Jupyter. So what is `Jupyter` anyway? `Jupyter` as a portmanteau stands for *Julia, Python,* and *R* (***JuPyteR***), the initial three languages it was meant to serve originally. You can learn more about [*Project Jupyter*](https://jupyter.org/). A Jupyter Notebook (with .ipynb extension) supports executable code, narrative notes as markdown text, figures, and mathematical formula. This feature is nice because it allows for weaving code, narratives, and visualization interactively. If you are interested in learning more Jupyter for research and education, see [Jupyter4edu](https://jupyter4edu.github.io/jupyter-edu-book/).\n",
                "\n"
            ]
        },
        {
            "cell_type": "markdown",
            "metadata": {},
            "source": [
                "\n",
                "### JupyterLab\n",
                "\n",
                "`JupyterLab` is a handy and popular interactive environment in data science for coding multiple languages (e.g., **Python, R** and **Julia**) as Jupyter notebook (originall named as iPython notebook, hence the '.ipynb' extension). Other handy coding environments include [VSCode](https://code.visualstudio.com) and [Positron](https://positron.posit.co), the next generation RStudio.\n",
                "\n",
                "A feature that makes JupyterLab particularly useful is that you can do coding in notebooks using any web browsers because JupyterLab is a server-client application. \n",
                "\n",
                "Another notable browser interface specific to Julia is [Pluto.jl](https://plutojl.org/). We may migrate to `Pluto` someday. \n",
                "\n",
                "There are a few key components of JupyterLab to know about.\n",
                "\n",
                "- *Cell Type*: The text that you are reading now is in a markdown text. JupyterLab supports `markdown`, `code`, and `raw` cell types.\n",
                "-   *Kernel*: Kernel is a program or the language interpreter/compiler that runs the user's code. Jupyter comes with Python as default kernel but additional kernels can be added for other programming lanaguges. For our class, Julia is the primary language kernel.\\\n",
                "-   *Notebook Interface*: A notebook is made of a cell sequence that may contain code, markdown text, visualizations like plots, images, and formulas. A notebook can be further extended into a *data dashboard* that may also include tools to configure the notebook workflow, debugging, exporting and more. JupyterLab interface includes three main components.\n",
                "    -   <u>Work area</u>: The main panels with tabs in the center is where you do most of your coding and other work. Note that you can place more than one tab side by side in the main work area. We will use this format in the class as needed to navigate through lab notebooks and lecture notes.\n",
                "        -   Let's try it. Open '01-introduction.pdf' file and drag it to the right side of your screen.\n",
                "    -   <u>Menu bar</u>: Familiarize yourself with the menu bar components, what they do, and where to look to accomplish certain tasks. Here are a few tips that we will use frequently in this class\n",
                "        -   *File*: Do things related to managing files and folders. Note that with `JupterHub` environment for the UW class, your files are saved in the class server not in your local machine. If you want to save your files in your local machine, you need to downlaod them individually using `Download` menu. Downloading your own files is important because the server will shutdown shortly after the quarter is over. Downloading your file is even more important if you are using the `Binder` service as it will not save your files after you close the browser.\n",
                "        -   *View*: One of the useful features in this menu is the `Activate Command Palette` option. For security reasons, JupterLab will not render certain graphics when a notebook is loaded for the first time but it can be helpful to see how the plots and other graphics look like as an output of code cells. You can turn on this feature by turning on `Trust Notebook` option. Just start typing `trust` in the search bar and the menu will show up to the top of the list.\n",
                "        -   *Run*: Run the current cell, selected cells, or all cells. To run the current cell you can also use a short-cut (`Shift + Return`)\n",
                "        -   *Kernel*: Interrupt, restart, and change kernel. You can do some of these actions with menu buttons on each panel.\n",
                "        -   *Settings*: By default, JupyterLab will autosave your notebooks. If you do not want this behavior (I usually don't want this) then unselect that option here.\n",
                "    -   <u>Left sidebar</u>: Collasible menu items for file browser, kernel manager, git connector, table of contents, and extension manager\n",
                "    -   <u>Right sidebar</u>: Additional menu items for property inspector and debugger\n",
                "\n"
            ]
        },
        {
            "cell_type": "markdown",
            "metadata": {},
            "source": [
                "\n",
                "### Some useful tips for the course\n",
                "\n",
                "-   By default, the notebooks are set to be autosaved. If you don't want this behavior, go to `settings` and uncheck `Autosave Documents`\n",
                "-   By default, plots will not display when you open a notebook without rerunning the code. To show previusly run code and plots, go to `View` -\\> `Activate Command Palette` and type or select `Trust Notebook`. You can use a shorcut for this by pressing `Command`+`Shift`+`C` (in macOS) and start typing `trust`.\n",
                "-   If your code hangs, you can stop the process by pressing the square button in the menu bar. If that doesn't help, you can shutdown and restart the `kernel`.\n",
                "-   You may switch the kernel to another languages if you like but note that it won't be able to run any Julia code. You cannot use multiple kernels in one notebook in general.\n",
                "\n"
            ]
        },
        {
            "cell_type": "markdown",
            "metadata": {},
            "source": [
                "\n",
                "## Julia\n",
                "\n",
                "[Julia](https://julialang.org) is a relatively new programming language designed for scientific computing in mind [@Bezanson2017] . It is a dynamic programming language aspired to be as convenient as `Python` and `R`, but also provides high performance and extensibility as `C/C++` and `Fortran` [See @Perkel2019]. Check the [chart here](https://www.tiobe.com/tiobe-index/) to see where Julia stands as a programming language among other languages today.\n",
                "\n",
                "In this document, we will cover only the very basics of Julia langauge to get us started for doing routine operations and using `Cropbox` and other relevant packages. You may benefit from learning more about Julia language from [Julia Academy](https://juliaacademy.com/) and other online resources. Here are some useful online resoures for learning Julia.\n",
                "\n",
                "- [Julia Data Science](https://juliadatascience.io/)\n",
                "- [Calculus with Julia](https://jverzani.github.io/CalculusWithJuliaNotes.jl/)  \n",
                "- [Julia: A Fresh Approach to Computing](https://computationalthinking.mit.edu/)\n",
                "    - [Julia Cheatsheets](https://computationalthinking.mit.edu/Fall24/cheatsheets/)\n",
                "- [Quantitative Economics with Julia](https://julia.quantecon.org/intro.html)\n",
                "    - `Gettiing Started with Julia` section is particularly useful for beginners.\n",
                "- [Julia Documentation](https://docs.julialang.org/en/v1/)\n",
                "\n"
            ]
        },
        {
            "cell_type": "markdown",
            "metadata": {},
            "source": [
                "\n",
                "### Packages\n",
                "Julia has a rich ecosystem of packages that can be used to extend its functionality. Packages are collections of Julia code that can be shared and reused. Think of them as custom tools made for general or specific uses. Handling packages youself is important if you are using your own local installation of Julia. For JupyterHub, Binder, or Docker service, most of the packages we will use in this course are preinstalled. \n",
                "\n",
                "You can install packages using the package manager. For example, to install `Pluto` package for plotting, you can run the following command in the Julia REPL or Jupyter Notebook cell.\n",
                "\n"
            ]
        },
        {
            "cell_type": "code",
            "execution_count": null,
            "metadata": {},
            "outputs": [],
            "source": [
                "begin\n",
                "    using Pkg\n",
                "    Pkg.add(\"Pluto\")\n",
                "end\n",
                "\n"
            ]
        },
        {
            "cell_type": "markdown",
            "metadata": {},
            "source": [
                "\n",
                "You can also use the `]` key to enter the package manager mode in the Julia REPL and then type `add Pluto` to install the package. Once a package is installed, you can use it by importing it with `using` keyword.\n"
            ]
        },
        {
            "cell_type": "code",
            "execution_count": null,
            "metadata": {},
            "outputs": [],
            "source": [
                "using Pluto\n",
                "\n"
            ]
        },
        {
            "cell_type": "markdown",
            "metadata": {},
            "source": [
                "\n",
                "### Virtual Environments\n",
                "Julia uses virtual environments to manage packages and their dependencies. A virtual environment is a self-contained directory that contains a specific version of Julia and a set of packages. This allows you to have different versions of packages for different projects without conflicts.\n",
                "\n",
                "You can create a new virtual environment using the package manager. For example, to create a new virtual environment called `myenv`, you\n",
                "can run the following command in the Julia REPL or Jupyter Notebook cell.\n"
            ]
        },
        {
            "cell_type": "code",
            "execution_count": null,
            "metadata": {},
            "outputs": [],
            "source": [
                "begin\n",
                "\tPkg.activate(\"myenv\")  # create and activate a new virtual environment called myenv\n",
                "\tPkg.add(\"Plots\")  # install Plots package in the myenv environment\n",
                "\tPkg.status()  # check the status of packages in the myenv environment\n",
                "end\n",
                "\n"
            ]
        },
        {
            "cell_type": "markdown",
            "metadata": {},
            "source": [
                "\n",
                "You can switch between virtual environments using the `Pkg.activate()` function. For example, to use the current folder as a virtual environment, you can run the following command.\n"
            ]
        },
        {
            "cell_type": "code",
            "execution_count": null,
            "metadata": {},
            "outputs": [],
            "source": [
                "begin\n",
                "\tPkg.activate(\".\")  # switch to the current folder as a virtual environment\n",
                "\tPkg.status()  # check the status of packages in the current folder environment\n",
                "end\n",
                "\n"
            ]
        },
        {
            "cell_type": "markdown",
            "metadata": {},
            "source": [
                "\n",
                "### Basic Syntax\n",
                "Julia syntax is similar to other programming languages like Python, R, and MATLAB. Here are some basic syntax rules to get you started.\n",
                "-   Statements are separated by new lines or semicolons (`;`).\n",
                "-   Indentation is not required but is recommended for readability.\n",
                "-   Comments start with `#` and continue to the end of the line.\n",
                "-   Blocks of code are defined by indentation or by using `begin` and `end` keywords. \n",
                "-   Functions are defined using the `function` keyword or the `->` operator for anonymous functions.\n",
                "-   Variables are dynamically typed and do not require explicit declaration.\n",
                "-   Julia is case-sensitive, so `a` and `A` are different variables.\n",
                "-   Julia uses `=` for assignment, `==` for equality comparison, and `===` for identity comparison.\n",
                "-   Julia uses `#=` and `=#` for multi-line comments.\n",
                "\n",
                "### Hello, World!\n",
                "The traditional first program in any programming language is to print \\\"Hello, World!\\\" to the screen. In Julia, you can do this using the `println()` function.\n"
            ]
        },
        {
            "cell_type": "code",
            "execution_count": null,
            "metadata": {},
            "outputs": [],
            "source": [
                "println(\"Hello, World!\")\n",
                "\n"
            ]
        },
        {
            "cell_type": "markdown",
            "metadata": {},
            "source": [
                "\n",
                "You can also use `print()` function, but it does not add a new line at the end.\n"
            ]
        },
        {
            "cell_type": "code",
            "execution_count": null,
            "metadata": {},
            "outputs": [],
            "source": [
                "begin\n",
                "    print(\"Hello, World!\")\n",
                "    print(\"Hello, World!\")\n",
                "end\n",
                "\n"
            ]
        },
        {
            "cell_type": "markdown",
            "metadata": {},
            "source": [
                "\n",
                "### Variables\n",
                "Variables are used to store values in Julia. You can assign a value to a variable using the `=` operator. Variable names can contain letters, numbers, and underscores, but cannot start with a number. Julia is case-sensitive, so `a` and `A` are different variables. In `Jupyter` you need to run this cell for the kernel to interpret it. Click the run button above or simply type `Shift-Enter/Return`\n"
            ]
        },
        {
            "cell_type": "code",
            "execution_count": null,
            "metadata": {},
            "outputs": [],
            "source": [
                "let\n",
                "    a = 1\n",
                "    b = -2.0\n",
                "    c = 1/2\n",
                "    d = \"Hello, World!\"\n",
                "    e = true\n",
                "    m = [1, 2, 3]\n",
                "    t = (1, 2, 3)\n",
                "    p = Dict(\"key1\" => \"value1\", \"key2\" => \"value2\")\n",
                "end\n",
                "\n"
            ]
        },
        {
            "cell_type": "markdown",
            "metadata": {},
            "source": [
                "\n",
                "You can also use `const` keyword to define a constant variable that cannot be changed later.\n"
            ]
        },
        {
            "cell_type": "code",
            "execution_count": null,
            "metadata": {},
            "outputs": [],
            "source": [
                "const PI = 3.14159\n",
                "\n"
            ]
        },
        {
            "cell_type": "markdown",
            "metadata": {},
            "source": [
                "\n",
                "### Expression\n",
                "\n",
                "Let's assume that a variable `a` is defined to have a value `1`. We then simply type the following. :\n"
            ]
        },
        {
            "cell_type": "code",
            "execution_count": null,
            "metadata": {},
            "outputs": [],
            "source": [
                "a = 1\n",
                "\n"
            ]
        },
        {
            "cell_type": "markdown",
            "metadata": {},
            "source": [
                "\n",
                "You can check the type of a variable using the `typeof()` function. Try for all variables listed above\n"
            ]
        },
        {
            "cell_type": "code",
            "execution_count": null,
            "metadata": {},
            "outputs": [],
            "source": [
                "typeof(a)\n",
                "\n"
            ]
        },
        {
            "cell_type": "markdown",
            "metadata": {},
            "source": [
                "\n",
                "Now the vairiable `a` is defined and has a value of 1. And you can use it as such. Here is a simple expression working with the variable `a`.\n"
            ]
        },
        {
            "cell_type": "code",
            "execution_count": null,
            "metadata": {},
            "outputs": [],
            "source": [
                "a + 1\n",
                "\n"
            ]
        },
        {
            "cell_type": "markdown",
            "metadata": {},
            "source": [
                "\n",
                "A nice thing about Julia is that its mathematical expressions are very similar to the way we write them on paper. Here's an example of the quadratic formula:\n"
            ]
        },
        {
            "cell_type": "markdown",
            "metadata": {},
            "source": [
                "\n",
                "To show square root symbol `√`, type `\\sqrt` and press `Tab` key. Alternatively, you can use `sqrt()` function.\n",
                "\n",
                "Above example should work fine because we've already defined `a`, `b`, and `c` variables. If you haven't defined them yet, you can do so like this:\n"
            ]
        },
        {
            "cell_type": "code",
            "execution_count": null,
            "metadata": {},
            "outputs": [],
            "source": [
                "let\n",
                "    a = 1; b = -3; c = 2\n",
                "\ty=(-b + √(b^2 - 4a*c)) / (2a)\n",
                "    #y = (-b + sqrt(b^2 - 4a*c)) / (2a)\n",
                "end\n",
                "\n"
            ]
        },
        {
            "cell_type": "markdown",
            "metadata": {},
            "source": [
                "\n",
                "### Comments\n",
                "Comments are text in the code that are not executed. They are used to explain the code and make it more readable. In Julia, comments start with `#` for single-line comments and `#=` and `=#` for multi-line comments.\n"
            ]
        },
        {
            "cell_type": "code",
            "execution_count": null,
            "metadata": {},
            "outputs": [],
            "source": [
                "# This is a single-line comment\n",
                "#= This is a\n",
                "multi-line comment\n",
                "=#\n",
                "\n"
            ]
        },
        {
            "cell_type": "markdown",
            "metadata": {},
            "source": [
                "\n",
                "### Data Types\n",
                "\n",
                "Julia supports many built-in types which are going to be building blocks for our own data structure.\n",
                "\n",
                "#### Integers\n",
                "\n",
                "`Int` is an alias for the default type of signed integer depending on the system (*i.e.* `Int64` for 64-bit). This means it is a positive or negative integer type that is stored in a memory block of 64 bit. Each bit is 1 or 0 so it can represent a value of size up to $2^{63} - 1$ with a maximum value of 9,223,372,036,854,775,807.\n"
            ]
        },
        {
            "cell_type": "code",
            "execution_count": null,
            "metadata": {},
            "outputs": [],
            "source": [
                "Int\n",
                "\n"
            ]
        },
        {
            "cell_type": "code",
            "execution_count": null,
            "metadata": {},
            "outputs": [],
            "source": [
                "vi = 1\n",
                "\n"
            ]
        },
        {
            "cell_type": "code",
            "execution_count": null,
            "metadata": {},
            "outputs": [],
            "source": [
                "typeof(vi)\n",
                "\n"
            ]
        },
        {
            "cell_type": "markdown",
            "metadata": {},
            "source": [
                "\n",
                "#### Floating-point Numbers\n",
                "\n",
                "On 64-bit systems, `Float64` is the default type for floating numbers. Note that there is no alias `Float`.\n"
            ]
        },
        {
            "cell_type": "code",
            "execution_count": null,
            "metadata": {},
            "outputs": [],
            "source": [
                "vf = 1.0\n",
                "\n"
            ]
        },
        {
            "cell_type": "code",
            "execution_count": null,
            "metadata": {},
            "outputs": [],
            "source": [
                "typeof(vf)\n",
                "\n"
            ]
        },
        {
            "cell_type": "markdown",
            "metadata": {},
            "source": [
                "\n",
                "#### String\n",
                "\n",
                "String is a colletion of multiple characters. Use double quotes (`\\\"\\\"`) to construct a string.\n"
            ]
        },
        {
            "cell_type": "code",
            "execution_count": null,
            "metadata": {},
            "outputs": [],
            "source": [
                "vs = \"abc\"\n",
                "\n"
            ]
        },
        {
            "cell_type": "code",
            "execution_count": null,
            "metadata": {},
            "outputs": [],
            "source": [
                "typeof(vs)\n",
                "\n"
            ]
        },
        {
            "cell_type": "markdown",
            "metadata": {},
            "source": [
                "\n",
                "#### Symbol\n",
                "\n",
                "Symbol is often called an interned string. It can contain multiple characters like `string`, but only one copy of the string is stored internally. This is more efficienct computationally but functionally similar to regular `string`. `Symbols` will be particularly useful to indicate some pre-defined names such as names of variables. We'll see some examples in the tutorial later.\n"
            ]
        },
        {
            "cell_type": "code",
            "execution_count": null,
            "metadata": {},
            "outputs": [],
            "source": [
                "vk = :abc\n",
                "\n"
            ]
        },
        {
            "cell_type": "code",
            "execution_count": null,
            "metadata": {},
            "outputs": [],
            "source": [
                "typeof(vk)\n",
                "\n"
            ]
        },
        {
            "cell_type": "markdown",
            "metadata": {},
            "source": [
                "\n",
                "#### Type Hierarchy\n",
                "Julia has a rich type hierarchy. Let's see which type precides which. You can run this code to see how types are related to each other. `@show` is a macro that prints out the expression and its value. We will revisit this later in the document.\n"
            ]
        },
        {
            "cell_type": "code",
            "execution_count": null,
            "metadata": {},
            "outputs": [],
            "source": [
                "begin\n",
                "    @show Float64 <: Real\n",
                "    @show Int64 <: Real\n",
                "    @show Array <: Real\n",
                "    @show Real <: Number\n",
                "    @show Number <: Any\n",
                "    @show String <: Symbol\n",
                "    @show Symbol <: Any;\n",
                "end\n",
                "\n"
            ]
        },
        {
            "cell_type": "markdown",
            "metadata": {},
            "source": [
                "\n",
                "### Data Structure and Containers\n",
                "\n",
                "There are many useful data structures provided by standard Julia library which are used extensively in Cropbox modeling framework.\n",
                "\n",
                "#### Pair\n",
                "\n",
                "`Pair` is a collection of two elements, key and value, stored in a composite type. A nice syntax using `=>` is often used for constructing a pair object.\n"
            ]
        },
        {
            "cell_type": "code",
            "execution_count": null,
            "metadata": {},
            "outputs": [],
            "source": [
                "vp = :a => 1\n",
                "\n"
            ]
        },
        {
            "cell_type": "code",
            "execution_count": null,
            "metadata": {},
            "outputs": [],
            "source": [
                "Pair(:a, 1)\n",
                "\n"
            ]
        },
        {
            "cell_type": "code",
            "execution_count": null,
            "metadata": {},
            "outputs": [],
            "source": [
                "typeof(vp)\n",
                "\n"
            ]
        },
        {
            "cell_type": "markdown",
            "metadata": {},
            "source": [
                "\n",
                "#### Dictionary\n",
                "`Dictionary` is a collection of key-value pairs. It can be constructed with `Dict()` function or using a syntax connecting the pairs with `=>` operator.\n"
            ]
        },
        {
            "cell_type": "code",
            "execution_count": null,
            "metadata": {},
            "outputs": [],
            "source": [
                "myPlant = Dict(:genus => \"Zea\", :species => \"mays\", :common_name => \"corn\", :Amax => 50.0)\n",
                "\n"
            ]
        },
        {
            "cell_type": "code",
            "execution_count": null,
            "metadata": {},
            "outputs": [],
            "source": [
                "typeof(myPlant)\n",
                "\n"
            ]
        },
        {
            "cell_type": "code",
            "execution_count": null,
            "metadata": {},
            "outputs": [],
            "source": [
                "myPlant[:genus]\n",
                "\n"
            ]
        },
        {
            "cell_type": "code",
            "execution_count": null,
            "metadata": {},
            "outputs": [],
            "source": [
                "keys(myPlant)\n",
                "\n"
            ]
        },
        {
            "cell_type": "code",
            "execution_count": null,
            "metadata": {},
            "outputs": [],
            "source": [
                "values(myPlant)\n",
                "\n"
            ]
        },
        {
            "cell_type": "markdown",
            "metadata": {},
            "source": [
                "\n",
                "#### Tuple\n",
                "\n",
                "Tuple is a collection of arbitrary number of elements with any types. Note that positional arguments of functions are internally based on tuples.\n"
            ]
        },
        {
            "cell_type": "code",
            "execution_count": null,
            "metadata": {},
            "outputs": [],
            "source": [
                "vt = (1, 2)\n",
                "\n"
            ]
        },
        {
            "cell_type": "code",
            "execution_count": null,
            "metadata": {},
            "outputs": [],
            "source": [
                "typeof(vt)\n",
                "\n"
            ]
        },
        {
            "cell_type": "markdown",
            "metadata": {},
            "source": [
                "\n",
                "#### Named Tuple\n",
                "\n",
                "Named tuples are like tuples, but their components have associated names. Keyword arguments of functions are based on named tuples.\n"
            ]
        },
        {
            "cell_type": "code",
            "execution_count": null,
            "metadata": {},
            "outputs": [],
            "source": [
                "vn = (a = 1, b = 2)\n",
                "\n"
            ]
        },
        {
            "cell_type": "code",
            "execution_count": null,
            "metadata": {},
            "outputs": [],
            "source": [
                "typeof(vn)\n",
                "\n"
            ]
        },
        {
            "cell_type": "markdown",
            "metadata": {},
            "source": [
                "\n",
                "Difference between a tuple, a named tuple and a dictionary is that a tuple is an ordered collection of elements, a named tuple is an ordered collection of named elements, and a dictionary is an unordered collection of key-value pairs. Other key differences are that a tuple is immutable, a named tuple is immutable, and a dictionary is mutable. You can access elements of a tuple by their index, elements of a named tuple by their name, and values of a dictionary by their key.\n",
                "\n",
                "#### Composite Type\n",
                "\n",
                "Composite type, often called struct or object in other languages, is a collection of multiple fields.\n"
            ]
        },
        {
            "cell_type": "code",
            "execution_count": null,
            "metadata": {},
            "outputs": [],
            "source": [
                "struct MyType\n",
                "    a\n",
                "    b\n",
                "end\n",
                "\n"
            ]
        },
        {
            "cell_type": "markdown",
            "metadata": {},
            "source": [
                "\n",
                "By default, a composite type can be constructed by calling the type name as a function with field values as arguments.\n"
            ]
        },
        {
            "cell_type": "code",
            "execution_count": null,
            "metadata": {},
            "outputs": [],
            "source": [
                "m1 = MyType(1, 2)\n",
                "\n"
            ]
        },
        {
            "cell_type": "markdown",
            "metadata": {},
            "source": [
                "\n",
                "Individual fields can be accessed by using a property accessor (`.`).\n"
            ]
        },
        {
            "cell_type": "code",
            "execution_count": null,
            "metadata": {},
            "outputs": [],
            "source": [
                "m1.a\n",
                "\n"
            ]
        },
        {
            "cell_type": "code",
            "execution_count": null,
            "metadata": {},
            "outputs": [],
            "source": [
                "m1.b\n",
                "\n"
            ]
        },
        {
            "cell_type": "markdown",
            "metadata": {},
            "source": [
                "\n",
                "#### Array, Vector, and Matrix\n",
                "`Array` is a collection of multiple elements with the same type. It can be 1-dimensional or multi-dimensional. In Julia, a 1-dimensional array is considered a column `Vector` and a 2-dimensional array is called a `Matrix`. Note that the type of elements in an array can be specified explicitly. Array indices start from 1 in Julia, not 0 as in other programming languages like Python and C/C++. \n",
                "\n",
                "Here is a column `Vector` which is a 1-dimensional `Array`. It can be constructed with brackets (`[]`) or `Array` constructor.\n"
            ]
        },
        {
            "cell_type": "code",
            "execution_count": null,
            "metadata": {},
            "outputs": [],
            "source": [
                "begin\n",
                "    v = [1, 2, 3]\n",
                "    typeof(v)\n",
                "end\n",
                "\n"
            ]
        },
        {
            "cell_type": "code",
            "execution_count": null,
            "metadata": {},
            "outputs": [],
            "source": [
                "v1 = Array{Int64}([1, 2, 3])\n",
                "\n"
            ]
        },
        {
            "cell_type": "markdown",
            "metadata": {},
            "source": [
                "\n",
                "Here is a `Matrix`, 2-dimensionalarray. Note that the elements are separated by spaces and semicolons (`;`) to indicate rows. The type of elements in a matrix can be specified explicitly. For example, a matrix of `Float64` can be constructed with `Float64[]` or `Array{Float64}`.\n"
            ]
        },
        {
            "cell_type": "code",
            "execution_count": null,
            "metadata": {},
            "outputs": [],
            "source": [
                "M = Float64[1 2 3; -4 5 6]\n",
                "#typeof(M)\n",
                "\n"
            ]
        },
        {
            "cell_type": "markdown",
            "metadata": {},
            "source": [
                "\n",
                "What would this be?\n"
            ]
        },
        {
            "cell_type": "code",
            "execution_count": null,
            "metadata": {},
            "outputs": [],
            "source": [
                "v2 = [1 2 3]\n",
                "#typeof(v2)\n",
                "\n"
            ]
        },
        {
            "cell_type": "markdown",
            "metadata": {},
            "source": [
                "\n",
                "This is a 1-dimensional array, but is not considered a `Vector` type. It is a 2-dimensional array with one row and three columns. In Julia, a `Vector` is constructed by 1-dimensional array with `,` or `;` and interpreted as a column vector. A row of numbers (i.e., row vector) is still a 2-dimensional array, not a `Vector`.\n"
            ]
        },
        {
            "cell_type": "code",
            "execution_count": null,
            "metadata": {},
            "outputs": [],
            "source": [
                "[1, 2, 3] == [1; 2; 3]  # both are column vectors\n",
                "\n"
            ]
        },
        {
            "cell_type": "markdown",
            "metadata": {},
            "source": [
                "\n",
                "For more information about containers like vector, tuple, and array, see: [Calculus with Julia, Chapter 5: Vectors and Containers](https://jverzani.github.io/CalculusWithJuliaNotes.jl/basics/vectors.html#the-container-interface-in-julia). \n",
                "\n",
                "### Comparison\n",
                "In Julia, `=` is an assignment operator that assigns the value of the right-hand side to the left-hand side. `==` is an equality operator that checks if the values are equal. `===` is an identity operator that checks if the two objects are the same object in memory.\n",
                "\n",
                "Now evaluate the following cells without running them and see if you can figure out what the outputs are.\n"
            ]
        },
        {
            "cell_type": "code",
            "execution_count": null,
            "metadata": {},
            "outputs": [],
            "source": [
                "v == v1\n",
                "\n"
            ]
        },
        {
            "cell_type": "code",
            "execution_count": null,
            "metadata": {},
            "outputs": [],
            "source": [
                "v == v2\n",
                "\n"
            ]
        },
        {
            "cell_type": "code",
            "execution_count": null,
            "metadata": {},
            "outputs": [],
            "source": [
                "v === v1\n",
                "\n"
            ]
        },
        {
            "cell_type": "markdown",
            "metadata": {},
            "source": [
                "\n",
                "What would happen if you try this?\n"
            ]
        },
        {
            "cell_type": "code",
            "execution_count": null,
            "metadata": {},
            "outputs": [],
            "source": [
                "begin\n",
                "    v3 = v1\n",
                "    v3 == v1\n",
                "end\n",
                "\n"
            ]
        },
        {
            "cell_type": "code",
            "execution_count": null,
            "metadata": {},
            "outputs": [],
            "source": [
                "v3 != v2\n",
                "\n"
            ]
        },
        {
            "cell_type": "markdown",
            "metadata": {},
            "source": [
                "\n",
                "### Packages\n",
                "Julia has a rich ecosystem of packages that can be used to extend its functionality. Packages are collections of Julia code that can be shared and reused. You can install packages using the package manager. For example, to install `Plots` package for plotting, you can run the following command in the Julia REPL or Jupyter Notebook cell.\n"
            ]
        },
        {
            "cell_type": "code",
            "execution_count": null,
            "metadata": {},
            "outputs": [],
            "source": [
                "begin\n",
                "    Pkg.add(\"Plots\")\n",
                "end\n",
                "\n"
            ]
        },
        {
            "cell_type": "markdown",
            "metadata": {},
            "source": [
                "\n",
                "You can also use the `]` key to enter the package manager mode in the Julia REPL and then type `add Plots` to install the package. Once a package is installed, you can use it by importing it with `using` keyword.\n"
            ]
        },
        {
            "cell_type": "code",
            "execution_count": null,
            "metadata": {},
            "outputs": [],
            "source": [
                "using Plots\n",
                "\n"
            ]
        },
        {
            "cell_type": "markdown",
            "metadata": {},
            "source": [
                "\n",
                "### Functions\n",
                "\n",
                "Now you can do a little more with the variable. We will put that into a function to do something for us. Function can be defined by `function` block in `Julia`.\n"
            ]
        },
        {
            "cell_type": "code",
            "execution_count": null,
            "metadata": {},
            "outputs": [],
            "source": [
                "function f1(x)\n",
                "    return 2*x\n",
                "end\n",
                "\n"
            ]
        },
        {
            "cell_type": "markdown",
            "metadata": {},
            "source": [
                "\n",
                "Alternatively, a simple syntax can be also used.\n"
            ]
        },
        {
            "cell_type": "code",
            "execution_count": null,
            "metadata": {},
            "outputs": [],
            "source": [
                "f2(x) = 2x\n",
                "\n"
            ]
        },
        {
            "cell_type": "markdown",
            "metadata": {},
            "source": [
                "\n",
                "Here we call function `f(x)` with a single argument `2` mapped to `x` and store it as variable `b`. We then run the function to take both `a` and `b`. What will the output be? What does `;` do in the next cell? It simply seprates the statements in this case, and will turn off the ouptut of the statement before it. It's generally used to separate things in Julia.\n"
            ]
        },
        {
            "cell_type": "code",
            "execution_count": null,
            "metadata": {},
            "outputs": [],
            "source": [
                "begin\n",
                "    b = f1(2); f2(a + b)\n",
                "end\n",
                "\n"
            ]
        },
        {
            "cell_type": "markdown",
            "metadata": {},
            "source": [
                "\n",
                "There are two types of function arguments: `positional` and `keyword`. Arguments are input variables that you give function to run. You will note that the positional arugments and keyword arguments are sperated by a `;` here.\n"
            ]
        },
        {
            "cell_type": "code",
            "execution_count": null,
            "metadata": {},
            "outputs": [],
            "source": [
                "g(x, y; a, b) = (x + 2y) * (3a + 4b)\n",
                "\n"
            ]
        },
        {
            "cell_type": "markdown",
            "metadata": {},
            "source": [
                "\n",
                "Here, function `g()` has positional arguments `x`, `y` and keyword arguments `a` and `b`. Values of positional arguments are mapped by their positions whereas mapping of keyword arguments are determined by the name of keywords in front of the value.\n"
            ]
        },
        {
            "cell_type": "code",
            "execution_count": null,
            "metadata": {},
            "outputs": [],
            "source": [
                "g(1, 2; a = 3, b = 4)\n",
                "\n"
            ]
        },
        {
            "cell_type": "markdown",
            "metadata": {},
            "source": [
                "\n",
                "Keyword arguments are placed after `;` and the order of between keyword arguments are not important.\n"
            ]
        },
        {
            "cell_type": "code",
            "execution_count": null,
            "metadata": {},
            "outputs": [],
            "source": [
                "g(1, 2; b = 4, a = 3)\n",
                "\n"
            ]
        },
        {
            "cell_type": "markdown",
            "metadata": {},
            "source": [
                "\n",
                "In some cases, `,` can be used instead of `;`, but it'd be recommended to keep using `;` for clarity.\n"
            ]
        },
        {
            "cell_type": "code",
            "execution_count": null,
            "metadata": {},
            "outputs": [],
            "source": [
                "g(1, 2, a = 3, b = 4)\n",
                "\n"
            ]
        },
        {
            "cell_type": "markdown",
            "metadata": {},
            "source": [
                "\n",
                "For example, automatic binding of existing variables as keyword arguments is only allowed when `;` is used.\n"
            ]
        },
        {
            "cell_type": "code",
            "execution_count": null,
            "metadata": {},
            "outputs": [],
            "source": [
                "let\n",
                "    a = 3\n",
                "    b = 4\n",
                "    g(1, 2; a, b)\n",
                "end\n",
                "\n"
            ]
        },
        {
            "cell_type": "markdown",
            "metadata": {},
            "source": [
                "\n",
                "A function can also return multiple values. You can use `return` statement to return multiple values as a tuple. For example, let's define a function that returns the genus and species names of a plant.\n"
            ]
        },
        {
            "cell_type": "code",
            "execution_count": null,
            "metadata": {},
            "outputs": [],
            "source": [
                "begin\n",
                "    genus = \"Zea\"\n",
                "    species = \"mays\"\n",
                "    sci_name2(genus, species) = (genus, species)\n",
                "end\n",
                "\n"
            ]
        },
        {
            "cell_type": "markdown",
            "metadata": {},
            "source": [
                "\n",
                "You can call this function to get the genus and species names as a tuple.\n"
            ]
        },
        {
            "cell_type": "code",
            "execution_count": null,
            "metadata": {},
            "outputs": [],
            "source": [
                "sci_name2(\"Zea\", \"mays\")\n",
                "\n"
            ]
        },
        {
            "cell_type": "markdown",
            "metadata": {},
            "source": [
                "\n",
                "You can also return a single string with the genus and species names concatenated together. This is useful when you want to display the scientific name in a more readable format.\n"
            ]
        },
        {
            "cell_type": "code",
            "execution_count": null,
            "metadata": {},
            "outputs": [],
            "source": [
                "function sci_name(genus, species)\n",
                "    return genus * \" \" * species\n",
                "end\n",
                "\n"
            ]
        },
        {
            "cell_type": "markdown",
            "metadata": {},
            "source": [
                "\n",
                "#### Anonymous Functions\n",
                "You can also define a function without giving it a name. Such functions are called *anonymous functions*. Using `->` operator, on the left of the operator we give the argument(s) and on the right we give what we want from the argument(s) through an operation.\n",
                "\n",
                "##### Class score example\n",
                "Let's find out how many students in a class scored 95 or above to get `A` grade. We will use an anonymous function to filter the scores.\n"
            ]
        },
        {
            "cell_type": "code",
            "execution_count": null,
            "metadata": {},
            "outputs": [],
            "source": [
                "begin\n",
                "\tscores = rand(60.0:0.1:100.0, 100)  # generate 100 random scores between 60 and 100 for a class\n",
                "\tA = filter(x -> x >= 95.0, scores) # filter scores 95 or above for A grade\n",
                "end\n",
                "\n"
            ]
        },
        {
            "cell_type": "markdown",
            "metadata": {},
            "source": [
                "\n",
                "###### Phytophthora root rot example\n",
                "You have collected root samples from Rhododentron plants for *Phytopthora* root rot disease study. You cultured the pathogen to count colony forming unit (CFU) but those number and want to log10-transform CFU counts of the samples. You can use an anonymous function to do this transformation.\n"
            ]
        },
        {
            "cell_type": "code",
            "execution_count": null,
            "metadata": {},
            "outputs": [],
            "source": [
                "begin\n",
                "    CFU = rand(0:100:1.0E6, 100)  # generate 100 random CFU counts between 0 and 1.0 million\n",
                "    log_CFU = map(x->log10(x), CFU)  # numbers are not easily comprehensible. log10-transform using an anonymous function\n",
                "    Plots.plot(CFU, log_CFU; t=:scatter)\n",
                "end\n",
                "\n"
            ]
        },
        {
            "cell_type": "markdown",
            "metadata": {},
            "source": [
                "\n",
                "### Comprehensions\n",
                "Comprehensions are a concise way to create arrays or collections in Julia. They allow you to generate a new array by applying a function to each element of an existing array or collection. The syntax is similar to list comprehensions in Python.\n"
            ]
        },
        {
            "cell_type": "code",
            "execution_count": null,
            "metadata": {},
            "outputs": [],
            "source": [
                "squared = [x^2 for x in 1:10]  # create an array of squares of numbers from 1 to 10\n",
                "\n"
            ]
        },
        {
            "cell_type": "markdown",
            "metadata": {},
            "source": [
                "\n",
                "You can also add conditions to comprehensions to filter elements.\n"
            ]
        },
        {
            "cell_type": "code",
            "execution_count": null,
            "metadata": {},
            "outputs": [],
            "source": [
                "even_squares = [x^2 for x in 1:10 if x % 2 == 0]  # create an array of squares of even numbers from 1 to 10\n",
                "\n"
            ]
        },
        {
            "cell_type": "markdown",
            "metadata": {},
            "source": [
                "\n",
                "### Broadcasting\n",
                "Broadcasting is a powerful feature in Julia that allows you to apply a function to each element of an array or collection without explicitly writing a loop. You can use the dot (`.`) operator to broadcast a function over an array or collection.\n"
            ]
        },
        {
            "cell_type": "code",
            "execution_count": null,
            "metadata": {},
            "outputs": [],
            "source": [
                "# ╠═╡ disabled = true\n",
                "#=╠═╡\n",
                "begin\n",
                "\tv = [1, 2, 3]\n",
                "\tf1.(v)  # apply function f to each element of v\n",
                "end\n",
                "  ╠═╡ =#\n",
                "\n"
            ]
        },
        {
            "cell_type": "code",
            "execution_count": null,
            "metadata": {},
            "outputs": [],
            "source": [
                "v .+ 1  # add 1 to each element of v\n",
                "\n"
            ]
        },
        {
            "cell_type": "code",
            "execution_count": null,
            "metadata": {},
            "outputs": [],
            "source": [
                "v .^ 2  # square each element of v\n",
                "\n"
            ]
        },
        {
            "cell_type": "markdown",
            "metadata": {},
            "source": [
                "\n",
                "##### Example: Let's give extra points to class scores\n",
                "Going back to the example of class scores, students did some extra credit activities so you would like to give extra points for that. Think about how you would normally approach this. \n",
                "\n",
                "Let's think about how you would normally approach this without broadcasting. You would probably use a loop to iterate over each score and add the extra points. Here's an example of how you would do this without broadcasting. In this case, all elements of the vector `scores` will be updated in place.\n"
            ]
        },
        {
            "cell_type": "code",
            "execution_count": null,
            "metadata": {},
            "outputs": [],
            "source": [
                "for i in 1:length(scores) # or i in eachindex(scores)\n",
                "    scores[i] += 5.0  # add 5 points to each score\n",
                "end\n",
                "\n"
            ]
        },
        {
            "cell_type": "markdown",
            "metadata": {},
            "source": [
                "\n",
                "You could also achieve the same result using `map()` function with an anonymous function. `map()` function applies a function to each element of an array or collection and returns a new array or collection. Note it doesn't update the original array or collection in place unlike the for loop example above.\n"
            ]
        },
        {
            "cell_type": "code",
            "execution_count": null,
            "metadata": {},
            "outputs": [],
            "source": [
                "map(x -> x + 5.0, scores)  # add 5 points to each score\n",
                "\n"
            ]
        },
        {
            "cell_type": "markdown",
            "metadata": {},
            "source": [
                "\n",
                "Similarly, you could use `broadcast()` function.\n"
            ]
        },
        {
            "cell_type": "code",
            "execution_count": null,
            "metadata": {},
            "outputs": [],
            "source": [
                "broadcast(x -> x + 5.0, scores)  # add 5 points to each score\n",
                "\n"
            ]
        },
        {
            "cell_type": "markdown",
            "metadata": {},
            "source": [
                "\n",
                "A little more elegant way is use a comprehension.\n"
            ]
        },
        {
            "cell_type": "code",
            "execution_count": null,
            "metadata": {},
            "outputs": [],
            "source": [
                "[x + 5.0 for x in scores]  # add 5 points to each score\n",
                "\n"
            ]
        },
        {
            "cell_type": "markdown",
            "metadata": {},
            "source": [
                "\n",
                "Finally, with `broadcasting`, you can achieve the same result in a much more concise way that is unique to Julia.\n"
            ]
        },
        {
            "cell_type": "code",
            "execution_count": null,
            "metadata": {},
            "outputs": [],
            "source": [
                "scores .+ 5.0  # add 5 points to each score\n",
                "\n"
            ]
        },
        {
            "cell_type": "markdown",
            "metadata": {},
            "source": [
                "\n",
                "### Macros and Expressions\n",
                "In Julia, macros are a powerful feature that allows you to generate code at compile time. Macros are defined using the `@` symbol followed by the macro name. Macros can be used to transform code before it is executed. For example, `@show` macro returns an expression to print out the content of variable.\n"
            ]
        },
        {
            "cell_type": "code",
            "execution_count": null,
            "metadata": {},
            "outputs": [],
            "source": [
                "@show a  # this macro prints the value of a\n",
                "\n"
            ]
        },
        {
            "cell_type": "markdown",
            "metadata": {},
            "source": [
                "\n",
                "Macros are not functions, but they can be used to generate code that is executed at runtime. They are often used to simplify repetitive tasks or to create domain-specific languages (DSLs) within Julia.\n",
                "Macros can be used to generate code that is executed at runtime. They are often used to simplify repetitive tasks or to create domain-specific languages (DSLs) within Julia.\n"
            ]
        },
        {
            "cell_type": "code",
            "execution_count": null,
            "metadata": {},
            "outputs": [],
            "source": [
                "begin\n",
                "\ta1 = 1\n",
                "\t@show a1  # this macro prints the value of a\n",
                "end\n",
                "\n"
            ]
        },
        {
            "cell_type": "markdown",
            "metadata": {},
            "source": [
                "\n",
                "When you run the above code, it will print out `a = 1` and return the value of `a`. The `@show` macro is useful for debugging and inspecting variables in your code. It generates an expression that prints the variable name and its value.\n",
                "\n",
                "\n",
                "We can take a look at the expression generated by this macro.\n"
            ]
        },
        {
            "cell_type": "code",
            "execution_count": null,
            "metadata": {},
            "outputs": [],
            "source": [
                "@macroexpand @show a1\n",
                "\n"
            ]
        },
        {
            "cell_type": "markdown",
            "metadata": {},
            "source": [
                "\n",
                "What `@show a` generates in this case is basically close to the code below.\n"
            ]
        },
        {
            "cell_type": "code",
            "execution_count": null,
            "metadata": {},
            "outputs": [],
            "source": [
                "begin\n",
                "    println(\"a1 = \", repr(a1))\n",
                "    a1\n",
                "end\n",
                "\n"
            ]
        },
        {
            "cell_type": "markdown",
            "metadata": {},
            "source": [
                "\n",
                "Such an ability to generate code on the fly is what drives our modeling framework which we'll use throughout this course.\n",
                "\n",
                "\n",
                "### Running terminal commands\n",
                "\n",
                "Sometimes you may want to run terminal command in Jupyter environment. With `Julia` kernal, you can use `;` in front of the command you wish to run. Some useful unix commends are `pwd` to check *present working directory*, `ls` to list current directory, and `cd` to change directory.\n"
            ]
        },
        {
            "cell_type": "code",
            "execution_count": null,
            "metadata": {},
            "outputs": [],
            "source": [
                ";pwd\n",
                "\n"
            ]
        },
        {
            "cell_type": "markdown",
            "metadata": {},
            "source": [
                "\n",
                "Note you can achieve the same output using the built in functions in Julia. But not all commands are available as built-in functions of Julia (e.g., ls).\n"
            ]
        },
        {
            "cell_type": "code",
            "execution_count": null,
            "metadata": {},
            "outputs": [],
            "source": [
                "pwd()\n",
                "\n"
            ]
        },
        {
            "cell_type": "markdown",
            "metadata": {},
            "source": [
                "\n",
                "## Homework\n",
                "Work on the following homework problems using a Jupyter notebook on our class JupyterHub, save the notebook, downlaod it, and submit via Canvas no later than a week from the lab date.\n",
                "\n",
                "1. Shown below are a few different ways to create a vector of the first 10 Fibonacci numbers. Do the following: 1) comprehend how each code cell achieves the objective, 2) copy and run the code cells in a Jupyter nobtebook on class JupyterHub, and 3)evaluate them and discuss which method you prefer the most and why.\n"
            ]
        },
        {
            "cell_type": "code",
            "execution_count": null,
            "metadata": {},
            "outputs": [],
            "source": [
                "let\n",
                "    fibonacci = [1, 1]\n",
                "    for i in 3:10\n",
                "        push!(fibonacci, fibonacci[i-1] + fibonacci[i-2])\n",
                "    end\n",
                "    fibonacci\n",
                "end\n",
                "\n"
            ]
        },
        {
            "cell_type": "code",
            "execution_count": null,
            "metadata": {},
            "outputs": [],
            "source": [
                "let\n",
                "    fibonacci = []\n",
                "    for i in 1:10\n",
                "        if i == 1 || i == 2\n",
                "            push!(fibonacci, 1)\n",
                "        else\n",
                "            push!(fibonacci, fibonacci[i-1] + fibonacci[i-2])\n",
                "        end\n",
                "    end\n",
                "    fibonacci\n",
                "end\n",
                "\n"
            ]
        },
        {
            "cell_type": "markdown",
            "metadata": {},
            "source": [
                "\n",
                "```julia\n",
                "fibonacci = Vector{Int}(undef, 10)\n",
                "fibonacci[1] = fibonacci[2] = 1\n",
                "for i in 3:10\n",
                "    fibonacci[i] = fibonacci[i-1] + fibonacci[i-2]\n",
                "end\n",
                "fibonacci\n",
                "```\n"
            ]
        },
        {
            "cell_type": "code",
            "execution_count": null,
            "metadata": {},
            "outputs": [],
            "source": [
                "let\n",
                "    fib(n) = n <= 2 ? 1 : fib(n-1) + fib(n-2)\n",
                "    [fib(n) for n in 1:10]\n",
                "end\n",
                "\n"
            ]
        },
        {
            "cell_type": "markdown",
            "metadata": {},
            "source": [
                "\n",
                "2. Make an array of dictionaries where each dictionary contains genus, species, common name, and leaf physiological traits including maximum photosynthetic rate (Amax), Rubisco capacity (Vcmax), and maximum electron transport rate (Jmax), dark respiration rate (Rd), specific leaf area (SLA), and the data source in `author (year): web DOI` citation format for three different C3 plant species of your choice based on data from the literature. \n"
            ]
        },
        {
            "cell_type": "code",
            "execution_count": null,
            "metadata": {},
            "outputs": [],
            "source": [
                "plant_data = [\n",
                "    Dict(\n",
                "        \"genus\" => \"Quercus\",\n",
                "        \"species\" => \"robur\",\n",
                "        \"common_name\" => \"English Oak\",\n",
                "        \"Amax\" => 15.0, # μmol/m²/s\n",
                "        \"Vcmax\" => 60.0, # μmol/m²/s\n",
                "        \"Jmax\" => 120.0, # μmol/m²/s\n",
                "        \"Rd\" => 1.5, # μmol/m²/s\n",
                "        \"SLA\" => 150.0, # cm²/g\n",
                "        \"source\" => \"Kim et al. (2025): https://doi.org/10.1000/j.xyz.2025.01.001\"\n",
                "    ),\n",
                "]\n",
                "\n"
            ]
        },
        {
            "cell_type": "markdown",
            "metadata": {},
            "source": [
                "\n",
                "3. Create a function that takes a dictionary of plant traits and returns a string with the scientific name, common name, and the physiological traits. Use the function to create a vector of strings for the three plant species in the array of dictionaries you created in the previous question. Obtain real values published in peer-reviewed publications in the literature.\n"
            ]
        },
        {
            "cell_type": "code",
            "execution_count": null,
            "metadata": {},
            "outputs": [],
            "source": [
                "begin\n",
                "    function plant_info(plant)\n",
                "        genus = plant[\"genus\"]\n",
                "        species = plant[\"species\"]\n",
                "        common_name = plant[\"common_name\"]\n",
                "        Amax = plant[\"Amax\"]\n",
                "        Vcmax = plant[\"Vcmax\"]\n",
                "        Jmax = plant[\"Jmax\"]\n",
                "        Rd = plant[\"Rd\"]\n",
                "        SLA = plant[\"SLA\"]\n",
                "        return \"$genus $species ($common_name): Amax=$Amax, Vcmax=$Vcmax, Jmax=$Jmax, Rd=$Rd, SLA=$SLA\"\n",
                "    end\n",
                "    plant_info_list = [plant_info(plant) for plant in plant_data]\n",
                "end\n",
                "\n"
            ]
        }
    ],
    "metadata": {
        "kernelspec": {
            "display_name": "Julia 1.11.6",
            "language": "julia",
            "name": "julia-1.11"
        },
        "language_info": {
            "file_extension": ".jl",
            "mimetype": "application/julia",
            "name": "julia",
            "version": "1.11.6"
        }
    },
    "nbformat": 4,
    "nbformat_minor": 2
}
